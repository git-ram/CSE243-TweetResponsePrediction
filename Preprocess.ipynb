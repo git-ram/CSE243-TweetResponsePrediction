{
 "cells": [
  {
   "cell_type": "markdown",
   "metadata": {},
   "source": [
    "## This notebook combines all the raw dirty datasets from Data-dirty folder, drops extra columns from it, remove duplicates and NaN rows, add useful columns,etc. and then saves the cleaned dataset as one csv file."
   ]
  },
  {
   "cell_type": "code",
   "execution_count": 1,
   "metadata": {},
   "outputs": [],
   "source": [
    "import pandas as pd\n",
    "import numpy as np\n",
    "import os\n",
    "import string\n",
    "import nltk\n",
    "from nltk.corpus import stopwords"
   ]
  },
  {
   "cell_type": "markdown",
   "metadata": {},
   "source": [
    "## 1. First, we combine all dirty datasets from the files for all months and years in the Dirty-data folder"
   ]
  },
  {
   "cell_type": "code",
   "execution_count": 2,
   "metadata": {},
   "outputs": [],
   "source": [
    "path = './Data-dirty'\n",
    "files = os.listdir(path)"
   ]
  },
  {
   "cell_type": "code",
   "execution_count": 3,
   "metadata": {},
   "outputs": [
    {
     "name": "stderr",
     "output_type": "stream",
     "text": [
      "/Users/nazib/opt/anaconda3/lib/python3.7/site-packages/pandas/core/frame.py:7123: FutureWarning: Sorting because non-concatenation axis is not aligned. A future version\n",
      "of pandas will change to not sort by default.\n",
      "\n",
      "To accept the future behavior, pass 'sort=False'.\n",
      "\n",
      "To retain the current behavior and silence the warning, pass 'sort=True'.\n",
      "\n",
      "  sort=sort,\n"
     ]
    }
   ],
   "source": [
    "# Append dirty data from all available months and years\n",
    "df = pd.DataFrame()\n",
    "for name in files:\n",
    "    tmp = pd.read_csv(os.path.join(path, name))\n",
    "    df = df.append(tmp)"
   ]
  },
  {
   "cell_type": "markdown",
   "metadata": {},
   "source": [
    "## 2. Now we drop duplicate rows, drop rows with NaN for tweets_Date. We create two extra binary columns, and then drop all other redundant columns. "
   ]
  },
  {
   "cell_type": "code",
   "execution_count": 4,
   "metadata": {},
   "outputs": [],
   "source": [
    "# First drop duplicate rows:\n",
    "df.drop_duplicates()\n",
    "\n",
    "\n",
    "# Next, drop rows which have tweets_Date == NaN\n",
    "df.dropna(subset=['tweets_Date'], inplace=True)        \n",
    "\n",
    "\n",
    "# Then drop irrelevant columns as follow:\n",
    "\n",
    "df = df.drop(labels=['listing_value', 'tweets_Name', 'remove'], axis=1).reset_index(drop=True)\n",
    "\n",
    "\n",
    "# Now Add a binary column showing whether a tweet has image and/or external links\n",
    "df['has_image'] = (pd.notnull(df['tweets_Images'])).astype(int)\n",
    "df['has_Link'] = (pd.notnull(df['tweets_hrefURL'])).astype(int)\n",
    "\n",
    "# Next, drop columns tweets_Images, tweets_imageURL, tweets_hrefURL, Unnamed\n",
    "df = df.drop(labels=['tweets_Images', 'tweets_imageURL', 'tweets_hrefURL', 'Unnamed: 0'], axis=1).reset_index(drop=True)\n"
   ]
  },
  {
   "cell_type": "code",
   "execution_count": 5,
   "metadata": {},
   "outputs": [
    {
     "data": {
      "text/html": [
       "<div>\n",
       "<style scoped>\n",
       "    .dataframe tbody tr th:only-of-type {\n",
       "        vertical-align: middle;\n",
       "    }\n",
       "\n",
       "    .dataframe tbody tr th {\n",
       "        vertical-align: top;\n",
       "    }\n",
       "\n",
       "    .dataframe thead th {\n",
       "        text-align: right;\n",
       "    }\n",
       "</style>\n",
       "<table border=\"1\" class=\"dataframe\">\n",
       "  <thead>\n",
       "    <tr style=\"text-align: right;\">\n",
       "      <th></th>\n",
       "      <th>tweets_Date</th>\n",
       "      <th>tweets_Likes</th>\n",
       "      <th>tweets_Replies</th>\n",
       "      <th>tweets_Retweets</th>\n",
       "      <th>tweets_Text</th>\n",
       "      <th>has_image</th>\n",
       "      <th>has_Link</th>\n",
       "    </tr>\n",
       "  </thead>\n",
       "  <tbody>\n",
       "    <tr>\n",
       "      <td>0</td>\n",
       "      <td>Sep 30</td>\n",
       "      <td>424</td>\n",
       "      <td>96</td>\n",
       "      <td>306</td>\n",
       "      <td>Initial reports suggest three rockets struck a...</td>\n",
       "      <td>0</td>\n",
       "      <td>0</td>\n",
       "    </tr>\n",
       "    <tr>\n",
       "      <td>1</td>\n",
       "      <td>Sep 30</td>\n",
       "      <td>341</td>\n",
       "      <td>164</td>\n",
       "      <td>138</td>\n",
       "      <td>The Senate has approved a stopgap spending bil...</td>\n",
       "      <td>1</td>\n",
       "      <td>1</td>\n",
       "    </tr>\n",
       "    <tr>\n",
       "      <td>2</td>\n",
       "      <td>Sep 30</td>\n",
       "      <td>296</td>\n",
       "      <td>88</td>\n",
       "      <td>191</td>\n",
       "      <td>Seven people were shot at a funeral home in Mi...</td>\n",
       "      <td>1</td>\n",
       "      <td>1</td>\n",
       "    </tr>\n",
       "    <tr>\n",
       "      <td>3</td>\n",
       "      <td>Sep 30</td>\n",
       "      <td>651</td>\n",
       "      <td>64</td>\n",
       "      <td>237</td>\n",
       "      <td>Clare Bronfman, heiress to the Seagram liquor ...</td>\n",
       "      <td>1</td>\n",
       "      <td>1</td>\n",
       "    </tr>\n",
       "    <tr>\n",
       "      <td>4</td>\n",
       "      <td>Sep 30</td>\n",
       "      <td>510</td>\n",
       "      <td>491</td>\n",
       "      <td>155</td>\n",
       "      <td>Trump plans to participate in the next two pre...</td>\n",
       "      <td>1</td>\n",
       "      <td>0</td>\n",
       "    </tr>\n",
       "    <tr>\n",
       "      <td>...</td>\n",
       "      <td>...</td>\n",
       "      <td>...</td>\n",
       "      <td>...</td>\n",
       "      <td>...</td>\n",
       "      <td>...</td>\n",
       "      <td>...</td>\n",
       "      <td>...</td>\n",
       "    </tr>\n",
       "    <tr>\n",
       "      <td>9939</td>\n",
       "      <td>Oct 1</td>\n",
       "      <td>447</td>\n",
       "      <td>68</td>\n",
       "      <td>203</td>\n",
       "      <td>Another 837,000 Americans filed for first-time...</td>\n",
       "      <td>1</td>\n",
       "      <td>1</td>\n",
       "    </tr>\n",
       "    <tr>\n",
       "      <td>9940</td>\n",
       "      <td>Oct 1</td>\n",
       "      <td>584</td>\n",
       "      <td>114</td>\n",
       "      <td>183</td>\n",
       "      <td>The EU has launched legal proceedings against ...</td>\n",
       "      <td>1</td>\n",
       "      <td>1</td>\n",
       "    </tr>\n",
       "    <tr>\n",
       "      <td>9941</td>\n",
       "      <td>Oct 1</td>\n",
       "      <td>362</td>\n",
       "      <td>70</td>\n",
       "      <td>253</td>\n",
       "      <td>Japan's Tokyo Stock Exchange halted all tradin...</td>\n",
       "      <td>1</td>\n",
       "      <td>1</td>\n",
       "    </tr>\n",
       "    <tr>\n",
       "      <td>9942</td>\n",
       "      <td>Oct 1</td>\n",
       "      <td>1.8K</td>\n",
       "      <td>367</td>\n",
       "      <td>534</td>\n",
       "      <td>Brad Parscale has stepped down from his role a...</td>\n",
       "      <td>1</td>\n",
       "      <td>1</td>\n",
       "    </tr>\n",
       "    <tr>\n",
       "      <td>9943</td>\n",
       "      <td>Oct 1</td>\n",
       "      <td>409</td>\n",
       "      <td>178</td>\n",
       "      <td>274</td>\n",
       "      <td>American Airlines says it's poised to furlough...</td>\n",
       "      <td>1</td>\n",
       "      <td>0</td>\n",
       "    </tr>\n",
       "  </tbody>\n",
       "</table>\n",
       "<p>9944 rows × 7 columns</p>\n",
       "</div>"
      ],
      "text/plain": [
       "     tweets_Date tweets_Likes tweets_Replies tweets_Retweets  \\\n",
       "0         Sep 30          424             96             306   \n",
       "1         Sep 30          341            164             138   \n",
       "2         Sep 30          296             88             191   \n",
       "3         Sep 30          651             64             237   \n",
       "4         Sep 30          510            491             155   \n",
       "...          ...          ...            ...             ...   \n",
       "9939       Oct 1          447             68             203   \n",
       "9940       Oct 1          584            114             183   \n",
       "9941       Oct 1          362             70             253   \n",
       "9942       Oct 1         1.8K            367             534   \n",
       "9943       Oct 1          409            178             274   \n",
       "\n",
       "                                            tweets_Text  has_image  has_Link  \n",
       "0     Initial reports suggest three rockets struck a...          0         0  \n",
       "1     The Senate has approved a stopgap spending bil...          1         1  \n",
       "2     Seven people were shot at a funeral home in Mi...          1         1  \n",
       "3     Clare Bronfman, heiress to the Seagram liquor ...          1         1  \n",
       "4     Trump plans to participate in the next two pre...          1         0  \n",
       "...                                                 ...        ...       ...  \n",
       "9939  Another 837,000 Americans filed for first-time...          1         1  \n",
       "9940  The EU has launched legal proceedings against ...          1         1  \n",
       "9941  Japan's Tokyo Stock Exchange halted all tradin...          1         1  \n",
       "9942  Brad Parscale has stepped down from his role a...          1         1  \n",
       "9943  American Airlines says it's poised to furlough...          1         0  \n",
       "\n",
       "[9944 rows x 7 columns]"
      ]
     },
     "execution_count": 5,
     "metadata": {},
     "output_type": "execute_result"
    }
   ],
   "source": [
    "df"
   ]
  },
  {
   "cell_type": "markdown",
   "metadata": {},
   "source": [
    "## 3. We standardize the number of likes, etc. Then we also clean up tweet texts."
   ]
  },
  {
   "cell_type": "code",
   "execution_count": 6,
   "metadata": {},
   "outputs": [],
   "source": [
    "# Method to standardize numbers ==> example: 4k should be 4000\n",
    "def standardized_replies_retweets_likes(df):\n",
    "    for i in range(len(df)):\n",
    "        if 'K' in str(df.at[i,'tweets_Replies']):\n",
    "            temp = df.at[i,'tweets_Replies'].replace('K','')\n",
    "            df.at[i,'tweets_Replies'] = float(temp)*1000\n",
    "        if 'K' in str(df.at[i,'tweets_Retweets']):\n",
    "            temp = df.at[i,'tweets_Retweets'].replace('K','')\n",
    "            df.at[i,'tweets_Retweets'] = float(temp)*1000\n",
    "        if 'K' in str(df.at[i,'tweets_Likes']):\n",
    "            temp = df.at[i,'tweets_Likes'].replace('K','')\n",
    "            df.at[i,'tweets_Likes'] = float(temp)*1000\n",
    "\n",
    "        df.at[i,'tweets_Replies'] = float(df.at[i,'tweets_Replies'])\n",
    "        df.at[i,'tweets_Retweets'] = float(df.at[i,'tweets_Retweets'])\n",
    "        df.at[i,'tweets_Likes'] = float(df.at[i,'tweets_Likes'])\n",
    "            \n",
    "    return df"
   ]
  },
  {
   "cell_type": "code",
   "execution_count": 7,
   "metadata": {},
   "outputs": [],
   "source": [
    "df = standardized_replies_retweets_likes(df)"
   ]
  },
  {
   "cell_type": "code",
   "execution_count": 8,
   "metadata": {},
   "outputs": [
    {
     "data": {
      "text/html": [
       "<div>\n",
       "<style scoped>\n",
       "    .dataframe tbody tr th:only-of-type {\n",
       "        vertical-align: middle;\n",
       "    }\n",
       "\n",
       "    .dataframe tbody tr th {\n",
       "        vertical-align: top;\n",
       "    }\n",
       "\n",
       "    .dataframe thead th {\n",
       "        text-align: right;\n",
       "    }\n",
       "</style>\n",
       "<table border=\"1\" class=\"dataframe\">\n",
       "  <thead>\n",
       "    <tr style=\"text-align: right;\">\n",
       "      <th></th>\n",
       "      <th>tweets_Date</th>\n",
       "      <th>tweets_Likes</th>\n",
       "      <th>tweets_Replies</th>\n",
       "      <th>tweets_Retweets</th>\n",
       "      <th>tweets_Text</th>\n",
       "      <th>has_image</th>\n",
       "      <th>has_Link</th>\n",
       "    </tr>\n",
       "  </thead>\n",
       "  <tbody>\n",
       "    <tr>\n",
       "      <td>0</td>\n",
       "      <td>Sep 30</td>\n",
       "      <td>424</td>\n",
       "      <td>96</td>\n",
       "      <td>306</td>\n",
       "      <td>Initial reports suggest three rockets struck a...</td>\n",
       "      <td>0</td>\n",
       "      <td>0</td>\n",
       "    </tr>\n",
       "    <tr>\n",
       "      <td>1</td>\n",
       "      <td>Sep 30</td>\n",
       "      <td>341</td>\n",
       "      <td>164</td>\n",
       "      <td>138</td>\n",
       "      <td>The Senate has approved a stopgap spending bil...</td>\n",
       "      <td>1</td>\n",
       "      <td>1</td>\n",
       "    </tr>\n",
       "    <tr>\n",
       "      <td>2</td>\n",
       "      <td>Sep 30</td>\n",
       "      <td>296</td>\n",
       "      <td>88</td>\n",
       "      <td>191</td>\n",
       "      <td>Seven people were shot at a funeral home in Mi...</td>\n",
       "      <td>1</td>\n",
       "      <td>1</td>\n",
       "    </tr>\n",
       "    <tr>\n",
       "      <td>3</td>\n",
       "      <td>Sep 30</td>\n",
       "      <td>651</td>\n",
       "      <td>64</td>\n",
       "      <td>237</td>\n",
       "      <td>Clare Bronfman, heiress to the Seagram liquor ...</td>\n",
       "      <td>1</td>\n",
       "      <td>1</td>\n",
       "    </tr>\n",
       "    <tr>\n",
       "      <td>4</td>\n",
       "      <td>Sep 30</td>\n",
       "      <td>510</td>\n",
       "      <td>491</td>\n",
       "      <td>155</td>\n",
       "      <td>Trump plans to participate in the next two pre...</td>\n",
       "      <td>1</td>\n",
       "      <td>0</td>\n",
       "    </tr>\n",
       "  </tbody>\n",
       "</table>\n",
       "</div>"
      ],
      "text/plain": [
       "  tweets_Date tweets_Likes tweets_Replies tweets_Retweets  \\\n",
       "0      Sep 30          424             96             306   \n",
       "1      Sep 30          341            164             138   \n",
       "2      Sep 30          296             88             191   \n",
       "3      Sep 30          651             64             237   \n",
       "4      Sep 30          510            491             155   \n",
       "\n",
       "                                         tweets_Text  has_image  has_Link  \n",
       "0  Initial reports suggest three rockets struck a...          0         0  \n",
       "1  The Senate has approved a stopgap spending bil...          1         1  \n",
       "2  Seven people were shot at a funeral home in Mi...          1         1  \n",
       "3  Clare Bronfman, heiress to the Seagram liquor ...          1         1  \n",
       "4  Trump plans to participate in the next two pre...          1         0  "
      ]
     },
     "execution_count": 8,
     "metadata": {},
     "output_type": "execute_result"
    }
   ],
   "source": [
    "df.head()"
   ]
  },
  {
   "cell_type": "code",
   "execution_count": 9,
   "metadata": {},
   "outputs": [],
   "source": [
    "def text_cleaning(data):\n",
    "    #lower case\n",
    "    data['tweets_Text']=data['tweets_Text'].str.lower()\n",
    "    \n",
    "    #remove punctuation\n",
    "    punc_to_remove = string.punctuation\n",
    "    def remove_punctuation(text):\n",
    "        return text.translate(str.maketrans('', '', punc_to_remove))\n",
    "    data['tweets_Text'] = data['tweets_Text'].apply(lambda text: remove_punctuation(text))\n",
    "    \n",
    "    #remove stop words\n",
    "    \", \".join(stopwords.words('english'))\n",
    "    STOPWORDS = set(stopwords.words('english'))\n",
    "    def remove_stopwords(text):\n",
    "        return \" \".join([word for word in str(text).split() if word not in STOPWORDS])\n",
    "\n",
    "    data['tweets_Text'] = data['tweets_Text'].apply(lambda text: remove_stopwords(text))\n",
    "\n",
    "    return data\n",
    "\n",
    "\n",
    "    "
   ]
  },
  {
   "cell_type": "code",
   "execution_count": 10,
   "metadata": {},
   "outputs": [],
   "source": [
    "df = text_cleaning(df)"
   ]
  },
  {
   "cell_type": "code",
   "execution_count": 11,
   "metadata": {},
   "outputs": [
    {
     "data": {
      "text/html": [
       "<div>\n",
       "<style scoped>\n",
       "    .dataframe tbody tr th:only-of-type {\n",
       "        vertical-align: middle;\n",
       "    }\n",
       "\n",
       "    .dataframe tbody tr th {\n",
       "        vertical-align: top;\n",
       "    }\n",
       "\n",
       "    .dataframe thead th {\n",
       "        text-align: right;\n",
       "    }\n",
       "</style>\n",
       "<table border=\"1\" class=\"dataframe\">\n",
       "  <thead>\n",
       "    <tr style=\"text-align: right;\">\n",
       "      <th></th>\n",
       "      <th>tweets_Date</th>\n",
       "      <th>tweets_Likes</th>\n",
       "      <th>tweets_Replies</th>\n",
       "      <th>tweets_Retweets</th>\n",
       "      <th>tweets_Text</th>\n",
       "      <th>has_image</th>\n",
       "      <th>has_Link</th>\n",
       "    </tr>\n",
       "  </thead>\n",
       "  <tbody>\n",
       "    <tr>\n",
       "      <td>0</td>\n",
       "      <td>Sep 30</td>\n",
       "      <td>424</td>\n",
       "      <td>96</td>\n",
       "      <td>306</td>\n",
       "      <td>initial reports suggest three rockets struck b...</td>\n",
       "      <td>0</td>\n",
       "      <td>0</td>\n",
       "    </tr>\n",
       "    <tr>\n",
       "      <td>1</td>\n",
       "      <td>Sep 30</td>\n",
       "      <td>341</td>\n",
       "      <td>164</td>\n",
       "      <td>138</td>\n",
       "      <td>senate approved stopgap spending bill order av...</td>\n",
       "      <td>1</td>\n",
       "      <td>1</td>\n",
       "    </tr>\n",
       "    <tr>\n",
       "      <td>2</td>\n",
       "      <td>Sep 30</td>\n",
       "      <td>296</td>\n",
       "      <td>88</td>\n",
       "      <td>191</td>\n",
       "      <td>seven people shot funeral home milwaukee treat...</td>\n",
       "      <td>1</td>\n",
       "      <td>1</td>\n",
       "    </tr>\n",
       "    <tr>\n",
       "      <td>3</td>\n",
       "      <td>Sep 30</td>\n",
       "      <td>651</td>\n",
       "      <td>64</td>\n",
       "      <td>237</td>\n",
       "      <td>clare bronfman heiress seagram liquor fortune ...</td>\n",
       "      <td>1</td>\n",
       "      <td>1</td>\n",
       "    </tr>\n",
       "    <tr>\n",
       "      <td>4</td>\n",
       "      <td>Sep 30</td>\n",
       "      <td>510</td>\n",
       "      <td>491</td>\n",
       "      <td>155</td>\n",
       "      <td>trump plans participate next two presidential ...</td>\n",
       "      <td>1</td>\n",
       "      <td>0</td>\n",
       "    </tr>\n",
       "  </tbody>\n",
       "</table>\n",
       "</div>"
      ],
      "text/plain": [
       "  tweets_Date tweets_Likes tweets_Replies tweets_Retweets  \\\n",
       "0      Sep 30          424             96             306   \n",
       "1      Sep 30          341            164             138   \n",
       "2      Sep 30          296             88             191   \n",
       "3      Sep 30          651             64             237   \n",
       "4      Sep 30          510            491             155   \n",
       "\n",
       "                                         tweets_Text  has_image  has_Link  \n",
       "0  initial reports suggest three rockets struck b...          0         0  \n",
       "1  senate approved stopgap spending bill order av...          1         1  \n",
       "2  seven people shot funeral home milwaukee treat...          1         1  \n",
       "3  clare bronfman heiress seagram liquor fortune ...          1         1  \n",
       "4  trump plans participate next two presidential ...          1         0  "
      ]
     },
     "execution_count": 11,
     "metadata": {},
     "output_type": "execute_result"
    }
   ],
   "source": [
    "df.head()"
   ]
  },
  {
   "cell_type": "markdown",
   "metadata": {},
   "source": [
    "## 4. Now categorize the values of tweets_Replies column and add a new column which presents the categorical variable: ADD CODE HERE FOR CATEGORIES"
   ]
  },
  {
   "cell_type": "code",
   "execution_count": 13,
   "metadata": {},
   "outputs": [],
   "source": [
    "df['tweets_ResponseCategory'] = pd.qcut(df['tweets_Replies'], 3, labels=[0, 1, 2])\n"
   ]
  },
  {
   "cell_type": "code",
   "execution_count": 14,
   "metadata": {},
   "outputs": [
    {
     "data": {
      "text/plain": [
       "tweets_ResponseCategory\n",
       "0    3344\n",
       "1    3304\n",
       "2    3296\n",
       "dtype: int64"
      ]
     },
     "execution_count": 14,
     "metadata": {},
     "output_type": "execute_result"
    }
   ],
   "source": [
    "df.groupby('tweets_ResponseCategory').size()"
   ]
  },
  {
   "cell_type": "markdown",
   "metadata": {},
   "source": [
    "## 5. Drop tweets_Date, tweets_Replies, tweets_Retweets, and tweets_Likes and save the final dataset as a csv file. Please indicate in the name of csv weather it has been preprocessed using this notebook.\n",
    "## We can save two versions, one with the above columns dropped and one including these columns just in case. Please mention in the name which is version is what along with time range."
   ]
  },
  {
   "cell_type": "code",
   "execution_count": 16,
   "metadata": {},
   "outputs": [],
   "source": [
    "df.to_csv('./Data-clean/Preprocessed_with_all_cols.csv')"
   ]
  },
  {
   "cell_type": "code",
   "execution_count": 18,
   "metadata": {},
   "outputs": [],
   "source": [
    "df.drop(['tweets_Date', 'tweets_Likes', 'tweets_Replies', 'tweets_Retweets'], axis=1, inplace=True)"
   ]
  },
  {
   "cell_type": "code",
   "execution_count": 19,
   "metadata": {},
   "outputs": [],
   "source": [
    "df.to_csv('./Data-clean/Preprocessed_only_txt_has_image_has_link.csv')"
   ]
  },
  {
   "cell_type": "code",
   "execution_count": null,
   "metadata": {},
   "outputs": [],
   "source": []
  }
 ],
 "metadata": {
  "kernelspec": {
   "display_name": "Python 3",
   "language": "python",
   "name": "python3"
  },
  "language_info": {
   "codemirror_mode": {
    "name": "ipython",
    "version": 3
   },
   "file_extension": ".py",
   "mimetype": "text/x-python",
   "name": "python",
   "nbconvert_exporter": "python",
   "pygments_lexer": "ipython3",
   "version": "3.7.4"
  }
 },
 "nbformat": 4,
 "nbformat_minor": 2
}
