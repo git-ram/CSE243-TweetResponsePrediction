{
  "nbformat": 4,
  "nbformat_minor": 0,
  "metadata": {
    "accelerator": "GPU",
    "colab": {
      "name": "Copy_of_Advanced_Models+CNN.ipynb",
      "provenance": [],
      "collapsed_sections": [
        "sztayrEtGbuA"
      ]
    },
    "kernelspec": {
      "display_name": "Python 3",
      "language": "python",
      "name": "python3"
    },
    "language_info": {
      "codemirror_mode": {
        "name": "ipython",
        "version": 3
      },
      "file_extension": ".py",
      "mimetype": "text/x-python",
      "name": "python",
      "nbconvert_exporter": "python",
      "pygments_lexer": "ipython3",
      "version": "3.7.3"
    }
  },
  "cells": [
    {
      "cell_type": "code",
      "metadata": {
        "id": "Vz6N-uEKGbt0"
      },
      "source": [
        "import numpy as np \n",
        "import pandas as pd\n",
        "import matplotlib.pyplot as plt\n",
        "from sklearn import preprocessing\n",
        "from sklearn.cluster import KMeans\n",
        "from sklearn.metrics import silhouette_score, roc_curve, roc_auc_score\n",
        "from sklearn.model_selection import train_test_split\n",
        "from sklearn.linear_model import LogisticRegression\n",
        "from sklearn.tree import DecisionTreeClassifier\n",
        "from sklearn.model_selection import cross_val_score\n",
        "from sklearn.feature_extraction.text import CountVectorizer\n",
        "from sklearn.svm import SVC\n",
        "from sklearn.neural_network import MLPClassifier\n",
        "from sklearn.ensemble import RandomForestClassifier\n",
        "from keras.preprocessing.text import Tokenizer\n",
        "from keras.preprocessing.sequence import pad_sequences\n",
        "from nltk.corpus import stopwords\n",
        "import string\n",
        "from sklearn.linear_model import LogisticRegression\n",
        "from sklearn.tree import DecisionTreeClassifier\n",
        "from sklearn.svm import SVC\n",
        "from sklearn.neural_network import MLPClassifier\n",
        "from sklearn.ensemble import RandomForestClassifier\n",
        "from sklearn.metrics import f1_score\n",
        "from sklearn.metrics import accuracy_score"
      ],
      "execution_count": 10,
      "outputs": []
    },
    {
      "cell_type": "code",
      "metadata": {
        "colab": {
          "base_uri": "https://localhost:8080/"
        },
        "id": "_TzS9pIUGpCi",
        "outputId": "b1446efe-3c98-497e-91e0-31fdca9db11a"
      },
      "source": [
        "from google.colab import drive \n",
        "drive.mount('/content/drive')"
      ],
      "execution_count": 11,
      "outputs": [
        {
          "output_type": "stream",
          "text": [
            "Drive already mounted at /content/drive; to attempt to forcibly remount, call drive.mount(\"/content/drive\", force_remount=True).\n"
          ],
          "name": "stdout"
        }
      ]
    },
    {
      "cell_type": "code",
      "metadata": {
        "id": "O6IEPdfgUw68"
      },
      "source": [
        "#cd 'drive/MyDrive/Study/04_Fall_2020/CSE 243/Project'"
      ],
      "execution_count": 12,
      "outputs": []
    },
    {
      "cell_type": "code",
      "metadata": {
        "id": "JFFL6i_vGx-K"
      },
      "source": [
        "# data=pd.read_csv('gdrive/My Drive/CSE_243/Processed_major_cols.csv')\n",
        "\n",
        "data=pd.read_csv('/content/decade-short.csv')\n"
      ],
      "execution_count": 13,
      "outputs": []
    },
    {
      "cell_type": "code",
      "metadata": {
        "id": "MLoBcmH44nUm"
      },
      "source": [
        "data.dropna(subset=['tweets_Text'], inplace=True) "
      ],
      "execution_count": 14,
      "outputs": []
    },
    {
      "cell_type": "code",
      "metadata": {
        "id": "aN5g3cH9kSvM"
      },
      "source": [
        "data = data.loc[:, ~data.columns.str.contains('^Unnamed')]"
      ],
      "execution_count": 15,
      "outputs": []
    },
    {
      "cell_type": "code",
      "metadata": {
        "colab": {
          "base_uri": "https://localhost:8080/",
          "height": 195
        },
        "id": "h6_rCwCFGyB7",
        "outputId": "a7ed8913-6c08-4a87-8e5f-78e1f1b03756"
      },
      "source": [
        "data.head()"
      ],
      "execution_count": 16,
      "outputs": [
        {
          "output_type": "execute_result",
          "data": {
            "text/html": [
              "<div>\n",
              "<style scoped>\n",
              "    .dataframe tbody tr th:only-of-type {\n",
              "        vertical-align: middle;\n",
              "    }\n",
              "\n",
              "    .dataframe tbody tr th {\n",
              "        vertical-align: top;\n",
              "    }\n",
              "\n",
              "    .dataframe thead th {\n",
              "        text-align: right;\n",
              "    }\n",
              "</style>\n",
              "<table border=\"1\" class=\"dataframe\">\n",
              "  <thead>\n",
              "    <tr style=\"text-align: right;\">\n",
              "      <th></th>\n",
              "      <th>tweets_Text</th>\n",
              "      <th>has_image</th>\n",
              "      <th>has_Link</th>\n",
              "      <th>tweets_ResponseCategory</th>\n",
              "    </tr>\n",
              "  </thead>\n",
              "  <tbody>\n",
              "    <tr>\n",
              "      <th>0</th>\n",
              "      <td>four candidates left gop ballot virginia join ...</td>\n",
              "      <td>0</td>\n",
              "      <td>0</td>\n",
              "      <td>1</td>\n",
              "    </tr>\n",
              "    <tr>\n",
              "      <th>1</th>\n",
              "      <td>obama signs defense authorization bill reserva...</td>\n",
              "      <td>0</td>\n",
              "      <td>0</td>\n",
              "      <td>0</td>\n",
              "    </tr>\n",
              "    <tr>\n",
              "      <th>2</th>\n",
              "      <td>violence prompts state emergency nigeria</td>\n",
              "      <td>0</td>\n",
              "      <td>0</td>\n",
              "      <td>0</td>\n",
              "    </tr>\n",
              "    <tr>\n",
              "      <th>3</th>\n",
              "      <td>chinese man dies contagious strain birdflu acc...</td>\n",
              "      <td>0</td>\n",
              "      <td>0</td>\n",
              "      <td>0</td>\n",
              "    </tr>\n",
              "    <tr>\n",
              "      <th>4</th>\n",
              "      <td>california officials post 60000 reward 21fire ...</td>\n",
              "      <td>0</td>\n",
              "      <td>0</td>\n",
              "      <td>0</td>\n",
              "    </tr>\n",
              "  </tbody>\n",
              "</table>\n",
              "</div>"
            ],
            "text/plain": [
              "                                         tweets_Text  ...  tweets_ResponseCategory\n",
              "0  four candidates left gop ballot virginia join ...  ...                        1\n",
              "1  obama signs defense authorization bill reserva...  ...                        0\n",
              "2           violence prompts state emergency nigeria  ...                        0\n",
              "3  chinese man dies contagious strain birdflu acc...  ...                        0\n",
              "4  california officials post 60000 reward 21fire ...  ...                        0\n",
              "\n",
              "[5 rows x 4 columns]"
            ]
          },
          "metadata": {
            "tags": []
          },
          "execution_count": 16
        }
      ]
    },
    {
      "cell_type": "code",
      "metadata": {
        "id": "Gx_v6lyfGbt6"
      },
      "source": [
        "labels = data[\"tweets_ResponseCategory\"]\n",
        "data.drop(\"tweets_ResponseCategory\", axis=1, inplace=True)"
      ],
      "execution_count": 17,
      "outputs": []
    },
    {
      "cell_type": "code",
      "metadata": {
        "colab": {
          "base_uri": "https://localhost:8080/"
        },
        "id": "-rW1-oO747xN",
        "outputId": "b84be42a-49e1-4790-8494-478b582fc0ab"
      },
      "source": [
        "len(data)"
      ],
      "execution_count": 18,
      "outputs": [
        {
          "output_type": "execute_result",
          "data": {
            "text/plain": [
              "44197"
            ]
          },
          "metadata": {
            "tags": []
          },
          "execution_count": 18
        }
      ]
    },
    {
      "cell_type": "code",
      "metadata": {
        "id": "2bcWbbm1Gbt6"
      },
      "source": [
        "X_train, X_val, y_train, y_val = train_test_split(data, labels, test_size=0.20, random_state=42)"
      ],
      "execution_count": 19,
      "outputs": []
    },
    {
      "cell_type": "code",
      "metadata": {
        "colab": {
          "base_uri": "https://localhost:8080/",
          "height": 195
        },
        "id": "lbrbk15bGbt7",
        "outputId": "37680269-1a90-4c31-c1cf-2b51a34c8e93"
      },
      "source": [
        "X_train.head()"
      ],
      "execution_count": 20,
      "outputs": [
        {
          "output_type": "execute_result",
          "data": {
            "text/html": [
              "<div>\n",
              "<style scoped>\n",
              "    .dataframe tbody tr th:only-of-type {\n",
              "        vertical-align: middle;\n",
              "    }\n",
              "\n",
              "    .dataframe tbody tr th {\n",
              "        vertical-align: top;\n",
              "    }\n",
              "\n",
              "    .dataframe thead th {\n",
              "        text-align: right;\n",
              "    }\n",
              "</style>\n",
              "<table border=\"1\" class=\"dataframe\">\n",
              "  <thead>\n",
              "    <tr style=\"text-align: right;\">\n",
              "      <th></th>\n",
              "      <th>tweets_Text</th>\n",
              "      <th>has_image</th>\n",
              "      <th>has_Link</th>\n",
              "    </tr>\n",
              "  </thead>\n",
              "  <tbody>\n",
              "    <tr>\n",
              "      <th>17339</th>\n",
              "      <td>pentagon us hits isis targets joins airdrop hu...</td>\n",
              "      <td>0</td>\n",
              "      <td>0</td>\n",
              "    </tr>\n",
              "    <tr>\n",
              "      <th>12732</th>\n",
              "      <td>violence heats egypt 4 dead dozens hurt</td>\n",
              "      <td>0</td>\n",
              "      <td>0</td>\n",
              "    </tr>\n",
              "    <tr>\n",
              "      <th>43991</th>\n",
              "      <td>eli manning quarterback new york giants 16 sea...</td>\n",
              "      <td>1</td>\n",
              "      <td>0</td>\n",
              "    </tr>\n",
              "    <tr>\n",
              "      <th>20252</th>\n",
              "      <td>report women 60 older twice likely develop alz...</td>\n",
              "      <td>0</td>\n",
              "      <td>0</td>\n",
              "    </tr>\n",
              "    <tr>\n",
              "      <th>6025</th>\n",
              "      <td>israeli airstrikes gaza killed 3 palestinians ...</td>\n",
              "      <td>0</td>\n",
              "      <td>0</td>\n",
              "    </tr>\n",
              "  </tbody>\n",
              "</table>\n",
              "</div>"
            ],
            "text/plain": [
              "                                             tweets_Text  has_image  has_Link\n",
              "17339  pentagon us hits isis targets joins airdrop hu...          0         0\n",
              "12732            violence heats egypt 4 dead dozens hurt          0         0\n",
              "43991  eli manning quarterback new york giants 16 sea...          1         0\n",
              "20252  report women 60 older twice likely develop alz...          0         0\n",
              "6025   israeli airstrikes gaza killed 3 palestinians ...          0         0"
            ]
          },
          "metadata": {
            "tags": []
          },
          "execution_count": 20
        }
      ]
    },
    {
      "cell_type": "markdown",
      "metadata": {
        "id": "cKqSHBNqGbt7"
      },
      "source": [
        "Word Cloud"
      ]
    },
    {
      "cell_type": "code",
      "metadata": {
        "id": "kztVx42uGbt7"
      },
      "source": [
        "dataTrain=pd.concat([X_train, y_train], axis=1)"
      ],
      "execution_count": 21,
      "outputs": []
    },
    {
      "cell_type": "code",
      "metadata": {
        "colab": {
          "base_uri": "https://localhost:8080/",
          "height": 195
        },
        "id": "QkxTy9t2Gbt7",
        "outputId": "9d1d76c0-ab70-4849-f7f5-8f519ac249ef"
      },
      "source": [
        "dataTrain.head()"
      ],
      "execution_count": 22,
      "outputs": [
        {
          "output_type": "execute_result",
          "data": {
            "text/html": [
              "<div>\n",
              "<style scoped>\n",
              "    .dataframe tbody tr th:only-of-type {\n",
              "        vertical-align: middle;\n",
              "    }\n",
              "\n",
              "    .dataframe tbody tr th {\n",
              "        vertical-align: top;\n",
              "    }\n",
              "\n",
              "    .dataframe thead th {\n",
              "        text-align: right;\n",
              "    }\n",
              "</style>\n",
              "<table border=\"1\" class=\"dataframe\">\n",
              "  <thead>\n",
              "    <tr style=\"text-align: right;\">\n",
              "      <th></th>\n",
              "      <th>tweets_Text</th>\n",
              "      <th>has_image</th>\n",
              "      <th>has_Link</th>\n",
              "      <th>tweets_ResponseCategory</th>\n",
              "    </tr>\n",
              "  </thead>\n",
              "  <tbody>\n",
              "    <tr>\n",
              "      <th>17339</th>\n",
              "      <td>pentagon us hits isis targets joins airdrop hu...</td>\n",
              "      <td>0</td>\n",
              "      <td>0</td>\n",
              "      <td>1</td>\n",
              "    </tr>\n",
              "    <tr>\n",
              "      <th>12732</th>\n",
              "      <td>violence heats egypt 4 dead dozens hurt</td>\n",
              "      <td>0</td>\n",
              "      <td>0</td>\n",
              "      <td>0</td>\n",
              "    </tr>\n",
              "    <tr>\n",
              "      <th>43991</th>\n",
              "      <td>eli manning quarterback new york giants 16 sea...</td>\n",
              "      <td>1</td>\n",
              "      <td>0</td>\n",
              "      <td>1</td>\n",
              "    </tr>\n",
              "    <tr>\n",
              "      <th>20252</th>\n",
              "      <td>report women 60 older twice likely develop alz...</td>\n",
              "      <td>0</td>\n",
              "      <td>0</td>\n",
              "      <td>1</td>\n",
              "    </tr>\n",
              "    <tr>\n",
              "      <th>6025</th>\n",
              "      <td>israeli airstrikes gaza killed 3 palestinians ...</td>\n",
              "      <td>0</td>\n",
              "      <td>0</td>\n",
              "      <td>1</td>\n",
              "    </tr>\n",
              "  </tbody>\n",
              "</table>\n",
              "</div>"
            ],
            "text/plain": [
              "                                             tweets_Text  ...  tweets_ResponseCategory\n",
              "17339  pentagon us hits isis targets joins airdrop hu...  ...                        1\n",
              "12732            violence heats egypt 4 dead dozens hurt  ...                        0\n",
              "43991  eli manning quarterback new york giants 16 sea...  ...                        1\n",
              "20252  report women 60 older twice likely develop alz...  ...                        1\n",
              "6025   israeli airstrikes gaza killed 3 palestinians ...  ...                        1\n",
              "\n",
              "[5 rows x 4 columns]"
            ]
          },
          "metadata": {
            "tags": []
          },
          "execution_count": 22
        }
      ]
    },
    {
      "cell_type": "code",
      "metadata": {
        "id": "w04Nuw7sGbt7"
      },
      "source": [
        "from wordcloud import WordCloud, STOPWORDS, ImageColorGenerator"
      ],
      "execution_count": 23,
      "outputs": []
    },
    {
      "cell_type": "code",
      "metadata": {
        "id": "qBBTSaEGGbt7"
      },
      "source": [
        "# word cloud\n",
        "\n",
        "low_df = dataTrain.loc[dataTrain.tweets_ResponseCategory  == 0]\n",
        "moderate_df = dataTrain.loc[dataTrain.tweets_ResponseCategory == 1]\n",
        "high_df = dataTrain.loc[dataTrain.tweets_ResponseCategory  == 2]\n",
        "\n",
        "\n",
        "low_array = np.array(low_df['tweets_Text'])\n",
        "moderate_array=np.array(moderate_df['tweets_Text'])\n",
        "high_array=np.array(high_df['tweets_Text'])\n",
        "\n",
        "low_text = ''.join(low_array)\n",
        "moderate_text= ''.join(moderate_array)\n",
        "high_text=''.join(high_array)"
      ],
      "execution_count": 24,
      "outputs": []
    },
    {
      "cell_type": "code",
      "metadata": {
        "colab": {
          "base_uri": "https://localhost:8080/",
          "height": 608
        },
        "id": "-1YsFV7QGbt7",
        "outputId": "d9aaef55-447f-481d-f40f-a65da7fcb22c"
      },
      "source": [
        "#low\n",
        "wordcloud = WordCloud(background_color=\"white\").generate(low_text)\n",
        "plt.imshow(wordcloud, interpolation='bilinear')\n",
        "plt.axis(\"off\")\n",
        "plt.title('Low Responsiveness')\n",
        "plt.show()\n",
        "\n",
        "#moderate\n",
        "wordcloud = WordCloud(background_color=\"white\").generate(moderate_text)\n",
        "plt.imshow(wordcloud, interpolation='bilinear')\n",
        "plt.axis(\"off\")\n",
        "plt.title('Moderate Responsiveness')\n",
        "plt.show()\n",
        "\n",
        "#high\n",
        "wordcloud = WordCloud(background_color=\"white\").generate(high_text)\n",
        "plt.imshow(wordcloud, interpolation='bilinear')\n",
        "plt.axis(\"off\")\n",
        "plt.title('High Responsiveness')\n",
        "plt.show()"
      ],
      "execution_count": 25,
      "outputs": [
        {
          "output_type": "display_data",
          "data": {
            "image/png": "[encoded data removed]",
            "text/plain": [
              "<Figure size 432x288 with 1 Axes>"
            ]
          },
          "metadata": {
            "tags": [],
            "needs_background": "light"
          }
        },
        {
          "output_type": "display_data",
          "data": {
            "image/png": "[encoded data removed]",
            "text/plain": [
              "<Figure size 432x288 with 1 Axes>"
            ]
          },
          "metadata": {
            "tags": [],
            "needs_background": "light"
          }
        },
        {
          "output_type": "display_data",
          "data": {
            "image/png": "[encoded data removed]",
            "text/plain": [
              "<Figure size 432x288 with 1 Axes>"
            ]
          },
          "metadata": {
            "tags": [],
            "needs_background": "light"
          }
        }
      ]
    },
    {
      "cell_type": "markdown",
      "metadata": {
        "id": "inXgTAqOGbt7"
      },
      "source": [
        "# Tokenizer"
      ]
    },
    {
      "cell_type": "code",
      "metadata": {
        "colab": {
          "base_uri": "https://localhost:8080/"
        },
        "id": "ZVfVsIEYGbt7",
        "outputId": "3f619a06-f63a-47c2-ec3e-a49ac762442c"
      },
      "source": [
        "# max_len=X_train.tweets_Text.map(lambda x: len(x)).max()\n",
        "max_len = 150\n",
        "print(max_len)"
      ],
      "execution_count": 26,
      "outputs": [
        {
          "output_type": "stream",
          "text": [
            "150\n"
          ],
          "name": "stdout"
        }
      ]
    },
    {
      "cell_type": "code",
      "metadata": {
        "id": "x4wA2daeGbt8"
      },
      "source": [
        "def get_tweetText(data):\n",
        "    data_text=data[['tweets_Text']]\n",
        "    return data_text"
      ],
      "execution_count": 27,
      "outputs": []
    },
    {
      "cell_type": "code",
      "metadata": {
        "id": "6CgU05OLGbt8"
      },
      "source": [
        "train_text=get_tweetText(X_train)\n",
        "val_text=get_tweetText(X_val)"
      ],
      "execution_count": 28,
      "outputs": []
    },
    {
      "cell_type": "code",
      "metadata": {
        "id": "N6Sev0IJGbt8"
      },
      "source": [
        "max_features=25000"
      ],
      "execution_count": 29,
      "outputs": []
    },
    {
      "cell_type": "code",
      "metadata": {
        "id": "6e8o10HUGbt8"
      },
      "source": [
        "from keras.utils import to_categorical\n",
        "def tokenizer_(train_x, val_x, max_features, maxlen):\n",
        "    \n",
        "\n",
        "    train_X = train_x['tweets_Text']\n",
        "    val_X = val_x['tweets_Text']\n",
        "    \n",
        "\n",
        "    tokenizer = Tokenizer(num_words=max_features)\n",
        "    tokenizer.fit_on_texts(list(train_X))\n",
        "\n",
        "    train_X = tokenizer.texts_to_sequences(train_X)\n",
        "    train_X = pad_sequences(train_X, maxlen=maxlen)\n",
        "    val_X = tokenizer.texts_to_sequences(val_X)\n",
        "    val_X = pad_sequences(val_X, maxlen=maxlen)\n",
        "\n",
        "    return train_X, val_X, tokenizer"
      ],
      "execution_count": 30,
      "outputs": []
    },
    {
      "cell_type": "code",
      "metadata": {
        "id": "VcyxaAbsGbt8"
      },
      "source": [
        "train_X_tokenized, val_X_tokenized , tokenizer= tokenizer_(X_train, X_val, max_features, max_len)"
      ],
      "execution_count": 31,
      "outputs": []
    },
    {
      "cell_type": "code",
      "metadata": {
        "id": "wtCLXCVzk8L_"
      },
      "source": [
        ""
      ],
      "execution_count": 31,
      "outputs": []
    },
    {
      "cell_type": "markdown",
      "metadata": {
        "id": "StYTMuNEGbt8"
      },
      "source": [
        "Label Encoding "
      ]
    },
    {
      "cell_type": "code",
      "metadata": {
        "id": "f7TrKi9iGbt8"
      },
      "source": [
        "from keras.utils import to_categorical\n",
        "from sklearn.preprocessing import LabelEncoder\n",
        "\n",
        "le = LabelEncoder()\n",
        "y_train_le = le.fit_transform(y_train)\n",
        "y_val_le = le.transform(y_val)\n",
        "##THESE are the final labels\n",
        "train_Y = to_categorical(y_train_le)\n",
        "val_Y = to_categorical(y_val_le)"
      ],
      "execution_count": 32,
      "outputs": []
    },
    {
      "cell_type": "markdown",
      "metadata": {
        "id": "qPivcf5yGbt8"
      },
      "source": [
        "Complete dataframe"
      ]
    },
    {
      "cell_type": "code",
      "metadata": {
        "id": "3K-OT7vrGbt8"
      },
      "source": [
        "#X_train_new = X_train.reset_index(drop=True)\n",
        "#train_X_tokenized_new = train_X_tokenized.reset_index(drop=True)"
      ],
      "execution_count": 33,
      "outputs": []
    },
    {
      "cell_type": "code",
      "metadata": {
        "id": "pNWE0cRdGbt8"
      },
      "source": [
        "#X_val_new = X_val.reset_index(drop=True)\n",
        "#val_X_tokenized_new = val_X_tokenized.reset_index(drop=True)"
      ],
      "execution_count": 34,
      "outputs": []
    },
    {
      "cell_type": "code",
      "metadata": {
        "id": "XKvKLsyIGbt8"
      },
      "source": [
        "X_train_new=X_train[:]\n",
        "X_val_new=X_val[:]"
      ],
      "execution_count": 35,
      "outputs": []
    },
    {
      "cell_type": "code",
      "metadata": {
        "colab": {
          "base_uri": "https://localhost:8080/"
        },
        "id": "Pq2Q8CvrGbt8",
        "outputId": "358cdad9-7fad-4ea8-c618-706f7a58ec07"
      },
      "source": [
        "X_train_new.drop([\"tweets_Text\"], axis=1, inplace=True)\n",
        "X_val_new.drop([\"tweets_Text\"], axis=1, inplace=True)"
      ],
      "execution_count": 36,
      "outputs": [
        {
          "output_type": "stream",
          "text": [
            "/usr/local/lib/python3.6/dist-packages/pandas/core/frame.py:4174: SettingWithCopyWarning: \n",
            "A value is trying to be set on a copy of a slice from a DataFrame\n",
            "\n",
            "See the caveats in the documentation: https://pandas.pydata.org/pandas-docs/stable/user_guide/indexing.html#returning-a-view-versus-a-copy\n",
            "  errors=errors,\n"
          ],
          "name": "stderr"
        }
      ]
    },
    {
      "cell_type": "code",
      "metadata": {
        "colab": {
          "base_uri": "https://localhost:8080/",
          "height": 195
        },
        "id": "TfxLBQoJGbt8",
        "outputId": "50c33bb2-7af5-4030-f3f7-8ac09ec177d1"
      },
      "source": [
        "X_train_new.head()"
      ],
      "execution_count": 37,
      "outputs": [
        {
          "output_type": "execute_result",
          "data": {
            "text/html": [
              "<div>\n",
              "<style scoped>\n",
              "    .dataframe tbody tr th:only-of-type {\n",
              "        vertical-align: middle;\n",
              "    }\n",
              "\n",
              "    .dataframe tbody tr th {\n",
              "        vertical-align: top;\n",
              "    }\n",
              "\n",
              "    .dataframe thead th {\n",
              "        text-align: right;\n",
              "    }\n",
              "</style>\n",
              "<table border=\"1\" class=\"dataframe\">\n",
              "  <thead>\n",
              "    <tr style=\"text-align: right;\">\n",
              "      <th></th>\n",
              "      <th>has_image</th>\n",
              "      <th>has_Link</th>\n",
              "    </tr>\n",
              "  </thead>\n",
              "  <tbody>\n",
              "    <tr>\n",
              "      <th>17339</th>\n",
              "      <td>0</td>\n",
              "      <td>0</td>\n",
              "    </tr>\n",
              "    <tr>\n",
              "      <th>12732</th>\n",
              "      <td>0</td>\n",
              "      <td>0</td>\n",
              "    </tr>\n",
              "    <tr>\n",
              "      <th>43991</th>\n",
              "      <td>1</td>\n",
              "      <td>0</td>\n",
              "    </tr>\n",
              "    <tr>\n",
              "      <th>20252</th>\n",
              "      <td>0</td>\n",
              "      <td>0</td>\n",
              "    </tr>\n",
              "    <tr>\n",
              "      <th>6025</th>\n",
              "      <td>0</td>\n",
              "      <td>0</td>\n",
              "    </tr>\n",
              "  </tbody>\n",
              "</table>\n",
              "</div>"
            ],
            "text/plain": [
              "       has_image  has_Link\n",
              "17339          0         0\n",
              "12732          0         0\n",
              "43991          1         0\n",
              "20252          0         0\n",
              "6025           0         0"
            ]
          },
          "metadata": {
            "tags": []
          },
          "execution_count": 37
        }
      ]
    },
    {
      "cell_type": "code",
      "metadata": {
        "id": "o1hXACuPc4Pd"
      },
      "source": [
        "X_train_new = X_train_new.loc[:, ~X_train_new.columns.str.contains('^Unnamed')]"
      ],
      "execution_count": 38,
      "outputs": []
    },
    {
      "cell_type": "code",
      "metadata": {
        "id": "8LIT_2QwdAaQ"
      },
      "source": [
        "X_val_new = X_val_new.loc[:, ~X_val_new.columns.str.contains('^Unnamed')]"
      ],
      "execution_count": 39,
      "outputs": []
    },
    {
      "cell_type": "code",
      "metadata": {
        "colab": {
          "base_uri": "https://localhost:8080/"
        },
        "id": "78hkaipAGbt9",
        "outputId": "f4550a57-19ea-4d9e-95d2-34106be240be"
      },
      "source": [
        "X_train_new.to_numpy()\n",
        "X_val_new.to_numpy()"
      ],
      "execution_count": 40,
      "outputs": [
        {
          "output_type": "execute_result",
          "data": {
            "text/plain": [
              "array([[1, 0],\n",
              "       [1, 1],\n",
              "       [0, 0],\n",
              "       ...,\n",
              "       [1, 1],\n",
              "       [1, 0],\n",
              "       [1, 0]])"
            ]
          },
          "metadata": {
            "tags": []
          },
          "execution_count": 40
        }
      ]
    },
    {
      "cell_type": "code",
      "metadata": {
        "colab": {
          "base_uri": "https://localhost:8080/",
          "height": 166
        },
        "id": "_q8LHp0bGbt9",
        "outputId": "a89c0f4e-f7c7-4d58-c099-9e6c1a9140cf"
      },
      "source": [
        "X_train_new[:4]"
      ],
      "execution_count": 41,
      "outputs": [
        {
          "output_type": "execute_result",
          "data": {
            "text/html": [
              "<div>\n",
              "<style scoped>\n",
              "    .dataframe tbody tr th:only-of-type {\n",
              "        vertical-align: middle;\n",
              "    }\n",
              "\n",
              "    .dataframe tbody tr th {\n",
              "        vertical-align: top;\n",
              "    }\n",
              "\n",
              "    .dataframe thead th {\n",
              "        text-align: right;\n",
              "    }\n",
              "</style>\n",
              "<table border=\"1\" class=\"dataframe\">\n",
              "  <thead>\n",
              "    <tr style=\"text-align: right;\">\n",
              "      <th></th>\n",
              "      <th>has_image</th>\n",
              "      <th>has_Link</th>\n",
              "    </tr>\n",
              "  </thead>\n",
              "  <tbody>\n",
              "    <tr>\n",
              "      <th>17339</th>\n",
              "      <td>0</td>\n",
              "      <td>0</td>\n",
              "    </tr>\n",
              "    <tr>\n",
              "      <th>12732</th>\n",
              "      <td>0</td>\n",
              "      <td>0</td>\n",
              "    </tr>\n",
              "    <tr>\n",
              "      <th>43991</th>\n",
              "      <td>1</td>\n",
              "      <td>0</td>\n",
              "    </tr>\n",
              "    <tr>\n",
              "      <th>20252</th>\n",
              "      <td>0</td>\n",
              "      <td>0</td>\n",
              "    </tr>\n",
              "  </tbody>\n",
              "</table>\n",
              "</div>"
            ],
            "text/plain": [
              "       has_image  has_Link\n",
              "17339          0         0\n",
              "12732          0         0\n",
              "43991          1         0\n",
              "20252          0         0"
            ]
          },
          "metadata": {
            "tags": []
          },
          "execution_count": 41
        }
      ]
    },
    {
      "cell_type": "code",
      "metadata": {
        "id": "jQC45ruPGbt9"
      },
      "source": [
        "X_train_df=np.concatenate(( train_X_tokenized, X_train_new), axis=1)\n"
      ],
      "execution_count": 42,
      "outputs": []
    },
    {
      "cell_type": "code",
      "metadata": {
        "id": "E2K1-tGaGbt9"
      },
      "source": [
        "X_val_df=np.concatenate((val_X_tokenized, X_val_new), axis=1)"
      ],
      "execution_count": 43,
      "outputs": []
    },
    {
      "cell_type": "code",
      "metadata": {
        "colab": {
          "base_uri": "https://localhost:8080/"
        },
        "id": "T9sof3i3Gbt9",
        "outputId": "55e34417-7fcc-45b4-cbc1-66933e6dc92a"
      },
      "source": [
        "X_train_df[:4]"
      ],
      "execution_count": 44,
      "outputs": [
        {
          "output_type": "execute_result",
          "data": {
            "text/plain": [
              "array([[    0,     0,     0,     0,     0,     0,     0,     0,     0,\n",
              "            0,     0,     0,     0,     0,     0,     0,     0,     0,\n",
              "            0,     0,     0,     0,     0,     0,     0,     0,     0,\n",
              "            0,     0,     0,     0,     0,     0,     0,     0,     0,\n",
              "            0,     0,     0,     0,     0,     0,     0,     0,     0,\n",
              "            0,     0,     0,     0,     0,     0,     0,     0,     0,\n",
              "            0,     0,     0,     0,     0,     0,     0,     0,     0,\n",
              "            0,     0,     0,     0,     0,     0,     0,     0,     0,\n",
              "            0,     0,     0,     0,     0,     0,     0,     0,     0,\n",
              "            0,     0,     0,     0,     0,     0,     0,     0,     0,\n",
              "            0,     0,     0,     0,     0,     0,     0,     0,     0,\n",
              "            0,     0,     0,     0,     0,     0,     0,     0,     0,\n",
              "            0,     0,     0,     0,     0,     0,     0,     0,     0,\n",
              "            0,     0,     0,     0,     0,     0,     0,     0,     0,\n",
              "            0,     0,     0,     0,     0,     0,     0,     0,     0,\n",
              "            0,     0,   461,     2,   589,    41,  1554,  2409, 16028,\n",
              "         1760,   491,  4272,   636, 10031,   182,     0,     0],\n",
              "       [    0,     0,     0,     0,     0,     0,     0,     0,     0,\n",
              "            0,     0,     0,     0,     0,     0,     0,     0,     0,\n",
              "            0,     0,     0,     0,     0,     0,     0,     0,     0,\n",
              "            0,     0,     0,     0,     0,     0,     0,     0,     0,\n",
              "            0,     0,     0,     0,     0,     0,     0,     0,     0,\n",
              "            0,     0,     0,     0,     0,     0,     0,     0,     0,\n",
              "            0,     0,     0,     0,     0,     0,     0,     0,     0,\n",
              "            0,     0,     0,     0,     0,     0,     0,     0,     0,\n",
              "            0,     0,     0,     0,     0,     0,     0,     0,     0,\n",
              "            0,     0,     0,     0,     0,     0,     0,     0,     0,\n",
              "            0,     0,     0,     0,     0,     0,     0,     0,     0,\n",
              "            0,     0,     0,     0,     0,     0,     0,     0,     0,\n",
              "            0,     0,     0,     0,     0,     0,     0,     0,     0,\n",
              "            0,     0,     0,     0,     0,     0,     0,     0,     0,\n",
              "            0,     0,     0,     0,     0,     0,     0,     0,     0,\n",
              "            0,     0,     0,     0,     0,     0,     0,     0,   363,\n",
              "        10032,   213,    77,    20,   328,   343,     0,     0],\n",
              "       [    0,     0,     0,     0,     0,     0,     0,     0,     0,\n",
              "            0,     0,     0,     0,     0,     0,     0,     0,     0,\n",
              "            0,     0,     0,     0,     0,     0,     0,     0,     0,\n",
              "            0,     0,     0,     0,     0,     0,     0,     0,     0,\n",
              "            0,     0,     0,     0,     0,     0,     0,     0,     0,\n",
              "            0,     0,     0,     0,     0,     0,     0,     0,     0,\n",
              "            0,     0,     0,     0,     0,     0,     0,     0,     0,\n",
              "            0,     0,     0,     0,     0,     0,     0,     0,     0,\n",
              "            0,     0,     0,     0,     0,     0,     0,     0,     0,\n",
              "            0,     0,     0,     0,     0,     0,     0,     0,     0,\n",
              "            0,     0,     0,     0,     0,     0,     0,     0,     0,\n",
              "            0,     0,     0,     0,     0,     0,     0,     0,     0,\n",
              "            0,     0,     0,     0,     0,     0,     0,     0,     0,\n",
              "            0,     0,     0,     0,     0,     0,     0,     0,     0,\n",
              "            0,     0,     0,     0,     0,     0,     0, 12177,  2706,\n",
              "         2472,     8,    71,  3296,   544,  4273, 12178,  1066,  1685,\n",
              "         1368,   598,  5038,   210,   215,     1,     1,     0],\n",
              "       [    0,     0,     0,     0,     0,     0,     0,     0,     0,\n",
              "            0,     0,     0,     0,     0,     0,     0,     0,     0,\n",
              "            0,     0,     0,     0,     0,     0,     0,     0,     0,\n",
              "            0,     0,     0,     0,     0,     0,     0,     0,     0,\n",
              "            0,     0,     0,     0,     0,     0,     0,     0,     0,\n",
              "            0,     0,     0,     0,     0,     0,     0,     0,     0,\n",
              "            0,     0,     0,     0,     0,     0,     0,     0,     0,\n",
              "            0,     0,     0,     0,     0,     0,     0,     0,     0,\n",
              "            0,     0,     0,     0,     0,     0,     0,     0,     0,\n",
              "            0,     0,     0,     0,     0,     0,     0,     0,     0,\n",
              "            0,     0,     0,     0,     0,     0,     0,     0,     0,\n",
              "            0,     0,     0,     0,     0,     0,     0,     0,     0,\n",
              "            0,     0,     0,     0,     0,     0,     0,     0,     0,\n",
              "            0,     0,     0,     0,     0,     0,     0,     0,     0,\n",
              "            0,     0,     0,     0,     0,     0,     0,     0,     0,\n",
              "            0,     0,     0,     0,    51,   287,  1049,  4735,  4075,\n",
              "          455,  6832,  5428,  8620,  4499,   619,     0,     0]])"
            ]
          },
          "metadata": {
            "tags": []
          },
          "execution_count": 44
        }
      ]
    },
    {
      "cell_type": "code",
      "metadata": {
        "id": "aZbyILrvGbuA"
      },
      "source": [
        "# X_val_df=np.concatenate((X_val_new, val_X_tokenized), axis=1)"
      ],
      "execution_count": 45,
      "outputs": []
    },
    {
      "cell_type": "code",
      "metadata": {
        "colab": {
          "base_uri": "https://localhost:8080/"
        },
        "id": "OBUUxwkyGbuA",
        "outputId": "881be7c6-0157-4782-8c1a-9b6fb5d66222"
      },
      "source": [
        "X_val_df.shape"
      ],
      "execution_count": 46,
      "outputs": [
        {
          "output_type": "execute_result",
          "data": {
            "text/plain": [
              "(8840, 152)"
            ]
          },
          "metadata": {
            "tags": []
          },
          "execution_count": 46
        }
      ]
    },
    {
      "cell_type": "markdown",
      "metadata": {
        "id": "RdZFY27gGbuA"
      },
      "source": [
        "# Models"
      ]
    },
    {
      "cell_type": "markdown",
      "metadata": {
        "id": "__Qpjgj_jduJ"
      },
      "source": [
        "Logistic Regression"
      ]
    },
    {
      "cell_type": "code",
      "metadata": {
        "id": "e9qXaTiYjTza"
      },
      "source": [
        "clf = LogisticRegression(max_iter=50000)\n",
        "clf.fit(train_X_tokenized, y_train)\n",
        "y_pred_lr = clf.predict(val_X_tokenized)\n"
      ],
      "execution_count": 47,
      "outputs": []
    },
    {
      "cell_type": "code",
      "metadata": {
        "colab": {
          "base_uri": "https://localhost:8080/"
        },
        "id": "I8tWHXNhAtVm",
        "outputId": "e73bf308-3ce1-4b15-a8d5-eb54f10a7f85"
      },
      "source": [
        "print(clf.score(val_X_tokenized, y_val))\n",
        "print(f1_score(y_val, y_pred_lr, average='macro'))"
      ],
      "execution_count": 48,
      "outputs": [
        {
          "output_type": "stream",
          "text": [
            "0.4279411764705882\n",
            "0.38625232401513787\n"
          ],
          "name": "stdout"
        }
      ]
    },
    {
      "cell_type": "markdown",
      "metadata": {
        "id": "DF6Mwcg9m4bs"
      },
      "source": [
        "Decision Tree"
      ]
    },
    {
      "cell_type": "code",
      "metadata": {
        "colab": {
          "base_uri": "https://localhost:8080/"
        },
        "id": "Lkk7cz8RjTD9",
        "outputId": "0c0bb115-0cf8-407b-dfd3-8ab5ff7956c9"
      },
      "source": [
        "clf = DecisionTreeClassifier()\n",
        "clf.fit(train_X_tokenized, y_train)\n",
        "clf.score(val_X_tokenized, y_val)"
      ],
      "execution_count": 49,
      "outputs": [
        {
          "output_type": "execute_result",
          "data": {
            "text/plain": [
              "0.38653846153846155"
            ]
          },
          "metadata": {
            "tags": []
          },
          "execution_count": 49
        }
      ]
    },
    {
      "cell_type": "code",
      "metadata": {
        "colab": {
          "base_uri": "https://localhost:8080/"
        },
        "id": "2z8vMXhQA2MW",
        "outputId": "a5c6a0a2-ca52-42eb-9416-e18861aa25d0"
      },
      "source": [
        "print(clf.score(val_X_tokenized, y_val))\n",
        "print(f1_score(y_val, y_pred_lr, average='macro'))"
      ],
      "execution_count": 50,
      "outputs": [
        {
          "output_type": "stream",
          "text": [
            "0.38653846153846155\n",
            "0.38625232401513787\n"
          ],
          "name": "stdout"
        }
      ]
    },
    {
      "cell_type": "markdown",
      "metadata": {
        "id": "LHWFoQs7nM1g"
      },
      "source": [
        "SVM"
      ]
    },
    {
      "cell_type": "code",
      "metadata": {
        "colab": {
          "base_uri": "https://localhost:8080/"
        },
        "id": "3CaSzXI6nSad",
        "outputId": "068e5190-085d-49fb-e224-8fad89a3f70c"
      },
      "source": [
        "clf = SVC()\n",
        "clf.fit(train_X_tokenized, y_train)\n",
        "clf.score(val_X_tokenized, y_val)"
      ],
      "execution_count": 51,
      "outputs": [
        {
          "output_type": "execute_result",
          "data": {
            "text/plain": [
              "0.4305429864253394"
            ]
          },
          "metadata": {
            "tags": []
          },
          "execution_count": 51
        }
      ]
    },
    {
      "cell_type": "code",
      "metadata": {
        "colab": {
          "base_uri": "https://localhost:8080/"
        },
        "id": "UKDztqAHBZQc",
        "outputId": "baf2be63-90e7-4a34-a034-938e3405c76d"
      },
      "source": [
        "print(clf.score(val_X_tokenized, y_val))\n",
        "print(f1_score(y_val, y_pred_lr, average='macro'))"
      ],
      "execution_count": 52,
      "outputs": [
        {
          "output_type": "stream",
          "text": [
            "0.4305429864253394\n",
            "0.38625232401513787\n"
          ],
          "name": "stdout"
        }
      ]
    },
    {
      "cell_type": "markdown",
      "metadata": {
        "id": "nIWlHyE6ncYX"
      },
      "source": [
        "Neural Network"
      ]
    },
    {
      "cell_type": "code",
      "metadata": {
        "colab": {
          "base_uri": "https://localhost:8080/"
        },
        "id": "PUUqcjZUnhW-",
        "outputId": "af0edb7d-1be7-4f89-988d-5c0a98318bd3"
      },
      "source": [
        "clf = MLPClassifier(random_state=1, max_iter=1000)\n",
        "clf.fit(train_X_tokenized, y_train)\n",
        "clf.score(val_X_tokenized, y_val)"
      ],
      "execution_count": 53,
      "outputs": [
        {
          "output_type": "execute_result",
          "data": {
            "text/plain": [
              "0.43993212669683257"
            ]
          },
          "metadata": {
            "tags": []
          },
          "execution_count": 53
        }
      ]
    },
    {
      "cell_type": "code",
      "metadata": {
        "colab": {
          "base_uri": "https://localhost:8080/"
        },
        "id": "XSZ7hKgtBcGm",
        "outputId": "89566644-d1db-4eba-fd72-9c26b681bf76"
      },
      "source": [
        "print(clf.score(val_X_tokenized, y_val))\n",
        "print(f1_score(y_val, y_pred_lr, average='macro'))"
      ],
      "execution_count": 54,
      "outputs": [
        {
          "output_type": "stream",
          "text": [
            "0.43993212669683257\n",
            "0.38625232401513787\n"
          ],
          "name": "stdout"
        }
      ]
    },
    {
      "cell_type": "markdown",
      "metadata": {
        "id": "hlB_kZ27npVj"
      },
      "source": [
        "Random Forest"
      ]
    },
    {
      "cell_type": "code",
      "metadata": {
        "colab": {
          "base_uri": "https://localhost:8080/"
        },
        "id": "7ULF0_5bnt6Q",
        "outputId": "7bdf307e-5fa9-4d61-8fcc-2d0b5aabde36"
      },
      "source": [
        "clf = RandomForestClassifier(max_depth=50, random_state=0)\n",
        "clf.fit(train_X_tokenized, y_train)\n",
        "clf.score(val_X_tokenized, y_val)"
      ],
      "execution_count": 55,
      "outputs": [
        {
          "output_type": "execute_result",
          "data": {
            "text/plain": [
              "0.45294117647058824"
            ]
          },
          "metadata": {
            "tags": []
          },
          "execution_count": 55
        }
      ]
    },
    {
      "cell_type": "code",
      "metadata": {
        "colab": {
          "base_uri": "https://localhost:8080/"
        },
        "id": "ZOFNgIC8Be28",
        "outputId": "afc21228-b203-4990-a087-dabe949af338"
      },
      "source": [
        "print(clf.score(val_X_tokenized, y_val))\n",
        "print(f1_score(y_val, y_pred_lr, average='macro'))"
      ],
      "execution_count": 56,
      "outputs": [
        {
          "output_type": "stream",
          "text": [
            "0.45294117647058824\n",
            "0.38625232401513787\n"
          ],
          "name": "stdout"
        }
      ]
    },
    {
      "cell_type": "code",
      "metadata": {
        "id": "TBz1lr0tGbuA"
      },
      "source": [
        "import tensorflow as tf\n",
        "from tensorflow import keras\n",
        "from tensorflow.keras import layers\n",
        "from keras.preprocessing.text import Tokenizer\n",
        "from keras.preprocessing.sequence import pad_sequences\n",
        "from keras.layers import Dense, Input, LSTM, Embedding, Dropout, Activation, Conv1D\n",
        "from keras.layers import Bidirectional, GlobalMaxPool1D\n",
        "from keras.models import Model\n",
        "from keras import initializers, regularizers, constraints, optimizers, layers\n",
        "from keras.models import Sequential\n",
        "from keras import layers\n",
        "from keras import models"
      ],
      "execution_count": 57,
      "outputs": []
    },
    {
      "cell_type": "markdown",
      "metadata": {
        "id": "9wseDyP_Q9Ep"
      },
      "source": [
        "**Feature SET**\n",
        "\n"
      ]
    },
    {
      "cell_type": "markdown",
      "metadata": {
        "id": "lZgFBvg1RU5I"
      },
      "source": [
        "Tweets Only Train_X: **train_X_tokenized**\n"
      ]
    },
    {
      "cell_type": "markdown",
      "metadata": {
        "id": "ctJFheu1RXWO"
      },
      "source": [
        "Tweets Only Val_X: **val_X_tokenized**"
      ]
    },
    {
      "cell_type": "markdown",
      "metadata": {
        "id": "uiFWgVYURZwn"
      },
      "source": [
        "Tweets, Image, hasLink Train_X: **X_train_df**"
      ]
    },
    {
      "cell_type": "markdown",
      "metadata": {
        "id": "UD1V1ZlKRqDf"
      },
      "source": [
        "Tweets, Image, hasLink Val_X: **X_val_df**"
      ]
    },
    {
      "cell_type": "markdown",
      "metadata": {
        "id": "k1oOL7_PRxtU"
      },
      "source": [
        "Training Label: **train_Y**"
      ]
    },
    {
      "cell_type": "markdown",
      "metadata": {
        "id": "RbrLHRC7R4-T"
      },
      "source": [
        "Validation Label: **val_Y**"
      ]
    },
    {
      "cell_type": "code",
      "metadata": {
        "id": "VxijooNSCgjU"
      },
      "source": [
        "from keras import backend as K\n",
        "\n",
        "def recall_m(y_true, y_pred):\n",
        "    true_positives = K.sum(K.round(K.clip(y_true * y_pred, 0, 1)))\n",
        "    possible_positives = K.sum(K.round(K.clip(y_true, 0, 1)))\n",
        "    recall = true_positives / (possible_positives + K.epsilon())\n",
        "    return recall\n",
        "\n",
        "def precision_m(y_true, y_pred):\n",
        "    true_positives = K.sum(K.round(K.clip(y_true * y_pred, 0, 1)))\n",
        "    predicted_positives = K.sum(K.round(K.clip(y_pred, 0, 1)))\n",
        "    precision = true_positives / (predicted_positives + K.epsilon())\n",
        "    return precision\n",
        "\n",
        "def f1_m(y_true, y_pred):\n",
        "    precision = precision_m(y_true, y_pred)\n",
        "    recall = recall_m(y_true, y_pred)\n",
        "    return 2*((precision*recall)/(precision+recall+K.epsilon()))"
      ],
      "execution_count": 58,
      "outputs": []
    },
    {
      "cell_type": "markdown",
      "metadata": {
        "id": "sztayrEtGbuA"
      },
      "source": [
        "# 1. Vanilla RNN "
      ]
    },
    {
      "cell_type": "markdown",
      "metadata": {
        "id": "Mi7N7GmtGbuA"
      },
      "source": [
        "# 1.1 Feature:Only Tweet Text"
      ]
    },
    {
      "cell_type": "markdown",
      "metadata": {
        "id": "T80OGtFfGbuA"
      },
      "source": [
        "The feature set only has the tweet"
      ]
    },
    {
      "cell_type": "code",
      "metadata": {
        "colab": {
          "base_uri": "https://localhost:8080/"
        },
        "id": "WPTgw7g0GbuA",
        "outputId": "d0bbc940-e684-4414-9305-1189303ebac6"
      },
      "source": [
        "vanilla_rnn = models.Sequential()\n",
        "vanilla_rnn.add(layers.Embedding(max_features, 8, input_length=max_len))\n",
        "vanilla_rnn.add(layers.SimpleRNN(128))\n",
        "#vanilla_rnn.add(layers.Flatten())\n",
        "vanilla_rnn.add(layers.Dense(3, activation='softmax'))\n",
        "vanilla_rnn.summary()"
      ],
      "execution_count": 59,
      "outputs": [
        {
          "output_type": "stream",
          "text": [
            "Model: \"sequential\"\n",
            "_________________________________________________________________\n",
            "Layer (type)                 Output Shape              Param #   \n",
            "=================================================================\n",
            "embedding (Embedding)        (None, 150, 8)            200000    \n",
            "_________________________________________________________________\n",
            "simple_rnn (SimpleRNN)       (None, 128)               17536     \n",
            "_________________________________________________________________\n",
            "dense (Dense)                (None, 3)                 387       \n",
            "=================================================================\n",
            "Total params: 217,923\n",
            "Trainable params: 217,923\n",
            "Non-trainable params: 0\n",
            "_________________________________________________________________\n"
          ],
          "name": "stdout"
        }
      ]
    },
    {
      "cell_type": "code",
      "metadata": {
        "colab": {
          "base_uri": "https://localhost:8080/"
        },
        "id": "7VCZF-TTGbuA",
        "outputId": "b762bf54-1b88-41ff-bd70-b2102ae8db0a"
      },
      "source": [
        "# vanilla_rnn.compile(loss='categorical_crossentropy', optimizer='adam', metrics=['accuracy'])\n",
        "vanilla_rnn.compile(loss='categorical_crossentropy', optimizer='adam', metrics=['acc',f1_m,precision_m, recall_m])\n",
        "\n",
        "from tensorflow.keras.callbacks import EarlyStopping\n",
        "#callbacks = EarlyStopping(monitor='val_loss', min_delta=0, patience = 2)\n",
        "history = vanilla_rnn.fit(train_X_tokenized,\n",
        "                    train_Y, \n",
        "                    batch_size=100, \n",
        "                    epochs=20, \n",
        "                    validation_data=(val_X_tokenized, val_Y)\n",
        "                    #callbacks=callbacks\n",
        "                    )"
      ],
      "execution_count": 60,
      "outputs": [
        {
          "output_type": "stream",
          "text": [
            "Epoch 1/20\n",
            "354/354 [==============================] - 33s 94ms/step - loss: 1.0738 - acc: 0.4023 - f1_m: 0.1030 - precision_m: 0.2706 - recall_m: 0.0696 - val_loss: 1.0095 - val_acc: 0.4795 - val_f1_m: 0.2985 - val_precision_m: 0.6360 - val_recall_m: 0.1961\n",
            "Epoch 2/20\n",
            "354/354 [==============================] - 33s 94ms/step - loss: 0.9287 - acc: 0.5584 - f1_m: 0.4220 - precision_m: 0.6809 - recall_m: 0.3188 - val_loss: 0.9282 - val_acc: 0.5379 - val_f1_m: 0.4728 - val_precision_m: 0.6152 - val_recall_m: 0.3851\n",
            "Epoch 3/20\n",
            "354/354 [==============================] - 33s 95ms/step - loss: 0.9299 - acc: 0.5480 - f1_m: 0.3805 - precision_m: 0.7120 - recall_m: 0.2984 - val_loss: 1.3545 - val_acc: 0.4415 - val_f1_m: 0.4227 - val_precision_m: 0.4583 - val_recall_m: 0.3926\n",
            "Epoch 4/20\n",
            "354/354 [==============================] - 34s 95ms/step - loss: 0.8166 - acc: 0.6211 - f1_m: 0.5357 - precision_m: 0.7250 - recall_m: 0.4453 - val_loss: 0.8944 - val_acc: 0.5690 - val_f1_m: 0.5215 - val_precision_m: 0.6406 - val_recall_m: 0.4407\n",
            "Epoch 5/20\n",
            "354/354 [==============================] - 33s 94ms/step - loss: 0.6314 - acc: 0.7320 - f1_m: 0.7175 - precision_m: 0.7736 - recall_m: 0.6698 - val_loss: 0.9649 - val_acc: 0.5540 - val_f1_m: 0.5325 - val_precision_m: 0.5871 - val_recall_m: 0.4878\n",
            "Epoch 6/20\n",
            "354/354 [==============================] - 34s 95ms/step - loss: 0.8073 - acc: 0.6275 - f1_m: 0.5204 - precision_m: 0.7586 - recall_m: 0.4428 - val_loss: 0.9554 - val_acc: 0.5554 - val_f1_m: 0.5173 - val_precision_m: 0.6052 - val_recall_m: 0.4524\n",
            "Epoch 7/20\n",
            "354/354 [==============================] - 34s 95ms/step - loss: 0.8815 - acc: 0.5875 - f1_m: 0.4832 - precision_m: 0.7203 - recall_m: 0.3908 - val_loss: 0.9673 - val_acc: 0.5497 - val_f1_m: 0.5199 - val_precision_m: 0.5892 - val_recall_m: 0.4656\n",
            "Epoch 8/20\n",
            "354/354 [==============================] - 34s 95ms/step - loss: 0.6326 - acc: 0.7320 - f1_m: 0.7221 - precision_m: 0.7680 - recall_m: 0.6819 - val_loss: 1.0752 - val_acc: 0.5320 - val_f1_m: 0.5192 - val_precision_m: 0.5528 - val_recall_m: 0.4898\n",
            "Epoch 9/20\n",
            "354/354 [==============================] - 34s 95ms/step - loss: 0.5377 - acc: 0.7835 - f1_m: 0.7781 - precision_m: 0.8091 - recall_m: 0.7496 - val_loss: 1.1210 - val_acc: 0.5305 - val_f1_m: 0.5195 - val_precision_m: 0.5492 - val_recall_m: 0.4931\n",
            "Epoch 10/20\n",
            "354/354 [==============================] - 34s 95ms/step - loss: 0.4740 - acc: 0.8138 - f1_m: 0.8111 - precision_m: 0.8368 - recall_m: 0.7873 - val_loss: 1.1807 - val_acc: 0.5312 - val_f1_m: 0.5214 - val_precision_m: 0.5433 - val_recall_m: 0.5013\n",
            "Epoch 11/20\n",
            "354/354 [==============================] - 33s 93ms/step - loss: 0.4108 - acc: 0.8419 - f1_m: 0.8417 - precision_m: 0.8594 - recall_m: 0.8248 - val_loss: 1.3460 - val_acc: 0.5305 - val_f1_m: 0.5248 - val_precision_m: 0.5388 - val_recall_m: 0.5117\n",
            "Epoch 12/20\n",
            "354/354 [==============================] - 34s 95ms/step - loss: 0.3763 - acc: 0.8600 - f1_m: 0.8590 - precision_m: 0.8749 - recall_m: 0.8437 - val_loss: 1.4384 - val_acc: 0.5324 - val_f1_m: 0.5278 - val_precision_m: 0.5390 - val_recall_m: 0.5171\n",
            "Epoch 13/20\n",
            "354/354 [==============================] - 33s 95ms/step - loss: 0.3745 - acc: 0.8595 - f1_m: 0.8581 - precision_m: 0.8754 - recall_m: 0.8423 - val_loss: 1.4761 - val_acc: 0.5224 - val_f1_m: 0.5184 - val_precision_m: 0.5307 - val_recall_m: 0.5067\n",
            "Epoch 14/20\n",
            "354/354 [==============================] - 33s 95ms/step - loss: 0.5049 - acc: 0.7948 - f1_m: 0.7797 - precision_m: 0.8275 - recall_m: 0.7449 - val_loss: 1.4044 - val_acc: 0.5051 - val_f1_m: 0.4973 - val_precision_m: 0.5113 - val_recall_m: 0.4842\n",
            "Epoch 15/20\n",
            "354/354 [==============================] - 33s 94ms/step - loss: 0.3195 - acc: 0.8837 - f1_m: 0.8829 - precision_m: 0.8943 - recall_m: 0.8718 - val_loss: 1.5918 - val_acc: 0.5154 - val_f1_m: 0.5119 - val_precision_m: 0.5209 - val_recall_m: 0.5033\n",
            "Epoch 16/20\n",
            "354/354 [==============================] - 33s 94ms/step - loss: 0.2628 - acc: 0.9087 - f1_m: 0.9089 - precision_m: 0.9179 - recall_m: 0.9001 - val_loss: 1.8222 - val_acc: 0.5131 - val_f1_m: 0.5105 - val_precision_m: 0.5159 - val_recall_m: 0.5053\n",
            "Epoch 17/20\n",
            "354/354 [==============================] - 33s 94ms/step - loss: 0.3907 - acc: 0.8542 - f1_m: 0.8512 - precision_m: 0.8696 - recall_m: 0.8347 - val_loss: 1.7377 - val_acc: 0.5149 - val_f1_m: 0.5100 - val_precision_m: 0.5171 - val_recall_m: 0.5031\n",
            "Epoch 18/20\n",
            "354/354 [==============================] - 34s 95ms/step - loss: 0.2223 - acc: 0.9232 - f1_m: 0.9231 - precision_m: 0.9294 - recall_m: 0.9170 - val_loss: 1.8993 - val_acc: 0.5135 - val_f1_m: 0.5117 - val_precision_m: 0.5178 - val_recall_m: 0.5058\n",
            "Epoch 19/20\n",
            "354/354 [==============================] - 34s 95ms/step - loss: 0.2935 - acc: 0.8900 - f1_m: 0.8867 - precision_m: 0.8990 - recall_m: 0.8757 - val_loss: 2.7776 - val_acc: 0.3405 - val_f1_m: 0.3388 - val_precision_m: 0.3391 - val_recall_m: 0.3386\n",
            "Epoch 20/20\n",
            "354/354 [==============================] - 33s 94ms/step - loss: 0.5764 - acc: 0.7675 - f1_m: 0.7443 - precision_m: 0.8084 - recall_m: 0.6984 - val_loss: 1.5182 - val_acc: 0.4924 - val_f1_m: 0.4877 - val_precision_m: 0.4986 - val_recall_m: 0.4775\n"
          ],
          "name": "stdout"
        }
      ]
    },
    {
      "cell_type": "code",
      "metadata": {
        "colab": {
          "base_uri": "https://localhost:8080/"
        },
        "id": "GdF1iCVZC61O",
        "outputId": "64624ebb-8bcc-45b9-ba8a-338ff0bbb6c3"
      },
      "source": [
        "loss, accuracy, f1_score, precision, recall = vanilla_rnn.evaluate(val_X_tokenized, val_Y, verbose=0)\n",
        "print(loss, accuracy, f1_score, precision, recall)"
      ],
      "execution_count": 61,
      "outputs": [
        {
          "output_type": "stream",
          "text": [
            "1.5181849002838135 0.49242082238197327 0.4874219000339508 0.49843430519104004 0.4772111773490906\n"
          ],
          "name": "stdout"
        }
      ]
    },
    {
      "cell_type": "code",
      "metadata": {
        "colab": {
          "base_uri": "https://localhost:8080/",
          "height": 573
        },
        "id": "bXTT5uN-ZBPF",
        "outputId": "f7013c7c-fbfd-4817-acef-45bf16082498"
      },
      "source": [
        "# plot history\n",
        "# Plot training & validation accuracy values\n",
        "import matplotlib.pyplot as plt \n",
        "plt.plot(history.history['acc'])\n",
        "plt.plot(history.history['val_acc'])\n",
        "plt.title('Model accuracy')\n",
        "plt.ylabel('Accuracy')\n",
        "plt.xlabel('Epoch')\n",
        "plt.legend(['Train', 'Val'], loc='upper left')\n",
        "plt.show()\n",
        "\n",
        "# Plot training & validation loss values\n",
        "plt.plot(history.history['loss'])\n",
        "plt.plot(history.history['val_loss'])\n",
        "plt.title('Model loss')\n",
        "plt.ylabel('Loss')\n",
        "plt.xlabel('Epoch')\n",
        "plt.legend(['Train', 'Val'], loc='upper left')\n",
        "plt.show()"
      ],
      "execution_count": 62,
      "outputs": [
        {
          "output_type": "display_data",
          "data": {
            "image/png": "[encoded data removed]",
            "text/plain": [
              "<Figure size 432x288 with 1 Axes>"
            ]
          },
          "metadata": {
            "tags": [],
            "needs_background": "light"
          }
        },
        {
          "output_type": "display_data",
          "data": {
            "image/png": "[encoded data removed]",
            "text/plain": [
              "<Figure size 432x288 with 1 Axes>"
            ]
          },
          "metadata": {
            "tags": [],
            "needs_background": "light"
          }
        }
      ]
    },
    {
      "cell_type": "markdown",
      "metadata": {
        "id": "pFNPCyuwGbuB"
      },
      "source": [
        "# 1.2  Feature: Tweets+ links and image column"
      ]
    },
    {
      "cell_type": "code",
      "metadata": {
        "colab": {
          "base_uri": "https://localhost:8080/"
        },
        "id": "lty0V5sRGbuB",
        "outputId": "808e8cd9-be9e-4800-eb6e-5fb166b51a2d"
      },
      "source": [
        "vanilla_rnn2 = models.Sequential()\n",
        "vanilla_rnn2.add(layers.Embedding(max_features, 8, input_length=max_len+2))\n",
        "vanilla_rnn2.add(layers.SimpleRNN(128))\n",
        "#vanilla_rnn.add(layers.Flatten())\n",
        "vanilla_rnn2.add(layers.Dense(3, activation='softmax'))\n",
        "vanilla_rnn2.summary()"
      ],
      "execution_count": 63,
      "outputs": [
        {
          "output_type": "stream",
          "text": [
            "Model: \"sequential_1\"\n",
            "_________________________________________________________________\n",
            "Layer (type)                 Output Shape              Param #   \n",
            "=================================================================\n",
            "embedding_1 (Embedding)      (None, 152, 8)            200000    \n",
            "_________________________________________________________________\n",
            "simple_rnn_1 (SimpleRNN)     (None, 128)               17536     \n",
            "_________________________________________________________________\n",
            "dense_1 (Dense)              (None, 3)                 387       \n",
            "=================================================================\n",
            "Total params: 217,923\n",
            "Trainable params: 217,923\n",
            "Non-trainable params: 0\n",
            "_________________________________________________________________\n"
          ],
          "name": "stdout"
        }
      ]
    },
    {
      "cell_type": "code",
      "metadata": {
        "colab": {
          "base_uri": "https://localhost:8080/"
        },
        "id": "lDYo-UPrGbuB",
        "outputId": "48feeccf-f4e2-4d45-c0c8-04aeffece1b3"
      },
      "source": [
        "vanilla_rnn2.compile(loss='categorical_crossentropy', optimizer='adam', metrics=['accuracy',f1_m,precision_m, recall_m])\n",
        "\n",
        "from tensorflow.keras.callbacks import EarlyStopping\n",
        "#callbacks = EarlyStopping(monitor='val_loss', min_delta=0, patience = 2)\n",
        "history = vanilla_rnn2.fit(X_train_df,\n",
        "                    train_Y, \n",
        "                    batch_size=100, \n",
        "                    epochs=20, \n",
        "                    validation_data=(X_val_df, val_Y)\n",
        "                    #callbacks=callbacks\n",
        "                    )"
      ],
      "execution_count": 64,
      "outputs": [
        {
          "output_type": "stream",
          "text": [
            "Epoch 1/20\n",
            "354/354 [==============================] - 34s 96ms/step - loss: 0.9312 - accuracy: 0.5370 - f1_m: 0.4006 - precision_m: 0.6023 - recall_m: 0.3131 - val_loss: 0.8311 - val_accuracy: 0.6078 - val_f1_m: 0.5272 - val_precision_m: 0.7047 - val_recall_m: 0.4223\n",
            "Epoch 2/20\n",
            "354/354 [==============================] - 34s 96ms/step - loss: 0.7545 - accuracy: 0.6549 - f1_m: 0.6130 - precision_m: 0.7123 - recall_m: 0.5396 - val_loss: 0.8418 - val_accuracy: 0.5905 - val_f1_m: 0.5590 - val_precision_m: 0.6329 - val_recall_m: 0.5011\n",
            "Epoch 3/20\n",
            "354/354 [==============================] - 34s 95ms/step - loss: 0.7022 - accuracy: 0.6957 - f1_m: 0.6712 - precision_m: 0.7330 - recall_m: 0.6274 - val_loss: 1.0617 - val_accuracy: 0.4052 - val_f1_m: 0.0128 - val_precision_m: 0.4438 - val_recall_m: 0.0065\n",
            "Epoch 4/20\n",
            "354/354 [==============================] - 33s 94ms/step - loss: 0.8124 - accuracy: 0.6105 - f1_m: 0.5081 - precision_m: 0.6973 - recall_m: 0.4434 - val_loss: 0.9373 - val_accuracy: 0.5633 - val_f1_m: 0.5436 - val_precision_m: 0.6063 - val_recall_m: 0.4933\n",
            "Epoch 5/20\n",
            "354/354 [==============================] - 34s 96ms/step - loss: 0.6639 - accuracy: 0.7044 - f1_m: 0.6873 - precision_m: 0.7322 - recall_m: 0.6496 - val_loss: 0.9022 - val_accuracy: 0.5969 - val_f1_m: 0.5859 - val_precision_m: 0.6130 - val_recall_m: 0.5613\n",
            "Epoch 6/20\n",
            "354/354 [==============================] - 34s 96ms/step - loss: 0.6056 - accuracy: 0.7419 - f1_m: 0.7302 - precision_m: 0.7586 - recall_m: 0.7053 - val_loss: 0.8866 - val_accuracy: 0.5776 - val_f1_m: 0.5571 - val_precision_m: 0.5997 - val_recall_m: 0.5204\n",
            "Epoch 7/20\n",
            "354/354 [==============================] - 34s 95ms/step - loss: 0.5575 - accuracy: 0.7720 - f1_m: 0.7662 - precision_m: 0.7806 - recall_m: 0.7531 - val_loss: 1.0083 - val_accuracy: 0.5836 - val_f1_m: 0.5791 - val_precision_m: 0.5896 - val_recall_m: 0.5690\n",
            "Epoch 8/20\n",
            "354/354 [==============================] - 34s 96ms/step - loss: 0.5134 - accuracy: 0.7940 - f1_m: 0.7918 - precision_m: 0.7990 - recall_m: 0.7849 - val_loss: 1.1031 - val_accuracy: 0.5693 - val_f1_m: 0.5666 - val_precision_m: 0.5725 - val_recall_m: 0.5608\n",
            "Epoch 9/20\n",
            "354/354 [==============================] - 34s 95ms/step - loss: 0.4668 - accuracy: 0.8166 - f1_m: 0.8157 - precision_m: 0.8205 - recall_m: 0.8110 - val_loss: 1.1537 - val_accuracy: 0.5644 - val_f1_m: 0.5617 - val_precision_m: 0.5658 - val_recall_m: 0.5577\n",
            "Epoch 10/20\n",
            "354/354 [==============================] - 34s 95ms/step - loss: 0.6415 - accuracy: 0.7162 - f1_m: 0.6865 - precision_m: 0.7522 - recall_m: 0.6499 - val_loss: 1.0450 - val_accuracy: 0.5577 - val_f1_m: 0.5517 - val_precision_m: 0.5659 - val_recall_m: 0.5384\n",
            "Epoch 11/20\n",
            "354/354 [==============================] - 33s 95ms/step - loss: 0.4382 - accuracy: 0.8332 - f1_m: 0.8326 - precision_m: 0.8368 - recall_m: 0.8286 - val_loss: 1.3158 - val_accuracy: 0.5593 - val_f1_m: 0.5566 - val_precision_m: 0.5607 - val_recall_m: 0.5526\n",
            "Epoch 12/20\n",
            "354/354 [==============================] - 34s 96ms/step - loss: 0.3886 - accuracy: 0.8554 - f1_m: 0.8548 - precision_m: 0.8574 - recall_m: 0.8522 - val_loss: 1.3335 - val_accuracy: 0.5497 - val_f1_m: 0.5479 - val_precision_m: 0.5496 - val_recall_m: 0.5461\n",
            "Epoch 13/20\n",
            "354/354 [==============================] - 34s 95ms/step - loss: 0.3553 - accuracy: 0.8663 - f1_m: 0.8655 - precision_m: 0.8685 - recall_m: 0.8627 - val_loss: 1.5526 - val_accuracy: 0.5485 - val_f1_m: 0.5474 - val_precision_m: 0.5489 - val_recall_m: 0.5458\n",
            "Epoch 14/20\n",
            "354/354 [==============================] - 34s 95ms/step - loss: 0.3027 - accuracy: 0.8909 - f1_m: 0.8908 - precision_m: 0.8916 - recall_m: 0.8900 - val_loss: 1.4803 - val_accuracy: 0.5415 - val_f1_m: 0.5407 - val_precision_m: 0.5418 - val_recall_m: 0.5396\n",
            "Epoch 15/20\n",
            "354/354 [==============================] - 34s 96ms/step - loss: 0.2650 - accuracy: 0.9069 - f1_m: 0.9068 - precision_m: 0.9075 - recall_m: 0.9060 - val_loss: 1.8225 - val_accuracy: 0.5393 - val_f1_m: 0.5387 - val_precision_m: 0.5397 - val_recall_m: 0.5377\n",
            "Epoch 16/20\n",
            "354/354 [==============================] - 34s 96ms/step - loss: 0.3867 - accuracy: 0.8408 - f1_m: 0.8353 - precision_m: 0.8518 - recall_m: 0.8232 - val_loss: 1.4549 - val_accuracy: 0.5484 - val_f1_m: 0.5468 - val_precision_m: 0.5491 - val_recall_m: 0.5444\n",
            "Epoch 17/20\n",
            "354/354 [==============================] - 34s 97ms/step - loss: 0.2587 - accuracy: 0.9101 - f1_m: 0.9101 - precision_m: 0.9108 - recall_m: 0.9094 - val_loss: 1.7575 - val_accuracy: 0.5432 - val_f1_m: 0.5426 - val_precision_m: 0.5435 - val_recall_m: 0.5418\n",
            "Epoch 18/20\n",
            "354/354 [==============================] - 34s 96ms/step - loss: 0.2016 - accuracy: 0.9326 - f1_m: 0.9324 - precision_m: 0.9327 - recall_m: 0.9321 - val_loss: 2.0959 - val_accuracy: 0.5301 - val_f1_m: 0.5298 - val_precision_m: 0.5300 - val_recall_m: 0.5296\n",
            "Epoch 19/20\n",
            "354/354 [==============================] - 34s 96ms/step - loss: 0.5401 - accuracy: 0.7533 - f1_m: 0.7119 - precision_m: 0.7861 - recall_m: 0.6918 - val_loss: 1.1156 - val_accuracy: 0.4084 - val_f1_m: 0.0000e+00 - val_precision_m: 0.0000e+00 - val_recall_m: 0.0000e+00\n",
            "Epoch 20/20\n",
            "354/354 [==============================] - 33s 94ms/step - loss: 0.8552 - accuracy: 0.5847 - f1_m: 0.4747 - precision_m: 0.6509 - recall_m: 0.4006 - val_loss: 1.0573 - val_accuracy: 0.5590 - val_f1_m: 0.5522 - val_precision_m: 0.5653 - val_recall_m: 0.5399\n"
          ],
          "name": "stdout"
        }
      ]
    },
    {
      "cell_type": "code",
      "metadata": {
        "colab": {
          "base_uri": "https://localhost:8080/"
        },
        "id": "C4NdlgFQE9Ru",
        "outputId": "93799590-1cb1-4523-a181-d34c74abe6da"
      },
      "source": [
        "loss, accuracy, f1_score, precision, recall = vanilla_rnn2.evaluate(X_val_df, val_Y, verbose=0)\n",
        "print(loss, accuracy, f1_score, precision, recall)"
      ],
      "execution_count": 65,
      "outputs": [
        {
          "output_type": "stream",
          "text": [
            "1.0572623014450073 0.5590497851371765 0.5528001189231873 0.5660378336906433 0.5406137108802795\n"
          ],
          "name": "stdout"
        }
      ]
    },
    {
      "cell_type": "code",
      "metadata": {
        "colab": {
          "base_uri": "https://localhost:8080/",
          "height": 573
        },
        "id": "KK3jc4unGbuB",
        "outputId": "841c724a-1012-413d-ea0a-4c5edb62576c"
      },
      "source": [
        "# plot history\n",
        "# Plot training & validation accuracy values\n",
        "import matplotlib.pyplot as plt \n",
        "plt.plot(history.history['accuracy'])\n",
        "plt.plot(history.history['val_accuracy'])\n",
        "plt.title('Vanilla RNN accuracy')\n",
        "plt.ylabel('Accuracy')\n",
        "plt.xlabel('Epoch')\n",
        "plt.legend(['Train', 'Val'], loc='upper left')\n",
        "plt.show()\n",
        "\n",
        "# Plot training & validation loss values\n",
        "plt.plot(history.history['loss'])\n",
        "plt.plot(history.history['val_loss'])\n",
        "plt.title('Vanilla RNN loss')\n",
        "plt.ylabel('Loss')\n",
        "plt.xlabel('Epoch')\n",
        "plt.legend(['Train', 'Val'], loc='upper left')\n",
        "plt.show()"
      ],
      "execution_count": 66,
      "outputs": [
        {
          "output_type": "display_data",
          "data": {
            "image/png": "[encoded data removed]",
            "text/plain": [
              "<Figure size 432x288 with 1 Axes>"
            ]
          },
          "metadata": {
            "tags": [],
            "needs_background": "light"
          }
        },
        {
          "output_type": "display_data",
          "data": {
            "image/png": "[encoded data removed]",
            "text/plain": [
              "<Figure size 432x288 with 1 Axes>"
            ]
          },
          "metadata": {
            "tags": [],
            "needs_background": "light"
          }
        }
      ]
    },
    {
      "cell_type": "code",
      "metadata": {
        "id": "_nuvN9XfH1Ka"
      },
      "source": [
        ""
      ],
      "execution_count": 66,
      "outputs": []
    },
    {
      "cell_type": "markdown",
      "metadata": {
        "id": "4m5LemBCH2XB"
      },
      "source": [
        "# 2. LSTM"
      ]
    },
    {
      "cell_type": "markdown",
      "metadata": {
        "id": "eQV9vDoLH5vj"
      },
      "source": [
        "2.1 Feature: Only Tweet Text"
      ]
    },
    {
      "cell_type": "markdown",
      "metadata": {
        "id": "shCAdZulIOty"
      },
      "source": [
        "2.2 Feature: Tweet Text+ Image and hasLink cols"
      ]
    },
    {
      "cell_type": "code",
      "metadata": {
        "colab": {
          "base_uri": "https://localhost:8080/"
        },
        "id": "LRtZpkxFILuG",
        "outputId": "5512f258-267f-4e09-9432-0eecc575620a"
      },
      "source": [
        "model = Sequential()\n",
        "\n",
        "# Input / Embdedding\n",
        "model.add(Embedding(max_features,100,mask_zero=True))\n",
        "model.add(LSTM(64,return_sequences=True))\n",
        "model.add(LSTM(32,return_sequences=False))\n",
        "\n",
        "# Output layer\n",
        "model.add(Dense(3, activation='softmax'))\n",
        "\n",
        "model.summary()"
      ],
      "execution_count": 67,
      "outputs": [
        {
          "output_type": "stream",
          "text": [
            "Model: \"sequential_2\"\n",
            "_________________________________________________________________\n",
            "Layer (type)                 Output Shape              Param #   \n",
            "=================================================================\n",
            "embedding_2 (Embedding)      (None, None, 100)         2500000   \n",
            "_________________________________________________________________\n",
            "lstm (LSTM)                  (None, None, 64)          42240     \n",
            "_________________________________________________________________\n",
            "lstm_1 (LSTM)                (None, 32)                12416     \n",
            "_________________________________________________________________\n",
            "dense_2 (Dense)              (None, 3)                 99        \n",
            "=================================================================\n",
            "Total params: 2,554,755\n",
            "Trainable params: 2,554,755\n",
            "Non-trainable params: 0\n",
            "_________________________________________________________________\n"
          ],
          "name": "stdout"
        }
      ]
    },
    {
      "cell_type": "code",
      "metadata": {
        "colab": {
          "base_uri": "https://localhost:8080/",
          "height": 508
        },
        "id": "97KYFHBGIo6o",
        "outputId": "681600d0-7b01-4438-bdd5-13c3647e4b1f"
      },
      "source": [
        "model.compile(loss='categorical_crossentropy', optimizer='adam', metrics=['accuracy',f1_m,precision_m, recall_m])\n",
        "\n",
        "from tensorflow.keras.callbacks import EarlyStopping\n",
        "callbacks = EarlyStopping(monitor='loss', min_delta=0, patience = 4)\n",
        "history = model.fit(X_train_df, \n",
        "                    train_Y, \n",
        "                    batch_size=100, \n",
        "                    epochs=10, \n",
        "                    validation_data=(X_val_df, val_Y),\n",
        "                    callbacks=callbacks\n",
        "                    )"
      ],
      "execution_count": 68,
      "outputs": [
        {
          "output_type": "stream",
          "text": [
            "Epoch 1/10\n",
            "354/354 [==============================] - 222s 628ms/step - loss: 0.8916 - accuracy: 0.5631 - f1_m: 0.4403 - precision_m: 0.6397 - recall_m: 0.3451 - val_loss: 0.8232 - val_accuracy: 0.6048 - val_f1_m: 0.5498 - val_precision_m: 0.6843 - val_recall_m: 0.4604\n",
            "Epoch 2/10\n",
            "354/354 [==============================] - 220s 622ms/step - loss: 0.6844 - accuracy: 0.6973 - f1_m: 0.6775 - precision_m: 0.7369 - recall_m: 0.6277 - val_loss: 0.8688 - val_accuracy: 0.5917 - val_f1_m: 0.5712 - val_precision_m: 0.6306 - val_recall_m: 0.5227\n",
            "Epoch 3/10\n",
            "354/354 [==============================] - 221s 624ms/step - loss: 0.5248 - accuracy: 0.7821 - f1_m: 0.7776 - precision_m: 0.8046 - recall_m: 0.7527 - val_loss: 0.9695 - val_accuracy: 0.5813 - val_f1_m: 0.5680 - val_precision_m: 0.5999 - val_recall_m: 0.5397\n",
            "Epoch 4/10\n",
            "288/354 [=======================>......] - ETA: 40s - loss: 0.3830 - accuracy: 0.8507 - f1_m: 0.8493 - precision_m: 0.8656 - recall_m: 0.8338"
          ],
          "name": "stdout"
        },
        {
          "output_type": "error",
          "ename": "KeyboardInterrupt",
          "evalue": "ignored",
          "traceback": [
            "\u001b[0;31m---------------------------------------------------------------------------\u001b[0m",
            "\u001b[0;31mKeyboardInterrupt\u001b[0m                         Traceback (most recent call last)",
            "\u001b[0;32m<ipython-input-68-6e22cce89135>\u001b[0m in \u001b[0;36m<module>\u001b[0;34m()\u001b[0m\n\u001b[1;32m      8\u001b[0m                     \u001b[0mepochs\u001b[0m\u001b[0;34m=\u001b[0m\u001b[0;36m10\u001b[0m\u001b[0;34m,\u001b[0m\u001b[0;34m\u001b[0m\u001b[0;34m\u001b[0m\u001b[0m\n\u001b[1;32m      9\u001b[0m                     \u001b[0mvalidation_data\u001b[0m\u001b[0;34m=\u001b[0m\u001b[0;34m(\u001b[0m\u001b[0mX_val_df\u001b[0m\u001b[0;34m,\u001b[0m \u001b[0mval_Y\u001b[0m\u001b[0;34m)\u001b[0m\u001b[0;34m,\u001b[0m\u001b[0;34m\u001b[0m\u001b[0;34m\u001b[0m\u001b[0m\n\u001b[0;32m---> 10\u001b[0;31m                     \u001b[0mcallbacks\u001b[0m\u001b[0;34m=\u001b[0m\u001b[0mcallbacks\u001b[0m\u001b[0;34m\u001b[0m\u001b[0;34m\u001b[0m\u001b[0m\n\u001b[0m\u001b[1;32m     11\u001b[0m                     )\n",
            "\u001b[0;32m/usr/local/lib/python3.6/dist-packages/tensorflow/python/keras/engine/training.py\u001b[0m in \u001b[0;36m_method_wrapper\u001b[0;34m(self, *args, **kwargs)\u001b[0m\n\u001b[1;32m    106\u001b[0m   \u001b[0;32mdef\u001b[0m \u001b[0m_method_wrapper\u001b[0m\u001b[0;34m(\u001b[0m\u001b[0mself\u001b[0m\u001b[0;34m,\u001b[0m \u001b[0;34m*\u001b[0m\u001b[0margs\u001b[0m\u001b[0;34m,\u001b[0m \u001b[0;34m**\u001b[0m\u001b[0mkwargs\u001b[0m\u001b[0;34m)\u001b[0m\u001b[0;34m:\u001b[0m\u001b[0;34m\u001b[0m\u001b[0;34m\u001b[0m\u001b[0m\n\u001b[1;32m    107\u001b[0m     \u001b[0;32mif\u001b[0m \u001b[0;32mnot\u001b[0m \u001b[0mself\u001b[0m\u001b[0;34m.\u001b[0m\u001b[0m_in_multi_worker_mode\u001b[0m\u001b[0;34m(\u001b[0m\u001b[0;34m)\u001b[0m\u001b[0;34m:\u001b[0m  \u001b[0;31m# pylint: disable=protected-access\u001b[0m\u001b[0;34m\u001b[0m\u001b[0;34m\u001b[0m\u001b[0m\n\u001b[0;32m--> 108\u001b[0;31m       \u001b[0;32mreturn\u001b[0m \u001b[0mmethod\u001b[0m\u001b[0;34m(\u001b[0m\u001b[0mself\u001b[0m\u001b[0;34m,\u001b[0m \u001b[0;34m*\u001b[0m\u001b[0margs\u001b[0m\u001b[0;34m,\u001b[0m \u001b[0;34m**\u001b[0m\u001b[0mkwargs\u001b[0m\u001b[0;34m)\u001b[0m\u001b[0;34m\u001b[0m\u001b[0;34m\u001b[0m\u001b[0m\n\u001b[0m\u001b[1;32m    109\u001b[0m \u001b[0;34m\u001b[0m\u001b[0m\n\u001b[1;32m    110\u001b[0m     \u001b[0;31m# Running inside `run_distribute_coordinator` already.\u001b[0m\u001b[0;34m\u001b[0m\u001b[0;34m\u001b[0m\u001b[0;34m\u001b[0m\u001b[0m\n",
            "\u001b[0;32m/usr/local/lib/python3.6/dist-packages/tensorflow/python/keras/engine/training.py\u001b[0m in \u001b[0;36mfit\u001b[0;34m(self, x, y, batch_size, epochs, verbose, callbacks, validation_split, validation_data, shuffle, class_weight, sample_weight, initial_epoch, steps_per_epoch, validation_steps, validation_batch_size, validation_freq, max_queue_size, workers, use_multiprocessing)\u001b[0m\n\u001b[1;32m   1096\u001b[0m                 batch_size=batch_size):\n\u001b[1;32m   1097\u001b[0m               \u001b[0mcallbacks\u001b[0m\u001b[0;34m.\u001b[0m\u001b[0mon_train_batch_begin\u001b[0m\u001b[0;34m(\u001b[0m\u001b[0mstep\u001b[0m\u001b[0;34m)\u001b[0m\u001b[0;34m\u001b[0m\u001b[0;34m\u001b[0m\u001b[0m\n\u001b[0;32m-> 1098\u001b[0;31m               \u001b[0mtmp_logs\u001b[0m \u001b[0;34m=\u001b[0m \u001b[0mtrain_function\u001b[0m\u001b[0;34m(\u001b[0m\u001b[0miterator\u001b[0m\u001b[0;34m)\u001b[0m\u001b[0;34m\u001b[0m\u001b[0;34m\u001b[0m\u001b[0m\n\u001b[0m\u001b[1;32m   1099\u001b[0m               \u001b[0;32mif\u001b[0m \u001b[0mdata_handler\u001b[0m\u001b[0;34m.\u001b[0m\u001b[0mshould_sync\u001b[0m\u001b[0;34m:\u001b[0m\u001b[0;34m\u001b[0m\u001b[0;34m\u001b[0m\u001b[0m\n\u001b[1;32m   1100\u001b[0m                 \u001b[0mcontext\u001b[0m\u001b[0;34m.\u001b[0m\u001b[0masync_wait\u001b[0m\u001b[0;34m(\u001b[0m\u001b[0;34m)\u001b[0m\u001b[0;34m\u001b[0m\u001b[0;34m\u001b[0m\u001b[0m\n",
            "\u001b[0;32m/usr/local/lib/python3.6/dist-packages/tensorflow/python/eager/def_function.py\u001b[0m in \u001b[0;36m__call__\u001b[0;34m(self, *args, **kwds)\u001b[0m\n\u001b[1;32m    778\u001b[0m       \u001b[0;32melse\u001b[0m\u001b[0;34m:\u001b[0m\u001b[0;34m\u001b[0m\u001b[0;34m\u001b[0m\u001b[0m\n\u001b[1;32m    779\u001b[0m         \u001b[0mcompiler\u001b[0m \u001b[0;34m=\u001b[0m \u001b[0;34m\"nonXla\"\u001b[0m\u001b[0;34m\u001b[0m\u001b[0;34m\u001b[0m\u001b[0m\n\u001b[0;32m--> 780\u001b[0;31m         \u001b[0mresult\u001b[0m \u001b[0;34m=\u001b[0m \u001b[0mself\u001b[0m\u001b[0;34m.\u001b[0m\u001b[0m_call\u001b[0m\u001b[0;34m(\u001b[0m\u001b[0;34m*\u001b[0m\u001b[0margs\u001b[0m\u001b[0;34m,\u001b[0m \u001b[0;34m**\u001b[0m\u001b[0mkwds\u001b[0m\u001b[0;34m)\u001b[0m\u001b[0;34m\u001b[0m\u001b[0;34m\u001b[0m\u001b[0m\n\u001b[0m\u001b[1;32m    781\u001b[0m \u001b[0;34m\u001b[0m\u001b[0m\n\u001b[1;32m    782\u001b[0m       \u001b[0mnew_tracing_count\u001b[0m \u001b[0;34m=\u001b[0m \u001b[0mself\u001b[0m\u001b[0;34m.\u001b[0m\u001b[0m_get_tracing_count\u001b[0m\u001b[0;34m(\u001b[0m\u001b[0;34m)\u001b[0m\u001b[0;34m\u001b[0m\u001b[0;34m\u001b[0m\u001b[0m\n",
            "\u001b[0;32m/usr/local/lib/python3.6/dist-packages/tensorflow/python/eager/def_function.py\u001b[0m in \u001b[0;36m_call\u001b[0;34m(self, *args, **kwds)\u001b[0m\n\u001b[1;32m    805\u001b[0m       \u001b[0;31m# In this case we have created variables on the first call, so we run the\u001b[0m\u001b[0;34m\u001b[0m\u001b[0;34m\u001b[0m\u001b[0;34m\u001b[0m\u001b[0m\n\u001b[1;32m    806\u001b[0m       \u001b[0;31m# defunned version which is guaranteed to never create variables.\u001b[0m\u001b[0;34m\u001b[0m\u001b[0;34m\u001b[0m\u001b[0;34m\u001b[0m\u001b[0m\n\u001b[0;32m--> 807\u001b[0;31m       \u001b[0;32mreturn\u001b[0m \u001b[0mself\u001b[0m\u001b[0;34m.\u001b[0m\u001b[0m_stateless_fn\u001b[0m\u001b[0;34m(\u001b[0m\u001b[0;34m*\u001b[0m\u001b[0margs\u001b[0m\u001b[0;34m,\u001b[0m \u001b[0;34m**\u001b[0m\u001b[0mkwds\u001b[0m\u001b[0;34m)\u001b[0m  \u001b[0;31m# pylint: disable=not-callable\u001b[0m\u001b[0;34m\u001b[0m\u001b[0;34m\u001b[0m\u001b[0m\n\u001b[0m\u001b[1;32m    808\u001b[0m     \u001b[0;32melif\u001b[0m \u001b[0mself\u001b[0m\u001b[0;34m.\u001b[0m\u001b[0m_stateful_fn\u001b[0m \u001b[0;32mis\u001b[0m \u001b[0;32mnot\u001b[0m \u001b[0;32mNone\u001b[0m\u001b[0;34m:\u001b[0m\u001b[0;34m\u001b[0m\u001b[0;34m\u001b[0m\u001b[0m\n\u001b[1;32m    809\u001b[0m       \u001b[0;31m# Release the lock early so that multiple threads can perform the call\u001b[0m\u001b[0;34m\u001b[0m\u001b[0;34m\u001b[0m\u001b[0;34m\u001b[0m\u001b[0m\n",
            "\u001b[0;32m/usr/local/lib/python3.6/dist-packages/tensorflow/python/eager/function.py\u001b[0m in \u001b[0;36m__call__\u001b[0;34m(self, *args, **kwargs)\u001b[0m\n\u001b[1;32m   2827\u001b[0m     \u001b[0;32mwith\u001b[0m \u001b[0mself\u001b[0m\u001b[0;34m.\u001b[0m\u001b[0m_lock\u001b[0m\u001b[0;34m:\u001b[0m\u001b[0;34m\u001b[0m\u001b[0;34m\u001b[0m\u001b[0m\n\u001b[1;32m   2828\u001b[0m       \u001b[0mgraph_function\u001b[0m\u001b[0;34m,\u001b[0m \u001b[0margs\u001b[0m\u001b[0;34m,\u001b[0m \u001b[0mkwargs\u001b[0m \u001b[0;34m=\u001b[0m \u001b[0mself\u001b[0m\u001b[0;34m.\u001b[0m\u001b[0m_maybe_define_function\u001b[0m\u001b[0;34m(\u001b[0m\u001b[0margs\u001b[0m\u001b[0;34m,\u001b[0m \u001b[0mkwargs\u001b[0m\u001b[0;34m)\u001b[0m\u001b[0;34m\u001b[0m\u001b[0;34m\u001b[0m\u001b[0m\n\u001b[0;32m-> 2829\u001b[0;31m     \u001b[0;32mreturn\u001b[0m \u001b[0mgraph_function\u001b[0m\u001b[0;34m.\u001b[0m\u001b[0m_filtered_call\u001b[0m\u001b[0;34m(\u001b[0m\u001b[0margs\u001b[0m\u001b[0;34m,\u001b[0m \u001b[0mkwargs\u001b[0m\u001b[0;34m)\u001b[0m  \u001b[0;31m# pylint: disable=protected-access\u001b[0m\u001b[0;34m\u001b[0m\u001b[0;34m\u001b[0m\u001b[0m\n\u001b[0m\u001b[1;32m   2830\u001b[0m \u001b[0;34m\u001b[0m\u001b[0m\n\u001b[1;32m   2831\u001b[0m   \u001b[0;34m@\u001b[0m\u001b[0mproperty\u001b[0m\u001b[0;34m\u001b[0m\u001b[0;34m\u001b[0m\u001b[0m\n",
            "\u001b[0;32m/usr/local/lib/python3.6/dist-packages/tensorflow/python/eager/function.py\u001b[0m in \u001b[0;36m_filtered_call\u001b[0;34m(self, args, kwargs, cancellation_manager)\u001b[0m\n\u001b[1;32m   1846\u001b[0m                            resource_variable_ops.BaseResourceVariable))],\n\u001b[1;32m   1847\u001b[0m         \u001b[0mcaptured_inputs\u001b[0m\u001b[0;34m=\u001b[0m\u001b[0mself\u001b[0m\u001b[0;34m.\u001b[0m\u001b[0mcaptured_inputs\u001b[0m\u001b[0;34m,\u001b[0m\u001b[0;34m\u001b[0m\u001b[0;34m\u001b[0m\u001b[0m\n\u001b[0;32m-> 1848\u001b[0;31m         cancellation_manager=cancellation_manager)\n\u001b[0m\u001b[1;32m   1849\u001b[0m \u001b[0;34m\u001b[0m\u001b[0m\n\u001b[1;32m   1850\u001b[0m   \u001b[0;32mdef\u001b[0m \u001b[0m_call_flat\u001b[0m\u001b[0;34m(\u001b[0m\u001b[0mself\u001b[0m\u001b[0;34m,\u001b[0m \u001b[0margs\u001b[0m\u001b[0;34m,\u001b[0m \u001b[0mcaptured_inputs\u001b[0m\u001b[0;34m,\u001b[0m \u001b[0mcancellation_manager\u001b[0m\u001b[0;34m=\u001b[0m\u001b[0;32mNone\u001b[0m\u001b[0;34m)\u001b[0m\u001b[0;34m:\u001b[0m\u001b[0;34m\u001b[0m\u001b[0;34m\u001b[0m\u001b[0m\n",
            "\u001b[0;32m/usr/local/lib/python3.6/dist-packages/tensorflow/python/eager/function.py\u001b[0m in \u001b[0;36m_call_flat\u001b[0;34m(self, args, captured_inputs, cancellation_manager)\u001b[0m\n\u001b[1;32m   1922\u001b[0m       \u001b[0;31m# No tape is watching; skip to running the function.\u001b[0m\u001b[0;34m\u001b[0m\u001b[0;34m\u001b[0m\u001b[0;34m\u001b[0m\u001b[0m\n\u001b[1;32m   1923\u001b[0m       return self._build_call_outputs(self._inference_function.call(\n\u001b[0;32m-> 1924\u001b[0;31m           ctx, args, cancellation_manager=cancellation_manager))\n\u001b[0m\u001b[1;32m   1925\u001b[0m     forward_backward = self._select_forward_and_backward_functions(\n\u001b[1;32m   1926\u001b[0m         \u001b[0margs\u001b[0m\u001b[0;34m,\u001b[0m\u001b[0;34m\u001b[0m\u001b[0;34m\u001b[0m\u001b[0m\n",
            "\u001b[0;32m/usr/local/lib/python3.6/dist-packages/tensorflow/python/eager/function.py\u001b[0m in \u001b[0;36mcall\u001b[0;34m(self, ctx, args, cancellation_manager)\u001b[0m\n\u001b[1;32m    548\u001b[0m               \u001b[0minputs\u001b[0m\u001b[0;34m=\u001b[0m\u001b[0margs\u001b[0m\u001b[0;34m,\u001b[0m\u001b[0;34m\u001b[0m\u001b[0;34m\u001b[0m\u001b[0m\n\u001b[1;32m    549\u001b[0m               \u001b[0mattrs\u001b[0m\u001b[0;34m=\u001b[0m\u001b[0mattrs\u001b[0m\u001b[0;34m,\u001b[0m\u001b[0;34m\u001b[0m\u001b[0;34m\u001b[0m\u001b[0m\n\u001b[0;32m--> 550\u001b[0;31m               ctx=ctx)\n\u001b[0m\u001b[1;32m    551\u001b[0m         \u001b[0;32melse\u001b[0m\u001b[0;34m:\u001b[0m\u001b[0;34m\u001b[0m\u001b[0;34m\u001b[0m\u001b[0m\n\u001b[1;32m    552\u001b[0m           outputs = execute.execute_with_cancellation(\n",
            "\u001b[0;32m/usr/local/lib/python3.6/dist-packages/tensorflow/python/eager/execute.py\u001b[0m in \u001b[0;36mquick_execute\u001b[0;34m(op_name, num_outputs, inputs, attrs, ctx, name)\u001b[0m\n\u001b[1;32m     58\u001b[0m     \u001b[0mctx\u001b[0m\u001b[0;34m.\u001b[0m\u001b[0mensure_initialized\u001b[0m\u001b[0;34m(\u001b[0m\u001b[0;34m)\u001b[0m\u001b[0;34m\u001b[0m\u001b[0;34m\u001b[0m\u001b[0m\n\u001b[1;32m     59\u001b[0m     tensors = pywrap_tfe.TFE_Py_Execute(ctx._handle, device_name, op_name,\n\u001b[0;32m---> 60\u001b[0;31m                                         inputs, attrs, num_outputs)\n\u001b[0m\u001b[1;32m     61\u001b[0m   \u001b[0;32mexcept\u001b[0m \u001b[0mcore\u001b[0m\u001b[0;34m.\u001b[0m\u001b[0m_NotOkStatusException\u001b[0m \u001b[0;32mas\u001b[0m \u001b[0me\u001b[0m\u001b[0;34m:\u001b[0m\u001b[0;34m\u001b[0m\u001b[0;34m\u001b[0m\u001b[0m\n\u001b[1;32m     62\u001b[0m     \u001b[0;32mif\u001b[0m \u001b[0mname\u001b[0m \u001b[0;32mis\u001b[0m \u001b[0;32mnot\u001b[0m \u001b[0;32mNone\u001b[0m\u001b[0;34m:\u001b[0m\u001b[0;34m\u001b[0m\u001b[0;34m\u001b[0m\u001b[0m\n",
            "\u001b[0;31mKeyboardInterrupt\u001b[0m: "
          ]
        }
      ]
    },
    {
      "cell_type": "code",
      "metadata": {
        "id": "6E8WqXguFkjq"
      },
      "source": [
        "loss, accuracy, f1_score, precision, recall = model.evaluate(val_X_tokenized, val_Y, verbose=0)\n",
        "print(loss, accuracy, f1_score, precision, recall)"
      ],
      "execution_count": null,
      "outputs": []
    },
    {
      "cell_type": "code",
      "metadata": {
        "id": "hQKY40boL7X7"
      },
      "source": [
        "# plot history\n",
        "# Plot training & validation accuracy values\n",
        "import matplotlib.pyplot as plt \n",
        "plt.plot(history.history['accuracy'])\n",
        "plt.plot(history.history['val_accuracy'])\n",
        "plt.title('LSTM accuracy')\n",
        "plt.ylabel('Accuracy')\n",
        "plt.xlabel('Epoch')\n",
        "plt.legend(['Train', 'Val'], loc='upper left')\n",
        "plt.show()\n",
        "\n",
        "# Plot training & validation loss values\n",
        "plt.plot(history.history['loss'])\n",
        "plt.plot(history.history['val_loss'])\n",
        "plt.title('LSTM loss')\n",
        "plt.ylabel('Loss')\n",
        "plt.xlabel('Epoch')\n",
        "plt.legend(['Train', 'Val'], loc='upper left')\n",
        "plt.show()"
      ],
      "execution_count": null,
      "outputs": []
    },
    {
      "cell_type": "markdown",
      "metadata": {
        "id": "RcPOBMGGMJXs"
      },
      "source": [
        "# 3. LSTM+ GloVe Embeddings"
      ]
    },
    {
      "cell_type": "code",
      "metadata": {
        "id": "-6m6rpzhMceb"
      },
      "source": [
        "vocab_size = len(tokenizer.word_index) + 1"
      ],
      "execution_count": 69,
      "outputs": []
    },
    {
      "cell_type": "code",
      "metadata": {
        "colab": {
          "base_uri": "https://localhost:8080/",
          "height": 35
        },
        "id": "8LYAwiQMg2Zt",
        "outputId": "d61e1c8f-7c1b-49b2-c97a-8306c303e482"
      },
      "source": [
        "pwd"
      ],
      "execution_count": 70,
      "outputs": [
        {
          "output_type": "execute_result",
          "data": {
            "application/vnd.google.colaboratory.intrinsic+json": {
              "type": "string"
            },
            "text/plain": [
              "'/content'"
            ]
          },
          "metadata": {
            "tags": []
          },
          "execution_count": 70
        }
      ]
    },
    {
      "cell_type": "code",
      "metadata": {
        "id": "NdoSvJIGMciE"
      },
      "source": [
        "from numpy import array\n",
        "from numpy import asarray\n",
        "from numpy import zeros\n",
        "\n",
        "embeddings_dictionary = dict()\n",
        "#glove_file = open('gdrive/My Drive/HW3_CSE243/sentiment analysis assignment/glove.6B.100d.txt', encoding=\"utf8\")\n",
        "# glove_file = open('gdrive/My Drive/CSE_243/glove.twitter.27B.100d.txt', encoding=\"utf8\")\n",
        "\n",
        "# glove_file = open('Twitter_GLoVe_Embeddings/glove.twitter.27B.100d.txt', encoding=\"utf8\")\n",
        "# glove_file = open('Twitter_GLoVe_Embeddings/glove.twitter.27B.50d.txt', encoding=\"utf8\")\n",
        "glove_file = open('/content/drive/My Drive/CSE243/glove.twitter.27B.100d.txt', encoding=\"utf8\")\n",
        "\n",
        "for line in glove_file:\n",
        "    records = line.split()\n",
        "    word = records[0]\n",
        "    vector_dimensions = asarray(records[1:], dtype='float32')\n",
        "    embeddings_dictionary [word] = vector_dimensions\n",
        "glove_file.close()\n"
      ],
      "execution_count": 75,
      "outputs": []
    },
    {
      "cell_type": "code",
      "metadata": {
        "id": "pQwoOexPxv1m",
        "colab": {
          "base_uri": "https://localhost:8080/"
        },
        "outputId": "06599afb-646f-416b-c91b-8ec6bc4a8e47"
      },
      "source": [
        "glove_dim = 100"
      ],
      "execution_count": 88,
      "outputs": [
        {
          "output_type": "execute_result",
          "data": {
            "text/plain": [
              "100"
            ]
          },
          "metadata": {
            "tags": []
          },
          "execution_count": 88
        }
      ]
    },
    {
      "cell_type": "code",
      "metadata": {
        "colab": {
          "base_uri": "https://localhost:8080/"
        },
        "id": "bjAWiZoJ2JK-",
        "outputId": "1381165d-b7a7-4657-9277-872136eace74"
      },
      "source": [
        "glove_dim"
      ],
      "execution_count": 80,
      "outputs": [
        {
          "output_type": "execute_result",
          "data": {
            "text/plain": [
              "100"
            ]
          },
          "metadata": {
            "tags": []
          },
          "execution_count": 80
        }
      ]
    },
    {
      "cell_type": "code",
      "metadata": {
        "id": "B9m-bQEeMq8p"
      },
      "source": [
        "embedding_matrix = zeros((vocab_size, glove_dim))\n",
        "for word, index in tokenizer.word_index.items():\n",
        "    embedding_vector = embeddings_dictionary.get(word)\n",
        "    if embedding_vector is not None:\n",
        "        embedding_matrix[index] = embedding_vector"
      ],
      "execution_count": 81,
      "outputs": []
    },
    {
      "cell_type": "markdown",
      "metadata": {
        "id": "o_DOMH1sMQ-q"
      },
      "source": [
        "3.1 Architecture 1: Feature: Only "
      ]
    },
    {
      "cell_type": "code",
      "metadata": {
        "colab": {
          "base_uri": "https://localhost:8080/"
        },
        "id": "e-zcKGCxM39Y",
        "outputId": "86a33729-b643-4e9a-b033-a7dafea451fa"
      },
      "source": [
        "glove_model = models.Sequential()\n",
        "glove_model.add(layers.Embedding(vocab_size,\n",
        "                            glove_dim,\n",
        "                            weights=[embedding_matrix],\n",
        "                            input_length=max_len,\n",
        "                            trainable=False))\n",
        "glove_model.add(layers.Dropout(0.4))\n",
        "#glove_model.add(layers.LSTM(64))\n",
        "glove_model.add(LSTM(64,return_sequences=True))\n",
        "glove_model.add(layers.Dropout(0.3))\n",
        "glove_model.add(LSTM(32,return_sequences=False))\n",
        "#glove_model.add(layers.Dense(10,activation=\"relu\"))\n",
        "glove_model.add(layers.Dropout(0.2))\n",
        "glove_model.add(Dense(3, activation='softmax'))\n",
        "glove_model.summary()"
      ],
      "execution_count": 89,
      "outputs": [
        {
          "output_type": "stream",
          "text": [
            "Model: \"sequential_4\"\n",
            "_________________________________________________________________\n",
            "Layer (type)                 Output Shape              Param #   \n",
            "=================================================================\n",
            "embedding_4 (Embedding)      (None, 150, 100)          2901100   \n",
            "_________________________________________________________________\n",
            "dropout_3 (Dropout)          (None, 150, 100)          0         \n",
            "_________________________________________________________________\n",
            "lstm_4 (LSTM)                (None, 150, 64)           42240     \n",
            "_________________________________________________________________\n",
            "dropout_4 (Dropout)          (None, 150, 64)           0         \n",
            "_________________________________________________________________\n",
            "lstm_5 (LSTM)                (None, 32)                12416     \n",
            "_________________________________________________________________\n",
            "dropout_5 (Dropout)          (None, 32)                0         \n",
            "_________________________________________________________________\n",
            "dense_4 (Dense)              (None, 3)                 99        \n",
            "=================================================================\n",
            "Total params: 2,955,855\n",
            "Trainable params: 54,755\n",
            "Non-trainable params: 2,901,100\n",
            "_________________________________________________________________\n"
          ],
          "name": "stdout"
        }
      ]
    },
    {
      "cell_type": "code",
      "metadata": {
        "colab": {
          "base_uri": "https://localhost:8080/",
          "height": 1000
        },
        "id": "SbhQdiC7M4A2",
        "outputId": "06fbc0b1-3d04-4f78-9b20-f3cc53d5da5f"
      },
      "source": [
        "glove_model.compile(loss='categorical_crossentropy', optimizer='adam', metrics=['accuracy',f1_m,precision_m, recall_m])\n",
        "\n",
        "from tensorflow.keras.callbacks import EarlyStopping\n",
        "#callbacks = EarlyStopping(monitor='val_loss', min_delta=0, patience = 2)\n",
        "history = glove_model.fit(train_X_tokenized, \n",
        "                    train_Y, \n",
        "                    batch_size=100, \n",
        "                    epochs=150, \n",
        "                    validation_data=(val_X_tokenized, val_Y),\n",
        "                    shuffle=True\n",
        "                    #callbacks=callbacks\n",
        "                    )"
      ],
      "execution_count": 91,
      "outputs": [
        {
          "output_type": "stream",
          "text": [
            "Epoch 1/150\n",
            "354/354 [==============================] - 7s 20ms/step - loss: 1.0090 - accuracy: 0.4720 - f1_m: 0.2983 - precision_m: 0.5687 - recall_m: 0.2063 - val_loss: 0.9552 - val_accuracy: 0.5148 - val_f1_m: 0.4100 - val_precision_m: 0.6240 - val_recall_m: 0.3062\n",
            "Epoch 2/150\n",
            "354/354 [==============================] - 6s 17ms/step - loss: 0.9663 - accuracy: 0.5091 - f1_m: 0.3695 - precision_m: 0.6440 - recall_m: 0.2609 - val_loss: 0.9536 - val_accuracy: 0.5174 - val_f1_m: 0.4267 - val_precision_m: 0.6094 - val_recall_m: 0.3293\n",
            "Epoch 3/150\n",
            "354/354 [==============================] - 6s 17ms/step - loss: 0.9466 - accuracy: 0.5235 - f1_m: 0.3886 - precision_m: 0.6591 - recall_m: 0.2774 - val_loss: 0.9194 - val_accuracy: 0.5360 - val_f1_m: 0.4001 - val_precision_m: 0.6899 - val_recall_m: 0.2831\n",
            "Epoch 4/150\n",
            "354/354 [==============================] - 6s 17ms/step - loss: 0.9309 - accuracy: 0.5346 - f1_m: 0.4078 - precision_m: 0.6672 - recall_m: 0.2952 - val_loss: 0.9218 - val_accuracy: 0.5298 - val_f1_m: 0.4432 - val_precision_m: 0.6428 - val_recall_m: 0.3391\n",
            "Epoch 5/150\n",
            "354/354 [==============================] - 6s 17ms/step - loss: 0.9207 - accuracy: 0.5411 - f1_m: 0.4196 - precision_m: 0.6709 - recall_m: 0.3067 - val_loss: 0.9053 - val_accuracy: 0.5465 - val_f1_m: 0.4427 - val_precision_m: 0.6718 - val_recall_m: 0.3312\n",
            "Epoch 6/150\n",
            "354/354 [==============================] - 6s 17ms/step - loss: 0.9131 - accuracy: 0.5479 - f1_m: 0.4341 - precision_m: 0.6713 - recall_m: 0.3223 - val_loss: 0.8994 - val_accuracy: 0.5499 - val_f1_m: 0.4386 - val_precision_m: 0.6867 - val_recall_m: 0.3236\n",
            "Epoch 7/150\n",
            "354/354 [==============================] - 6s 17ms/step - loss: 0.9032 - accuracy: 0.5544 - f1_m: 0.4445 - precision_m: 0.6780 - recall_m: 0.3321 - val_loss: 0.8922 - val_accuracy: 0.5569 - val_f1_m: 0.4432 - val_precision_m: 0.6903 - val_recall_m: 0.3276\n",
            "Epoch 8/150\n",
            "354/354 [==============================] - 6s 18ms/step - loss: 0.8971 - accuracy: 0.5564 - f1_m: 0.4498 - precision_m: 0.6728 - recall_m: 0.3392 - val_loss: 0.8919 - val_accuracy: 0.5566 - val_f1_m: 0.4597 - val_precision_m: 0.6746 - val_recall_m: 0.3497\n",
            "Epoch 9/150\n",
            "354/354 [==============================] - 6s 17ms/step - loss: 0.8918 - accuracy: 0.5617 - f1_m: 0.4616 - precision_m: 0.6764 - recall_m: 0.3518 - val_loss: 0.8847 - val_accuracy: 0.5614 - val_f1_m: 0.4609 - val_precision_m: 0.6764 - val_recall_m: 0.3505\n",
            "Epoch 10/150\n",
            "354/354 [==============================] - 6s 17ms/step - loss: 0.8862 - accuracy: 0.5657 - f1_m: 0.4667 - precision_m: 0.6792 - recall_m: 0.3568 - val_loss: 0.8898 - val_accuracy: 0.5622 - val_f1_m: 0.4683 - val_precision_m: 0.6736 - val_recall_m: 0.3602\n",
            "Epoch 11/150\n",
            "354/354 [==============================] - 6s 17ms/step - loss: 0.8795 - accuracy: 0.5704 - f1_m: 0.4766 - precision_m: 0.6837 - recall_m: 0.3672 - val_loss: 0.8844 - val_accuracy: 0.5621 - val_f1_m: 0.4888 - val_precision_m: 0.6620 - val_recall_m: 0.3884\n",
            "Epoch 12/150\n",
            "354/354 [==============================] - 6s 17ms/step - loss: 0.8746 - accuracy: 0.5735 - f1_m: 0.4816 - precision_m: 0.6792 - recall_m: 0.3743 - val_loss: 0.8866 - val_accuracy: 0.5646 - val_f1_m: 0.4890 - val_precision_m: 0.6511 - val_recall_m: 0.3926\n",
            "Epoch 13/150\n",
            "354/354 [==============================] - 6s 17ms/step - loss: 0.8709 - accuracy: 0.5769 - f1_m: 0.4879 - precision_m: 0.6823 - recall_m: 0.3811 - val_loss: 0.8789 - val_accuracy: 0.5667 - val_f1_m: 0.4787 - val_precision_m: 0.6724 - val_recall_m: 0.3728\n",
            "Epoch 14/150\n",
            "354/354 [==============================] - 6s 17ms/step - loss: 0.8683 - accuracy: 0.5775 - f1_m: 0.4878 - precision_m: 0.6831 - recall_m: 0.3807 - val_loss: 0.8827 - val_accuracy: 0.5635 - val_f1_m: 0.4743 - val_precision_m: 0.6702 - val_recall_m: 0.3681\n",
            "Epoch 15/150\n",
            "354/354 [==============================] - 6s 17ms/step - loss: 0.8630 - accuracy: 0.5801 - f1_m: 0.4968 - precision_m: 0.6820 - recall_m: 0.3921 - val_loss: 0.8750 - val_accuracy: 0.5696 - val_f1_m: 0.4906 - val_precision_m: 0.6675 - val_recall_m: 0.3889\n",
            "Epoch 16/150\n",
            "354/354 [==============================] - 6s 17ms/step - loss: 0.8582 - accuracy: 0.5850 - f1_m: 0.5035 - precision_m: 0.6843 - recall_m: 0.3994 - val_loss: 0.8915 - val_accuracy: 0.5639 - val_f1_m: 0.4978 - val_precision_m: 0.6506 - val_recall_m: 0.4042\n",
            "Epoch 17/150\n",
            "354/354 [==============================] - 6s 17ms/step - loss: 0.8568 - accuracy: 0.5856 - f1_m: 0.5063 - precision_m: 0.6853 - recall_m: 0.4026 - val_loss: 0.8776 - val_accuracy: 0.5715 - val_f1_m: 0.5022 - val_precision_m: 0.6615 - val_recall_m: 0.4058\n",
            "Epoch 18/150\n",
            "354/354 [==============================] - 6s 17ms/step - loss: 0.8548 - accuracy: 0.5835 - f1_m: 0.5066 - precision_m: 0.6825 - recall_m: 0.4039 - val_loss: 0.8742 - val_accuracy: 0.5688 - val_f1_m: 0.4930 - val_precision_m: 0.6630 - val_recall_m: 0.3935\n",
            "Epoch 19/150\n",
            "354/354 [==============================] - 6s 17ms/step - loss: 0.8511 - accuracy: 0.5908 - f1_m: 0.5124 - precision_m: 0.6856 - recall_m: 0.4101 - val_loss: 0.8829 - val_accuracy: 0.5662 - val_f1_m: 0.5059 - val_precision_m: 0.6480 - val_recall_m: 0.4160\n",
            "Epoch 20/150\n",
            "354/354 [==============================] - 6s 17ms/step - loss: 0.8452 - accuracy: 0.5924 - f1_m: 0.5145 - precision_m: 0.6850 - recall_m: 0.4131 - val_loss: 0.8779 - val_accuracy: 0.5681 - val_f1_m: 0.5065 - val_precision_m: 0.6578 - val_recall_m: 0.4129\n",
            "Epoch 21/150\n",
            "354/354 [==============================] - 6s 17ms/step - loss: 0.8420 - accuracy: 0.5953 - f1_m: 0.5238 - precision_m: 0.6891 - recall_m: 0.4237 - val_loss: 0.9043 - val_accuracy: 0.5525 - val_f1_m: 0.4952 - val_precision_m: 0.6288 - val_recall_m: 0.4094\n",
            "Epoch 22/150\n",
            "354/354 [==============================] - 7s 19ms/step - loss: 0.8420 - accuracy: 0.5961 - f1_m: 0.5244 - precision_m: 0.6868 - recall_m: 0.4253 - val_loss: 0.8736 - val_accuracy: 0.5696 - val_f1_m: 0.4994 - val_precision_m: 0.6597 - val_recall_m: 0.4029\n",
            "Epoch 23/150\n",
            "354/354 [==============================] - 6s 18ms/step - loss: 0.8378 - accuracy: 0.5971 - f1_m: 0.5309 - precision_m: 0.6873 - recall_m: 0.4336 - val_loss: 0.8809 - val_accuracy: 0.5655 - val_f1_m: 0.4976 - val_precision_m: 0.6546 - val_recall_m: 0.4027\n",
            "Epoch 24/150\n",
            "354/354 [==============================] - 6s 18ms/step - loss: 0.8382 - accuracy: 0.5990 - f1_m: 0.5279 - precision_m: 0.6894 - recall_m: 0.4290 - val_loss: 0.8789 - val_accuracy: 0.5701 - val_f1_m: 0.5072 - val_precision_m: 0.6539 - val_recall_m: 0.4153\n",
            "Epoch 25/150\n",
            "354/354 [==============================] - 6s 17ms/step - loss: 0.8376 - accuracy: 0.5974 - f1_m: 0.5289 - precision_m: 0.6899 - recall_m: 0.4301 - val_loss: 0.8753 - val_accuracy: 0.5690 - val_f1_m: 0.5032 - val_precision_m: 0.6562 - val_recall_m: 0.4089\n",
            "Epoch 26/150\n",
            "354/354 [==============================] - 6s 18ms/step - loss: 0.8290 - accuracy: 0.6068 - f1_m: 0.5396 - precision_m: 0.6923 - recall_m: 0.4432 - val_loss: 0.8750 - val_accuracy: 0.5729 - val_f1_m: 0.5065 - val_precision_m: 0.6570 - val_recall_m: 0.4134\n",
            "Epoch 27/150\n",
            "354/354 [==============================] - 6s 18ms/step - loss: 0.8283 - accuracy: 0.6032 - f1_m: 0.5365 - precision_m: 0.6886 - recall_m: 0.4404 - val_loss: 0.8801 - val_accuracy: 0.5721 - val_f1_m: 0.5194 - val_precision_m: 0.6454 - val_recall_m: 0.4354\n",
            "Epoch 28/150\n",
            "354/354 [==============================] - 6s 17ms/step - loss: 0.8257 - accuracy: 0.6075 - f1_m: 0.5438 - precision_m: 0.6897 - recall_m: 0.4499 - val_loss: 0.8706 - val_accuracy: 0.5708 - val_f1_m: 0.5100 - val_precision_m: 0.6614 - val_recall_m: 0.4159\n",
            "Epoch 29/150\n",
            "354/354 [==============================] - 6s 18ms/step - loss: 0.8211 - accuracy: 0.6081 - f1_m: 0.5448 - precision_m: 0.6917 - recall_m: 0.4506 - val_loss: 0.8772 - val_accuracy: 0.5698 - val_f1_m: 0.5177 - val_precision_m: 0.6470 - val_recall_m: 0.4324\n",
            "Epoch 30/150\n",
            "354/354 [==============================] - ETA: 0s - loss: 0.8225 - accuracy: 0.6061 - f1_m: 0.5461 - precision_m: 0.6904 - recall_m: 0.4530"
          ],
          "name": "stdout"
        },
        {
          "output_type": "error",
          "ename": "KeyboardInterrupt",
          "evalue": "ignored",
          "traceback": [
            "\u001b[0;31m---------------------------------------------------------------------------\u001b[0m",
            "\u001b[0;31mKeyboardInterrupt\u001b[0m                         Traceback (most recent call last)",
            "\u001b[0;32m<ipython-input-91-0325c0d87329>\u001b[0m in \u001b[0;36m<module>\u001b[0;34m()\u001b[0m\n\u001b[1;32m      8\u001b[0m                     \u001b[0mepochs\u001b[0m\u001b[0;34m=\u001b[0m\u001b[0;36m150\u001b[0m\u001b[0;34m,\u001b[0m\u001b[0;34m\u001b[0m\u001b[0;34m\u001b[0m\u001b[0m\n\u001b[1;32m      9\u001b[0m                     \u001b[0mvalidation_data\u001b[0m\u001b[0;34m=\u001b[0m\u001b[0;34m(\u001b[0m\u001b[0mval_X_tokenized\u001b[0m\u001b[0;34m,\u001b[0m \u001b[0mval_Y\u001b[0m\u001b[0;34m)\u001b[0m\u001b[0;34m,\u001b[0m\u001b[0;34m\u001b[0m\u001b[0;34m\u001b[0m\u001b[0m\n\u001b[0;32m---> 10\u001b[0;31m                     \u001b[0mshuffle\u001b[0m\u001b[0;34m=\u001b[0m\u001b[0;32mTrue\u001b[0m\u001b[0;34m\u001b[0m\u001b[0;34m\u001b[0m\u001b[0m\n\u001b[0m\u001b[1;32m     11\u001b[0m                     \u001b[0;31m#callbacks=callbacks\u001b[0m\u001b[0;34m\u001b[0m\u001b[0;34m\u001b[0m\u001b[0;34m\u001b[0m\u001b[0m\n\u001b[1;32m     12\u001b[0m                     )\n",
            "\u001b[0;32m/usr/local/lib/python3.6/dist-packages/tensorflow/python/keras/engine/training.py\u001b[0m in \u001b[0;36m_method_wrapper\u001b[0;34m(self, *args, **kwargs)\u001b[0m\n\u001b[1;32m    106\u001b[0m   \u001b[0;32mdef\u001b[0m \u001b[0m_method_wrapper\u001b[0m\u001b[0;34m(\u001b[0m\u001b[0mself\u001b[0m\u001b[0;34m,\u001b[0m \u001b[0;34m*\u001b[0m\u001b[0margs\u001b[0m\u001b[0;34m,\u001b[0m \u001b[0;34m**\u001b[0m\u001b[0mkwargs\u001b[0m\u001b[0;34m)\u001b[0m\u001b[0;34m:\u001b[0m\u001b[0;34m\u001b[0m\u001b[0;34m\u001b[0m\u001b[0m\n\u001b[1;32m    107\u001b[0m     \u001b[0;32mif\u001b[0m \u001b[0;32mnot\u001b[0m \u001b[0mself\u001b[0m\u001b[0;34m.\u001b[0m\u001b[0m_in_multi_worker_mode\u001b[0m\u001b[0;34m(\u001b[0m\u001b[0;34m)\u001b[0m\u001b[0;34m:\u001b[0m  \u001b[0;31m# pylint: disable=protected-access\u001b[0m\u001b[0;34m\u001b[0m\u001b[0;34m\u001b[0m\u001b[0m\n\u001b[0;32m--> 108\u001b[0;31m       \u001b[0;32mreturn\u001b[0m \u001b[0mmethod\u001b[0m\u001b[0;34m(\u001b[0m\u001b[0mself\u001b[0m\u001b[0;34m,\u001b[0m \u001b[0;34m*\u001b[0m\u001b[0margs\u001b[0m\u001b[0;34m,\u001b[0m \u001b[0;34m**\u001b[0m\u001b[0mkwargs\u001b[0m\u001b[0;34m)\u001b[0m\u001b[0;34m\u001b[0m\u001b[0;34m\u001b[0m\u001b[0m\n\u001b[0m\u001b[1;32m    109\u001b[0m \u001b[0;34m\u001b[0m\u001b[0m\n\u001b[1;32m    110\u001b[0m     \u001b[0;31m# Running inside `run_distribute_coordinator` already.\u001b[0m\u001b[0;34m\u001b[0m\u001b[0;34m\u001b[0m\u001b[0;34m\u001b[0m\u001b[0m\n",
            "\u001b[0;32m/usr/local/lib/python3.6/dist-packages/tensorflow/python/keras/engine/training.py\u001b[0m in \u001b[0;36mfit\u001b[0;34m(self, x, y, batch_size, epochs, verbose, callbacks, validation_split, validation_data, shuffle, class_weight, sample_weight, initial_epoch, steps_per_epoch, validation_steps, validation_batch_size, validation_freq, max_queue_size, workers, use_multiprocessing)\u001b[0m\n\u001b[1;32m   1131\u001b[0m               \u001b[0mworkers\u001b[0m\u001b[0;34m=\u001b[0m\u001b[0mworkers\u001b[0m\u001b[0;34m,\u001b[0m\u001b[0;34m\u001b[0m\u001b[0;34m\u001b[0m\u001b[0m\n\u001b[1;32m   1132\u001b[0m               \u001b[0muse_multiprocessing\u001b[0m\u001b[0;34m=\u001b[0m\u001b[0muse_multiprocessing\u001b[0m\u001b[0;34m,\u001b[0m\u001b[0;34m\u001b[0m\u001b[0;34m\u001b[0m\u001b[0m\n\u001b[0;32m-> 1133\u001b[0;31m               return_dict=True)\n\u001b[0m\u001b[1;32m   1134\u001b[0m           \u001b[0mval_logs\u001b[0m \u001b[0;34m=\u001b[0m \u001b[0;34m{\u001b[0m\u001b[0;34m'val_'\u001b[0m \u001b[0;34m+\u001b[0m \u001b[0mname\u001b[0m\u001b[0;34m:\u001b[0m \u001b[0mval\u001b[0m \u001b[0;32mfor\u001b[0m \u001b[0mname\u001b[0m\u001b[0;34m,\u001b[0m \u001b[0mval\u001b[0m \u001b[0;32min\u001b[0m \u001b[0mval_logs\u001b[0m\u001b[0;34m.\u001b[0m\u001b[0mitems\u001b[0m\u001b[0;34m(\u001b[0m\u001b[0;34m)\u001b[0m\u001b[0;34m}\u001b[0m\u001b[0;34m\u001b[0m\u001b[0;34m\u001b[0m\u001b[0m\n\u001b[1;32m   1135\u001b[0m           \u001b[0mepoch_logs\u001b[0m\u001b[0;34m.\u001b[0m\u001b[0mupdate\u001b[0m\u001b[0;34m(\u001b[0m\u001b[0mval_logs\u001b[0m\u001b[0;34m)\u001b[0m\u001b[0;34m\u001b[0m\u001b[0;34m\u001b[0m\u001b[0m\n",
            "\u001b[0;32m/usr/local/lib/python3.6/dist-packages/tensorflow/python/keras/engine/training.py\u001b[0m in \u001b[0;36m_method_wrapper\u001b[0;34m(self, *args, **kwargs)\u001b[0m\n\u001b[1;32m    106\u001b[0m   \u001b[0;32mdef\u001b[0m \u001b[0m_method_wrapper\u001b[0m\u001b[0;34m(\u001b[0m\u001b[0mself\u001b[0m\u001b[0;34m,\u001b[0m \u001b[0;34m*\u001b[0m\u001b[0margs\u001b[0m\u001b[0;34m,\u001b[0m \u001b[0;34m**\u001b[0m\u001b[0mkwargs\u001b[0m\u001b[0;34m)\u001b[0m\u001b[0;34m:\u001b[0m\u001b[0;34m\u001b[0m\u001b[0;34m\u001b[0m\u001b[0m\n\u001b[1;32m    107\u001b[0m     \u001b[0;32mif\u001b[0m \u001b[0;32mnot\u001b[0m \u001b[0mself\u001b[0m\u001b[0;34m.\u001b[0m\u001b[0m_in_multi_worker_mode\u001b[0m\u001b[0;34m(\u001b[0m\u001b[0;34m)\u001b[0m\u001b[0;34m:\u001b[0m  \u001b[0;31m# pylint: disable=protected-access\u001b[0m\u001b[0;34m\u001b[0m\u001b[0;34m\u001b[0m\u001b[0m\n\u001b[0;32m--> 108\u001b[0;31m       \u001b[0;32mreturn\u001b[0m \u001b[0mmethod\u001b[0m\u001b[0;34m(\u001b[0m\u001b[0mself\u001b[0m\u001b[0;34m,\u001b[0m \u001b[0;34m*\u001b[0m\u001b[0margs\u001b[0m\u001b[0;34m,\u001b[0m \u001b[0;34m**\u001b[0m\u001b[0mkwargs\u001b[0m\u001b[0;34m)\u001b[0m\u001b[0;34m\u001b[0m\u001b[0;34m\u001b[0m\u001b[0m\n\u001b[0m\u001b[1;32m    109\u001b[0m \u001b[0;34m\u001b[0m\u001b[0m\n\u001b[1;32m    110\u001b[0m     \u001b[0;31m# Running inside `run_distribute_coordinator` already.\u001b[0m\u001b[0;34m\u001b[0m\u001b[0;34m\u001b[0m\u001b[0;34m\u001b[0m\u001b[0m\n",
            "\u001b[0;32m/usr/local/lib/python3.6/dist-packages/tensorflow/python/keras/engine/training.py\u001b[0m in \u001b[0;36mevaluate\u001b[0;34m(self, x, y, batch_size, verbose, sample_weight, steps, callbacks, max_queue_size, workers, use_multiprocessing, return_dict)\u001b[0m\n\u001b[1;32m   1377\u001b[0m             \u001b[0;32mwith\u001b[0m \u001b[0mtrace\u001b[0m\u001b[0;34m.\u001b[0m\u001b[0mTrace\u001b[0m\u001b[0;34m(\u001b[0m\u001b[0;34m'TraceContext'\u001b[0m\u001b[0;34m,\u001b[0m \u001b[0mgraph_type\u001b[0m\u001b[0;34m=\u001b[0m\u001b[0;34m'test'\u001b[0m\u001b[0;34m,\u001b[0m \u001b[0mstep_num\u001b[0m\u001b[0;34m=\u001b[0m\u001b[0mstep\u001b[0m\u001b[0;34m)\u001b[0m\u001b[0;34m:\u001b[0m\u001b[0;34m\u001b[0m\u001b[0;34m\u001b[0m\u001b[0m\n\u001b[1;32m   1378\u001b[0m               \u001b[0mcallbacks\u001b[0m\u001b[0;34m.\u001b[0m\u001b[0mon_test_batch_begin\u001b[0m\u001b[0;34m(\u001b[0m\u001b[0mstep\u001b[0m\u001b[0;34m)\u001b[0m\u001b[0;34m\u001b[0m\u001b[0;34m\u001b[0m\u001b[0m\n\u001b[0;32m-> 1379\u001b[0;31m               \u001b[0mtmp_logs\u001b[0m \u001b[0;34m=\u001b[0m \u001b[0mtest_function\u001b[0m\u001b[0;34m(\u001b[0m\u001b[0miterator\u001b[0m\u001b[0;34m)\u001b[0m\u001b[0;34m\u001b[0m\u001b[0;34m\u001b[0m\u001b[0m\n\u001b[0m\u001b[1;32m   1380\u001b[0m               \u001b[0;32mif\u001b[0m \u001b[0mdata_handler\u001b[0m\u001b[0;34m.\u001b[0m\u001b[0mshould_sync\u001b[0m\u001b[0;34m:\u001b[0m\u001b[0;34m\u001b[0m\u001b[0;34m\u001b[0m\u001b[0m\n\u001b[1;32m   1381\u001b[0m                 \u001b[0mcontext\u001b[0m\u001b[0;34m.\u001b[0m\u001b[0masync_wait\u001b[0m\u001b[0;34m(\u001b[0m\u001b[0;34m)\u001b[0m\u001b[0;34m\u001b[0m\u001b[0;34m\u001b[0m\u001b[0m\n",
            "\u001b[0;32m/usr/local/lib/python3.6/dist-packages/tensorflow/python/eager/def_function.py\u001b[0m in \u001b[0;36m__call__\u001b[0;34m(self, *args, **kwds)\u001b[0m\n\u001b[1;32m    778\u001b[0m       \u001b[0;32melse\u001b[0m\u001b[0;34m:\u001b[0m\u001b[0;34m\u001b[0m\u001b[0;34m\u001b[0m\u001b[0m\n\u001b[1;32m    779\u001b[0m         \u001b[0mcompiler\u001b[0m \u001b[0;34m=\u001b[0m \u001b[0;34m\"nonXla\"\u001b[0m\u001b[0;34m\u001b[0m\u001b[0;34m\u001b[0m\u001b[0m\n\u001b[0;32m--> 780\u001b[0;31m         \u001b[0mresult\u001b[0m \u001b[0;34m=\u001b[0m \u001b[0mself\u001b[0m\u001b[0;34m.\u001b[0m\u001b[0m_call\u001b[0m\u001b[0;34m(\u001b[0m\u001b[0;34m*\u001b[0m\u001b[0margs\u001b[0m\u001b[0;34m,\u001b[0m \u001b[0;34m**\u001b[0m\u001b[0mkwds\u001b[0m\u001b[0;34m)\u001b[0m\u001b[0;34m\u001b[0m\u001b[0;34m\u001b[0m\u001b[0m\n\u001b[0m\u001b[1;32m    781\u001b[0m \u001b[0;34m\u001b[0m\u001b[0m\n\u001b[1;32m    782\u001b[0m       \u001b[0mnew_tracing_count\u001b[0m \u001b[0;34m=\u001b[0m \u001b[0mself\u001b[0m\u001b[0;34m.\u001b[0m\u001b[0m_get_tracing_count\u001b[0m\u001b[0;34m(\u001b[0m\u001b[0;34m)\u001b[0m\u001b[0;34m\u001b[0m\u001b[0;34m\u001b[0m\u001b[0m\n",
            "\u001b[0;32m/usr/local/lib/python3.6/dist-packages/tensorflow/python/eager/def_function.py\u001b[0m in \u001b[0;36m_call\u001b[0;34m(self, *args, **kwds)\u001b[0m\n\u001b[1;32m    812\u001b[0m       \u001b[0;31m# In this case we have not created variables on the first call. So we can\u001b[0m\u001b[0;34m\u001b[0m\u001b[0;34m\u001b[0m\u001b[0;34m\u001b[0m\u001b[0m\n\u001b[1;32m    813\u001b[0m       \u001b[0;31m# run the first trace but we should fail if variables are created.\u001b[0m\u001b[0;34m\u001b[0m\u001b[0;34m\u001b[0m\u001b[0;34m\u001b[0m\u001b[0m\n\u001b[0;32m--> 814\u001b[0;31m       \u001b[0mresults\u001b[0m \u001b[0;34m=\u001b[0m \u001b[0mself\u001b[0m\u001b[0;34m.\u001b[0m\u001b[0m_stateful_fn\u001b[0m\u001b[0;34m(\u001b[0m\u001b[0;34m*\u001b[0m\u001b[0margs\u001b[0m\u001b[0;34m,\u001b[0m \u001b[0;34m**\u001b[0m\u001b[0mkwds\u001b[0m\u001b[0;34m)\u001b[0m\u001b[0;34m\u001b[0m\u001b[0;34m\u001b[0m\u001b[0m\n\u001b[0m\u001b[1;32m    815\u001b[0m       \u001b[0;32mif\u001b[0m \u001b[0mself\u001b[0m\u001b[0;34m.\u001b[0m\u001b[0m_created_variables\u001b[0m\u001b[0;34m:\u001b[0m\u001b[0;34m\u001b[0m\u001b[0;34m\u001b[0m\u001b[0m\n\u001b[1;32m    816\u001b[0m         raise ValueError(\"Creating variables on a non-first call to a function\"\n",
            "\u001b[0;32m/usr/local/lib/python3.6/dist-packages/tensorflow/python/eager/function.py\u001b[0m in \u001b[0;36m__call__\u001b[0;34m(self, *args, **kwargs)\u001b[0m\n\u001b[1;32m   2827\u001b[0m     \u001b[0;32mwith\u001b[0m \u001b[0mself\u001b[0m\u001b[0;34m.\u001b[0m\u001b[0m_lock\u001b[0m\u001b[0;34m:\u001b[0m\u001b[0;34m\u001b[0m\u001b[0;34m\u001b[0m\u001b[0m\n\u001b[1;32m   2828\u001b[0m       \u001b[0mgraph_function\u001b[0m\u001b[0;34m,\u001b[0m \u001b[0margs\u001b[0m\u001b[0;34m,\u001b[0m \u001b[0mkwargs\u001b[0m \u001b[0;34m=\u001b[0m \u001b[0mself\u001b[0m\u001b[0;34m.\u001b[0m\u001b[0m_maybe_define_function\u001b[0m\u001b[0;34m(\u001b[0m\u001b[0margs\u001b[0m\u001b[0;34m,\u001b[0m \u001b[0mkwargs\u001b[0m\u001b[0;34m)\u001b[0m\u001b[0;34m\u001b[0m\u001b[0;34m\u001b[0m\u001b[0m\n\u001b[0;32m-> 2829\u001b[0;31m     \u001b[0;32mreturn\u001b[0m \u001b[0mgraph_function\u001b[0m\u001b[0;34m.\u001b[0m\u001b[0m_filtered_call\u001b[0m\u001b[0;34m(\u001b[0m\u001b[0margs\u001b[0m\u001b[0;34m,\u001b[0m \u001b[0mkwargs\u001b[0m\u001b[0;34m)\u001b[0m  \u001b[0;31m# pylint: disable=protected-access\u001b[0m\u001b[0;34m\u001b[0m\u001b[0;34m\u001b[0m\u001b[0m\n\u001b[0m\u001b[1;32m   2830\u001b[0m \u001b[0;34m\u001b[0m\u001b[0m\n\u001b[1;32m   2831\u001b[0m   \u001b[0;34m@\u001b[0m\u001b[0mproperty\u001b[0m\u001b[0;34m\u001b[0m\u001b[0;34m\u001b[0m\u001b[0m\n",
            "\u001b[0;32m/usr/local/lib/python3.6/dist-packages/tensorflow/python/eager/function.py\u001b[0m in \u001b[0;36m_filtered_call\u001b[0;34m(self, args, kwargs, cancellation_manager)\u001b[0m\n\u001b[1;32m   1846\u001b[0m                            resource_variable_ops.BaseResourceVariable))],\n\u001b[1;32m   1847\u001b[0m         \u001b[0mcaptured_inputs\u001b[0m\u001b[0;34m=\u001b[0m\u001b[0mself\u001b[0m\u001b[0;34m.\u001b[0m\u001b[0mcaptured_inputs\u001b[0m\u001b[0;34m,\u001b[0m\u001b[0;34m\u001b[0m\u001b[0;34m\u001b[0m\u001b[0m\n\u001b[0;32m-> 1848\u001b[0;31m         cancellation_manager=cancellation_manager)\n\u001b[0m\u001b[1;32m   1849\u001b[0m \u001b[0;34m\u001b[0m\u001b[0m\n\u001b[1;32m   1850\u001b[0m   \u001b[0;32mdef\u001b[0m \u001b[0m_call_flat\u001b[0m\u001b[0;34m(\u001b[0m\u001b[0mself\u001b[0m\u001b[0;34m,\u001b[0m \u001b[0margs\u001b[0m\u001b[0;34m,\u001b[0m \u001b[0mcaptured_inputs\u001b[0m\u001b[0;34m,\u001b[0m \u001b[0mcancellation_manager\u001b[0m\u001b[0;34m=\u001b[0m\u001b[0;32mNone\u001b[0m\u001b[0;34m)\u001b[0m\u001b[0;34m:\u001b[0m\u001b[0;34m\u001b[0m\u001b[0;34m\u001b[0m\u001b[0m\n",
            "\u001b[0;32m/usr/local/lib/python3.6/dist-packages/tensorflow/python/eager/function.py\u001b[0m in \u001b[0;36m_call_flat\u001b[0;34m(self, args, captured_inputs, cancellation_manager)\u001b[0m\n\u001b[1;32m   1922\u001b[0m       \u001b[0;31m# No tape is watching; skip to running the function.\u001b[0m\u001b[0;34m\u001b[0m\u001b[0;34m\u001b[0m\u001b[0;34m\u001b[0m\u001b[0m\n\u001b[1;32m   1923\u001b[0m       return self._build_call_outputs(self._inference_function.call(\n\u001b[0;32m-> 1924\u001b[0;31m           ctx, args, cancellation_manager=cancellation_manager))\n\u001b[0m\u001b[1;32m   1925\u001b[0m     forward_backward = self._select_forward_and_backward_functions(\n\u001b[1;32m   1926\u001b[0m         \u001b[0margs\u001b[0m\u001b[0;34m,\u001b[0m\u001b[0;34m\u001b[0m\u001b[0;34m\u001b[0m\u001b[0m\n",
            "\u001b[0;32m/usr/local/lib/python3.6/dist-packages/tensorflow/python/eager/function.py\u001b[0m in \u001b[0;36mcall\u001b[0;34m(self, ctx, args, cancellation_manager)\u001b[0m\n\u001b[1;32m    548\u001b[0m               \u001b[0minputs\u001b[0m\u001b[0;34m=\u001b[0m\u001b[0margs\u001b[0m\u001b[0;34m,\u001b[0m\u001b[0;34m\u001b[0m\u001b[0;34m\u001b[0m\u001b[0m\n\u001b[1;32m    549\u001b[0m               \u001b[0mattrs\u001b[0m\u001b[0;34m=\u001b[0m\u001b[0mattrs\u001b[0m\u001b[0;34m,\u001b[0m\u001b[0;34m\u001b[0m\u001b[0;34m\u001b[0m\u001b[0m\n\u001b[0;32m--> 550\u001b[0;31m               ctx=ctx)\n\u001b[0m\u001b[1;32m    551\u001b[0m         \u001b[0;32melse\u001b[0m\u001b[0;34m:\u001b[0m\u001b[0;34m\u001b[0m\u001b[0;34m\u001b[0m\u001b[0m\n\u001b[1;32m    552\u001b[0m           outputs = execute.execute_with_cancellation(\n",
            "\u001b[0;32m/usr/local/lib/python3.6/dist-packages/tensorflow/python/eager/execute.py\u001b[0m in \u001b[0;36mquick_execute\u001b[0;34m(op_name, num_outputs, inputs, attrs, ctx, name)\u001b[0m\n\u001b[1;32m     58\u001b[0m     \u001b[0mctx\u001b[0m\u001b[0;34m.\u001b[0m\u001b[0mensure_initialized\u001b[0m\u001b[0;34m(\u001b[0m\u001b[0;34m)\u001b[0m\u001b[0;34m\u001b[0m\u001b[0;34m\u001b[0m\u001b[0m\n\u001b[1;32m     59\u001b[0m     tensors = pywrap_tfe.TFE_Py_Execute(ctx._handle, device_name, op_name,\n\u001b[0;32m---> 60\u001b[0;31m                                         inputs, attrs, num_outputs)\n\u001b[0m\u001b[1;32m     61\u001b[0m   \u001b[0;32mexcept\u001b[0m \u001b[0mcore\u001b[0m\u001b[0;34m.\u001b[0m\u001b[0m_NotOkStatusException\u001b[0m \u001b[0;32mas\u001b[0m \u001b[0me\u001b[0m\u001b[0;34m:\u001b[0m\u001b[0;34m\u001b[0m\u001b[0;34m\u001b[0m\u001b[0m\n\u001b[1;32m     62\u001b[0m     \u001b[0;32mif\u001b[0m \u001b[0mname\u001b[0m \u001b[0;32mis\u001b[0m \u001b[0;32mnot\u001b[0m \u001b[0;32mNone\u001b[0m\u001b[0;34m:\u001b[0m\u001b[0;34m\u001b[0m\u001b[0;34m\u001b[0m\u001b[0m\n",
            "\u001b[0;31mKeyboardInterrupt\u001b[0m: "
          ]
        }
      ]
    },
    {
      "cell_type": "code",
      "metadata": {
        "id": "ovJXoW2yF9qQ"
      },
      "source": [
        "loss, accuracy, f1_score, precision, recall = glove_model.evaluate(val_X_tokenized, val_Y, verbose=0)\n",
        "print(loss, accuracy, f1_score, precision, recall)"
      ],
      "execution_count": null,
      "outputs": []
    },
    {
      "cell_type": "code",
      "metadata": {
        "id": "tIbLleWTOr8_"
      },
      "source": [
        "# plot history\n",
        "# Plot training & validation accuracy values\n",
        "import matplotlib.pyplot as plt \n",
        "plt.plot(history.history['accuracy'])\n",
        "plt.plot(history.history['val_accuracy'])\n",
        "plt.title('Model accuracy')\n",
        "plt.ylabel('Accuracy')\n",
        "plt.xlabel('Epoch')\n",
        "plt.legend(['Train', 'Val'], loc='upper left')\n",
        "plt.show()\n",
        "\n",
        "# Plot training & validation loss values\n",
        "plt.plot(history.history['loss'])\n",
        "plt.plot(history.history['val_loss'])\n",
        "plt.title('Model loss')\n",
        "plt.ylabel('Loss')\n",
        "plt.xlabel('Epoch')\n",
        "plt.legend(['Train', 'Val'], loc='upper left')\n",
        "plt.show()"
      ],
      "execution_count": null,
      "outputs": []
    },
    {
      "cell_type": "markdown",
      "metadata": {
        "id": "FCeTdLxOhpq4"
      },
      "source": [
        "Feature: Tweets+Image,hasLink"
      ]
    },
    {
      "cell_type": "code",
      "metadata": {
        "id": "6KAMvrfwh4zj"
      },
      "source": [
        "glove_model_feature2 = models.Sequential()\n",
        "glove_model_feature2.add(layers.Embedding(vocab_size,\n",
        "                            glove_dim,\n",
        "                            weights=[embedding_matrix],\n",
        "                            input_length=max_len+2,\n",
        "                            trainable=False))\n",
        "#glove_model.add(layers.LSTM(64))\n",
        "glove_model_feature2.add(LSTM(64,return_sequences=True))\n",
        "# glove_model.add(layers.Dropout(0.3))\n",
        "glove_model_feature2.add(LSTM(32,return_sequences=False))\n",
        "glove_model.add(layers.Dropout(0.3))\n",
        "#glove_model.add(layers.Dense(10,activation=\"relu\"))\n",
        "#glove_model.add(layers.Dropout(0.2))\n",
        "glove_model_feature2.add(Dense(3, activation='softmax'))\n",
        "glove_model_feature2.summary()"
      ],
      "execution_count": null,
      "outputs": []
    },
    {
      "cell_type": "code",
      "metadata": {
        "id": "n-PdkwsnjF_u"
      },
      "source": [
        "glove_model_feature2.compile(loss='categorical_crossentropy', optimizer='adam', metrics=['accuracy',f1_m,precision_m, recall_m])\n",
        "\n",
        "from tensorflow.keras.callbacks import EarlyStopping\n",
        "#callbacks = EarlyStopping(monitor='val_loss', min_delta=0, patience = 2)\n",
        "history = glove_model_feature2.fit(X_train_df, \n",
        "                    train_Y, \n",
        "                    batch_size=100, \n",
        "                    epochs=30, \n",
        "                    validation_data=(X_val_df, val_Y)\n",
        "                    #callbacks=callbacks\n",
        "                    )"
      ],
      "execution_count": null,
      "outputs": []
    },
    {
      "cell_type": "code",
      "metadata": {
        "id": "R_roLsUPGRGz"
      },
      "source": [
        "loss, accuracy, f1_score, precision, recall = glove_model_feature2.evaluate(X_val_df, val_Y, verbose=0)\n",
        "print(loss, accuracy, f1_score, precision, recall)"
      ],
      "execution_count": null,
      "outputs": []
    },
    {
      "cell_type": "code",
      "metadata": {
        "id": "D8hLL2sJj-t9"
      },
      "source": [
        "# plot history\n",
        "# Plot training & validation accuracy values\n",
        "import matplotlib.pyplot as plt \n",
        "plt.plot(history.history['accuracy'])\n",
        "plt.plot(history.history['val_accuracy'])\n",
        "plt.title('Model accuracy')\n",
        "plt.ylabel('Accuracy')\n",
        "plt.xlabel('Epoch')\n",
        "plt.legend(['Train', 'Val'], loc='upper left')\n",
        "plt.show()\n",
        "\n",
        "# Plot training & validation loss values\n",
        "plt.plot(history.history['loss'])\n",
        "plt.plot(history.history['val_loss'])\n",
        "plt.title('Model loss')\n",
        "plt.ylabel('Loss')\n",
        "plt.xlabel('Epoch')\n",
        "plt.legend(['Train', 'Val'], loc='upper left')\n",
        "plt.show()"
      ],
      "execution_count": null,
      "outputs": []
    },
    {
      "cell_type": "markdown",
      "metadata": {
        "id": "c9SQF26KPMJ7"
      },
      "source": [
        "**Architecture 2**"
      ]
    },
    {
      "cell_type": "code",
      "metadata": {
        "id": "VDANXKVKPTFu"
      },
      "source": [
        "glove_model2 = models.Sequential()\n",
        "glove_model2.add(layers.Embedding(vocab_size,\n",
        "                            glove_dim,\n",
        "                            weights=[embedding_matrix],\n",
        "                            input_length=max_len,\n",
        "                            trainable=False))\n",
        "#glove_model.add(layers.LSTM(64))\n",
        "glove_model2.add(LSTM(128,return_sequences=True))\n",
        "glove_model2.add(layers.Dropout(0.3))\n",
        "glove_model2.add(LSTM(64,return_sequences=True))\n",
        "glove_model2.add(layers.Dropout(0.3))\n",
        "glove_model2.add(LSTM(32,return_sequences=False))\n",
        "glove_model2.add(layers.Dropout(0.3))\n",
        "glove_model2.add(layers.Dense(10,activation=\"relu\"))\n",
        "#glove_model2.add(layers.Dense(10,activation=\"relu\"))\n",
        "#glove_model.add(layers.Dropout(0.2))\n",
        "glove_model2.add(Dense(3, activation='softmax'))\n",
        "glove_model2.summary()"
      ],
      "execution_count": null,
      "outputs": []
    },
    {
      "cell_type": "code",
      "metadata": {
        "id": "cwy_qD-yPZWm"
      },
      "source": [
        "glove_model2.compile(loss='categorical_crossentropy', optimizer='adam', metrics=['accuracy',f1_m,precision_m, recall_m])\n",
        "\n",
        "from tensorflow.keras.callbacks import EarlyStopping\n",
        "\n",
        "history = glove_model2.fit(train_X_tokenized, \n",
        "                    train_Y, \n",
        "                    batch_size=100, \n",
        "                    epochs=100, \n",
        "                    validation_data=(val_X_tokenized, val_Y)\n",
        "                   \n",
        "                    )"
      ],
      "execution_count": null,
      "outputs": []
    },
    {
      "cell_type": "code",
      "metadata": {
        "id": "yvaDBQtlGjlM"
      },
      "source": [
        "loss, accuracy, f1_score, precision, recall = glove_model2.evaluate(val_X_tokenized, val_Y, verbose=0)\n",
        "print(loss, accuracy, f1_score, precision, recall)"
      ],
      "execution_count": null,
      "outputs": []
    },
    {
      "cell_type": "code",
      "metadata": {
        "id": "-oMw7Hk-Ppe5"
      },
      "source": [
        "# plot history\n",
        "# Plot training & validation accuracy values\n",
        "import matplotlib.pyplot as plt \n",
        "plt.plot(history.history['accuracy'])\n",
        "plt.plot(history.history['val_accuracy'])\n",
        "plt.title('Model accuracy')\n",
        "plt.ylabel('Accuracy')\n",
        "plt.xlabel('Epoch')\n",
        "plt.legend(['Train', 'Val'], loc='upper left')\n",
        "plt.show()\n",
        "\n",
        "# Plot training & validation loss values\n",
        "plt.plot(history.history['loss'])\n",
        "plt.plot(history.history['val_loss'])\n",
        "plt.title('Model loss')\n",
        "plt.ylabel('Loss')\n",
        "plt.xlabel('Epoch')\n",
        "plt.legend(['Train', 'Val'], loc='upper left')\n",
        "plt.show()"
      ],
      "execution_count": null,
      "outputs": []
    },
    {
      "cell_type": "markdown",
      "metadata": {
        "id": "mPTxL8M_5Wjh"
      },
      "source": [
        "Bi-Directional LSTM"
      ]
    },
    {
      "cell_type": "code",
      "metadata": {
        "colab": {
          "base_uri": "https://localhost:8080/"
        },
        "id": "MRI2FpZl5fT_",
        "outputId": "b538b20f-1385-45a3-9835-b7fdada7d1dc"
      },
      "source": [
        "\n",
        "glove_model3 = models.Sequential()\n",
        "glove_model3.add(layers.Embedding(vocab_size,\n",
        "                            glove_dim,\n",
        "                            weights=[embedding_matrix],\n",
        "                            input_length=max_len,\n",
        "                            trainable=False))\n",
        "\n",
        "glove_model3.add(Bidirectional(layers.LSTM(128, return_sequences=True)))\n",
        "glove_model3.add(Bidirectional(layers.LSTM(128)))\n",
        "\n",
        "# glove_model2_fs3_bi_d.add(Bidirectional(layers.LSTM(64, return_sequences=True)))\n",
        "# glove_model2_fs3_bi_d.add(Bidirectional(layers.LSTM(64)))\n",
        "\n",
        "glove_model3.add(layers.Dense(10,activation=\"relu\"))\n",
        "glove_model3.add(Dense(3, activation='softmax'))\n",
        "glove_model3.summary()\n",
        "\n",
        "\n",
        "\n"
      ],
      "execution_count": 92,
      "outputs": [
        {
          "output_type": "stream",
          "text": [
            "Model: \"sequential_5\"\n",
            "_________________________________________________________________\n",
            "Layer (type)                 Output Shape              Param #   \n",
            "=================================================================\n",
            "embedding_5 (Embedding)      (None, 150, 100)          2901100   \n",
            "_________________________________________________________________\n",
            "bidirectional (Bidirectional (None, 150, 256)          234496    \n",
            "_________________________________________________________________\n",
            "bidirectional_1 (Bidirection (None, 256)               394240    \n",
            "_________________________________________________________________\n",
            "dense_5 (Dense)              (None, 10)                2570      \n",
            "_________________________________________________________________\n",
            "dense_6 (Dense)              (None, 3)                 33        \n",
            "=================================================================\n",
            "Total params: 3,532,439\n",
            "Trainable params: 631,339\n",
            "Non-trainable params: 2,901,100\n",
            "_________________________________________________________________\n"
          ],
          "name": "stdout"
        }
      ]
    },
    {
      "cell_type": "code",
      "metadata": {
        "colab": {
          "base_uri": "https://localhost:8080/",
          "height": 878
        },
        "id": "PK9mgUIe5fkp",
        "outputId": "76c6e069-d6f0-492a-bd7c-44ca6f9d63bc"
      },
      "source": [
        "glove_model3.compile(loss='categorical_crossentropy', optimizer='adam', metrics=['accuracy',f1_m,precision_m, recall_m])\n",
        "\n",
        "from tensorflow.keras.callbacks import EarlyStopping\n",
        "\n",
        "history = glove_model3.fit(train_X_tokenized, \n",
        "                    train_Y, \n",
        "                    batch_size=100, \n",
        "                    epochs=50, \n",
        "                    validation_data=(val_X_tokenized, val_Y)\n",
        "                    )"
      ],
      "execution_count": 93,
      "outputs": [
        {
          "output_type": "stream",
          "text": [
            "Epoch 1/50\n",
            "354/354 [==============================] - 21s 60ms/step - loss: 0.9737 - accuracy: 0.5037 - f1_m: 0.3601 - precision_m: 0.6184 - recall_m: 0.2586 - val_loss: 0.9388 - val_accuracy: 0.5344 - val_f1_m: 0.3801 - val_precision_m: 0.6821 - val_recall_m: 0.2648\n",
            "Epoch 2/50\n",
            "354/354 [==============================] - 20s 57ms/step - loss: 0.9219 - accuracy: 0.5418 - f1_m: 0.4271 - precision_m: 0.6664 - recall_m: 0.3163 - val_loss: 0.9158 - val_accuracy: 0.5456 - val_f1_m: 0.4519 - val_precision_m: 0.6547 - val_recall_m: 0.3462\n",
            "Epoch 3/50\n",
            "354/354 [==============================] - 20s 57ms/step - loss: 0.8877 - accuracy: 0.5634 - f1_m: 0.4617 - precision_m: 0.6828 - recall_m: 0.3507 - val_loss: 0.8997 - val_accuracy: 0.5498 - val_f1_m: 0.4596 - val_precision_m: 0.6738 - val_recall_m: 0.3499\n",
            "Epoch 4/50\n",
            "354/354 [==============================] - 20s 56ms/step - loss: 0.8554 - accuracy: 0.5814 - f1_m: 0.4957 - precision_m: 0.6935 - recall_m: 0.3880 - val_loss: 0.8993 - val_accuracy: 0.5564 - val_f1_m: 0.4454 - val_precision_m: 0.6884 - val_recall_m: 0.3302\n",
            "Epoch 5/50\n",
            "354/354 [==============================] - 20s 56ms/step - loss: 0.8227 - accuracy: 0.6047 - f1_m: 0.5339 - precision_m: 0.6979 - recall_m: 0.4340 - val_loss: 0.8933 - val_accuracy: 0.5607 - val_f1_m: 0.5062 - val_precision_m: 0.6481 - val_recall_m: 0.4160\n",
            "Epoch 6/50\n",
            "354/354 [==============================] - 20s 56ms/step - loss: 0.7845 - accuracy: 0.6286 - f1_m: 0.5804 - precision_m: 0.7025 - recall_m: 0.4958 - val_loss: 0.8947 - val_accuracy: 0.5611 - val_f1_m: 0.5148 - val_precision_m: 0.6352 - val_recall_m: 0.4336\n",
            "Epoch 7/50\n",
            "354/354 [==============================] - 20s 57ms/step - loss: 0.7394 - accuracy: 0.6529 - f1_m: 0.6188 - precision_m: 0.7124 - recall_m: 0.5481 - val_loss: 0.9047 - val_accuracy: 0.5613 - val_f1_m: 0.5122 - val_precision_m: 0.6330 - val_recall_m: 0.4310\n",
            "Epoch 8/50\n",
            "354/354 [==============================] - 20s 57ms/step - loss: 0.6835 - accuracy: 0.6851 - f1_m: 0.6623 - precision_m: 0.7290 - recall_m: 0.6076 - val_loss: 0.9560 - val_accuracy: 0.5596 - val_f1_m: 0.5317 - val_precision_m: 0.6029 - val_recall_m: 0.4760\n",
            "Epoch 9/50\n",
            "354/354 [==============================] - 20s 57ms/step - loss: 0.6191 - accuracy: 0.7209 - f1_m: 0.7089 - precision_m: 0.7551 - recall_m: 0.6688 - val_loss: 1.0422 - val_accuracy: 0.5561 - val_f1_m: 0.5437 - val_precision_m: 0.5766 - val_recall_m: 0.5148\n",
            "Epoch 10/50\n",
            "354/354 [==============================] - 20s 57ms/step - loss: 0.5501 - accuracy: 0.7581 - f1_m: 0.7512 - precision_m: 0.7825 - recall_m: 0.7226 - val_loss: 1.1318 - val_accuracy: 0.5520 - val_f1_m: 0.5406 - val_precision_m: 0.5702 - val_recall_m: 0.5142\n",
            "Epoch 11/50\n",
            "354/354 [==============================] - 20s 57ms/step - loss: 0.4759 - accuracy: 0.7948 - f1_m: 0.7926 - precision_m: 0.8137 - recall_m: 0.7728 - val_loss: 1.1841 - val_accuracy: 0.5510 - val_f1_m: 0.5427 - val_precision_m: 0.5653 - val_recall_m: 0.5222\n",
            "Epoch 12/50\n",
            "354/354 [==============================] - 20s 56ms/step - loss: 0.4006 - accuracy: 0.8301 - f1_m: 0.8288 - precision_m: 0.8426 - recall_m: 0.8156 - val_loss: 1.4482 - val_accuracy: 0.5476 - val_f1_m: 0.5433 - val_precision_m: 0.5556 - val_recall_m: 0.5316\n",
            "Epoch 13/50\n",
            "354/354 [==============================] - 20s 57ms/step - loss: 0.3263 - accuracy: 0.8667 - f1_m: 0.8666 - precision_m: 0.8749 - recall_m: 0.8584 - val_loss: 1.6324 - val_accuracy: 0.5408 - val_f1_m: 0.5374 - val_precision_m: 0.5465 - val_recall_m: 0.5287\n",
            "Epoch 14/50\n",
            "354/354 [==============================] - 20s 56ms/step - loss: 0.2683 - accuracy: 0.8920 - f1_m: 0.8921 - precision_m: 0.8987 - recall_m: 0.8857 - val_loss: 1.8379 - val_accuracy: 0.5439 - val_f1_m: 0.5393 - val_precision_m: 0.5455 - val_recall_m: 0.5333\n",
            "Epoch 15/50\n",
            "311/354 [=========================>....] - ETA: 2s - loss: 0.2164 - accuracy: 0.9159 - f1_m: 0.9159 - precision_m: 0.9205 - recall_m: 0.9114"
          ],
          "name": "stdout"
        },
        {
          "output_type": "error",
          "ename": "KeyboardInterrupt",
          "evalue": "ignored",
          "traceback": [
            "\u001b[0;31m---------------------------------------------------------------------------\u001b[0m",
            "\u001b[0;31mKeyboardInterrupt\u001b[0m                         Traceback (most recent call last)",
            "\u001b[0;32m<ipython-input-93-a58772c247b7>\u001b[0m in \u001b[0;36m<module>\u001b[0;34m()\u001b[0m\n\u001b[1;32m      7\u001b[0m                     \u001b[0mbatch_size\u001b[0m\u001b[0;34m=\u001b[0m\u001b[0;36m100\u001b[0m\u001b[0;34m,\u001b[0m\u001b[0;34m\u001b[0m\u001b[0;34m\u001b[0m\u001b[0m\n\u001b[1;32m      8\u001b[0m                     \u001b[0mepochs\u001b[0m\u001b[0;34m=\u001b[0m\u001b[0;36m50\u001b[0m\u001b[0;34m,\u001b[0m\u001b[0;34m\u001b[0m\u001b[0;34m\u001b[0m\u001b[0m\n\u001b[0;32m----> 9\u001b[0;31m                     \u001b[0mvalidation_data\u001b[0m\u001b[0;34m=\u001b[0m\u001b[0;34m(\u001b[0m\u001b[0mval_X_tokenized\u001b[0m\u001b[0;34m,\u001b[0m \u001b[0mval_Y\u001b[0m\u001b[0;34m)\u001b[0m\u001b[0;34m\u001b[0m\u001b[0;34m\u001b[0m\u001b[0m\n\u001b[0m\u001b[1;32m     10\u001b[0m                     )\n",
            "\u001b[0;32m/usr/local/lib/python3.6/dist-packages/tensorflow/python/keras/engine/training.py\u001b[0m in \u001b[0;36m_method_wrapper\u001b[0;34m(self, *args, **kwargs)\u001b[0m\n\u001b[1;32m    106\u001b[0m   \u001b[0;32mdef\u001b[0m \u001b[0m_method_wrapper\u001b[0m\u001b[0;34m(\u001b[0m\u001b[0mself\u001b[0m\u001b[0;34m,\u001b[0m \u001b[0;34m*\u001b[0m\u001b[0margs\u001b[0m\u001b[0;34m,\u001b[0m \u001b[0;34m**\u001b[0m\u001b[0mkwargs\u001b[0m\u001b[0;34m)\u001b[0m\u001b[0;34m:\u001b[0m\u001b[0;34m\u001b[0m\u001b[0;34m\u001b[0m\u001b[0m\n\u001b[1;32m    107\u001b[0m     \u001b[0;32mif\u001b[0m \u001b[0;32mnot\u001b[0m \u001b[0mself\u001b[0m\u001b[0;34m.\u001b[0m\u001b[0m_in_multi_worker_mode\u001b[0m\u001b[0;34m(\u001b[0m\u001b[0;34m)\u001b[0m\u001b[0;34m:\u001b[0m  \u001b[0;31m# pylint: disable=protected-access\u001b[0m\u001b[0;34m\u001b[0m\u001b[0;34m\u001b[0m\u001b[0m\n\u001b[0;32m--> 108\u001b[0;31m       \u001b[0;32mreturn\u001b[0m \u001b[0mmethod\u001b[0m\u001b[0;34m(\u001b[0m\u001b[0mself\u001b[0m\u001b[0;34m,\u001b[0m \u001b[0;34m*\u001b[0m\u001b[0margs\u001b[0m\u001b[0;34m,\u001b[0m \u001b[0;34m**\u001b[0m\u001b[0mkwargs\u001b[0m\u001b[0;34m)\u001b[0m\u001b[0;34m\u001b[0m\u001b[0;34m\u001b[0m\u001b[0m\n\u001b[0m\u001b[1;32m    109\u001b[0m \u001b[0;34m\u001b[0m\u001b[0m\n\u001b[1;32m    110\u001b[0m     \u001b[0;31m# Running inside `run_distribute_coordinator` already.\u001b[0m\u001b[0;34m\u001b[0m\u001b[0;34m\u001b[0m\u001b[0;34m\u001b[0m\u001b[0m\n",
            "\u001b[0;32m/usr/local/lib/python3.6/dist-packages/tensorflow/python/keras/engine/training.py\u001b[0m in \u001b[0;36mfit\u001b[0;34m(self, x, y, batch_size, epochs, verbose, callbacks, validation_split, validation_data, shuffle, class_weight, sample_weight, initial_epoch, steps_per_epoch, validation_steps, validation_batch_size, validation_freq, max_queue_size, workers, use_multiprocessing)\u001b[0m\n\u001b[1;32m   1101\u001b[0m               \u001b[0mlogs\u001b[0m \u001b[0;34m=\u001b[0m \u001b[0mtmp_logs\u001b[0m  \u001b[0;31m# No error, now safe to assign to logs.\u001b[0m\u001b[0;34m\u001b[0m\u001b[0;34m\u001b[0m\u001b[0m\n\u001b[1;32m   1102\u001b[0m               \u001b[0mend_step\u001b[0m \u001b[0;34m=\u001b[0m \u001b[0mstep\u001b[0m \u001b[0;34m+\u001b[0m \u001b[0mdata_handler\u001b[0m\u001b[0;34m.\u001b[0m\u001b[0mstep_increment\u001b[0m\u001b[0;34m\u001b[0m\u001b[0;34m\u001b[0m\u001b[0m\n\u001b[0;32m-> 1103\u001b[0;31m               \u001b[0mcallbacks\u001b[0m\u001b[0;34m.\u001b[0m\u001b[0mon_train_batch_end\u001b[0m\u001b[0;34m(\u001b[0m\u001b[0mend_step\u001b[0m\u001b[0;34m,\u001b[0m \u001b[0mlogs\u001b[0m\u001b[0;34m)\u001b[0m\u001b[0;34m\u001b[0m\u001b[0;34m\u001b[0m\u001b[0m\n\u001b[0m\u001b[1;32m   1104\u001b[0m         \u001b[0mepoch_logs\u001b[0m \u001b[0;34m=\u001b[0m \u001b[0mcopy\u001b[0m\u001b[0;34m.\u001b[0m\u001b[0mcopy\u001b[0m\u001b[0;34m(\u001b[0m\u001b[0mlogs\u001b[0m\u001b[0;34m)\u001b[0m\u001b[0;34m\u001b[0m\u001b[0;34m\u001b[0m\u001b[0m\n\u001b[1;32m   1105\u001b[0m \u001b[0;34m\u001b[0m\u001b[0m\n",
            "\u001b[0;32m/usr/local/lib/python3.6/dist-packages/tensorflow/python/keras/callbacks.py\u001b[0m in \u001b[0;36mon_train_batch_end\u001b[0;34m(self, batch, logs)\u001b[0m\n\u001b[1;32m    438\u001b[0m     \"\"\"\n\u001b[1;32m    439\u001b[0m     \u001b[0;32mif\u001b[0m \u001b[0mself\u001b[0m\u001b[0;34m.\u001b[0m\u001b[0m_should_call_train_batch_hooks\u001b[0m\u001b[0;34m:\u001b[0m\u001b[0;34m\u001b[0m\u001b[0;34m\u001b[0m\u001b[0m\n\u001b[0;32m--> 440\u001b[0;31m       \u001b[0mself\u001b[0m\u001b[0;34m.\u001b[0m\u001b[0m_call_batch_hook\u001b[0m\u001b[0;34m(\u001b[0m\u001b[0mModeKeys\u001b[0m\u001b[0;34m.\u001b[0m\u001b[0mTRAIN\u001b[0m\u001b[0;34m,\u001b[0m \u001b[0;34m'end'\u001b[0m\u001b[0;34m,\u001b[0m \u001b[0mbatch\u001b[0m\u001b[0;34m,\u001b[0m \u001b[0mlogs\u001b[0m\u001b[0;34m=\u001b[0m\u001b[0mlogs\u001b[0m\u001b[0;34m)\u001b[0m\u001b[0;34m\u001b[0m\u001b[0;34m\u001b[0m\u001b[0m\n\u001b[0m\u001b[1;32m    441\u001b[0m \u001b[0;34m\u001b[0m\u001b[0m\n\u001b[1;32m    442\u001b[0m   \u001b[0;32mdef\u001b[0m \u001b[0mon_test_batch_begin\u001b[0m\u001b[0;34m(\u001b[0m\u001b[0mself\u001b[0m\u001b[0;34m,\u001b[0m \u001b[0mbatch\u001b[0m\u001b[0;34m,\u001b[0m \u001b[0mlogs\u001b[0m\u001b[0;34m=\u001b[0m\u001b[0;32mNone\u001b[0m\u001b[0;34m)\u001b[0m\u001b[0;34m:\u001b[0m\u001b[0;34m\u001b[0m\u001b[0;34m\u001b[0m\u001b[0m\n",
            "\u001b[0;32m/usr/local/lib/python3.6/dist-packages/tensorflow/python/keras/callbacks.py\u001b[0m in \u001b[0;36m_call_batch_hook\u001b[0;34m(self, mode, hook, batch, logs)\u001b[0m\n\u001b[1;32m    287\u001b[0m       \u001b[0mself\u001b[0m\u001b[0;34m.\u001b[0m\u001b[0m_call_batch_begin_hook\u001b[0m\u001b[0;34m(\u001b[0m\u001b[0mmode\u001b[0m\u001b[0;34m,\u001b[0m \u001b[0mbatch\u001b[0m\u001b[0;34m,\u001b[0m \u001b[0mlogs\u001b[0m\u001b[0;34m)\u001b[0m\u001b[0;34m\u001b[0m\u001b[0;34m\u001b[0m\u001b[0m\n\u001b[1;32m    288\u001b[0m     \u001b[0;32melif\u001b[0m \u001b[0mhook\u001b[0m \u001b[0;34m==\u001b[0m \u001b[0;34m'end'\u001b[0m\u001b[0;34m:\u001b[0m\u001b[0;34m\u001b[0m\u001b[0;34m\u001b[0m\u001b[0m\n\u001b[0;32m--> 289\u001b[0;31m       \u001b[0mself\u001b[0m\u001b[0;34m.\u001b[0m\u001b[0m_call_batch_end_hook\u001b[0m\u001b[0;34m(\u001b[0m\u001b[0mmode\u001b[0m\u001b[0;34m,\u001b[0m \u001b[0mbatch\u001b[0m\u001b[0;34m,\u001b[0m \u001b[0mlogs\u001b[0m\u001b[0;34m)\u001b[0m\u001b[0;34m\u001b[0m\u001b[0;34m\u001b[0m\u001b[0m\n\u001b[0m\u001b[1;32m    290\u001b[0m     \u001b[0;32melse\u001b[0m\u001b[0;34m:\u001b[0m\u001b[0;34m\u001b[0m\u001b[0;34m\u001b[0m\u001b[0m\n\u001b[1;32m    291\u001b[0m       \u001b[0;32mraise\u001b[0m \u001b[0mValueError\u001b[0m\u001b[0;34m(\u001b[0m\u001b[0;34m'Unrecognized hook: {}'\u001b[0m\u001b[0;34m.\u001b[0m\u001b[0mformat\u001b[0m\u001b[0;34m(\u001b[0m\u001b[0mhook\u001b[0m\u001b[0;34m)\u001b[0m\u001b[0;34m)\u001b[0m\u001b[0;34m\u001b[0m\u001b[0;34m\u001b[0m\u001b[0m\n",
            "\u001b[0;32m/usr/local/lib/python3.6/dist-packages/tensorflow/python/keras/callbacks.py\u001b[0m in \u001b[0;36m_call_batch_end_hook\u001b[0;34m(self, mode, batch, logs)\u001b[0m\n\u001b[1;32m    307\u001b[0m       \u001b[0mbatch_time\u001b[0m \u001b[0;34m=\u001b[0m \u001b[0mtime\u001b[0m\u001b[0;34m.\u001b[0m\u001b[0mtime\u001b[0m\u001b[0;34m(\u001b[0m\u001b[0;34m)\u001b[0m \u001b[0;34m-\u001b[0m \u001b[0mself\u001b[0m\u001b[0;34m.\u001b[0m\u001b[0m_batch_start_time\u001b[0m\u001b[0;34m\u001b[0m\u001b[0;34m\u001b[0m\u001b[0m\n\u001b[1;32m    308\u001b[0m \u001b[0;34m\u001b[0m\u001b[0m\n\u001b[0;32m--> 309\u001b[0;31m     \u001b[0mself\u001b[0m\u001b[0;34m.\u001b[0m\u001b[0m_call_batch_hook_helper\u001b[0m\u001b[0;34m(\u001b[0m\u001b[0mhook_name\u001b[0m\u001b[0;34m,\u001b[0m \u001b[0mbatch\u001b[0m\u001b[0;34m,\u001b[0m \u001b[0mlogs\u001b[0m\u001b[0;34m)\u001b[0m\u001b[0;34m\u001b[0m\u001b[0;34m\u001b[0m\u001b[0m\n\u001b[0m\u001b[1;32m    310\u001b[0m \u001b[0;34m\u001b[0m\u001b[0m\n\u001b[1;32m    311\u001b[0m     \u001b[0;32mif\u001b[0m \u001b[0mself\u001b[0m\u001b[0;34m.\u001b[0m\u001b[0m_check_timing\u001b[0m\u001b[0;34m:\u001b[0m\u001b[0;34m\u001b[0m\u001b[0;34m\u001b[0m\u001b[0m\n",
            "\u001b[0;32m/usr/local/lib/python3.6/dist-packages/tensorflow/python/keras/callbacks.py\u001b[0m in \u001b[0;36m_call_batch_hook_helper\u001b[0;34m(self, hook_name, batch, logs)\u001b[0m\n\u001b[1;32m    340\u001b[0m       \u001b[0mhook\u001b[0m \u001b[0;34m=\u001b[0m \u001b[0mgetattr\u001b[0m\u001b[0;34m(\u001b[0m\u001b[0mcallback\u001b[0m\u001b[0;34m,\u001b[0m \u001b[0mhook_name\u001b[0m\u001b[0;34m)\u001b[0m\u001b[0;34m\u001b[0m\u001b[0;34m\u001b[0m\u001b[0m\n\u001b[1;32m    341\u001b[0m       \u001b[0;32mif\u001b[0m \u001b[0mgetattr\u001b[0m\u001b[0;34m(\u001b[0m\u001b[0mcallback\u001b[0m\u001b[0;34m,\u001b[0m \u001b[0;34m'_supports_tf_logs'\u001b[0m\u001b[0;34m,\u001b[0m \u001b[0;32mFalse\u001b[0m\u001b[0;34m)\u001b[0m\u001b[0;34m:\u001b[0m\u001b[0;34m\u001b[0m\u001b[0;34m\u001b[0m\u001b[0m\n\u001b[0;32m--> 342\u001b[0;31m         \u001b[0mhook\u001b[0m\u001b[0;34m(\u001b[0m\u001b[0mbatch\u001b[0m\u001b[0;34m,\u001b[0m \u001b[0mlogs\u001b[0m\u001b[0;34m)\u001b[0m\u001b[0;34m\u001b[0m\u001b[0;34m\u001b[0m\u001b[0m\n\u001b[0m\u001b[1;32m    343\u001b[0m       \u001b[0;32melse\u001b[0m\u001b[0;34m:\u001b[0m\u001b[0;34m\u001b[0m\u001b[0;34m\u001b[0m\u001b[0m\n\u001b[1;32m    344\u001b[0m         \u001b[0;32mif\u001b[0m \u001b[0mnumpy_logs\u001b[0m \u001b[0;32mis\u001b[0m \u001b[0;32mNone\u001b[0m\u001b[0;34m:\u001b[0m  \u001b[0;31m# Only convert once.\u001b[0m\u001b[0;34m\u001b[0m\u001b[0;34m\u001b[0m\u001b[0m\n",
            "\u001b[0;32m/usr/local/lib/python3.6/dist-packages/tensorflow/python/keras/callbacks.py\u001b[0m in \u001b[0;36mon_train_batch_end\u001b[0;34m(self, batch, logs)\u001b[0m\n\u001b[1;32m    959\u001b[0m \u001b[0;34m\u001b[0m\u001b[0m\n\u001b[1;32m    960\u001b[0m   \u001b[0;32mdef\u001b[0m \u001b[0mon_train_batch_end\u001b[0m\u001b[0;34m(\u001b[0m\u001b[0mself\u001b[0m\u001b[0;34m,\u001b[0m \u001b[0mbatch\u001b[0m\u001b[0;34m,\u001b[0m \u001b[0mlogs\u001b[0m\u001b[0;34m=\u001b[0m\u001b[0;32mNone\u001b[0m\u001b[0;34m)\u001b[0m\u001b[0;34m:\u001b[0m\u001b[0;34m\u001b[0m\u001b[0;34m\u001b[0m\u001b[0m\n\u001b[0;32m--> 961\u001b[0;31m     \u001b[0mself\u001b[0m\u001b[0;34m.\u001b[0m\u001b[0m_batch_update_progbar\u001b[0m\u001b[0;34m(\u001b[0m\u001b[0mbatch\u001b[0m\u001b[0;34m,\u001b[0m \u001b[0mlogs\u001b[0m\u001b[0;34m)\u001b[0m\u001b[0;34m\u001b[0m\u001b[0;34m\u001b[0m\u001b[0m\n\u001b[0m\u001b[1;32m    962\u001b[0m \u001b[0;34m\u001b[0m\u001b[0m\n\u001b[1;32m    963\u001b[0m   \u001b[0;32mdef\u001b[0m \u001b[0mon_test_batch_end\u001b[0m\u001b[0;34m(\u001b[0m\u001b[0mself\u001b[0m\u001b[0;34m,\u001b[0m \u001b[0mbatch\u001b[0m\u001b[0;34m,\u001b[0m \u001b[0mlogs\u001b[0m\u001b[0;34m=\u001b[0m\u001b[0;32mNone\u001b[0m\u001b[0;34m)\u001b[0m\u001b[0;34m:\u001b[0m\u001b[0;34m\u001b[0m\u001b[0;34m\u001b[0m\u001b[0m\n",
            "\u001b[0;32m/usr/local/lib/python3.6/dist-packages/tensorflow/python/keras/callbacks.py\u001b[0m in \u001b[0;36m_batch_update_progbar\u001b[0;34m(self, batch, logs)\u001b[0m\n\u001b[1;32m   1014\u001b[0m     \u001b[0;32mif\u001b[0m \u001b[0mself\u001b[0m\u001b[0;34m.\u001b[0m\u001b[0mverbose\u001b[0m \u001b[0;34m==\u001b[0m \u001b[0;36m1\u001b[0m\u001b[0;34m:\u001b[0m\u001b[0;34m\u001b[0m\u001b[0;34m\u001b[0m\u001b[0m\n\u001b[1;32m   1015\u001b[0m       \u001b[0;31m# Only block async when verbose = 1.\u001b[0m\u001b[0;34m\u001b[0m\u001b[0;34m\u001b[0m\u001b[0;34m\u001b[0m\u001b[0m\n\u001b[0;32m-> 1016\u001b[0;31m       \u001b[0mlogs\u001b[0m \u001b[0;34m=\u001b[0m \u001b[0mtf_utils\u001b[0m\u001b[0;34m.\u001b[0m\u001b[0mto_numpy_or_python_type\u001b[0m\u001b[0;34m(\u001b[0m\u001b[0mlogs\u001b[0m\u001b[0;34m)\u001b[0m\u001b[0;34m\u001b[0m\u001b[0;34m\u001b[0m\u001b[0m\n\u001b[0m\u001b[1;32m   1017\u001b[0m       \u001b[0mself\u001b[0m\u001b[0;34m.\u001b[0m\u001b[0mprogbar\u001b[0m\u001b[0;34m.\u001b[0m\u001b[0mupdate\u001b[0m\u001b[0;34m(\u001b[0m\u001b[0mself\u001b[0m\u001b[0;34m.\u001b[0m\u001b[0mseen\u001b[0m\u001b[0;34m,\u001b[0m \u001b[0mlist\u001b[0m\u001b[0;34m(\u001b[0m\u001b[0mlogs\u001b[0m\u001b[0;34m.\u001b[0m\u001b[0mitems\u001b[0m\u001b[0;34m(\u001b[0m\u001b[0;34m)\u001b[0m\u001b[0;34m)\u001b[0m\u001b[0;34m,\u001b[0m \u001b[0mfinalize\u001b[0m\u001b[0;34m=\u001b[0m\u001b[0;32mFalse\u001b[0m\u001b[0;34m)\u001b[0m\u001b[0;34m\u001b[0m\u001b[0;34m\u001b[0m\u001b[0m\n\u001b[1;32m   1018\u001b[0m \u001b[0;34m\u001b[0m\u001b[0m\n",
            "\u001b[0;32m/usr/local/lib/python3.6/dist-packages/tensorflow/python/keras/utils/tf_utils.py\u001b[0m in \u001b[0;36mto_numpy_or_python_type\u001b[0;34m(tensors)\u001b[0m\n\u001b[1;32m    535\u001b[0m     \u001b[0;32mreturn\u001b[0m \u001b[0mt\u001b[0m  \u001b[0;31m# Don't turn ragged or sparse tensors to NumPy.\u001b[0m\u001b[0;34m\u001b[0m\u001b[0;34m\u001b[0m\u001b[0m\n\u001b[1;32m    536\u001b[0m \u001b[0;34m\u001b[0m\u001b[0m\n\u001b[0;32m--> 537\u001b[0;31m   \u001b[0;32mreturn\u001b[0m \u001b[0mnest\u001b[0m\u001b[0;34m.\u001b[0m\u001b[0mmap_structure\u001b[0m\u001b[0;34m(\u001b[0m\u001b[0m_to_single_numpy_or_python_type\u001b[0m\u001b[0;34m,\u001b[0m \u001b[0mtensors\u001b[0m\u001b[0;34m)\u001b[0m\u001b[0;34m\u001b[0m\u001b[0;34m\u001b[0m\u001b[0m\n\u001b[0m\u001b[1;32m    538\u001b[0m \u001b[0;34m\u001b[0m\u001b[0m\n\u001b[1;32m    539\u001b[0m \u001b[0;34m\u001b[0m\u001b[0m\n",
            "\u001b[0;32m/usr/local/lib/python3.6/dist-packages/tensorflow/python/util/nest.py\u001b[0m in \u001b[0;36mmap_structure\u001b[0;34m(func, *structure, **kwargs)\u001b[0m\n\u001b[1;32m    633\u001b[0m \u001b[0;34m\u001b[0m\u001b[0m\n\u001b[1;32m    634\u001b[0m   return pack_sequence_as(\n\u001b[0;32m--> 635\u001b[0;31m       \u001b[0mstructure\u001b[0m\u001b[0;34m[\u001b[0m\u001b[0;36m0\u001b[0m\u001b[0;34m]\u001b[0m\u001b[0;34m,\u001b[0m \u001b[0;34m[\u001b[0m\u001b[0mfunc\u001b[0m\u001b[0;34m(\u001b[0m\u001b[0;34m*\u001b[0m\u001b[0mx\u001b[0m\u001b[0;34m)\u001b[0m \u001b[0;32mfor\u001b[0m \u001b[0mx\u001b[0m \u001b[0;32min\u001b[0m \u001b[0mentries\u001b[0m\u001b[0;34m]\u001b[0m\u001b[0;34m,\u001b[0m\u001b[0;34m\u001b[0m\u001b[0;34m\u001b[0m\u001b[0m\n\u001b[0m\u001b[1;32m    636\u001b[0m       expand_composites=expand_composites)\n\u001b[1;32m    637\u001b[0m \u001b[0;34m\u001b[0m\u001b[0m\n",
            "\u001b[0;32m/usr/local/lib/python3.6/dist-packages/tensorflow/python/util/nest.py\u001b[0m in \u001b[0;36m<listcomp>\u001b[0;34m(.0)\u001b[0m\n\u001b[1;32m    633\u001b[0m \u001b[0;34m\u001b[0m\u001b[0m\n\u001b[1;32m    634\u001b[0m   return pack_sequence_as(\n\u001b[0;32m--> 635\u001b[0;31m       \u001b[0mstructure\u001b[0m\u001b[0;34m[\u001b[0m\u001b[0;36m0\u001b[0m\u001b[0;34m]\u001b[0m\u001b[0;34m,\u001b[0m \u001b[0;34m[\u001b[0m\u001b[0mfunc\u001b[0m\u001b[0;34m(\u001b[0m\u001b[0;34m*\u001b[0m\u001b[0mx\u001b[0m\u001b[0;34m)\u001b[0m \u001b[0;32mfor\u001b[0m \u001b[0mx\u001b[0m \u001b[0;32min\u001b[0m \u001b[0mentries\u001b[0m\u001b[0;34m]\u001b[0m\u001b[0;34m,\u001b[0m\u001b[0;34m\u001b[0m\u001b[0;34m\u001b[0m\u001b[0m\n\u001b[0m\u001b[1;32m    636\u001b[0m       expand_composites=expand_composites)\n\u001b[1;32m    637\u001b[0m \u001b[0;34m\u001b[0m\u001b[0m\n",
            "\u001b[0;32m/usr/local/lib/python3.6/dist-packages/tensorflow/python/keras/utils/tf_utils.py\u001b[0m in \u001b[0;36m_to_single_numpy_or_python_type\u001b[0;34m(t)\u001b[0m\n\u001b[1;32m    531\u001b[0m   \u001b[0;32mdef\u001b[0m \u001b[0m_to_single_numpy_or_python_type\u001b[0m\u001b[0;34m(\u001b[0m\u001b[0mt\u001b[0m\u001b[0;34m)\u001b[0m\u001b[0;34m:\u001b[0m\u001b[0;34m\u001b[0m\u001b[0;34m\u001b[0m\u001b[0m\n\u001b[1;32m    532\u001b[0m     \u001b[0;32mif\u001b[0m \u001b[0misinstance\u001b[0m\u001b[0;34m(\u001b[0m\u001b[0mt\u001b[0m\u001b[0;34m,\u001b[0m \u001b[0mops\u001b[0m\u001b[0;34m.\u001b[0m\u001b[0mTensor\u001b[0m\u001b[0;34m)\u001b[0m\u001b[0;34m:\u001b[0m\u001b[0;34m\u001b[0m\u001b[0;34m\u001b[0m\u001b[0m\n\u001b[0;32m--> 533\u001b[0;31m       \u001b[0mx\u001b[0m \u001b[0;34m=\u001b[0m \u001b[0mt\u001b[0m\u001b[0;34m.\u001b[0m\u001b[0mnumpy\u001b[0m\u001b[0;34m(\u001b[0m\u001b[0;34m)\u001b[0m\u001b[0;34m\u001b[0m\u001b[0;34m\u001b[0m\u001b[0m\n\u001b[0m\u001b[1;32m    534\u001b[0m       \u001b[0;32mreturn\u001b[0m \u001b[0mx\u001b[0m\u001b[0;34m.\u001b[0m\u001b[0mitem\u001b[0m\u001b[0;34m(\u001b[0m\u001b[0;34m)\u001b[0m \u001b[0;32mif\u001b[0m \u001b[0mnp\u001b[0m\u001b[0;34m.\u001b[0m\u001b[0mndim\u001b[0m\u001b[0;34m(\u001b[0m\u001b[0mx\u001b[0m\u001b[0;34m)\u001b[0m \u001b[0;34m==\u001b[0m \u001b[0;36m0\u001b[0m \u001b[0;32melse\u001b[0m \u001b[0mx\u001b[0m\u001b[0;34m\u001b[0m\u001b[0;34m\u001b[0m\u001b[0m\n\u001b[1;32m    535\u001b[0m     \u001b[0;32mreturn\u001b[0m \u001b[0mt\u001b[0m  \u001b[0;31m# Don't turn ragged or sparse tensors to NumPy.\u001b[0m\u001b[0;34m\u001b[0m\u001b[0;34m\u001b[0m\u001b[0m\n",
            "\u001b[0;32m/usr/local/lib/python3.6/dist-packages/tensorflow/python/framework/ops.py\u001b[0m in \u001b[0;36mnumpy\u001b[0;34m(self)\u001b[0m\n\u001b[1;32m   1061\u001b[0m     \"\"\"\n\u001b[1;32m   1062\u001b[0m     \u001b[0;31m# TODO(slebedev): Consider avoiding a copy for non-CPU or remote tensors.\u001b[0m\u001b[0;34m\u001b[0m\u001b[0;34m\u001b[0m\u001b[0;34m\u001b[0m\u001b[0m\n\u001b[0;32m-> 1063\u001b[0;31m     \u001b[0mmaybe_arr\u001b[0m \u001b[0;34m=\u001b[0m \u001b[0mself\u001b[0m\u001b[0;34m.\u001b[0m\u001b[0m_numpy\u001b[0m\u001b[0;34m(\u001b[0m\u001b[0;34m)\u001b[0m  \u001b[0;31m# pylint: disable=protected-access\u001b[0m\u001b[0;34m\u001b[0m\u001b[0;34m\u001b[0m\u001b[0m\n\u001b[0m\u001b[1;32m   1064\u001b[0m     \u001b[0;32mreturn\u001b[0m \u001b[0mmaybe_arr\u001b[0m\u001b[0;34m.\u001b[0m\u001b[0mcopy\u001b[0m\u001b[0;34m(\u001b[0m\u001b[0;34m)\u001b[0m \u001b[0;32mif\u001b[0m \u001b[0misinstance\u001b[0m\u001b[0;34m(\u001b[0m\u001b[0mmaybe_arr\u001b[0m\u001b[0;34m,\u001b[0m \u001b[0mnp\u001b[0m\u001b[0;34m.\u001b[0m\u001b[0mndarray\u001b[0m\u001b[0;34m)\u001b[0m \u001b[0;32melse\u001b[0m \u001b[0mmaybe_arr\u001b[0m\u001b[0;34m\u001b[0m\u001b[0;34m\u001b[0m\u001b[0m\n\u001b[1;32m   1065\u001b[0m \u001b[0;34m\u001b[0m\u001b[0m\n",
            "\u001b[0;32m/usr/local/lib/python3.6/dist-packages/tensorflow/python/framework/ops.py\u001b[0m in \u001b[0;36m_numpy\u001b[0;34m(self)\u001b[0m\n\u001b[1;32m   1027\u001b[0m   \u001b[0;32mdef\u001b[0m \u001b[0m_numpy\u001b[0m\u001b[0;34m(\u001b[0m\u001b[0mself\u001b[0m\u001b[0;34m)\u001b[0m\u001b[0;34m:\u001b[0m\u001b[0;34m\u001b[0m\u001b[0;34m\u001b[0m\u001b[0m\n\u001b[1;32m   1028\u001b[0m     \u001b[0;32mtry\u001b[0m\u001b[0;34m:\u001b[0m\u001b[0;34m\u001b[0m\u001b[0;34m\u001b[0m\u001b[0m\n\u001b[0;32m-> 1029\u001b[0;31m       \u001b[0;32mreturn\u001b[0m \u001b[0mself\u001b[0m\u001b[0;34m.\u001b[0m\u001b[0m_numpy_internal\u001b[0m\u001b[0;34m(\u001b[0m\u001b[0;34m)\u001b[0m\u001b[0;34m\u001b[0m\u001b[0;34m\u001b[0m\u001b[0m\n\u001b[0m\u001b[1;32m   1030\u001b[0m     \u001b[0;32mexcept\u001b[0m \u001b[0mcore\u001b[0m\u001b[0;34m.\u001b[0m\u001b[0m_NotOkStatusException\u001b[0m \u001b[0;32mas\u001b[0m \u001b[0me\u001b[0m\u001b[0;34m:\u001b[0m  \u001b[0;31m# pylint: disable=protected-access\u001b[0m\u001b[0;34m\u001b[0m\u001b[0;34m\u001b[0m\u001b[0m\n\u001b[1;32m   1031\u001b[0m       \u001b[0msix\u001b[0m\u001b[0;34m.\u001b[0m\u001b[0mraise_from\u001b[0m\u001b[0;34m(\u001b[0m\u001b[0mcore\u001b[0m\u001b[0;34m.\u001b[0m\u001b[0m_status_to_exception\u001b[0m\u001b[0;34m(\u001b[0m\u001b[0me\u001b[0m\u001b[0;34m.\u001b[0m\u001b[0mcode\u001b[0m\u001b[0;34m,\u001b[0m \u001b[0me\u001b[0m\u001b[0;34m.\u001b[0m\u001b[0mmessage\u001b[0m\u001b[0;34m)\u001b[0m\u001b[0;34m,\u001b[0m \u001b[0;32mNone\u001b[0m\u001b[0;34m)\u001b[0m  \u001b[0;31m# pylint: disable=protected-access\u001b[0m\u001b[0;34m\u001b[0m\u001b[0;34m\u001b[0m\u001b[0m\n",
            "\u001b[0;31mKeyboardInterrupt\u001b[0m: "
          ]
        }
      ]
    },
    {
      "cell_type": "code",
      "metadata": {
        "id": "py2hNtue5z9q"
      },
      "source": [
        "loss, accuracy, f1_score, precision, recall = glove_model2.evaluate(val_X_tokenized, val_Y, verbose=0)\n",
        "print(loss, accuracy, f1_score, precision, recall)"
      ],
      "execution_count": null,
      "outputs": []
    },
    {
      "cell_type": "code",
      "metadata": {
        "id": "K64lItTf5z4j"
      },
      "source": [
        "# plot history\n",
        "# Plot training & validation accuracy values\n",
        "import matplotlib.pyplot as plt \n",
        "plt.plot(history.history['accuracy'])\n",
        "plt.plot(history.history['val_accuracy'])\n",
        "plt.title('Model accuracy')\n",
        "plt.ylabel('Accuracy')\n",
        "plt.xlabel('Epoch')\n",
        "plt.legend(['Train', 'Val'], loc='upper left')\n",
        "plt.show()\n",
        "\n",
        "# Plot training & validation loss values\n",
        "plt.plot(history.history['loss'])\n",
        "plt.plot(history.history['val_loss'])\n",
        "plt.title('Model loss')\n",
        "plt.ylabel('Loss')\n",
        "plt.xlabel('Epoch')\n",
        "plt.legend(['Train', 'Val'], loc='upper left')\n",
        "plt.show()  "
      ],
      "execution_count": null,
      "outputs": []
    },
    {
      "cell_type": "markdown",
      "metadata": {
        "id": "22FcjnO0QhzD"
      },
      "source": [
        "**Feature: Tweets+Image,hasLink**"
      ]
    },
    {
      "cell_type": "code",
      "metadata": {
        "id": "kepl7ofbauFs"
      },
      "source": [
        "glove_model2_feature2 = models.Sequential()\n",
        "glove_model2_feature2.add(layers.Embedding(vocab_size,\n",
        "                            glove_dim,\n",
        "                            weights=[embedding_matrix],\n",
        "                            input_length=max_len+2,\n",
        "                            trainable=False))\n",
        "#glove_model.add(layers.LSTM(64))\n",
        "glove_model2_feature2.add(LSTM(128,return_sequences=True))\n",
        "glove_model2.add(layers.Dropout(0.8))\n",
        "glove_model2_feature2.add(LSTM(64,return_sequences=True))\n",
        "glove_model2.add(layers.Dropout(0.3))\n",
        "glove_model2_feature2.add(LSTM(32,return_sequences=False))\n",
        "glove_model2.add(layers.Dropout(0.3))\n",
        "glove_model2_feature2.add(layers.Dense(10,activation=\"relu\"))\n",
        "#glove_model2.add(layers.Dense(10,activation=\"relu\"))\n",
        "#glove_model.add(layers.Dropout(0.2))\n",
        "glove_model2_feature2.add(Dense(3, activation='softmax'))\n",
        "glove_model2_feature2.summary()"
      ],
      "execution_count": null,
      "outputs": []
    },
    {
      "cell_type": "code",
      "metadata": {
        "id": "_IFOySX6b4LH"
      },
      "source": [
        "X_train_df.shape"
      ],
      "execution_count": null,
      "outputs": []
    },
    {
      "cell_type": "code",
      "metadata": {
        "id": "wjjHkFgUbXVk"
      },
      "source": [
        "glove_model2_feature2.compile(loss='categorical_crossentropy', optimizer='adam', metrics=['accuracy',f1_m,precision_m, recall_m])\n",
        "\n",
        "from tensorflow.keras.callbacks import EarlyStopping\n",
        "\n",
        "history = glove_model2_feature2.fit(X_train_df, \n",
        "                    train_Y, \n",
        "                    batch_size=100, \n",
        "                    epochs=50, \n",
        "                    validation_data=(X_val_df, val_Y)\n",
        "                   \n",
        "                    )"
      ],
      "execution_count": null,
      "outputs": []
    },
    {
      "cell_type": "code",
      "metadata": {
        "id": "EBpDQnP7GvpH"
      },
      "source": [
        "loss, accuracy, f1_score, precision, recall = glove_model2_feature2.evaluate(X_val_df, val_Y, verbose=0)\n",
        "print(loss, accuracy, f1_score, precision, recall)"
      ],
      "execution_count": null,
      "outputs": []
    },
    {
      "cell_type": "code",
      "metadata": {
        "id": "waO7y2hPbXeE"
      },
      "source": [
        "# plot history\n",
        "# Plot training & validation accuracy values\n",
        "import matplotlib.pyplot as plt \n",
        "plt.plot(history.history['accuracy'])\n",
        "plt.plot(history.history['val_accuracy'])\n",
        "plt.title('Model accuracy')\n",
        "plt.ylabel('Accuracy')\n",
        "plt.xlabel('Epoch')\n",
        "plt.legend(['Train', 'Val'], loc='upper left')\n",
        "plt.show()\n",
        "\n",
        "# Plot training & validation loss values\n",
        "plt.plot(history.history['loss'])\n",
        "plt.plot(history.history['val_loss'])\n",
        "plt.title('Model loss')\n",
        "plt.ylabel('Loss')\n",
        "plt.xlabel('Epoch')\n",
        "plt.legend(['Train', 'Val'], loc='upper left')\n",
        "plt.show()"
      ],
      "execution_count": null,
      "outputs": []
    },
    {
      "cell_type": "markdown",
      "metadata": {
        "id": "NWmSyJiNS-9Q"
      },
      "source": [
        "Multi-channel CNN Model on 1 Feature only\r\n"
      ]
    },
    {
      "cell_type": "code",
      "metadata": {
        "colab": {
          "base_uri": "https://localhost:8080/"
        },
        "id": "S8fHLkraTDHF",
        "outputId": "4447d43b-f52b-45e9-90e2-0939a365ff67"
      },
      "source": [
        "from keras.layers.merge import concatenate\r\n",
        "# channel 1\r\n",
        "inputs1 = layers.Input(shape=(max_len,))\r\n",
        "embedding1 = layers.Embedding(vocab_size, 100)(inputs1)\r\n",
        "conv1 = layers.Conv1D(filters=64, kernel_size=4, activation='relu')(embedding1)\r\n",
        "drop1 = layers.Dropout(0.5)(conv1)\r\n",
        "pool1 = layers.MaxPooling1D(pool_size=2)(drop1)\r\n",
        "flat1 = layers.Flatten()(pool1)\r\n",
        "# channel 2\r\n",
        "inputs2 = layers.Input(shape=(max_len,))\r\n",
        "embedding2 = layers.Embedding(vocab_size, 100)(inputs2)\r\n",
        "conv2 = layers.Conv1D(filters=64, kernel_size=6, activation='relu')(embedding2)\r\n",
        "drop2 = layers.Dropout(0.5)(conv2)\r\n",
        "pool2 = layers.MaxPooling1D(pool_size=2)(drop2)\r\n",
        "flat2 = layers.Flatten()(pool2)\r\n",
        "# channel 3\r\n",
        "inputs3 = layers.Input(shape=(max_len,))\r\n",
        "embedding3= layers.Embedding(vocab_size, 100)(inputs3)\r\n",
        "conv3 = layers.Conv1D(filters=64, kernel_size=8, activation='relu')(embedding3)\r\n",
        "drop3 = layers.Dropout(0.5)(conv3)\r\n",
        "pool3 = layers.MaxPooling1D(pool_size=2)(drop3)\r\n",
        "flat3 = layers.Flatten()(pool3)\r\n",
        "# merge\r\n",
        "merged = concatenate([flat1, flat2, flat3])\r\n",
        "# interpretation\r\n",
        "dense1 = layers.Dense(10, activation='relu')(merged)\r\n",
        "outputs = layers.Dense(3, activation='softmax')(dense1)\r\n",
        "model_cnn = Model(inputs=[inputs1, inputs2, inputs3], outputs=outputs)\r\n",
        "# summarize\r\n",
        "print(model_cnn.summary())"
      ],
      "execution_count": 98,
      "outputs": [
        {
          "output_type": "stream",
          "text": [
            "Model: \"functional_3\"\n",
            "__________________________________________________________________________________________________\n",
            "Layer (type)                    Output Shape         Param #     Connected to                     \n",
            "==================================================================================================\n",
            "input_7 (InputLayer)            [(None, 150)]        0                                            \n",
            "__________________________________________________________________________________________________\n",
            "input_8 (InputLayer)            [(None, 150)]        0                                            \n",
            "__________________________________________________________________________________________________\n",
            "input_9 (InputLayer)            [(None, 150)]        0                                            \n",
            "__________________________________________________________________________________________________\n",
            "embedding_12 (Embedding)        (None, 150, 100)     2901100     input_7[0][0]                    \n",
            "__________________________________________________________________________________________________\n",
            "embedding_13 (Embedding)        (None, 150, 100)     2901100     input_8[0][0]                    \n",
            "__________________________________________________________________________________________________\n",
            "embedding_14 (Embedding)        (None, 150, 100)     2901100     input_9[0][0]                    \n",
            "__________________________________________________________________________________________________\n",
            "conv1d_6 (Conv1D)               (None, 147, 64)      25664       embedding_12[0][0]               \n",
            "__________________________________________________________________________________________________\n",
            "conv1d_7 (Conv1D)               (None, 145, 64)      38464       embedding_13[0][0]               \n",
            "__________________________________________________________________________________________________\n",
            "conv1d_8 (Conv1D)               (None, 143, 64)      51264       embedding_14[0][0]               \n",
            "__________________________________________________________________________________________________\n",
            "dropout_12 (Dropout)            (None, 147, 64)      0           conv1d_6[0][0]                   \n",
            "__________________________________________________________________________________________________\n",
            "dropout_13 (Dropout)            (None, 145, 64)      0           conv1d_7[0][0]                   \n",
            "__________________________________________________________________________________________________\n",
            "dropout_14 (Dropout)            (None, 143, 64)      0           conv1d_8[0][0]                   \n",
            "__________________________________________________________________________________________________\n",
            "max_pooling1d_6 (MaxPooling1D)  (None, 73, 64)       0           dropout_12[0][0]                 \n",
            "__________________________________________________________________________________________________\n",
            "max_pooling1d_7 (MaxPooling1D)  (None, 72, 64)       0           dropout_13[0][0]                 \n",
            "__________________________________________________________________________________________________\n",
            "max_pooling1d_8 (MaxPooling1D)  (None, 71, 64)       0           dropout_14[0][0]                 \n",
            "__________________________________________________________________________________________________\n",
            "flatten_6 (Flatten)             (None, 4672)         0           max_pooling1d_6[0][0]            \n",
            "__________________________________________________________________________________________________\n",
            "flatten_7 (Flatten)             (None, 4608)         0           max_pooling1d_7[0][0]            \n",
            "__________________________________________________________________________________________________\n",
            "flatten_8 (Flatten)             (None, 4544)         0           max_pooling1d_8[0][0]            \n",
            "__________________________________________________________________________________________________\n",
            "concatenate_1 (Concatenate)     (None, 13824)        0           flatten_6[0][0]                  \n",
            "                                                                 flatten_7[0][0]                  \n",
            "                                                                 flatten_8[0][0]                  \n",
            "__________________________________________________________________________________________________\n",
            "dense_9 (Dense)                 (None, 10)           138250      concatenate_1[0][0]              \n",
            "__________________________________________________________________________________________________\n",
            "dense_10 (Dense)                (None, 3)            33          dense_9[0][0]                    \n",
            "==================================================================================================\n",
            "Total params: 8,956,975\n",
            "Trainable params: 8,956,975\n",
            "Non-trainable params: 0\n",
            "__________________________________________________________________________________________________\n",
            "None\n"
          ],
          "name": "stdout"
        }
      ]
    },
    {
      "cell_type": "code",
      "metadata": {
        "colab": {
          "base_uri": "https://localhost:8080/",
          "height": 609
        },
        "id": "q7sJngosTDQf",
        "outputId": "31e80064-2ce9-4629-88e3-51c39831d5ad"
      },
      "source": [
        "model_cnn.compile(loss='categorical_crossentropy', optimizer='adam', metrics=['accuracy',f1_m,precision_m, recall_m])\r\n",
        "\r\n",
        "history = model.fit([train_X_tokenized,train_X_tokenized,train_X_tokenized], \r\n",
        "                    train_Y, \r\n",
        "                    batch_size=512, \r\n",
        "                    epochs=150, \r\n",
        "                    validation_data=([val_X_tokenized,val_X_tokenized,val_X_tokenized], val_Y),\r\n",
        "                    shuffle=True\r\n",
        ")"
      ],
      "execution_count": 99,
      "outputs": [
        {
          "output_type": "stream",
          "text": [
            "Epoch 1/150\n",
            "70/70 [==============================] - 48s 685ms/step - loss: 0.1133 - accuracy: 0.9613 - f1_m: 0.9620 - precision_m: 0.9683 - recall_m: 0.9559 - val_loss: 2.1626 - val_accuracy: 0.5612 - val_f1_m: 0.5585 - val_precision_m: 0.5643 - val_recall_m: 0.5528\n",
            "Epoch 2/150\n",
            "70/70 [==============================] - 48s 688ms/step - loss: 0.0769 - accuracy: 0.9743 - f1_m: 0.9747 - precision_m: 0.9792 - recall_m: 0.9702 - val_loss: 2.5285 - val_accuracy: 0.5593 - val_f1_m: 0.5557 - val_precision_m: 0.5602 - val_recall_m: 0.5514\n",
            "Epoch 3/150\n",
            "70/70 [==============================] - 48s 681ms/step - loss: 0.0599 - accuracy: 0.9799 - f1_m: 0.9806 - precision_m: 0.9846 - recall_m: 0.9767 - val_loss: 2.7471 - val_accuracy: 0.5576 - val_f1_m: 0.5543 - val_precision_m: 0.5581 - val_recall_m: 0.5506\n",
            "Epoch 4/150\n",
            "70/70 [==============================] - 48s 684ms/step - loss: 0.0480 - accuracy: 0.9838 - f1_m: 0.9844 - precision_m: 0.9874 - recall_m: 0.9815 - val_loss: 2.9969 - val_accuracy: 0.5580 - val_f1_m: 0.5552 - val_precision_m: 0.5587 - val_recall_m: 0.5517\n",
            "Epoch 5/150\n",
            "70/70 [==============================] - 48s 686ms/step - loss: 0.0396 - accuracy: 0.9869 - f1_m: 0.9879 - precision_m: 0.9909 - recall_m: 0.9849 - val_loss: 3.1464 - val_accuracy: 0.5572 - val_f1_m: 0.5544 - val_precision_m: 0.5572 - val_recall_m: 0.5517\n",
            "Epoch 6/150\n",
            "70/70 [==============================] - 47s 678ms/step - loss: 0.0334 - accuracy: 0.9887 - f1_m: 0.9895 - precision_m: 0.9918 - recall_m: 0.9872 - val_loss: 3.3314 - val_accuracy: 0.5560 - val_f1_m: 0.5536 - val_precision_m: 0.5561 - val_recall_m: 0.5511\n",
            "Epoch 7/150\n",
            "51/70 [====================>.........] - ETA: 11s - loss: 0.0253 - accuracy: 0.9915 - f1_m: 0.9923 - precision_m: 0.9947 - recall_m: 0.9900"
          ],
          "name": "stdout"
        },
        {
          "output_type": "error",
          "ename": "KeyboardInterrupt",
          "evalue": "ignored",
          "traceback": [
            "\u001b[0;31m---------------------------------------------------------------------------\u001b[0m",
            "\u001b[0;31mKeyboardInterrupt\u001b[0m                         Traceback (most recent call last)",
            "\u001b[0;32m<ipython-input-99-fd08184b6eab>\u001b[0m in \u001b[0;36m<module>\u001b[0;34m()\u001b[0m\n\u001b[1;32m      6\u001b[0m                     \u001b[0mepochs\u001b[0m\u001b[0;34m=\u001b[0m\u001b[0;36m150\u001b[0m\u001b[0;34m,\u001b[0m\u001b[0;34m\u001b[0m\u001b[0;34m\u001b[0m\u001b[0m\n\u001b[1;32m      7\u001b[0m                     \u001b[0mvalidation_data\u001b[0m\u001b[0;34m=\u001b[0m\u001b[0;34m(\u001b[0m\u001b[0;34m[\u001b[0m\u001b[0mval_X_tokenized\u001b[0m\u001b[0;34m,\u001b[0m\u001b[0mval_X_tokenized\u001b[0m\u001b[0;34m,\u001b[0m\u001b[0mval_X_tokenized\u001b[0m\u001b[0;34m]\u001b[0m\u001b[0;34m,\u001b[0m \u001b[0mval_Y\u001b[0m\u001b[0;34m)\u001b[0m\u001b[0;34m,\u001b[0m\u001b[0;34m\u001b[0m\u001b[0;34m\u001b[0m\u001b[0m\n\u001b[0;32m----> 8\u001b[0;31m                     \u001b[0mshuffle\u001b[0m\u001b[0;34m=\u001b[0m\u001b[0;32mTrue\u001b[0m\u001b[0;34m\u001b[0m\u001b[0;34m\u001b[0m\u001b[0m\n\u001b[0m\u001b[1;32m      9\u001b[0m )\n",
            "\u001b[0;32m/usr/local/lib/python3.6/dist-packages/tensorflow/python/keras/engine/training.py\u001b[0m in \u001b[0;36m_method_wrapper\u001b[0;34m(self, *args, **kwargs)\u001b[0m\n\u001b[1;32m    106\u001b[0m   \u001b[0;32mdef\u001b[0m \u001b[0m_method_wrapper\u001b[0m\u001b[0;34m(\u001b[0m\u001b[0mself\u001b[0m\u001b[0;34m,\u001b[0m \u001b[0;34m*\u001b[0m\u001b[0margs\u001b[0m\u001b[0;34m,\u001b[0m \u001b[0;34m**\u001b[0m\u001b[0mkwargs\u001b[0m\u001b[0;34m)\u001b[0m\u001b[0;34m:\u001b[0m\u001b[0;34m\u001b[0m\u001b[0;34m\u001b[0m\u001b[0m\n\u001b[1;32m    107\u001b[0m     \u001b[0;32mif\u001b[0m \u001b[0;32mnot\u001b[0m \u001b[0mself\u001b[0m\u001b[0;34m.\u001b[0m\u001b[0m_in_multi_worker_mode\u001b[0m\u001b[0;34m(\u001b[0m\u001b[0;34m)\u001b[0m\u001b[0;34m:\u001b[0m  \u001b[0;31m# pylint: disable=protected-access\u001b[0m\u001b[0;34m\u001b[0m\u001b[0;34m\u001b[0m\u001b[0m\n\u001b[0;32m--> 108\u001b[0;31m       \u001b[0;32mreturn\u001b[0m \u001b[0mmethod\u001b[0m\u001b[0;34m(\u001b[0m\u001b[0mself\u001b[0m\u001b[0;34m,\u001b[0m \u001b[0;34m*\u001b[0m\u001b[0margs\u001b[0m\u001b[0;34m,\u001b[0m \u001b[0;34m**\u001b[0m\u001b[0mkwargs\u001b[0m\u001b[0;34m)\u001b[0m\u001b[0;34m\u001b[0m\u001b[0;34m\u001b[0m\u001b[0m\n\u001b[0m\u001b[1;32m    109\u001b[0m \u001b[0;34m\u001b[0m\u001b[0m\n\u001b[1;32m    110\u001b[0m     \u001b[0;31m# Running inside `run_distribute_coordinator` already.\u001b[0m\u001b[0;34m\u001b[0m\u001b[0;34m\u001b[0m\u001b[0;34m\u001b[0m\u001b[0m\n",
            "\u001b[0;32m/usr/local/lib/python3.6/dist-packages/tensorflow/python/keras/engine/training.py\u001b[0m in \u001b[0;36mfit\u001b[0;34m(self, x, y, batch_size, epochs, verbose, callbacks, validation_split, validation_data, shuffle, class_weight, sample_weight, initial_epoch, steps_per_epoch, validation_steps, validation_batch_size, validation_freq, max_queue_size, workers, use_multiprocessing)\u001b[0m\n\u001b[1;32m   1096\u001b[0m                 batch_size=batch_size):\n\u001b[1;32m   1097\u001b[0m               \u001b[0mcallbacks\u001b[0m\u001b[0;34m.\u001b[0m\u001b[0mon_train_batch_begin\u001b[0m\u001b[0;34m(\u001b[0m\u001b[0mstep\u001b[0m\u001b[0;34m)\u001b[0m\u001b[0;34m\u001b[0m\u001b[0;34m\u001b[0m\u001b[0m\n\u001b[0;32m-> 1098\u001b[0;31m               \u001b[0mtmp_logs\u001b[0m \u001b[0;34m=\u001b[0m \u001b[0mtrain_function\u001b[0m\u001b[0;34m(\u001b[0m\u001b[0miterator\u001b[0m\u001b[0;34m)\u001b[0m\u001b[0;34m\u001b[0m\u001b[0;34m\u001b[0m\u001b[0m\n\u001b[0m\u001b[1;32m   1099\u001b[0m               \u001b[0;32mif\u001b[0m \u001b[0mdata_handler\u001b[0m\u001b[0;34m.\u001b[0m\u001b[0mshould_sync\u001b[0m\u001b[0;34m:\u001b[0m\u001b[0;34m\u001b[0m\u001b[0;34m\u001b[0m\u001b[0m\n\u001b[1;32m   1100\u001b[0m                 \u001b[0mcontext\u001b[0m\u001b[0;34m.\u001b[0m\u001b[0masync_wait\u001b[0m\u001b[0;34m(\u001b[0m\u001b[0;34m)\u001b[0m\u001b[0;34m\u001b[0m\u001b[0;34m\u001b[0m\u001b[0m\n",
            "\u001b[0;32m/usr/local/lib/python3.6/dist-packages/tensorflow/python/eager/def_function.py\u001b[0m in \u001b[0;36m__call__\u001b[0;34m(self, *args, **kwds)\u001b[0m\n\u001b[1;32m    778\u001b[0m       \u001b[0;32melse\u001b[0m\u001b[0;34m:\u001b[0m\u001b[0;34m\u001b[0m\u001b[0;34m\u001b[0m\u001b[0m\n\u001b[1;32m    779\u001b[0m         \u001b[0mcompiler\u001b[0m \u001b[0;34m=\u001b[0m \u001b[0;34m\"nonXla\"\u001b[0m\u001b[0;34m\u001b[0m\u001b[0;34m\u001b[0m\u001b[0m\n\u001b[0;32m--> 780\u001b[0;31m         \u001b[0mresult\u001b[0m \u001b[0;34m=\u001b[0m \u001b[0mself\u001b[0m\u001b[0;34m.\u001b[0m\u001b[0m_call\u001b[0m\u001b[0;34m(\u001b[0m\u001b[0;34m*\u001b[0m\u001b[0margs\u001b[0m\u001b[0;34m,\u001b[0m \u001b[0;34m**\u001b[0m\u001b[0mkwds\u001b[0m\u001b[0;34m)\u001b[0m\u001b[0;34m\u001b[0m\u001b[0;34m\u001b[0m\u001b[0m\n\u001b[0m\u001b[1;32m    781\u001b[0m \u001b[0;34m\u001b[0m\u001b[0m\n\u001b[1;32m    782\u001b[0m       \u001b[0mnew_tracing_count\u001b[0m \u001b[0;34m=\u001b[0m \u001b[0mself\u001b[0m\u001b[0;34m.\u001b[0m\u001b[0m_get_tracing_count\u001b[0m\u001b[0;34m(\u001b[0m\u001b[0;34m)\u001b[0m\u001b[0;34m\u001b[0m\u001b[0;34m\u001b[0m\u001b[0m\n",
            "\u001b[0;32m/usr/local/lib/python3.6/dist-packages/tensorflow/python/eager/def_function.py\u001b[0m in \u001b[0;36m_call\u001b[0;34m(self, *args, **kwds)\u001b[0m\n\u001b[1;32m    805\u001b[0m       \u001b[0;31m# In this case we have created variables on the first call, so we run the\u001b[0m\u001b[0;34m\u001b[0m\u001b[0;34m\u001b[0m\u001b[0;34m\u001b[0m\u001b[0m\n\u001b[1;32m    806\u001b[0m       \u001b[0;31m# defunned version which is guaranteed to never create variables.\u001b[0m\u001b[0;34m\u001b[0m\u001b[0;34m\u001b[0m\u001b[0;34m\u001b[0m\u001b[0m\n\u001b[0;32m--> 807\u001b[0;31m       \u001b[0;32mreturn\u001b[0m \u001b[0mself\u001b[0m\u001b[0;34m.\u001b[0m\u001b[0m_stateless_fn\u001b[0m\u001b[0;34m(\u001b[0m\u001b[0;34m*\u001b[0m\u001b[0margs\u001b[0m\u001b[0;34m,\u001b[0m \u001b[0;34m**\u001b[0m\u001b[0mkwds\u001b[0m\u001b[0;34m)\u001b[0m  \u001b[0;31m# pylint: disable=not-callable\u001b[0m\u001b[0;34m\u001b[0m\u001b[0;34m\u001b[0m\u001b[0m\n\u001b[0m\u001b[1;32m    808\u001b[0m     \u001b[0;32melif\u001b[0m \u001b[0mself\u001b[0m\u001b[0;34m.\u001b[0m\u001b[0m_stateful_fn\u001b[0m \u001b[0;32mis\u001b[0m \u001b[0;32mnot\u001b[0m \u001b[0;32mNone\u001b[0m\u001b[0;34m:\u001b[0m\u001b[0;34m\u001b[0m\u001b[0;34m\u001b[0m\u001b[0m\n\u001b[1;32m    809\u001b[0m       \u001b[0;31m# Release the lock early so that multiple threads can perform the call\u001b[0m\u001b[0;34m\u001b[0m\u001b[0;34m\u001b[0m\u001b[0;34m\u001b[0m\u001b[0m\n",
            "\u001b[0;32m/usr/local/lib/python3.6/dist-packages/tensorflow/python/eager/function.py\u001b[0m in \u001b[0;36m__call__\u001b[0;34m(self, *args, **kwargs)\u001b[0m\n\u001b[1;32m   2827\u001b[0m     \u001b[0;32mwith\u001b[0m \u001b[0mself\u001b[0m\u001b[0;34m.\u001b[0m\u001b[0m_lock\u001b[0m\u001b[0;34m:\u001b[0m\u001b[0;34m\u001b[0m\u001b[0;34m\u001b[0m\u001b[0m\n\u001b[1;32m   2828\u001b[0m       \u001b[0mgraph_function\u001b[0m\u001b[0;34m,\u001b[0m \u001b[0margs\u001b[0m\u001b[0;34m,\u001b[0m \u001b[0mkwargs\u001b[0m \u001b[0;34m=\u001b[0m \u001b[0mself\u001b[0m\u001b[0;34m.\u001b[0m\u001b[0m_maybe_define_function\u001b[0m\u001b[0;34m(\u001b[0m\u001b[0margs\u001b[0m\u001b[0;34m,\u001b[0m \u001b[0mkwargs\u001b[0m\u001b[0;34m)\u001b[0m\u001b[0;34m\u001b[0m\u001b[0;34m\u001b[0m\u001b[0m\n\u001b[0;32m-> 2829\u001b[0;31m     \u001b[0;32mreturn\u001b[0m \u001b[0mgraph_function\u001b[0m\u001b[0;34m.\u001b[0m\u001b[0m_filtered_call\u001b[0m\u001b[0;34m(\u001b[0m\u001b[0margs\u001b[0m\u001b[0;34m,\u001b[0m \u001b[0mkwargs\u001b[0m\u001b[0;34m)\u001b[0m  \u001b[0;31m# pylint: disable=protected-access\u001b[0m\u001b[0;34m\u001b[0m\u001b[0;34m\u001b[0m\u001b[0m\n\u001b[0m\u001b[1;32m   2830\u001b[0m \u001b[0;34m\u001b[0m\u001b[0m\n\u001b[1;32m   2831\u001b[0m   \u001b[0;34m@\u001b[0m\u001b[0mproperty\u001b[0m\u001b[0;34m\u001b[0m\u001b[0;34m\u001b[0m\u001b[0m\n",
            "\u001b[0;32m/usr/local/lib/python3.6/dist-packages/tensorflow/python/eager/function.py\u001b[0m in \u001b[0;36m_filtered_call\u001b[0;34m(self, args, kwargs, cancellation_manager)\u001b[0m\n\u001b[1;32m   1846\u001b[0m                            resource_variable_ops.BaseResourceVariable))],\n\u001b[1;32m   1847\u001b[0m         \u001b[0mcaptured_inputs\u001b[0m\u001b[0;34m=\u001b[0m\u001b[0mself\u001b[0m\u001b[0;34m.\u001b[0m\u001b[0mcaptured_inputs\u001b[0m\u001b[0;34m,\u001b[0m\u001b[0;34m\u001b[0m\u001b[0;34m\u001b[0m\u001b[0m\n\u001b[0;32m-> 1848\u001b[0;31m         cancellation_manager=cancellation_manager)\n\u001b[0m\u001b[1;32m   1849\u001b[0m \u001b[0;34m\u001b[0m\u001b[0m\n\u001b[1;32m   1850\u001b[0m   \u001b[0;32mdef\u001b[0m \u001b[0m_call_flat\u001b[0m\u001b[0;34m(\u001b[0m\u001b[0mself\u001b[0m\u001b[0;34m,\u001b[0m \u001b[0margs\u001b[0m\u001b[0;34m,\u001b[0m \u001b[0mcaptured_inputs\u001b[0m\u001b[0;34m,\u001b[0m \u001b[0mcancellation_manager\u001b[0m\u001b[0;34m=\u001b[0m\u001b[0;32mNone\u001b[0m\u001b[0;34m)\u001b[0m\u001b[0;34m:\u001b[0m\u001b[0;34m\u001b[0m\u001b[0;34m\u001b[0m\u001b[0m\n",
            "\u001b[0;32m/usr/local/lib/python3.6/dist-packages/tensorflow/python/eager/function.py\u001b[0m in \u001b[0;36m_call_flat\u001b[0;34m(self, args, captured_inputs, cancellation_manager)\u001b[0m\n\u001b[1;32m   1922\u001b[0m       \u001b[0;31m# No tape is watching; skip to running the function.\u001b[0m\u001b[0;34m\u001b[0m\u001b[0;34m\u001b[0m\u001b[0;34m\u001b[0m\u001b[0m\n\u001b[1;32m   1923\u001b[0m       return self._build_call_outputs(self._inference_function.call(\n\u001b[0;32m-> 1924\u001b[0;31m           ctx, args, cancellation_manager=cancellation_manager))\n\u001b[0m\u001b[1;32m   1925\u001b[0m     forward_backward = self._select_forward_and_backward_functions(\n\u001b[1;32m   1926\u001b[0m         \u001b[0margs\u001b[0m\u001b[0;34m,\u001b[0m\u001b[0;34m\u001b[0m\u001b[0;34m\u001b[0m\u001b[0m\n",
            "\u001b[0;32m/usr/local/lib/python3.6/dist-packages/tensorflow/python/eager/function.py\u001b[0m in \u001b[0;36mcall\u001b[0;34m(self, ctx, args, cancellation_manager)\u001b[0m\n\u001b[1;32m    548\u001b[0m               \u001b[0minputs\u001b[0m\u001b[0;34m=\u001b[0m\u001b[0margs\u001b[0m\u001b[0;34m,\u001b[0m\u001b[0;34m\u001b[0m\u001b[0;34m\u001b[0m\u001b[0m\n\u001b[1;32m    549\u001b[0m               \u001b[0mattrs\u001b[0m\u001b[0;34m=\u001b[0m\u001b[0mattrs\u001b[0m\u001b[0;34m,\u001b[0m\u001b[0;34m\u001b[0m\u001b[0;34m\u001b[0m\u001b[0m\n\u001b[0;32m--> 550\u001b[0;31m               ctx=ctx)\n\u001b[0m\u001b[1;32m    551\u001b[0m         \u001b[0;32melse\u001b[0m\u001b[0;34m:\u001b[0m\u001b[0;34m\u001b[0m\u001b[0;34m\u001b[0m\u001b[0m\n\u001b[1;32m    552\u001b[0m           outputs = execute.execute_with_cancellation(\n",
            "\u001b[0;32m/usr/local/lib/python3.6/dist-packages/tensorflow/python/eager/execute.py\u001b[0m in \u001b[0;36mquick_execute\u001b[0;34m(op_name, num_outputs, inputs, attrs, ctx, name)\u001b[0m\n\u001b[1;32m     58\u001b[0m     \u001b[0mctx\u001b[0m\u001b[0;34m.\u001b[0m\u001b[0mensure_initialized\u001b[0m\u001b[0;34m(\u001b[0m\u001b[0;34m)\u001b[0m\u001b[0;34m\u001b[0m\u001b[0;34m\u001b[0m\u001b[0m\n\u001b[1;32m     59\u001b[0m     tensors = pywrap_tfe.TFE_Py_Execute(ctx._handle, device_name, op_name,\n\u001b[0;32m---> 60\u001b[0;31m                                         inputs, attrs, num_outputs)\n\u001b[0m\u001b[1;32m     61\u001b[0m   \u001b[0;32mexcept\u001b[0m \u001b[0mcore\u001b[0m\u001b[0;34m.\u001b[0m\u001b[0m_NotOkStatusException\u001b[0m \u001b[0;32mas\u001b[0m \u001b[0me\u001b[0m\u001b[0;34m:\u001b[0m\u001b[0;34m\u001b[0m\u001b[0;34m\u001b[0m\u001b[0m\n\u001b[1;32m     62\u001b[0m     \u001b[0;32mif\u001b[0m \u001b[0mname\u001b[0m \u001b[0;32mis\u001b[0m \u001b[0;32mnot\u001b[0m \u001b[0;32mNone\u001b[0m\u001b[0;34m:\u001b[0m\u001b[0;34m\u001b[0m\u001b[0;34m\u001b[0m\u001b[0m\n",
            "\u001b[0;31mKeyboardInterrupt\u001b[0m: "
          ]
        }
      ]
    },
    {
      "cell_type": "code",
      "metadata": {
        "id": "BUlp8Z-7TrLz"
      },
      "source": [
        "loss, accuracy, f1_score, precision, recall = model_cnn.evaluate([val_X_tokenized,val_X_tokenized,val_X_tokenized], val_Y, verbose=0)\r\n",
        "print(loss, accuracy, f1_score, precision, recall)"
      ],
      "execution_count": null,
      "outputs": []
    },
    {
      "cell_type": "code",
      "metadata": {
        "id": "h8GBOeObThhE"
      },
      "source": [
        "# plot history\r\n",
        "# Plot training & validation accuracy values\r\n",
        "import matplotlib.pyplot as plt \r\n",
        "plt.plot(history.history['accuracy'])\r\n",
        "plt.plot(history.history['val_accuracy'])\r\n",
        "plt.title('Model accuracy')\r\n",
        "plt.ylabel('Accuracy')\r\n",
        "plt.xlabel('Epoch')\r\n",
        "plt.legend(['Train', 'Val'], loc='upper left')\r\n",
        "plt.show()\r\n",
        "\r\n",
        "# Plot training & validation loss values\r\n",
        "plt.plot(history.history['loss'])\r\n",
        "plt.plot(history.history['val_loss'])\r\n",
        "plt.title('Model loss')\r\n",
        "plt.ylabel('Loss')\r\n",
        "plt.xlabel('Epoch')\r\n",
        "plt.legend(['Train', 'Val'], loc='upper left')\r\n",
        "plt.show()"
      ],
      "execution_count": null,
      "outputs": []
    },
    {
      "cell_type": "markdown",
      "metadata": {
        "id": "ab2fxZb2SXdy"
      },
      "source": [
        "Features: TweetText + Likes + Retweets"
      ]
    },
    {
      "cell_type": "code",
      "metadata": {
        "id": "miwo789XSW62"
      },
      "source": [
        "data_long = pd.read_csv('CSE243-TweetResponsePrediction/Data-new/Data-clean/2011-2020_all_cols.csv')"
      ],
      "execution_count": null,
      "outputs": []
    },
    {
      "cell_type": "code",
      "metadata": {
        "id": "n_Wkajvm6D34"
      },
      "source": [
        "data_long.head()"
      ],
      "execution_count": null,
      "outputs": []
    },
    {
      "cell_type": "code",
      "metadata": {
        "id": "i5bsy5oUSyZ0"
      },
      "source": [
        "data_long.dropna(subset=['tweets_Text'], inplace=True) "
      ],
      "execution_count": null,
      "outputs": []
    },
    {
      "cell_type": "code",
      "metadata": {
        "id": "g_2KoBkJdlEu"
      },
      "source": [
        "labels_long = data_long[\"tweets_ResponseCategory\"]\n",
        "data_long.drop(\"tweets_ResponseCategory\", axis=1, inplace=True)"
      ],
      "execution_count": null,
      "outputs": []
    },
    {
      "cell_type": "code",
      "metadata": {
        "id": "36_A2TPNdp0C"
      },
      "source": [
        "X_train_l, X_val_l, y_train_l, y_val_l = train_test_split(data_long, labels, test_size=0.20, random_state=42)"
      ],
      "execution_count": null,
      "outputs": []
    },
    {
      "cell_type": "code",
      "metadata": {
        "id": "TDhAW2B9d9Ax"
      },
      "source": [
        "train_text_l = get_tweetText(X_train_l)\n",
        "val_text_l = get_tweetText(X_val_l)\n",
        "\n",
        "\n",
        "train_X_tokenized_l, val_X_tokenized_l, tokenizer_l = tokenizer_(X_train_l, X_val_l, max_features, max_len)\n"
      ],
      "execution_count": null,
      "outputs": []
    },
    {
      "cell_type": "code",
      "metadata": {
        "id": "_vA2HyB0evjo"
      },
      "source": [
        "from keras.utils import to_categorical\n",
        "from sklearn.preprocessing import LabelEncoder\n",
        "\n",
        "le = LabelEncoder()\n",
        "y_train_le_l = le.fit_transform(y_train_l)\n",
        "y_val_le_l = le.transform(y_val_l)\n",
        "##THESE are the final labels\n",
        "train_Y_l = to_categorical(y_train_le_l)\n",
        "val_Y_l = to_categorical(y_val_le_l)"
      ],
      "execution_count": null,
      "outputs": []
    },
    {
      "cell_type": "code",
      "metadata": {
        "id": "ShSTJ28ihhBi"
      },
      "source": [
        "X_train_l.head()"
      ],
      "execution_count": null,
      "outputs": []
    },
    {
      "cell_type": "code",
      "metadata": {
        "id": "BFok2BCee6CQ"
      },
      "source": [
        "X_train_new_l = X_train_l[:]\n",
        "X_val_new_l = X_val_l[:]\n"
      ],
      "execution_count": null,
      "outputs": []
    },
    {
      "cell_type": "code",
      "metadata": {
        "id": "ndJQRUSWheIX"
      },
      "source": [
        "X_train_new_l.drop([\"tweets_Text\", \"tweets_Date\", \"tweets_Replies\", \"has_image\", \"has_Link\"], axis=1, inplace=True)\n",
        "X_val_new_l.drop([\"tweets_Text\", \"tweets_Date\", \"tweets_Replies\", \"has_image\", \"has_Link\"], axis=1, inplace=True)\n"
      ],
      "execution_count": null,
      "outputs": []
    },
    {
      "cell_type": "code",
      "metadata": {
        "id": "zwjmKzsniRg0"
      },
      "source": [
        "X_val_new_l.head()\n"
      ],
      "execution_count": null,
      "outputs": []
    },
    {
      "cell_type": "code",
      "metadata": {
        "id": "YBffPrLAqefg"
      },
      "source": [
        "X_val_new_l['tweets_Likes'] = X_val_new_l['tweets_Likes'].fillna(0) \n",
        "X_val_new_l['tweets_Retweets'] = X_val_new_l['tweets_Retweets'].fillna(0) \n",
        "\n",
        "X_train_new_l['tweets_Likes'] = X_train_new_l['tweets_Likes'].fillna(0) \n",
        "X_train_new_l['tweets_Retweets'] = X_train_new_l['tweets_Retweets'].fillna(0) "
      ],
      "execution_count": null,
      "outputs": []
    },
    {
      "cell_type": "code",
      "metadata": {
        "id": "7x3aiU0cpZbl"
      },
      "source": [
        "X_val_new_l['tweets_Likes'] = X_val_new_l['tweets_Likes'].astype(np.int64)\n",
        "X_val_new_l['tweets_Retweets'] = X_val_new_l['tweets_Retweets'].astype(np.int64)\n",
        "\n",
        "X_train_new_l['tweets_Likes'] = X_train_new_l['tweets_Likes'].astype(np.int64)\n",
        "X_train_new_l['tweets_Retweets'] = X_train_new_l['tweets_Retweets'].astype(np.int64)\n"
      ],
      "execution_count": null,
      "outputs": []
    },
    {
      "cell_type": "code",
      "metadata": {
        "id": "dE-jt4nWxA_o"
      },
      "source": [
        "X_train_new_l['tweets_Likes'] = (X_train_new_l['tweets_Likes'] - X_train_new_l['tweets_Likes'].min()) / (X_train_new_l['tweets_Likes'].max() - X_train_new_l['tweets_Likes'].min())\n",
        "X_train_new_l['tweets_Retweets'] = (X_train_new_l['tweets_Retweets'] - X_train_new_l['tweets_Retweets'].min()) / (X_train_new_l['tweets_Retweets'].max() - X_train_new_l['tweets_Retweets'].min())\n",
        "\n",
        "X_val_new_l['tweets_Likes'] = (X_val_new_l['tweets_Likes'] - X_val_new_l['tweets_Likes'].min()) / (X_val_new_l['tweets_Likes'].max() - X_val_new_l['tweets_Likes'].min())\n",
        "X_val_new_l['tweets_Retweets'] = (X_val_new_l['tweets_Retweets'] - X_val_new_l['tweets_Retweets'].min()) / (X_val_new_l['tweets_Retweets'].max() - X_val_new_l['tweets_Retweets'].min())\n",
        "\n"
      ],
      "execution_count": null,
      "outputs": []
    },
    {
      "cell_type": "code",
      "metadata": {
        "id": "IzdaKCo_pwxl"
      },
      "source": [
        "X_train_new_l.head()"
      ],
      "execution_count": null,
      "outputs": []
    },
    {
      "cell_type": "code",
      "metadata": {
        "id": "IOLRkIUtxutO"
      },
      "source": [
        "X_val_new_l.head()"
      ],
      "execution_count": null,
      "outputs": []
    },
    {
      "cell_type": "code",
      "metadata": {
        "id": "HtAues7ahccz"
      },
      "source": [
        "\n",
        "X_train_new_l.to_numpy()\n",
        "X_val_new_l.to_numpy()\n",
        "\n",
        "X_train_df_l = np.concatenate(( train_X_tokenized_l, X_train_new_l), axis=1)\n",
        "X_val_df_l = np.concatenate(( val_X_tokenized_l, X_val_new_l), axis=1)\n",
        "\n",
        "# X_val_df_l = np.concatenate(( X_val_new_l, val_X_tokenized_l), axis=1)\n",
        "\n"
      ],
      "execution_count": null,
      "outputs": []
    },
    {
      "cell_type": "code",
      "metadata": {
        "id": "oWTuULpiimqX"
      },
      "source": [
        "X_train_df_l.shape"
      ],
      "execution_count": null,
      "outputs": []
    },
    {
      "cell_type": "markdown",
      "metadata": {
        "id": "QFOJyHkTjKW3"
      },
      "source": [
        "Model (Best Working Architecture) from previous experiments"
      ]
    },
    {
      "cell_type": "code",
      "metadata": {
        "id": "QanXAq_XioeQ"
      },
      "source": [
        "glove_model2_fs3 = models.Sequential()\n",
        "glove_model2_fs3.add(layers.Embedding(vocab_size,\n",
        "                            glove_dim,\n",
        "                            weights=[embedding_matrix],\n",
        "                            input_length=max_len+2,\n",
        "                            trainable=False))\n",
        "#glove_model2_fs3.add(layers.LSTM(64))\n",
        "glove_model2_fs3.add(LSTM(128,return_sequences=True))\n",
        "glove_model2_fs3.add(layers.Dropout(0.3))\n",
        "glove_model2_fs3.add(LSTM(64,return_sequences=True))\n",
        "glove_model2_fs3.add(layers.Dropout(0.3))\n",
        "glove_model2_fs3.add(LSTM(32,return_sequences=False))\n",
        "glove_model2_fs3.add(layers.Dropout(0.3))\n",
        "glove_model2_fs3.add(layers.Dense(10,activation=\"relu\"))\n",
        "#glove_model2_fs3.add(layers.Dense(10,activation=\"relu\"))\n",
        "#glove_model2_fs3.add(layers.Dropout(0.2))\n",
        "glove_model2_fs3.add(Dense(3, activation='softmax'))\n",
        "glove_model2_fs3.summary()\n",
        "\n"
      ],
      "execution_count": null,
      "outputs": []
    },
    {
      "cell_type": "code",
      "metadata": {
        "id": "eCE-oGf4ioZB"
      },
      "source": [
        "glove_model2_fs3.compile(loss='categorical_crossentropy', optimizer='adam', metrics=['accuracy',f1_m,precision_m, recall_m])\n",
        "\n",
        "from tensorflow.keras.callbacks import EarlyStopping\n",
        "\n",
        "history = glove_model2_fs3.fit(X_train_df_l, \n",
        "                    train_Y_l, \n",
        "                    batch_size=100, \n",
        "                    epochs=100, \n",
        "                    validation_data=(X_val_df_l, val_Y_l)\n",
        "                    )\n",
        "\n"
      ],
      "execution_count": null,
      "outputs": []
    },
    {
      "cell_type": "code",
      "metadata": {
        "id": "FmEpqzB-j4W-"
      },
      "source": [
        "# # Input for variable-length sequences of integers\n",
        "# inputs = keras.Input(shape=(None,), dtype=\"int32\")\n",
        "# # Embed each integer in a 128-dimensional vector\n",
        "# x = layers.Embedding(max_features, 128)(inputs)\n",
        "# # Add 2 bidirectional LSTMs\n",
        "# x = layers.Bidirectional(layers.LSTM(64, return_sequences=True))(x)\n",
        "# x = layers.Bidirectional(layers.LSTM(64))(x)\n",
        "# # Add a classifier\n",
        "# outputs = layers.Dense(1, activation=\"sigmoid\")(x)\n",
        "# model = keras.Model(inputs, outputs)\n",
        "# model.summary()\n",
        "\n",
        "\n",
        "glove_model2_fs3_bi_d = models.Sequential()\n",
        "glove_model2_fs3_bi_d.add(layers.Embedding(vocab_size,\n",
        "                            glove_dim,\n",
        "                            weights=[embedding_matrix],\n",
        "                            input_length=max_len+2,\n",
        "                            trainable=False))\n",
        "\n",
        "glove_model2_fs3_bi_d.add(Bidirectional(layers.LSTM(128, return_sequences=True)))\n",
        "glove_model2_fs3_bi_d.add(Bidirectional(layers.LSTM(128)))\n",
        "\n",
        "\n",
        "# glove_model2_fs3_bi_d.add(Bidirectional(layers.LSTM(64, return_sequences=True)))\n",
        "# glove_model2_fs3_bi_d.add(Bidirectional(layers.LSTM(64)))\n",
        "\n",
        "\n",
        "glove_model2_fs3_bi_d.add(layers.Dense(10,activation=\"relu\"))\n",
        "glove_model2_fs3_bi_d.add(Dense(3, activation='softmax'))\n",
        "glove_model2_fs3_bi_d.summary()\n",
        "\n",
        "\n",
        "\n"
      ],
      "execution_count": null,
      "outputs": []
    },
    {
      "cell_type": "code",
      "metadata": {
        "id": "ReFoH6EDlfG2"
      },
      "source": [
        "glove_model2_fs3_bi_d.compile(loss='categorical_crossentropy', optimizer='adam', metrics=['accuracy',f1_m,precision_m, recall_m])\n",
        "\n",
        "from tensorflow.keras.callbacks import EarlyStopping\n",
        "\n",
        "history = glove_model2_fs3_bi_d.fit(X_train_df_l, \n",
        "                    train_Y_l, \n",
        "                    batch_size=100, \n",
        "                    epochs=10, \n",
        "                    validation_data=(X_val_df_l, val_Y_l)\n",
        "                    )\n",
        "\n"
      ],
      "execution_count": null,
      "outputs": []
    },
    {
      "cell_type": "code",
      "metadata": {
        "id": "AEGS9VIjnzTm"
      },
      "source": [
        ""
      ],
      "execution_count": null,
      "outputs": []
    },
    {
      "cell_type": "code",
      "metadata": {
        "id": "1yAGMQZYoJbe"
      },
      "source": [
        ""
      ],
      "execution_count": null,
      "outputs": []
    },
    {
      "cell_type": "code",
      "metadata": {
        "id": "o9S25tukoVuo"
      },
      "source": [
        ""
      ],
      "execution_count": null,
      "outputs": []
    },
    {
      "cell_type": "code",
      "metadata": {
        "id": "vJamaOMCoXNx"
      },
      "source": [
        ""
      ],
      "execution_count": null,
      "outputs": []
    },
    {
      "cell_type": "code",
      "metadata": {
        "id": "ZevL8l6lobUi"
      },
      "source": [
        ""
      ],
      "execution_count": null,
      "outputs": []
    },
    {
      "cell_type": "code",
      "metadata": {
        "id": "wwEJfQrfodC4"
      },
      "source": [
        ""
      ],
      "execution_count": null,
      "outputs": []
    },
    {
      "cell_type": "code",
      "metadata": {
        "id": "s7cz8nw3o2-M"
      },
      "source": [
        ""
      ],
      "execution_count": null,
      "outputs": []
    },
    {
      "cell_type": "code",
      "metadata": {
        "id": "39GIA0Jro4Vm"
      },
      "source": [
        ""
      ],
      "execution_count": null,
      "outputs": []
    }
  ]
}