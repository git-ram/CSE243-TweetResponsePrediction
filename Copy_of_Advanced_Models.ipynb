{
  "nbformat": 4,
  "nbformat_minor": 0,
  "metadata": {
    "accelerator": "GPU",
    "colab": {
      "name": "Copy of Advanced_Models.ipynb",
      "provenance": [],
      "collapsed_sections": [
        "sztayrEtGbuA"
      ]
    },
    "kernelspec": {
      "display_name": "Python 3",
      "language": "python",
      "name": "python3"
    },
    "language_info": {
      "codemirror_mode": {
        "name": "ipython",
        "version": 3
      },
      "file_extension": ".py",
      "mimetype": "text/x-python",
      "name": "python",
      "nbconvert_exporter": "python",
      "pygments_lexer": "ipython3",
      "version": "3.7.3"
    }
  },
  "cells": [
    {
      "cell_type": "code",
      "metadata": {
        "id": "Vz6N-uEKGbt0"
      },
      "source": [
        "import numpy as np \n",
        "import pandas as pd\n",
        "import matplotlib.pyplot as plt\n",
        "from sklearn import preprocessing\n",
        "from sklearn.cluster import KMeans\n",
        "from sklearn.metrics import silhouette_score, roc_curve, roc_auc_score\n",
        "from sklearn.model_selection import train_test_split\n",
        "from sklearn.linear_model import LogisticRegression\n",
        "from sklearn.tree import DecisionTreeClassifier\n",
        "from sklearn.model_selection import cross_val_score\n",
        "from sklearn.feature_extraction.text import CountVectorizer\n",
        "from sklearn.svm import SVC\n",
        "from sklearn.neural_network import MLPClassifier\n",
        "from sklearn.ensemble import RandomForestClassifier\n",
        "from keras.preprocessing.text import Tokenizer\n",
        "from keras.preprocessing.sequence import pad_sequences\n",
        "from nltk.corpus import stopwords\n",
        "import string\n",
        "from sklearn.linear_model import LogisticRegression\n",
        "from sklearn.tree import DecisionTreeClassifier\n",
        "from sklearn.svm import SVC\n",
        "from sklearn.neural_network import MLPClassifier\n",
        "from sklearn.ensemble import RandomForestClassifier\n",
        "from sklearn.metrics import f1_score\n",
        "from sklearn.metrics import accuracy_score"
      ],
      "execution_count": null,
      "outputs": []
    },
    {
      "cell_type": "code",
      "metadata": {
        "colab": {
          "base_uri": "https://localhost:8080/"
        },
        "id": "_TzS9pIUGpCi",
        "outputId": "8994a9eb-2bd6-47b8-ce61-cfdd9ec73ee6"
      },
      "source": [
        "from google.colab import drive \n",
        "drive.mount('/content/drive')"
      ],
      "execution_count": null,
      "outputs": [
        {
          "output_type": "stream",
          "text": [
            "Mounted at /content/drive\n"
          ],
          "name": "stdout"
        }
      ]
    },
    {
      "cell_type": "code",
      "metadata": {
        "colab": {
          "base_uri": "https://localhost:8080/"
        },
        "id": "O6IEPdfgUw68",
        "outputId": "d3aea1b2-6b80-4e11-9db5-59a3d73eb1da"
      },
      "source": [
        "cd 'drive/MyDrive/Study/04_Fall_2020/CSE 243/Project'"
      ],
      "execution_count": null,
      "outputs": [
        {
          "output_type": "stream",
          "text": [
            "/content/drive/MyDrive/Study/04_Fall_2020/CSE 243/Project\n"
          ],
          "name": "stdout"
        }
      ]
    },
    {
      "cell_type": "code",
      "metadata": {
        "id": "JFFL6i_vGx-K"
      },
      "source": [
        "# data=pd.read_csv('gdrive/My Drive/CSE_243/Processed_major_cols.csv')\n",
        "\n",
        "data=pd.read_csv('CSE243-TweetResponsePrediction/Data-new/Data-clean/2011-2020_short.csv')\n"
      ],
      "execution_count": null,
      "outputs": []
    },
    {
      "cell_type": "code",
      "metadata": {
        "id": "MLoBcmH44nUm"
      },
      "source": [
        "data.dropna(subset=['tweets_Text'], inplace=True) "
      ],
      "execution_count": null,
      "outputs": []
    },
    {
      "cell_type": "code",
      "metadata": {
        "id": "aN5g3cH9kSvM"
      },
      "source": [
        "data = data.loc[:, ~data.columns.str.contains('^Unnamed')]"
      ],
      "execution_count": null,
      "outputs": []
    },
    {
      "cell_type": "code",
      "metadata": {
        "colab": {
          "base_uri": "https://localhost:8080/",
          "height": 204
        },
        "id": "h6_rCwCFGyB7",
        "outputId": "549ee60c-b219-4576-a442-83885cc181b0"
      },
      "source": [
        "data.head()"
      ],
      "execution_count": null,
      "outputs": [
        {
          "output_type": "execute_result",
          "data": {
            "text/html": [
              "<div>\n",
              "<style scoped>\n",
              "    .dataframe tbody tr th:only-of-type {\n",
              "        vertical-align: middle;\n",
              "    }\n",
              "\n",
              "    .dataframe tbody tr th {\n",
              "        vertical-align: top;\n",
              "    }\n",
              "\n",
              "    .dataframe thead th {\n",
              "        text-align: right;\n",
              "    }\n",
              "</style>\n",
              "<table border=\"1\" class=\"dataframe\">\n",
              "  <thead>\n",
              "    <tr style=\"text-align: right;\">\n",
              "      <th></th>\n",
              "      <th>tweets_Text</th>\n",
              "      <th>has_image</th>\n",
              "      <th>has_Link</th>\n",
              "      <th>tweets_ResponseCategory</th>\n",
              "    </tr>\n",
              "  </thead>\n",
              "  <tbody>\n",
              "    <tr>\n",
              "      <th>0</th>\n",
              "      <td>syd mead visionary artist helped shape look bl...</td>\n",
              "      <td>1</td>\n",
              "      <td>0</td>\n",
              "      <td>1</td>\n",
              "    </tr>\n",
              "    <tr>\n",
              "      <th>1</th>\n",
              "      <td>us sending additional forces protect embassy b...</td>\n",
              "      <td>1</td>\n",
              "      <td>0</td>\n",
              "      <td>2</td>\n",
              "    </tr>\n",
              "    <tr>\n",
              "      <th>2</th>\n",
              "      <td>book publishing legend sonny mehta editorinchi...</td>\n",
              "      <td>1</td>\n",
              "      <td>0</td>\n",
              "      <td>1</td>\n",
              "    </tr>\n",
              "    <tr>\n",
              "      <th>3</th>\n",
              "      <td>president trump weighs protesters attempts sto...</td>\n",
              "      <td>1</td>\n",
              "      <td>0</td>\n",
              "      <td>2</td>\n",
              "    </tr>\n",
              "    <tr>\n",
              "      <th>4</th>\n",
              "      <td>proiranian protesters tried storm us embassy b...</td>\n",
              "      <td>1</td>\n",
              "      <td>0</td>\n",
              "      <td>2</td>\n",
              "    </tr>\n",
              "  </tbody>\n",
              "</table>\n",
              "</div>"
            ],
            "text/plain": [
              "                                         tweets_Text  ...  tweets_ResponseCategory\n",
              "0  syd mead visionary artist helped shape look bl...  ...                        1\n",
              "1  us sending additional forces protect embassy b...  ...                        2\n",
              "2  book publishing legend sonny mehta editorinchi...  ...                        1\n",
              "3  president trump weighs protesters attempts sto...  ...                        2\n",
              "4  proiranian protesters tried storm us embassy b...  ...                        2\n",
              "\n",
              "[5 rows x 4 columns]"
            ]
          },
          "metadata": {
            "tags": []
          },
          "execution_count": 7
        }
      ]
    },
    {
      "cell_type": "code",
      "metadata": {
        "id": "Gx_v6lyfGbt6"
      },
      "source": [
        "labels = data[\"tweets_ResponseCategory\"]\n",
        "data.drop(\"tweets_ResponseCategory\", axis=1, inplace=True)"
      ],
      "execution_count": null,
      "outputs": []
    },
    {
      "cell_type": "code",
      "metadata": {
        "colab": {
          "base_uri": "https://localhost:8080/"
        },
        "id": "-rW1-oO747xN",
        "outputId": "703fcfdf-ee03-473f-9412-0769c5a3dd6c"
      },
      "source": [
        "len(data)"
      ],
      "execution_count": null,
      "outputs": [
        {
          "output_type": "execute_result",
          "data": {
            "text/plain": [
              "46761"
            ]
          },
          "metadata": {
            "tags": []
          },
          "execution_count": 9
        }
      ]
    },
    {
      "cell_type": "code",
      "metadata": {
        "id": "2bcWbbm1Gbt6"
      },
      "source": [
        "X_train, X_val, y_train, y_val = train_test_split(data, labels, test_size=0.20, random_state=42)"
      ],
      "execution_count": null,
      "outputs": []
    },
    {
      "cell_type": "code",
      "metadata": {
        "colab": {
          "base_uri": "https://localhost:8080/",
          "height": 204
        },
        "id": "lbrbk15bGbt7",
        "outputId": "792c2c9c-de34-4dfb-92cc-7ec75d03db06"
      },
      "source": [
        "X_train.head()"
      ],
      "execution_count": null,
      "outputs": [
        {
          "output_type": "execute_result",
          "data": {
            "text/html": [
              "<div>\n",
              "<style scoped>\n",
              "    .dataframe tbody tr th:only-of-type {\n",
              "        vertical-align: middle;\n",
              "    }\n",
              "\n",
              "    .dataframe tbody tr th {\n",
              "        vertical-align: top;\n",
              "    }\n",
              "\n",
              "    .dataframe thead th {\n",
              "        text-align: right;\n",
              "    }\n",
              "</style>\n",
              "<table border=\"1\" class=\"dataframe\">\n",
              "  <thead>\n",
              "    <tr style=\"text-align: right;\">\n",
              "      <th></th>\n",
              "      <th>tweets_Text</th>\n",
              "      <th>has_image</th>\n",
              "      <th>has_Link</th>\n",
              "    </tr>\n",
              "  </thead>\n",
              "  <tbody>\n",
              "    <tr>\n",
              "      <th>43803</th>\n",
              "      <td>les munro last surviving pilot rafs legendary ...</td>\n",
              "      <td>1</td>\n",
              "      <td>1</td>\n",
              "    </tr>\n",
              "    <tr>\n",
              "      <th>15239</th>\n",
              "      <td>senate approves 11 billion compromise bill com...</td>\n",
              "      <td>0</td>\n",
              "      <td>0</td>\n",
              "    </tr>\n",
              "    <tr>\n",
              "      <th>5183</th>\n",
              "      <td>moderna first company start us clinical trials...</td>\n",
              "      <td>1</td>\n",
              "      <td>1</td>\n",
              "    </tr>\n",
              "    <tr>\n",
              "      <th>12024</th>\n",
              "      <td>dallas naacp seeks end texas lottery saying dr...</td>\n",
              "      <td>0</td>\n",
              "      <td>0</td>\n",
              "    </tr>\n",
              "    <tr>\n",
              "      <th>45182</th>\n",
              "      <td>great white shark trapped reef along californi...</td>\n",
              "      <td>1</td>\n",
              "      <td>0</td>\n",
              "    </tr>\n",
              "  </tbody>\n",
              "</table>\n",
              "</div>"
            ],
            "text/plain": [
              "                                             tweets_Text  has_image  has_Link\n",
              "43803  les munro last surviving pilot rafs legendary ...          1         1\n",
              "15239  senate approves 11 billion compromise bill com...          0         0\n",
              "5183   moderna first company start us clinical trials...          1         1\n",
              "12024  dallas naacp seeks end texas lottery saying dr...          0         0\n",
              "45182  great white shark trapped reef along californi...          1         0"
            ]
          },
          "metadata": {
            "tags": []
          },
          "execution_count": 11
        }
      ]
    },
    {
      "cell_type": "markdown",
      "metadata": {
        "id": "cKqSHBNqGbt7"
      },
      "source": [
        "Word Cloud"
      ]
    },
    {
      "cell_type": "code",
      "metadata": {
        "id": "kztVx42uGbt7"
      },
      "source": [
        "dataTrain=pd.concat([X_train, y_train], axis=1)"
      ],
      "execution_count": null,
      "outputs": []
    },
    {
      "cell_type": "code",
      "metadata": {
        "colab": {
          "base_uri": "https://localhost:8080/",
          "height": 204
        },
        "id": "QkxTy9t2Gbt7",
        "outputId": "b6af384f-36d7-445c-f73c-dbde77539c1f"
      },
      "source": [
        "dataTrain.head()"
      ],
      "execution_count": null,
      "outputs": [
        {
          "output_type": "execute_result",
          "data": {
            "text/html": [
              "<div>\n",
              "<style scoped>\n",
              "    .dataframe tbody tr th:only-of-type {\n",
              "        vertical-align: middle;\n",
              "    }\n",
              "\n",
              "    .dataframe tbody tr th {\n",
              "        vertical-align: top;\n",
              "    }\n",
              "\n",
              "    .dataframe thead th {\n",
              "        text-align: right;\n",
              "    }\n",
              "</style>\n",
              "<table border=\"1\" class=\"dataframe\">\n",
              "  <thead>\n",
              "    <tr style=\"text-align: right;\">\n",
              "      <th></th>\n",
              "      <th>tweets_Text</th>\n",
              "      <th>has_image</th>\n",
              "      <th>has_Link</th>\n",
              "      <th>tweets_ResponseCategory</th>\n",
              "    </tr>\n",
              "  </thead>\n",
              "  <tbody>\n",
              "    <tr>\n",
              "      <th>43803</th>\n",
              "      <td>les munro last surviving pilot rafs legendary ...</td>\n",
              "      <td>1</td>\n",
              "      <td>1</td>\n",
              "      <td>1</td>\n",
              "    </tr>\n",
              "    <tr>\n",
              "      <th>15239</th>\n",
              "      <td>senate approves 11 billion compromise bill com...</td>\n",
              "      <td>0</td>\n",
              "      <td>0</td>\n",
              "      <td>1</td>\n",
              "    </tr>\n",
              "    <tr>\n",
              "      <th>5183</th>\n",
              "      <td>moderna first company start us clinical trials...</td>\n",
              "      <td>1</td>\n",
              "      <td>1</td>\n",
              "      <td>2</td>\n",
              "    </tr>\n",
              "    <tr>\n",
              "      <th>12024</th>\n",
              "      <td>dallas naacp seeks end texas lottery saying dr...</td>\n",
              "      <td>0</td>\n",
              "      <td>0</td>\n",
              "      <td>2</td>\n",
              "    </tr>\n",
              "    <tr>\n",
              "      <th>45182</th>\n",
              "      <td>great white shark trapped reef along californi...</td>\n",
              "      <td>1</td>\n",
              "      <td>0</td>\n",
              "      <td>1</td>\n",
              "    </tr>\n",
              "  </tbody>\n",
              "</table>\n",
              "</div>"
            ],
            "text/plain": [
              "                                             tweets_Text  ...  tweets_ResponseCategory\n",
              "43803  les munro last surviving pilot rafs legendary ...  ...                        1\n",
              "15239  senate approves 11 billion compromise bill com...  ...                        1\n",
              "5183   moderna first company start us clinical trials...  ...                        2\n",
              "12024  dallas naacp seeks end texas lottery saying dr...  ...                        2\n",
              "45182  great white shark trapped reef along californi...  ...                        1\n",
              "\n",
              "[5 rows x 4 columns]"
            ]
          },
          "metadata": {
            "tags": []
          },
          "execution_count": 13
        }
      ]
    },
    {
      "cell_type": "code",
      "metadata": {
        "id": "w04Nuw7sGbt7"
      },
      "source": [
        "from wordcloud import WordCloud, STOPWORDS, ImageColorGenerator"
      ],
      "execution_count": null,
      "outputs": []
    },
    {
      "cell_type": "code",
      "metadata": {
        "id": "qBBTSaEGGbt7"
      },
      "source": [
        "# word cloud\n",
        "\n",
        "low_df = dataTrain.loc[dataTrain.tweets_ResponseCategory  == 0]\n",
        "moderate_df = dataTrain.loc[dataTrain.tweets_ResponseCategory == 1]\n",
        "high_df = dataTrain.loc[dataTrain.tweets_ResponseCategory  == 2]\n",
        "\n",
        "\n",
        "low_array = np.array(low_df['tweets_Text'])\n",
        "moderate_array=np.array(moderate_df['tweets_Text'])\n",
        "high_array=np.array(high_df['tweets_Text'])\n",
        "\n",
        "low_text = ''.join(low_array)\n",
        "moderate_text= ''.join(moderate_array)\n",
        "high_text=''.join(high_array)"
      ],
      "execution_count": null,
      "outputs": []
    },
    {
      "cell_type": "code",
      "metadata": {
        "colab": {
          "base_uri": "https://localhost:8080/",
          "height": 608
        },
        "id": "-1YsFV7QGbt7",
        "outputId": "f92b0093-cabe-4e2d-d4aa-a53ba093f965"
      },
      "source": [
        "#low\n",
        "wordcloud = WordCloud(background_color=\"white\").generate(low_text)\n",
        "plt.imshow(wordcloud, interpolation='bilinear')\n",
        "plt.axis(\"off\")\n",
        "plt.title('Low Responsiveness')\n",
        "plt.show()\n",
        "\n",
        "#moderate\n",
        "wordcloud = WordCloud(background_color=\"white\").generate(moderate_text)\n",
        "plt.imshow(wordcloud, interpolation='bilinear')\n",
        "plt.axis(\"off\")\n",
        "plt.title('Moderate Responsiveness')\n",
        "plt.show()\n",
        "\n",
        "#high\n",
        "wordcloud = WordCloud(background_color=\"white\").generate(high_text)\n",
        "plt.imshow(wordcloud, interpolation='bilinear')\n",
        "plt.axis(\"off\")\n",
        "plt.title('High Responsiveness')\n",
        "plt.show()"
      ],
      "execution_count": null,
      "outputs": [
        {
          "output_type": "display_data",
          "data": {
            "image/png": "[encoded data removed]",
            "text/plain": [
              "<Figure size 432x288 with 1 Axes>"
            ]
          },
          "metadata": {
            "tags": []
          }
        },
        {
          "output_type": "display_data",
          "data": {
            "image/png": "[encoded data removed]",
            "text/plain": [
              "<Figure size 432x288 with 1 Axes>"
            ]
          },
          "metadata": {
            "tags": []
          }
        },
        {
          "output_type": "display_data",
          "data": {
            "image/png": "[encoded data removed]",
            "text/plain": [
              "<Figure size 432x288 with 1 Axes>"
            ]
          },
          "metadata": {
            "tags": []
          }
        }
      ]
    },
    {
      "cell_type": "markdown",
      "metadata": {
        "id": "inXgTAqOGbt7"
      },
      "source": [
        "# Tokenizer"
      ]
    },
    {
      "cell_type": "code",
      "metadata": {
        "colab": {
          "base_uri": "https://localhost:8080/"
        },
        "id": "ZVfVsIEYGbt7",
        "outputId": "854013c7-209c-4702-9af8-1cc40a4a4191"
      },
      "source": [
        "# max_len=X_train.tweets_Text.map(lambda x: len(x)).max()\n",
        "max_len = 150\n",
        "print(max_len)"
      ],
      "execution_count": null,
      "outputs": [
        {
          "output_type": "stream",
          "text": [
            "150\n"
          ],
          "name": "stdout"
        }
      ]
    },
    {
      "cell_type": "code",
      "metadata": {
        "id": "x4wA2daeGbt8"
      },
      "source": [
        "def get_tweetText(data):\n",
        "    data_text=data[['tweets_Text']]\n",
        "    return data_text"
      ],
      "execution_count": null,
      "outputs": []
    },
    {
      "cell_type": "code",
      "metadata": {
        "id": "6CgU05OLGbt8"
      },
      "source": [
        "train_text=get_tweetText(X_train)\n",
        "val_text=get_tweetText(X_val)"
      ],
      "execution_count": null,
      "outputs": []
    },
    {
      "cell_type": "code",
      "metadata": {
        "id": "N6Sev0IJGbt8"
      },
      "source": [
        "max_features=25000"
      ],
      "execution_count": null,
      "outputs": []
    },
    {
      "cell_type": "code",
      "metadata": {
        "id": "6e8o10HUGbt8"
      },
      "source": [
        "from keras.utils import to_categorical\n",
        "def tokenizer_(train_x, val_x, max_features, maxlen):\n",
        "    \n",
        "\n",
        "    train_X = train_x['tweets_Text']\n",
        "    val_X = val_x['tweets_Text']\n",
        "    \n",
        "\n",
        "    tokenizer = Tokenizer(num_words=max_features)\n",
        "    tokenizer.fit_on_texts(list(train_X))\n",
        "\n",
        "    train_X = tokenizer.texts_to_sequences(train_X)\n",
        "    train_X = pad_sequences(train_X, maxlen=maxlen)\n",
        "    val_X = tokenizer.texts_to_sequences(val_X)\n",
        "    val_X = pad_sequences(val_X, maxlen=maxlen)\n",
        "\n",
        "    return train_X, val_X, tokenizer"
      ],
      "execution_count": null,
      "outputs": []
    },
    {
      "cell_type": "code",
      "metadata": {
        "id": "VcyxaAbsGbt8"
      },
      "source": [
        "train_X_tokenized, val_X_tokenized , tokenizer= tokenizer_(X_train, X_val, max_features, max_len)"
      ],
      "execution_count": null,
      "outputs": []
    },
    {
      "cell_type": "code",
      "metadata": {
        "id": "wtCLXCVzk8L_"
      },
      "source": [
        ""
      ],
      "execution_count": null,
      "outputs": []
    },
    {
      "cell_type": "markdown",
      "metadata": {
        "id": "StYTMuNEGbt8"
      },
      "source": [
        "Label Encoding "
      ]
    },
    {
      "cell_type": "code",
      "metadata": {
        "id": "f7TrKi9iGbt8"
      },
      "source": [
        "from keras.utils import to_categorical\n",
        "from sklearn.preprocessing import LabelEncoder\n",
        "\n",
        "le = LabelEncoder()\n",
        "y_train_le = le.fit_transform(y_train)\n",
        "y_val_le = le.transform(y_val)\n",
        "##THESE are the final labels\n",
        "train_Y = to_categorical(y_train_le)\n",
        "val_Y = to_categorical(y_val_le)"
      ],
      "execution_count": null,
      "outputs": []
    },
    {
      "cell_type": "markdown",
      "metadata": {
        "id": "qPivcf5yGbt8"
      },
      "source": [
        "Complete dataframe"
      ]
    },
    {
      "cell_type": "code",
      "metadata": {
        "id": "3K-OT7vrGbt8"
      },
      "source": [
        "#X_train_new = X_train.reset_index(drop=True)\n",
        "#train_X_tokenized_new = train_X_tokenized.reset_index(drop=True)"
      ],
      "execution_count": null,
      "outputs": []
    },
    {
      "cell_type": "code",
      "metadata": {
        "id": "pNWE0cRdGbt8"
      },
      "source": [
        "#X_val_new = X_val.reset_index(drop=True)\n",
        "#val_X_tokenized_new = val_X_tokenized.reset_index(drop=True)"
      ],
      "execution_count": null,
      "outputs": []
    },
    {
      "cell_type": "code",
      "metadata": {
        "id": "XKvKLsyIGbt8"
      },
      "source": [
        "X_train_new=X_train[:]\n",
        "X_val_new=X_val[:]"
      ],
      "execution_count": null,
      "outputs": []
    },
    {
      "cell_type": "code",
      "metadata": {
        "colab": {
          "base_uri": "https://localhost:8080/"
        },
        "id": "Pq2Q8CvrGbt8",
        "outputId": "258c33ab-1e6c-4c8f-ab2a-486795798d5b"
      },
      "source": [
        "X_train_new.drop([\"tweets_Text\"], axis=1, inplace=True)\n",
        "X_val_new.drop([\"tweets_Text\"], axis=1, inplace=True)"
      ],
      "execution_count": null,
      "outputs": [
        {
          "output_type": "stream",
          "text": [
            "/usr/local/lib/python3.6/dist-packages/pandas/core/frame.py:4174: SettingWithCopyWarning: \n",
            "A value is trying to be set on a copy of a slice from a DataFrame\n",
            "\n",
            "See the caveats in the documentation: https://pandas.pydata.org/pandas-docs/stable/user_guide/indexing.html#returning-a-view-versus-a-copy\n",
            "  errors=errors,\n"
          ],
          "name": "stderr"
        }
      ]
    },
    {
      "cell_type": "code",
      "metadata": {
        "colab": {
          "base_uri": "https://localhost:8080/",
          "height": 204
        },
        "id": "TfxLBQoJGbt8",
        "outputId": "43bc94d3-c79a-466f-a0a9-29dd823b4c37"
      },
      "source": [
        "X_train_new.head()"
      ],
      "execution_count": null,
      "outputs": [
        {
          "output_type": "execute_result",
          "data": {
            "text/html": [
              "<div>\n",
              "<style scoped>\n",
              "    .dataframe tbody tr th:only-of-type {\n",
              "        vertical-align: middle;\n",
              "    }\n",
              "\n",
              "    .dataframe tbody tr th {\n",
              "        vertical-align: top;\n",
              "    }\n",
              "\n",
              "    .dataframe thead th {\n",
              "        text-align: right;\n",
              "    }\n",
              "</style>\n",
              "<table border=\"1\" class=\"dataframe\">\n",
              "  <thead>\n",
              "    <tr style=\"text-align: right;\">\n",
              "      <th></th>\n",
              "      <th>has_image</th>\n",
              "      <th>has_Link</th>\n",
              "    </tr>\n",
              "  </thead>\n",
              "  <tbody>\n",
              "    <tr>\n",
              "      <th>43803</th>\n",
              "      <td>1</td>\n",
              "      <td>1</td>\n",
              "    </tr>\n",
              "    <tr>\n",
              "      <th>15239</th>\n",
              "      <td>0</td>\n",
              "      <td>0</td>\n",
              "    </tr>\n",
              "    <tr>\n",
              "      <th>5183</th>\n",
              "      <td>1</td>\n",
              "      <td>1</td>\n",
              "    </tr>\n",
              "    <tr>\n",
              "      <th>12024</th>\n",
              "      <td>0</td>\n",
              "      <td>0</td>\n",
              "    </tr>\n",
              "    <tr>\n",
              "      <th>45182</th>\n",
              "      <td>1</td>\n",
              "      <td>0</td>\n",
              "    </tr>\n",
              "  </tbody>\n",
              "</table>\n",
              "</div>"
            ],
            "text/plain": [
              "       has_image  has_Link\n",
              "43803          1         1\n",
              "15239          0         0\n",
              "5183           1         1\n",
              "12024          0         0\n",
              "45182          1         0"
            ]
          },
          "metadata": {
            "tags": []
          },
          "execution_count": 28
        }
      ]
    },
    {
      "cell_type": "code",
      "metadata": {
        "id": "o1hXACuPc4Pd"
      },
      "source": [
        "X_train_new = X_train_new.loc[:, ~X_train_new.columns.str.contains('^Unnamed')]"
      ],
      "execution_count": null,
      "outputs": []
    },
    {
      "cell_type": "code",
      "metadata": {
        "id": "8LIT_2QwdAaQ"
      },
      "source": [
        "X_val_new = X_val_new.loc[:, ~X_val_new.columns.str.contains('^Unnamed')]"
      ],
      "execution_count": null,
      "outputs": []
    },
    {
      "cell_type": "code",
      "metadata": {
        "colab": {
          "base_uri": "https://localhost:8080/"
        },
        "id": "78hkaipAGbt9",
        "outputId": "cfbc52ce-f597-4a29-9bd2-30dcdbb026ae"
      },
      "source": [
        "X_train_new.to_numpy()\n",
        "X_val_new.to_numpy()"
      ],
      "execution_count": null,
      "outputs": [
        {
          "output_type": "execute_result",
          "data": {
            "text/plain": [
              "array([[1, 1],\n",
              "       [0, 0],\n",
              "       [0, 0],\n",
              "       ...,\n",
              "       [0, 0],\n",
              "       [1, 0],\n",
              "       [0, 0]])"
            ]
          },
          "metadata": {
            "tags": []
          },
          "execution_count": 31
        }
      ]
    },
    {
      "cell_type": "code",
      "metadata": {
        "colab": {
          "base_uri": "https://localhost:8080/",
          "height": 173
        },
        "id": "_q8LHp0bGbt9",
        "outputId": "8d8776c0-b88b-44d3-9911-5e0e9cae5ff5"
      },
      "source": [
        "X_train_new[:4]"
      ],
      "execution_count": null,
      "outputs": [
        {
          "output_type": "execute_result",
          "data": {
            "text/html": [
              "<div>\n",
              "<style scoped>\n",
              "    .dataframe tbody tr th:only-of-type {\n",
              "        vertical-align: middle;\n",
              "    }\n",
              "\n",
              "    .dataframe tbody tr th {\n",
              "        vertical-align: top;\n",
              "    }\n",
              "\n",
              "    .dataframe thead th {\n",
              "        text-align: right;\n",
              "    }\n",
              "</style>\n",
              "<table border=\"1\" class=\"dataframe\">\n",
              "  <thead>\n",
              "    <tr style=\"text-align: right;\">\n",
              "      <th></th>\n",
              "      <th>has_image</th>\n",
              "      <th>has_Link</th>\n",
              "    </tr>\n",
              "  </thead>\n",
              "  <tbody>\n",
              "    <tr>\n",
              "      <th>43803</th>\n",
              "      <td>1</td>\n",
              "      <td>1</td>\n",
              "    </tr>\n",
              "    <tr>\n",
              "      <th>15239</th>\n",
              "      <td>0</td>\n",
              "      <td>0</td>\n",
              "    </tr>\n",
              "    <tr>\n",
              "      <th>5183</th>\n",
              "      <td>1</td>\n",
              "      <td>1</td>\n",
              "    </tr>\n",
              "    <tr>\n",
              "      <th>12024</th>\n",
              "      <td>0</td>\n",
              "      <td>0</td>\n",
              "    </tr>\n",
              "  </tbody>\n",
              "</table>\n",
              "</div>"
            ],
            "text/plain": [
              "       has_image  has_Link\n",
              "43803          1         1\n",
              "15239          0         0\n",
              "5183           1         1\n",
              "12024          0         0"
            ]
          },
          "metadata": {
            "tags": []
          },
          "execution_count": 32
        }
      ]
    },
    {
      "cell_type": "code",
      "metadata": {
        "id": "jQC45ruPGbt9"
      },
      "source": [
        "X_train_df=np.concatenate(( train_X_tokenized, X_train_new), axis=1)\n"
      ],
      "execution_count": 107,
      "outputs": []
    },
    {
      "cell_type": "code",
      "metadata": {
        "id": "E2K1-tGaGbt9"
      },
      "source": [
        "X_val_df=np.concatenate((val_X_tokenized, X_val_new), axis=1)"
      ],
      "execution_count": 108,
      "outputs": []
    },
    {
      "cell_type": "code",
      "metadata": {
        "colab": {
          "base_uri": "https://localhost:8080/"
        },
        "id": "T9sof3i3Gbt9",
        "outputId": "c5ed9cd8-a1e3-46c6-8a13-cd008e9d1c4b"
      },
      "source": [
        "X_train_df[:4]"
      ],
      "execution_count": null,
      "outputs": [
        {
          "output_type": "execute_result",
          "data": {
            "text/plain": [
              "array([[    0,     0,     0,     0,     0,     0,     0,     0,     0,\n",
              "            0,     0,     0,     0,     0,     0,     0,     0,     0,\n",
              "            0,     0,     0,     0,     0,     0,     0,     0,     0,\n",
              "            0,     0,     0,     0,     0,     0,     0,     0,     0,\n",
              "            0,     0,     0,     0,     0,     0,     0,     0,     0,\n",
              "            0,     0,     0,     0,     0,     0,     0,     0,     0,\n",
              "            0,     0,     0,     0,     0,     0,     0,     0,     0,\n",
              "            0,     0,     0,     0,     0,     0,     0,     0,     0,\n",
              "            0,     0,     0,     0,     0,     0,     0,     0,     0,\n",
              "            0,     0,     0,     0,     0,     0,     0,     0,     0,\n",
              "            0,     0,     0,     0,     0,     0,     0,     0,     0,\n",
              "            0,     0,     0,     0,     0,     0,     0,     0,     0,\n",
              "            0,     0,     0,     0,     0,     0,     0,     0,     0,\n",
              "            0,     0,     0,     0,     0,     0,     0,     0,     0,\n",
              "            0,     0,     0,     0,     0,     0,     0,     0,     0,\n",
              "            0,     0,  8154, 13715,    49,  5048,   761, 20616,  3896,\n",
              "        20617,  5724,   872, 10983,    22,  3593,     1,     1],\n",
              "       [    0,     0,     0,     0,     0,     0,     0,     0,     0,\n",
              "            0,     0,     0,     0,     0,     0,     0,     0,     0,\n",
              "            0,     0,     0,     0,     0,     0,     0,     0,     0,\n",
              "            0,     0,     0,     0,     0,     0,     0,     0,     0,\n",
              "            0,     0,     0,     0,     0,     0,     0,     0,     0,\n",
              "            0,     0,     0,     0,     0,     0,     0,     0,     0,\n",
              "            0,     0,     0,     0,     0,     0,     0,     0,     0,\n",
              "            0,     0,     0,     0,     0,     0,     0,     0,     0,\n",
              "            0,     0,     0,     0,     0,     0,     0,     0,     0,\n",
              "            0,     0,     0,     0,     0,     0,     0,     0,     0,\n",
              "            0,     0,     0,     0,     0,     0,     0,     0,     0,\n",
              "            0,     0,     0,     0,     0,     0,     0,     0,     0,\n",
              "            0,     0,     0,     0,     0,     0,     0,     0,     0,\n",
              "            0,     0,     0,     0,     0,     0,     0,     0,     0,\n",
              "            0,     0,     0,     0,     0,     0,     0,     0,     0,\n",
              "            0,     0,     0,     0,     0,     0,    57,   833,   270,\n",
              "          417,  2760,    72,  1407,  1960,  1147,     0,     0],\n",
              "       [    0,     0,     0,     0,     0,     0,     0,     0,     0,\n",
              "            0,     0,     0,     0,     0,     0,     0,     0,     0,\n",
              "            0,     0,     0,     0,     0,     0,     0,     0,     0,\n",
              "            0,     0,     0,     0,     0,     0,     0,     0,     0,\n",
              "            0,     0,     0,     0,     0,     0,     0,     0,     0,\n",
              "            0,     0,     0,     0,     0,     0,     0,     0,     0,\n",
              "            0,     0,     0,     0,     0,     0,     0,     0,     0,\n",
              "            0,     0,     0,     0,     0,     0,     0,     0,     0,\n",
              "            0,     0,     0,     0,     0,     0,     0,     0,     0,\n",
              "            0,     0,     0,     0,     0,     0,     0,     0,     0,\n",
              "            0,     0,     0,     0,     0,     0,     0,     0,     0,\n",
              "            0,     0,     0,     0,     0,     0,     0,     0,     0,\n",
              "            0,     0,     0,     0,     0,     0,     0,     0,     0,\n",
              "            0,     0,     0,     0,     0,     0,     0,     0,     0,\n",
              "            0,     0,     0,     0,     0,     0,     0,     0,     0,\n",
              "            0,     0, 13716,    31,   304,   749,     2,  5725,  6650,\n",
              "          210,  1321,  3594, 20618,  4502, 20619,     1,     1],\n",
              "       [    0,     0,     0,     0,     0,     0,     0,     0,     0,\n",
              "            0,     0,     0,     0,     0,     0,     0,     0,     0,\n",
              "            0,     0,     0,     0,     0,     0,     0,     0,     0,\n",
              "            0,     0,     0,     0,     0,     0,     0,     0,     0,\n",
              "            0,     0,     0,     0,     0,     0,     0,     0,     0,\n",
              "            0,     0,     0,     0,     0,     0,     0,     0,     0,\n",
              "            0,     0,     0,     0,     0,     0,     0,     0,     0,\n",
              "            0,     0,     0,     0,     0,     0,     0,     0,     0,\n",
              "            0,     0,     0,     0,     0,     0,     0,     0,     0,\n",
              "            0,     0,     0,     0,     0,     0,     0,     0,     0,\n",
              "            0,     0,     0,     0,     0,     0,     0,     0,     0,\n",
              "            0,     0,     0,     0,     0,     0,     0,     0,     0,\n",
              "            0,     0,     0,     0,     0,     0,     0,     0,     0,\n",
              "            0,     0,     0,     0,     0,     0,     0,     0,     0,\n",
              "            0,     0,     0,     0,     0,     0,     0,     0,     0,\n",
              "            0,     0,     0,   658,  4279,  1961,   185,    53,  2124,\n",
              "          410, 20620,  3450,  9305,   738, 20621,     0,     0]])"
            ]
          },
          "metadata": {
            "tags": []
          },
          "execution_count": 35
        }
      ]
    },
    {
      "cell_type": "code",
      "metadata": {
        "id": "aZbyILrvGbuA"
      },
      "source": [
        "# X_val_df=np.concatenate((X_val_new, val_X_tokenized), axis=1)"
      ],
      "execution_count": null,
      "outputs": []
    },
    {
      "cell_type": "code",
      "metadata": {
        "colab": {
          "base_uri": "https://localhost:8080/"
        },
        "id": "OBUUxwkyGbuA",
        "outputId": "59d0def9-8f29-43cc-a38e-65231b1b5a5d"
      },
      "source": [
        "X_val_df.shape"
      ],
      "execution_count": null,
      "outputs": [
        {
          "output_type": "execute_result",
          "data": {
            "text/plain": [
              "(9353, 152)"
            ]
          },
          "metadata": {
            "tags": []
          },
          "execution_count": 37
        }
      ]
    },
    {
      "cell_type": "markdown",
      "metadata": {
        "id": "RdZFY27gGbuA"
      },
      "source": [
        "# Models"
      ]
    },
    {
      "cell_type": "markdown",
      "metadata": {
        "id": "__Qpjgj_jduJ"
      },
      "source": [
        "Logistic Regression"
      ]
    },
    {
      "cell_type": "code",
      "metadata": {
        "id": "e9qXaTiYjTza"
      },
      "source": [
        "clf = LogisticRegression(max_iter=50000)\n",
        "clf.fit(train_X_tokenized, y_train)\n",
        "y_pred_lr = clf.predict(val_X_tokenized)\n"
      ],
      "execution_count": null,
      "outputs": []
    },
    {
      "cell_type": "code",
      "metadata": {
        "colab": {
          "base_uri": "https://localhost:8080/"
        },
        "id": "I8tWHXNhAtVm",
        "outputId": "c48d5e2f-9ee5-4c67-a622-fa9548d12a1b"
      },
      "source": [
        "print(clf.score(val_X_tokenized, y_val))\n",
        "print(f1_score(y_val, y_pred_lr, average='macro'))"
      ],
      "execution_count": null,
      "outputs": [
        {
          "output_type": "stream",
          "text": [
            "0.34934607645875254\n",
            "0.3434522443368606\n"
          ],
          "name": "stdout"
        }
      ]
    },
    {
      "cell_type": "markdown",
      "metadata": {
        "id": "DF6Mwcg9m4bs"
      },
      "source": [
        "Decision Tree"
      ]
    },
    {
      "cell_type": "code",
      "metadata": {
        "colab": {
          "base_uri": "https://localhost:8080/"
        },
        "id": "Lkk7cz8RjTD9",
        "outputId": "7e7a3ae7-0e19-489f-c8e3-eb4047eae3ae"
      },
      "source": [
        "clf = DecisionTreeClassifier()\n",
        "clf.fit(train_X_tokenized, y_train)\n",
        "clf.score(val_X_tokenized, y_val)"
      ],
      "execution_count": null,
      "outputs": [
        {
          "output_type": "execute_result",
          "data": {
            "text/plain": [
              "0.45447686116700203"
            ]
          },
          "metadata": {
            "tags": []
          },
          "execution_count": 57
        }
      ]
    },
    {
      "cell_type": "code",
      "metadata": {
        "colab": {
          "base_uri": "https://localhost:8080/"
        },
        "id": "2z8vMXhQA2MW",
        "outputId": "61239bbf-4166-4bfe-bb69-39b207620195"
      },
      "source": [
        "print(clf.score(val_X_tokenized, y_val))\n",
        "print(f1_score(y_val, y_pred_lr, average='macro'))"
      ],
      "execution_count": null,
      "outputs": [
        {
          "output_type": "stream",
          "text": [
            "0.45447686116700203\n",
            "0.3434522443368606\n"
          ],
          "name": "stdout"
        }
      ]
    },
    {
      "cell_type": "markdown",
      "metadata": {
        "id": "LHWFoQs7nM1g"
      },
      "source": [
        "SVM"
      ]
    },
    {
      "cell_type": "code",
      "metadata": {
        "colab": {
          "base_uri": "https://localhost:8080/"
        },
        "id": "3CaSzXI6nSad",
        "outputId": "09f1b7ff-6066-40c9-b16b-8be90c9e7c71"
      },
      "source": [
        "clf = SVC()\n",
        "clf.fit(train_X_tokenized, y_train)\n",
        "clf.score(val_X_tokenized, y_val)"
      ],
      "execution_count": null,
      "outputs": [
        {
          "output_type": "execute_result",
          "data": {
            "text/plain": [
              "0.39738430583501005"
            ]
          },
          "metadata": {
            "tags": []
          },
          "execution_count": 65
        }
      ]
    },
    {
      "cell_type": "code",
      "metadata": {
        "colab": {
          "base_uri": "https://localhost:8080/"
        },
        "id": "UKDztqAHBZQc",
        "outputId": "b4c517a3-3448-4943-9d0e-1efc030fd8a9"
      },
      "source": [
        "print(clf.score(val_X_tokenized, y_val))\n",
        "print(f1_score(y_val, y_pred_lr, average='macro'))"
      ],
      "execution_count": null,
      "outputs": [
        {
          "output_type": "stream",
          "text": [
            "0.39738430583501005\n",
            "0.3434522443368606\n"
          ],
          "name": "stdout"
        }
      ]
    },
    {
      "cell_type": "markdown",
      "metadata": {
        "id": "nIWlHyE6ncYX"
      },
      "source": [
        "Neural Network"
      ]
    },
    {
      "cell_type": "code",
      "metadata": {
        "colab": {
          "base_uri": "https://localhost:8080/"
        },
        "id": "PUUqcjZUnhW-",
        "outputId": "ea1f6bd3-232c-4ace-d655-ac1e14838730"
      },
      "source": [
        "clf = MLPClassifier(random_state=1, max_iter=1000)\n",
        "clf.fit(train_X_tokenized, y_train)\n",
        "clf.score(val_X_tokenized, y_val)"
      ],
      "execution_count": null,
      "outputs": [
        {
          "output_type": "execute_result",
          "data": {
            "text/plain": [
              "0.33702213279678067"
            ]
          },
          "metadata": {
            "tags": []
          },
          "execution_count": 67
        }
      ]
    },
    {
      "cell_type": "code",
      "metadata": {
        "colab": {
          "base_uri": "https://localhost:8080/"
        },
        "id": "XSZ7hKgtBcGm",
        "outputId": "6c6fd0fe-6361-4d47-fad4-69eab4367473"
      },
      "source": [
        "print(clf.score(val_X_tokenized, y_val))\n",
        "print(f1_score(y_val, y_pred_lr, average='macro'))"
      ],
      "execution_count": null,
      "outputs": [
        {
          "output_type": "stream",
          "text": [
            "0.33702213279678067\n",
            "0.3434522443368606\n"
          ],
          "name": "stdout"
        }
      ]
    },
    {
      "cell_type": "markdown",
      "metadata": {
        "id": "hlB_kZ27npVj"
      },
      "source": [
        "Random Forest"
      ]
    },
    {
      "cell_type": "code",
      "metadata": {
        "colab": {
          "base_uri": "https://localhost:8080/"
        },
        "id": "7ULF0_5bnt6Q",
        "outputId": "859c403b-8308-4e41-d7f7-4208001918c3"
      },
      "source": [
        "clf = RandomForestClassifier(max_depth=50, random_state=0)\n",
        "clf.fit(train_X_tokenized, y_train)\n",
        "clf.score(val_X_tokenized, y_val)"
      ],
      "execution_count": null,
      "outputs": [
        {
          "output_type": "execute_result",
          "data": {
            "text/plain": [
              "0.5072937625754527"
            ]
          },
          "metadata": {
            "tags": []
          },
          "execution_count": 57
        }
      ]
    },
    {
      "cell_type": "code",
      "metadata": {
        "colab": {
          "base_uri": "https://localhost:8080/"
        },
        "id": "ZOFNgIC8Be28",
        "outputId": "5c05be56-8581-4e60-8b69-ceb885bf01ea"
      },
      "source": [
        "print(clf.score(val_X_tokenized, y_val))\n",
        "print(f1_score(y_val, y_pred_lr, average='macro'))"
      ],
      "execution_count": null,
      "outputs": [
        {
          "output_type": "stream",
          "text": [
            "0.33702213279678067\n",
            "0.3434522443368606\n"
          ],
          "name": "stdout"
        }
      ]
    },
    {
      "cell_type": "code",
      "metadata": {
        "id": "TBz1lr0tGbuA"
      },
      "source": [
        "import tensorflow as tf\n",
        "from tensorflow import keras\n",
        "from tensorflow.keras import layers\n",
        "from keras.preprocessing.text import Tokenizer\n",
        "from keras.preprocessing.sequence import pad_sequences\n",
        "from keras.layers import Dense, Input, LSTM, Embedding, Dropout, Activation, Conv1D\n",
        "from keras.layers import Bidirectional, GlobalMaxPool1D\n",
        "from keras.models import Model\n",
        "from keras import initializers, regularizers, constraints, optimizers, layers\n",
        "from keras.models import Sequential\n",
        "from keras import layers\n",
        "from keras import models"
      ],
      "execution_count": null,
      "outputs": []
    },
    {
      "cell_type": "markdown",
      "metadata": {
        "id": "9wseDyP_Q9Ep"
      },
      "source": [
        "**Feature SET**\n",
        "\n"
      ]
    },
    {
      "cell_type": "markdown",
      "metadata": {
        "id": "lZgFBvg1RU5I"
      },
      "source": [
        "Tweets Only Train_X: **train_X_tokenized**\n"
      ]
    },
    {
      "cell_type": "markdown",
      "metadata": {
        "id": "ctJFheu1RXWO"
      },
      "source": [
        "Tweets Only Val_X: **val_X_tokenized**"
      ]
    },
    {
      "cell_type": "markdown",
      "metadata": {
        "id": "uiFWgVYURZwn"
      },
      "source": [
        "Tweets, Image, hasLink Train_X: **X_train_df**"
      ]
    },
    {
      "cell_type": "markdown",
      "metadata": {
        "id": "UD1V1ZlKRqDf"
      },
      "source": [
        "Tweets, Image, hasLink Val_X: **X_val_df**"
      ]
    },
    {
      "cell_type": "markdown",
      "metadata": {
        "id": "k1oOL7_PRxtU"
      },
      "source": [
        "Training Label: **train_Y**"
      ]
    },
    {
      "cell_type": "markdown",
      "metadata": {
        "id": "RbrLHRC7R4-T"
      },
      "source": [
        "Validation Label: **val_Y**"
      ]
    },
    {
      "cell_type": "code",
      "metadata": {
        "id": "VxijooNSCgjU"
      },
      "source": [
        "from keras import backend as K\n",
        "\n",
        "def recall_m(y_true, y_pred):\n",
        "    true_positives = K.sum(K.round(K.clip(y_true * y_pred, 0, 1)))\n",
        "    possible_positives = K.sum(K.round(K.clip(y_true, 0, 1)))\n",
        "    recall = true_positives / (possible_positives + K.epsilon())\n",
        "    return recall\n",
        "\n",
        "def precision_m(y_true, y_pred):\n",
        "    true_positives = K.sum(K.round(K.clip(y_true * y_pred, 0, 1)))\n",
        "    predicted_positives = K.sum(K.round(K.clip(y_pred, 0, 1)))\n",
        "    precision = true_positives / (predicted_positives + K.epsilon())\n",
        "    return precision\n",
        "\n",
        "def f1_m(y_true, y_pred):\n",
        "    precision = precision_m(y_true, y_pred)\n",
        "    recall = recall_m(y_true, y_pred)\n",
        "    return 2*((precision*recall)/(precision+recall+K.epsilon()))"
      ],
      "execution_count": null,
      "outputs": []
    },
    {
      "cell_type": "markdown",
      "metadata": {
        "id": "sztayrEtGbuA"
      },
      "source": [
        "# 1. Vanilla RNN "
      ]
    },
    {
      "cell_type": "markdown",
      "metadata": {
        "id": "Mi7N7GmtGbuA"
      },
      "source": [
        "# 1.1 Feature:Only Tweet Text"
      ]
    },
    {
      "cell_type": "markdown",
      "metadata": {
        "id": "T80OGtFfGbuA"
      },
      "source": [
        "The feature set only has the tweet"
      ]
    },
    {
      "cell_type": "code",
      "metadata": {
        "colab": {
          "base_uri": "https://localhost:8080/"
        },
        "id": "WPTgw7g0GbuA",
        "outputId": "f9398c69-a07c-4f1b-d544-77207ffdee6c"
      },
      "source": [
        "vanilla_rnn = models.Sequential()\n",
        "vanilla_rnn.add(layers.Embedding(max_features, 8, input_length=max_len))\n",
        "vanilla_rnn.add(layers.SimpleRNN(128))\n",
        "#vanilla_rnn.add(layers.Flatten())\n",
        "vanilla_rnn.add(layers.Dense(3, activation='softmax'))\n",
        "vanilla_rnn.summary()"
      ],
      "execution_count": null,
      "outputs": [
        {
          "output_type": "stream",
          "text": [
            "Model: \"sequential\"\n",
            "_________________________________________________________________\n",
            "Layer (type)                 Output Shape              Param #   \n",
            "=================================================================\n",
            "embedding (Embedding)        (None, 150, 8)            200000    \n",
            "_________________________________________________________________\n",
            "simple_rnn (SimpleRNN)       (None, 128)               17536     \n",
            "_________________________________________________________________\n",
            "dense (Dense)                (None, 3)                 387       \n",
            "=================================================================\n",
            "Total params: 217,923\n",
            "Trainable params: 217,923\n",
            "Non-trainable params: 0\n",
            "_________________________________________________________________\n"
          ],
          "name": "stdout"
        }
      ]
    },
    {
      "cell_type": "code",
      "metadata": {
        "colab": {
          "base_uri": "https://localhost:8080/"
        },
        "id": "7VCZF-TTGbuA",
        "outputId": "2cc84a19-2614-4a96-f385-6573ca9874a4"
      },
      "source": [
        "# vanilla_rnn.compile(loss='categorical_crossentropy', optimizer='adam', metrics=['accuracy'])\n",
        "vanilla_rnn.compile(loss='categorical_crossentropy', optimizer='adam', metrics=['acc',f1_m,precision_m, recall_m])\n",
        "\n",
        "from tensorflow.keras.callbacks import EarlyStopping\n",
        "#callbacks = EarlyStopping(monitor='val_loss', min_delta=0, patience = 2)\n",
        "history = vanilla_rnn.fit(train_X_tokenized,\n",
        "                    train_Y, \n",
        "                    batch_size=100, \n",
        "                    epochs=20, \n",
        "                    validation_data=(val_X_tokenized, val_Y)\n",
        "                    #callbacks=callbacks\n",
        "                    )"
      ],
      "execution_count": null,
      "outputs": [
        {
          "output_type": "stream",
          "text": [
            "Epoch 1/20\n",
            "375/375 [==============================] - 43s 114ms/step - loss: 1.0932 - acc: 0.3870 - f1_m: 0.0672 - precision_m: 0.2190 - recall_m: 0.0486 - val_loss: 1.0395 - val_acc: 0.5090 - val_f1_m: 0.0364 - val_precision_m: 0.8090 - val_recall_m: 0.0187\n",
            "Epoch 2/20\n",
            "375/375 [==============================] - 42s 112ms/step - loss: 0.8586 - acc: 0.5956 - f1_m: 0.4925 - precision_m: 0.7146 - recall_m: 0.3927 - val_loss: 0.8705 - val_acc: 0.5781 - val_f1_m: 0.5174 - val_precision_m: 0.6653 - val_recall_m: 0.4242\n",
            "Epoch 3/20\n",
            "375/375 [==============================] - 42s 112ms/step - loss: 0.5965 - acc: 0.7513 - f1_m: 0.7361 - precision_m: 0.7969 - recall_m: 0.6848 - val_loss: 0.9012 - val_acc: 0.5984 - val_f1_m: 0.5802 - val_precision_m: 0.6336 - val_recall_m: 0.5356\n",
            "Epoch 4/20\n",
            "375/375 [==============================] - 42s 111ms/step - loss: 0.3726 - acc: 0.8582 - f1_m: 0.8553 - precision_m: 0.8777 - recall_m: 0.8343 - val_loss: 1.0510 - val_acc: 0.5959 - val_f1_m: 0.5886 - val_precision_m: 0.6132 - val_recall_m: 0.5661\n",
            "Epoch 5/20\n",
            "375/375 [==============================] - 42s 112ms/step - loss: 0.7790 - acc: 0.6693 - f1_m: 0.5613 - precision_m: 0.8196 - recall_m: 0.4879 - val_loss: 1.0412 - val_acc: 0.4434 - val_f1_m: 0.1309 - val_precision_m: 0.7610 - val_recall_m: 0.0722\n",
            "Epoch 6/20\n",
            "375/375 [==============================] - 42s 111ms/step - loss: 0.8029 - acc: 0.6387 - f1_m: 0.5258 - precision_m: 0.8426 - recall_m: 0.3931 - val_loss: 0.9989 - val_acc: 0.5074 - val_f1_m: 0.3956 - val_precision_m: 0.6053 - val_recall_m: 0.2948\n",
            "Epoch 7/20\n",
            "375/375 [==============================] - 42s 112ms/step - loss: 0.5674 - acc: 0.7506 - f1_m: 0.7303 - precision_m: 0.8104 - recall_m: 0.6695 - val_loss: 0.9588 - val_acc: 0.5897 - val_f1_m: 0.5721 - val_precision_m: 0.6108 - val_recall_m: 0.5382\n",
            "Epoch 8/20\n",
            "375/375 [==============================] - 43s 114ms/step - loss: 0.4898 - acc: 0.7900 - f1_m: 0.7810 - precision_m: 0.8244 - recall_m: 0.7441 - val_loss: 0.9731 - val_acc: 0.5907 - val_f1_m: 0.5761 - val_precision_m: 0.6186 - val_recall_m: 0.5395\n",
            "Epoch 9/20\n",
            "375/375 [==============================] - 42s 112ms/step - loss: 0.3713 - acc: 0.8498 - f1_m: 0.8479 - precision_m: 0.8653 - recall_m: 0.8313 - val_loss: 1.0916 - val_acc: 0.5868 - val_f1_m: 0.5829 - val_precision_m: 0.6096 - val_recall_m: 0.5587\n",
            "Epoch 10/20\n",
            "375/375 [==============================] - 42s 112ms/step - loss: 0.2752 - acc: 0.8950 - f1_m: 0.8945 - precision_m: 0.9048 - recall_m: 0.8845 - val_loss: 1.2630 - val_acc: 0.5778 - val_f1_m: 0.5738 - val_precision_m: 0.5833 - val_recall_m: 0.5647\n",
            "Epoch 11/20\n",
            "375/375 [==============================] - 42s 112ms/step - loss: 0.2087 - acc: 0.9234 - f1_m: 0.9235 - precision_m: 0.9295 - recall_m: 0.9175 - val_loss: 1.4469 - val_acc: 0.5920 - val_f1_m: 0.5896 - val_precision_m: 0.6019 - val_recall_m: 0.5780\n",
            "Epoch 12/20\n",
            "375/375 [==============================] - 42s 112ms/step - loss: 0.3145 - acc: 0.8701 - f1_m: 0.8682 - precision_m: 0.8870 - recall_m: 0.8514 - val_loss: 1.2000 - val_acc: 0.5894 - val_f1_m: 0.5837 - val_precision_m: 0.5988 - val_recall_m: 0.5695\n",
            "Epoch 13/20\n",
            "375/375 [==============================] - 42s 111ms/step - loss: 0.2260 - acc: 0.9150 - f1_m: 0.9144 - precision_m: 0.9224 - recall_m: 0.9067 - val_loss: 1.4687 - val_acc: 0.5891 - val_f1_m: 0.5864 - val_precision_m: 0.5971 - val_recall_m: 0.5761\n",
            "Epoch 14/20\n",
            "375/375 [==============================] - 42s 112ms/step - loss: 0.1490 - acc: 0.9488 - f1_m: 0.9488 - precision_m: 0.9524 - recall_m: 0.9453 - val_loss: 1.6608 - val_acc: 0.5799 - val_f1_m: 0.5783 - val_precision_m: 0.5835 - val_recall_m: 0.5732\n",
            "Epoch 15/20\n",
            "375/375 [==============================] - 42s 112ms/step - loss: 0.1082 - acc: 0.9639 - f1_m: 0.9639 - precision_m: 0.9663 - recall_m: 0.9617 - val_loss: 1.8229 - val_acc: 0.5880 - val_f1_m: 0.5840 - val_precision_m: 0.5893 - val_recall_m: 0.5789\n",
            "Epoch 16/20\n",
            "375/375 [==============================] - 43s 114ms/step - loss: 0.0813 - acc: 0.9744 - f1_m: 0.9739 - precision_m: 0.9757 - recall_m: 0.9722 - val_loss: 2.0059 - val_acc: 0.5668 - val_f1_m: 0.5666 - val_precision_m: 0.5698 - val_recall_m: 0.5634\n",
            "Epoch 17/20\n",
            "375/375 [==============================] - 42s 112ms/step - loss: 0.0702 - acc: 0.9775 - f1_m: 0.9775 - precision_m: 0.9788 - recall_m: 0.9761 - val_loss: 2.1199 - val_acc: 0.5928 - val_f1_m: 0.5925 - val_precision_m: 0.5955 - val_recall_m: 0.5895\n",
            "Epoch 18/20\n",
            "375/375 [==============================] - 42s 112ms/step - loss: 0.0488 - acc: 0.9847 - f1_m: 0.9845 - precision_m: 0.9853 - recall_m: 0.9837 - val_loss: 2.3452 - val_acc: 0.5890 - val_f1_m: 0.5882 - val_precision_m: 0.5913 - val_recall_m: 0.5851\n",
            "Epoch 19/20\n",
            "375/375 [==============================] - 42s 111ms/step - loss: 0.0372 - acc: 0.9888 - f1_m: 0.9887 - precision_m: 0.9892 - recall_m: 0.9882 - val_loss: 2.5298 - val_acc: 0.5867 - val_f1_m: 0.5859 - val_precision_m: 0.5880 - val_recall_m: 0.5838\n",
            "Epoch 20/20\n",
            "375/375 [==============================] - 42s 112ms/step - loss: 0.0301 - acc: 0.9913 - f1_m: 0.9913 - precision_m: 0.9918 - recall_m: 0.9908 - val_loss: 2.6263 - val_acc: 0.5909 - val_f1_m: 0.5900 - val_precision_m: 0.5917 - val_recall_m: 0.5883\n"
          ],
          "name": "stdout"
        }
      ]
    },
    {
      "cell_type": "code",
      "metadata": {
        "colab": {
          "base_uri": "https://localhost:8080/"
        },
        "id": "GdF1iCVZC61O",
        "outputId": "a44d9e54-be99-471a-ba51-b4162ea2ea0e"
      },
      "source": [
        "loss, accuracy, f1_score, precision, recall = vanilla_rnn.evaluate(val_X_tokenized, val_Y, verbose=0)\n",
        "print(loss, accuracy, f1_score, precision, recall)"
      ],
      "execution_count": null,
      "outputs": [
        {
          "output_type": "stream",
          "text": [
            "2.626253366470337 0.5909333825111389 0.5903492569923401 0.5920374989509583 0.5887253284454346\n"
          ],
          "name": "stdout"
        }
      ]
    },
    {
      "cell_type": "code",
      "metadata": {
        "colab": {
          "base_uri": "https://localhost:8080/",
          "height": 573
        },
        "id": "bXTT5uN-ZBPF",
        "outputId": "2b05a3c2-d61d-44e3-daf6-669e76a33f8c"
      },
      "source": [
        "# plot history\n",
        "# Plot training & validation accuracy values\n",
        "import matplotlib.pyplot as plt \n",
        "plt.plot(history.history['acc'])\n",
        "plt.plot(history.history['val_acc'])\n",
        "plt.title('Model accuracy')\n",
        "plt.ylabel('Accuracy')\n",
        "plt.xlabel('Epoch')\n",
        "plt.legend(['Train', 'Val'], loc='upper left')\n",
        "plt.show()\n",
        "\n",
        "# Plot training & validation loss values\n",
        "plt.plot(history.history['loss'])\n",
        "plt.plot(history.history['val_loss'])\n",
        "plt.title('Model loss')\n",
        "plt.ylabel('Loss')\n",
        "plt.xlabel('Epoch')\n",
        "plt.legend(['Train', 'Val'], loc='upper left')\n",
        "plt.show()"
      ],
      "execution_count": null,
      "outputs": [
        {
          "output_type": "display_data",
          "data": {
            "image/png": "[encoded data removed]",
            "text/plain": [
              "<Figure size 432x288 with 1 Axes>"
            ]
          },
          "metadata": {
            "tags": []
          }
        },
        {
          "output_type": "display_data",
          "data": {
            "image/png": "[encoded data removed]",
            "text/plain": [
              "<Figure size 432x288 with 1 Axes>"
            ]
          },
          "metadata": {
            "tags": []
          }
        }
      ]
    },
    {
      "cell_type": "markdown",
      "metadata": {
        "id": "pFNPCyuwGbuB"
      },
      "source": [
        "# 1.2  Feature: Tweets+ links and image column"
      ]
    },
    {
      "cell_type": "code",
      "metadata": {
        "colab": {
          "base_uri": "https://localhost:8080/"
        },
        "id": "lty0V5sRGbuB",
        "outputId": "c220d0d8-7f04-442a-c136-87fd8218bde2"
      },
      "source": [
        "vanilla_rnn2 = models.Sequential()\n",
        "vanilla_rnn2.add(layers.Embedding(max_features, 8, input_length=max_len+2))\n",
        "vanilla_rnn2.add(layers.SimpleRNN(128))\n",
        "#vanilla_rnn.add(layers.Flatten())\n",
        "vanilla_rnn2.add(layers.Dense(3, activation='softmax'))\n",
        "vanilla_rnn2.summary()"
      ],
      "execution_count": null,
      "outputs": [
        {
          "output_type": "stream",
          "text": [
            "Model: \"sequential_1\"\n",
            "_________________________________________________________________\n",
            "Layer (type)                 Output Shape              Param #   \n",
            "=================================================================\n",
            "embedding_1 (Embedding)      (None, 152, 8)            200000    \n",
            "_________________________________________________________________\n",
            "simple_rnn_1 (SimpleRNN)     (None, 128)               17536     \n",
            "_________________________________________________________________\n",
            "dense_1 (Dense)              (None, 3)                 387       \n",
            "=================================================================\n",
            "Total params: 217,923\n",
            "Trainable params: 217,923\n",
            "Non-trainable params: 0\n",
            "_________________________________________________________________\n"
          ],
          "name": "stdout"
        }
      ]
    },
    {
      "cell_type": "code",
      "metadata": {
        "colab": {
          "base_uri": "https://localhost:8080/"
        },
        "id": "lDYo-UPrGbuB",
        "outputId": "f16c8a18-901c-462c-e053-7d3e975e9802"
      },
      "source": [
        "vanilla_rnn2.compile(loss='categorical_crossentropy', optimizer='adam', metrics=['accuracy',f1_m,precision_m, recall_m])\n",
        "\n",
        "from tensorflow.keras.callbacks import EarlyStopping\n",
        "#callbacks = EarlyStopping(monitor='val_loss', min_delta=0, patience = 2)\n",
        "history = vanilla_rnn2.fit(X_train_df,\n",
        "                    train_Y, \n",
        "                    batch_size=100, \n",
        "                    epochs=20, \n",
        "                    validation_data=(X_val_df, val_Y)\n",
        "                    #callbacks=callbacks\n",
        "                    )"
      ],
      "execution_count": null,
      "outputs": [
        {
          "output_type": "stream",
          "text": [
            "Epoch 1/20\n",
            "375/375 [==============================] - 43s 114ms/step - loss: 1.0143 - accuracy: 0.4777 - f1_m: 0.2643 - precision_m: 0.5026 - recall_m: 0.1939 - val_loss: 1.0581 - val_accuracy: 0.4373 - val_f1_m: 0.1003 - val_precision_m: 0.5759 - val_recall_m: 0.0554\n",
            "Epoch 2/20\n",
            "375/375 [==============================] - 43s 114ms/step - loss: 0.8521 - accuracy: 0.5922 - f1_m: 0.5259 - precision_m: 0.6814 - recall_m: 0.4326 - val_loss: 0.9319 - val_accuracy: 0.5416 - val_f1_m: 0.4565 - val_precision_m: 0.6471 - val_recall_m: 0.3533\n",
            "Epoch 3/20\n",
            "375/375 [==============================] - 43s 115ms/step - loss: 0.7115 - accuracy: 0.6815 - f1_m: 0.6550 - precision_m: 0.7170 - recall_m: 0.6044 - val_loss: 1.0559 - val_accuracy: 0.5064 - val_f1_m: 0.4629 - val_precision_m: 0.5640 - val_recall_m: 0.3930\n",
            "Epoch 4/20\n",
            "375/375 [==============================] - 43s 114ms/step - loss: 0.6726 - accuracy: 0.7053 - f1_m: 0.6826 - precision_m: 0.7413 - recall_m: 0.6372 - val_loss: 0.9710 - val_accuracy: 0.5580 - val_f1_m: 0.5324 - val_precision_m: 0.5876 - val_recall_m: 0.4871\n",
            "Epoch 5/20\n",
            "375/375 [==============================] - 43s 114ms/step - loss: 0.6023 - accuracy: 0.7446 - f1_m: 0.7305 - precision_m: 0.7632 - recall_m: 0.7021 - val_loss: 1.0468 - val_accuracy: 0.5465 - val_f1_m: 0.5250 - val_precision_m: 0.5712 - val_recall_m: 0.4862\n",
            "Epoch 6/20\n",
            "375/375 [==============================] - 43s 114ms/step - loss: 0.5608 - accuracy: 0.7678 - f1_m: 0.7644 - precision_m: 0.7779 - recall_m: 0.7517 - val_loss: 1.0199 - val_accuracy: 0.5698 - val_f1_m: 0.5492 - val_precision_m: 0.5982 - val_recall_m: 0.5081\n",
            "Epoch 7/20\n",
            "375/375 [==============================] - 43s 114ms/step - loss: 0.5118 - accuracy: 0.7924 - f1_m: 0.7897 - precision_m: 0.8008 - recall_m: 0.7793 - val_loss: 1.1214 - val_accuracy: 0.5446 - val_f1_m: 0.5272 - val_precision_m: 0.5626 - val_recall_m: 0.4963\n",
            "Epoch 8/20\n",
            "375/375 [==============================] - 43s 114ms/step - loss: 0.4849 - accuracy: 0.8056 - f1_m: 0.8011 - precision_m: 0.8148 - recall_m: 0.7885 - val_loss: 1.1255 - val_accuracy: 0.5600 - val_f1_m: 0.5485 - val_precision_m: 0.5687 - val_recall_m: 0.5299\n",
            "Epoch 9/20\n",
            "375/375 [==============================] - 43s 115ms/step - loss: 0.4091 - accuracy: 0.8411 - f1_m: 0.8394 - precision_m: 0.8492 - recall_m: 0.8300 - val_loss: 1.1965 - val_accuracy: 0.5599 - val_f1_m: 0.5541 - val_precision_m: 0.5760 - val_recall_m: 0.5341\n",
            "Epoch 10/20\n",
            "375/375 [==============================] - 43s 116ms/step - loss: 0.3605 - accuracy: 0.8610 - f1_m: 0.8601 - precision_m: 0.8689 - recall_m: 0.8515 - val_loss: 1.3342 - val_accuracy: 0.5396 - val_f1_m: 0.5317 - val_precision_m: 0.5489 - val_recall_m: 0.5157\n",
            "Epoch 11/20\n",
            "375/375 [==============================] - 43s 114ms/step - loss: 0.3135 - accuracy: 0.8829 - f1_m: 0.8825 - precision_m: 0.8900 - recall_m: 0.8752 - val_loss: 1.3230 - val_accuracy: 0.5512 - val_f1_m: 0.5441 - val_precision_m: 0.5581 - val_recall_m: 0.5310\n",
            "Epoch 12/20\n",
            "375/375 [==============================] - 42s 112ms/step - loss: 0.2761 - accuracy: 0.8976 - f1_m: 0.8975 - precision_m: 0.9038 - recall_m: 0.8913 - val_loss: 1.4769 - val_accuracy: 0.5252 - val_f1_m: 0.5193 - val_precision_m: 0.5299 - val_recall_m: 0.5093\n",
            "Epoch 13/20\n",
            "375/375 [==============================] - 43s 115ms/step - loss: 0.2356 - accuracy: 0.9148 - f1_m: 0.9141 - precision_m: 0.9188 - recall_m: 0.9096 - val_loss: 1.6844 - val_accuracy: 0.5214 - val_f1_m: 0.5170 - val_precision_m: 0.5270 - val_recall_m: 0.5075\n",
            "Epoch 14/20\n",
            "375/375 [==============================] - 43s 114ms/step - loss: 0.2035 - accuracy: 0.9281 - f1_m: 0.9283 - precision_m: 0.9321 - recall_m: 0.9245 - val_loss: 1.5933 - val_accuracy: 0.5351 - val_f1_m: 0.5309 - val_precision_m: 0.5389 - val_recall_m: 0.5232\n",
            "Epoch 15/20\n",
            "375/375 [==============================] - 43s 115ms/step - loss: 0.4338 - accuracy: 0.8218 - f1_m: 0.8184 - precision_m: 0.8388 - recall_m: 0.8017 - val_loss: 1.4665 - val_accuracy: 0.5429 - val_f1_m: 0.5398 - val_precision_m: 0.5481 - val_recall_m: 0.5319\n",
            "Epoch 16/20\n",
            "375/375 [==============================] - 43s 114ms/step - loss: 0.2575 - accuracy: 0.9032 - f1_m: 0.9028 - precision_m: 0.9084 - recall_m: 0.8974 - val_loss: 1.7390 - val_accuracy: 0.5101 - val_f1_m: 0.5062 - val_precision_m: 0.5152 - val_recall_m: 0.4976\n",
            "Epoch 17/20\n",
            "375/375 [==============================] - 43s 116ms/step - loss: 0.2056 - accuracy: 0.9266 - f1_m: 0.9260 - precision_m: 0.9301 - recall_m: 0.9221 - val_loss: 1.8631 - val_accuracy: 0.5019 - val_f1_m: 0.4939 - val_precision_m: 0.5054 - val_recall_m: 0.4829\n",
            "Epoch 18/20\n",
            "375/375 [==============================] - 43s 114ms/step - loss: 0.1879 - accuracy: 0.9342 - f1_m: 0.9341 - precision_m: 0.9371 - recall_m: 0.9313 - val_loss: 1.9377 - val_accuracy: 0.5241 - val_f1_m: 0.5220 - val_precision_m: 0.5272 - val_recall_m: 0.5171\n",
            "Epoch 19/20\n",
            "375/375 [==============================] - 43s 115ms/step - loss: 0.1520 - accuracy: 0.9484 - f1_m: 0.9488 - precision_m: 0.9509 - recall_m: 0.9467 - val_loss: 2.0180 - val_accuracy: 0.5156 - val_f1_m: 0.5143 - val_precision_m: 0.5210 - val_recall_m: 0.5078\n",
            "Epoch 20/20\n",
            "375/375 [==============================] - 43s 114ms/step - loss: 0.1315 - accuracy: 0.9565 - f1_m: 0.9565 - precision_m: 0.9584 - recall_m: 0.9547 - val_loss: 2.1447 - val_accuracy: 0.5202 - val_f1_m: 0.5195 - val_precision_m: 0.5236 - val_recall_m: 0.5154\n"
          ],
          "name": "stdout"
        }
      ]
    },
    {
      "cell_type": "code",
      "metadata": {
        "colab": {
          "base_uri": "https://localhost:8080/"
        },
        "id": "C4NdlgFQE9Ru",
        "outputId": "137670fe-a0eb-4775-c827-36ed8cf5a057"
      },
      "source": [
        "loss, accuracy, f1_score, precision, recall = vanilla_rnn2.evaluate(X_val_df, val_Y, verbose=0)\n",
        "print(loss, accuracy, f1_score, precision, recall)"
      ],
      "execution_count": null,
      "outputs": [
        {
          "output_type": "stream",
          "text": [
            "2.1447088718414307 0.5201539397239685 0.5197571516036987 0.524067223072052 0.5156546235084534\n"
          ],
          "name": "stdout"
        }
      ]
    },
    {
      "cell_type": "code",
      "metadata": {
        "colab": {
          "base_uri": "https://localhost:8080/",
          "height": 573
        },
        "id": "KK3jc4unGbuB",
        "outputId": "49d3a669-646b-4537-f141-861f7f4defa6"
      },
      "source": [
        "# plot history\n",
        "# Plot training & validation accuracy values\n",
        "import matplotlib.pyplot as plt \n",
        "plt.plot(history.history['accuracy'])\n",
        "plt.plot(history.history['val_accuracy'])\n",
        "plt.title('Vanilla RNN accuracy')\n",
        "plt.ylabel('Accuracy')\n",
        "plt.xlabel('Epoch')\n",
        "plt.legend(['Train', 'Val'], loc='upper left')\n",
        "plt.show()\n",
        "\n",
        "# Plot training & validation loss values\n",
        "plt.plot(history.history['loss'])\n",
        "plt.plot(history.history['val_loss'])\n",
        "plt.title('Vanilla RNN loss')\n",
        "plt.ylabel('Loss')\n",
        "plt.xlabel('Epoch')\n",
        "plt.legend(['Train', 'Val'], loc='upper left')\n",
        "plt.show()"
      ],
      "execution_count": null,
      "outputs": [
        {
          "output_type": "display_data",
          "data": {
            "image/png": "[encoded data removed]",
            "text/plain": [
              "<Figure size 432x288 with 1 Axes>"
            ]
          },
          "metadata": {
            "tags": []
          }
        },
        {
          "output_type": "display_data",
          "data": {
            "image/png": "[encoded data removed]",
            "text/plain": [
              "<Figure size 432x288 with 1 Axes>"
            ]
          },
          "metadata": {
            "tags": []
          }
        }
      ]
    },
    {
      "cell_type": "code",
      "metadata": {
        "id": "_nuvN9XfH1Ka"
      },
      "source": [
        ""
      ],
      "execution_count": null,
      "outputs": []
    },
    {
      "cell_type": "markdown",
      "metadata": {
        "id": "4m5LemBCH2XB"
      },
      "source": [
        "# 2. LSTM"
      ]
    },
    {
      "cell_type": "markdown",
      "metadata": {
        "id": "eQV9vDoLH5vj"
      },
      "source": [
        "2.1 Feature: Only Tweet Text"
      ]
    },
    {
      "cell_type": "markdown",
      "metadata": {
        "id": "shCAdZulIOty"
      },
      "source": [
        "2.2 Feature: Tweet Text+ Image and hasLink cols"
      ]
    },
    {
      "cell_type": "code",
      "metadata": {
        "colab": {
          "base_uri": "https://localhost:8080/"
        },
        "id": "LRtZpkxFILuG",
        "outputId": "eae3a4ff-eea1-47db-e054-43003b723a5c"
      },
      "source": [
        "model = Sequential()\n",
        "\n",
        "# Input / Embdedding\n",
        "model.add(Embedding(max_features,100,mask_zero=True))\n",
        "model.add(LSTM(64,return_sequences=True))\n",
        "model.add(LSTM(32,return_sequences=False))\n",
        "\n",
        "# Output layer\n",
        "model.add(Dense(3, activation='softmax'))\n",
        "\n",
        "model.summary()"
      ],
      "execution_count": 109,
      "outputs": [
        {
          "output_type": "stream",
          "text": [
            "Model: \"sequential_11\"\n",
            "_________________________________________________________________\n",
            "Layer (type)                 Output Shape              Param #   \n",
            "=================================================================\n",
            "embedding_11 (Embedding)     (None, None, 100)         2500000   \n",
            "_________________________________________________________________\n",
            "lstm_23 (LSTM)               (None, None, 64)          42240     \n",
            "_________________________________________________________________\n",
            "lstm_24 (LSTM)               (None, 32)                12416     \n",
            "_________________________________________________________________\n",
            "dense_16 (Dense)             (None, 3)                 99        \n",
            "=================================================================\n",
            "Total params: 2,554,755\n",
            "Trainable params: 2,554,755\n",
            "Non-trainable params: 0\n",
            "_________________________________________________________________\n"
          ],
          "name": "stdout"
        }
      ]
    },
    {
      "cell_type": "code",
      "metadata": {
        "colab": {
          "base_uri": "https://localhost:8080/",
          "height": 392
        },
        "id": "97KYFHBGIo6o",
        "outputId": "64a1f363-dd2a-4d78-9d83-52cc72f6bfdf"
      },
      "source": [
        "model.compile(loss='categorical_crossentropy', optimizer='adam', metrics=['accuracy',f1_m,precision_m, recall_m])\n",
        "\n",
        "from tensorflow.keras.callbacks import EarlyStopping\n",
        "callbacks = EarlyStopping(monitor='loss', min_delta=0, patience = 4)\n",
        "history = model.fit(X_train_df, \n",
        "                    train_Y, \n",
        "                    batch_size=100, \n",
        "                    epochs=10, \n",
        "                    validation_data=(X_val_df, val_Y),\n",
        "                    callbacks=callbacks\n",
        "                    )"
      ],
      "execution_count": 110,
      "outputs": [
        {
          "output_type": "stream",
          "text": [
            "Epoch 1/10\n",
            "180/375 [=============>................] - ETA: 2:24 - loss: 0.9568 - accuracy: 0.5101 - f1_m: 0.3338 - precision_m: 0.5760 - recall_m: 0.2440"
          ],
          "name": "stdout"
        },
        {
          "output_type": "error",
          "ename": "KeyboardInterrupt",
          "evalue": "ignored",
          "traceback": [
            "\u001b[0;31m---------------------------------------------------------------------------\u001b[0m",
            "\u001b[0;31mKeyboardInterrupt\u001b[0m                         Traceback (most recent call last)",
            "\u001b[0;32m<ipython-input-110-6e22cce89135>\u001b[0m in \u001b[0;36m<module>\u001b[0;34m()\u001b[0m\n\u001b[1;32m      8\u001b[0m                     \u001b[0mepochs\u001b[0m\u001b[0;34m=\u001b[0m\u001b[0;36m10\u001b[0m\u001b[0;34m,\u001b[0m\u001b[0;34m\u001b[0m\u001b[0;34m\u001b[0m\u001b[0m\n\u001b[1;32m      9\u001b[0m                     \u001b[0mvalidation_data\u001b[0m\u001b[0;34m=\u001b[0m\u001b[0;34m(\u001b[0m\u001b[0mX_val_df\u001b[0m\u001b[0;34m,\u001b[0m \u001b[0mval_Y\u001b[0m\u001b[0;34m)\u001b[0m\u001b[0;34m,\u001b[0m\u001b[0;34m\u001b[0m\u001b[0;34m\u001b[0m\u001b[0m\n\u001b[0;32m---> 10\u001b[0;31m                     \u001b[0mcallbacks\u001b[0m\u001b[0;34m=\u001b[0m\u001b[0mcallbacks\u001b[0m\u001b[0;34m\u001b[0m\u001b[0;34m\u001b[0m\u001b[0m\n\u001b[0m\u001b[1;32m     11\u001b[0m                     )\n",
            "\u001b[0;32m/usr/local/lib/python3.6/dist-packages/tensorflow/python/keras/engine/training.py\u001b[0m in \u001b[0;36m_method_wrapper\u001b[0;34m(self, *args, **kwargs)\u001b[0m\n\u001b[1;32m    106\u001b[0m   \u001b[0;32mdef\u001b[0m \u001b[0m_method_wrapper\u001b[0m\u001b[0;34m(\u001b[0m\u001b[0mself\u001b[0m\u001b[0;34m,\u001b[0m \u001b[0;34m*\u001b[0m\u001b[0margs\u001b[0m\u001b[0;34m,\u001b[0m \u001b[0;34m**\u001b[0m\u001b[0mkwargs\u001b[0m\u001b[0;34m)\u001b[0m\u001b[0;34m:\u001b[0m\u001b[0;34m\u001b[0m\u001b[0;34m\u001b[0m\u001b[0m\n\u001b[1;32m    107\u001b[0m     \u001b[0;32mif\u001b[0m \u001b[0;32mnot\u001b[0m \u001b[0mself\u001b[0m\u001b[0;34m.\u001b[0m\u001b[0m_in_multi_worker_mode\u001b[0m\u001b[0;34m(\u001b[0m\u001b[0;34m)\u001b[0m\u001b[0;34m:\u001b[0m  \u001b[0;31m# pylint: disable=protected-access\u001b[0m\u001b[0;34m\u001b[0m\u001b[0;34m\u001b[0m\u001b[0m\n\u001b[0;32m--> 108\u001b[0;31m       \u001b[0;32mreturn\u001b[0m \u001b[0mmethod\u001b[0m\u001b[0;34m(\u001b[0m\u001b[0mself\u001b[0m\u001b[0;34m,\u001b[0m \u001b[0;34m*\u001b[0m\u001b[0margs\u001b[0m\u001b[0;34m,\u001b[0m \u001b[0;34m**\u001b[0m\u001b[0mkwargs\u001b[0m\u001b[0;34m)\u001b[0m\u001b[0;34m\u001b[0m\u001b[0;34m\u001b[0m\u001b[0m\n\u001b[0m\u001b[1;32m    109\u001b[0m \u001b[0;34m\u001b[0m\u001b[0m\n\u001b[1;32m    110\u001b[0m     \u001b[0;31m# Running inside `run_distribute_coordinator` already.\u001b[0m\u001b[0;34m\u001b[0m\u001b[0;34m\u001b[0m\u001b[0;34m\u001b[0m\u001b[0m\n",
            "\u001b[0;32m/usr/local/lib/python3.6/dist-packages/tensorflow/python/keras/engine/training.py\u001b[0m in \u001b[0;36mfit\u001b[0;34m(self, x, y, batch_size, epochs, verbose, callbacks, validation_split, validation_data, shuffle, class_weight, sample_weight, initial_epoch, steps_per_epoch, validation_steps, validation_batch_size, validation_freq, max_queue_size, workers, use_multiprocessing)\u001b[0m\n\u001b[1;32m   1096\u001b[0m                 batch_size=batch_size):\n\u001b[1;32m   1097\u001b[0m               \u001b[0mcallbacks\u001b[0m\u001b[0;34m.\u001b[0m\u001b[0mon_train_batch_begin\u001b[0m\u001b[0;34m(\u001b[0m\u001b[0mstep\u001b[0m\u001b[0;34m)\u001b[0m\u001b[0;34m\u001b[0m\u001b[0;34m\u001b[0m\u001b[0m\n\u001b[0;32m-> 1098\u001b[0;31m               \u001b[0mtmp_logs\u001b[0m \u001b[0;34m=\u001b[0m \u001b[0mtrain_function\u001b[0m\u001b[0;34m(\u001b[0m\u001b[0miterator\u001b[0m\u001b[0;34m)\u001b[0m\u001b[0;34m\u001b[0m\u001b[0;34m\u001b[0m\u001b[0m\n\u001b[0m\u001b[1;32m   1099\u001b[0m               \u001b[0;32mif\u001b[0m \u001b[0mdata_handler\u001b[0m\u001b[0;34m.\u001b[0m\u001b[0mshould_sync\u001b[0m\u001b[0;34m:\u001b[0m\u001b[0;34m\u001b[0m\u001b[0;34m\u001b[0m\u001b[0m\n\u001b[1;32m   1100\u001b[0m                 \u001b[0mcontext\u001b[0m\u001b[0;34m.\u001b[0m\u001b[0masync_wait\u001b[0m\u001b[0;34m(\u001b[0m\u001b[0;34m)\u001b[0m\u001b[0;34m\u001b[0m\u001b[0;34m\u001b[0m\u001b[0m\n",
            "\u001b[0;32m/usr/local/lib/python3.6/dist-packages/tensorflow/python/eager/def_function.py\u001b[0m in \u001b[0;36m__call__\u001b[0;34m(self, *args, **kwds)\u001b[0m\n\u001b[1;32m    778\u001b[0m       \u001b[0;32melse\u001b[0m\u001b[0;34m:\u001b[0m\u001b[0;34m\u001b[0m\u001b[0;34m\u001b[0m\u001b[0m\n\u001b[1;32m    779\u001b[0m         \u001b[0mcompiler\u001b[0m \u001b[0;34m=\u001b[0m \u001b[0;34m\"nonXla\"\u001b[0m\u001b[0;34m\u001b[0m\u001b[0;34m\u001b[0m\u001b[0m\n\u001b[0;32m--> 780\u001b[0;31m         \u001b[0mresult\u001b[0m \u001b[0;34m=\u001b[0m \u001b[0mself\u001b[0m\u001b[0;34m.\u001b[0m\u001b[0m_call\u001b[0m\u001b[0;34m(\u001b[0m\u001b[0;34m*\u001b[0m\u001b[0margs\u001b[0m\u001b[0;34m,\u001b[0m \u001b[0;34m**\u001b[0m\u001b[0mkwds\u001b[0m\u001b[0;34m)\u001b[0m\u001b[0;34m\u001b[0m\u001b[0;34m\u001b[0m\u001b[0m\n\u001b[0m\u001b[1;32m    781\u001b[0m \u001b[0;34m\u001b[0m\u001b[0m\n\u001b[1;32m    782\u001b[0m       \u001b[0mnew_tracing_count\u001b[0m \u001b[0;34m=\u001b[0m \u001b[0mself\u001b[0m\u001b[0;34m.\u001b[0m\u001b[0m_get_tracing_count\u001b[0m\u001b[0;34m(\u001b[0m\u001b[0;34m)\u001b[0m\u001b[0;34m\u001b[0m\u001b[0;34m\u001b[0m\u001b[0m\n",
            "\u001b[0;32m/usr/local/lib/python3.6/dist-packages/tensorflow/python/eager/def_function.py\u001b[0m in \u001b[0;36m_call\u001b[0;34m(self, *args, **kwds)\u001b[0m\n\u001b[1;32m    805\u001b[0m       \u001b[0;31m# In this case we have created variables on the first call, so we run the\u001b[0m\u001b[0;34m\u001b[0m\u001b[0;34m\u001b[0m\u001b[0;34m\u001b[0m\u001b[0m\n\u001b[1;32m    806\u001b[0m       \u001b[0;31m# defunned version which is guaranteed to never create variables.\u001b[0m\u001b[0;34m\u001b[0m\u001b[0;34m\u001b[0m\u001b[0;34m\u001b[0m\u001b[0m\n\u001b[0;32m--> 807\u001b[0;31m       \u001b[0;32mreturn\u001b[0m \u001b[0mself\u001b[0m\u001b[0;34m.\u001b[0m\u001b[0m_stateless_fn\u001b[0m\u001b[0;34m(\u001b[0m\u001b[0;34m*\u001b[0m\u001b[0margs\u001b[0m\u001b[0;34m,\u001b[0m \u001b[0;34m**\u001b[0m\u001b[0mkwds\u001b[0m\u001b[0;34m)\u001b[0m  \u001b[0;31m# pylint: disable=not-callable\u001b[0m\u001b[0;34m\u001b[0m\u001b[0;34m\u001b[0m\u001b[0m\n\u001b[0m\u001b[1;32m    808\u001b[0m     \u001b[0;32melif\u001b[0m \u001b[0mself\u001b[0m\u001b[0;34m.\u001b[0m\u001b[0m_stateful_fn\u001b[0m \u001b[0;32mis\u001b[0m \u001b[0;32mnot\u001b[0m \u001b[0;32mNone\u001b[0m\u001b[0;34m:\u001b[0m\u001b[0;34m\u001b[0m\u001b[0;34m\u001b[0m\u001b[0m\n\u001b[1;32m    809\u001b[0m       \u001b[0;31m# Release the lock early so that multiple threads can perform the call\u001b[0m\u001b[0;34m\u001b[0m\u001b[0;34m\u001b[0m\u001b[0;34m\u001b[0m\u001b[0m\n",
            "\u001b[0;32m/usr/local/lib/python3.6/dist-packages/tensorflow/python/eager/function.py\u001b[0m in \u001b[0;36m__call__\u001b[0;34m(self, *args, **kwargs)\u001b[0m\n\u001b[1;32m   2827\u001b[0m     \u001b[0;32mwith\u001b[0m \u001b[0mself\u001b[0m\u001b[0;34m.\u001b[0m\u001b[0m_lock\u001b[0m\u001b[0;34m:\u001b[0m\u001b[0;34m\u001b[0m\u001b[0;34m\u001b[0m\u001b[0m\n\u001b[1;32m   2828\u001b[0m       \u001b[0mgraph_function\u001b[0m\u001b[0;34m,\u001b[0m \u001b[0margs\u001b[0m\u001b[0;34m,\u001b[0m \u001b[0mkwargs\u001b[0m \u001b[0;34m=\u001b[0m \u001b[0mself\u001b[0m\u001b[0;34m.\u001b[0m\u001b[0m_maybe_define_function\u001b[0m\u001b[0;34m(\u001b[0m\u001b[0margs\u001b[0m\u001b[0;34m,\u001b[0m \u001b[0mkwargs\u001b[0m\u001b[0;34m)\u001b[0m\u001b[0;34m\u001b[0m\u001b[0;34m\u001b[0m\u001b[0m\n\u001b[0;32m-> 2829\u001b[0;31m     \u001b[0;32mreturn\u001b[0m \u001b[0mgraph_function\u001b[0m\u001b[0;34m.\u001b[0m\u001b[0m_filtered_call\u001b[0m\u001b[0;34m(\u001b[0m\u001b[0margs\u001b[0m\u001b[0;34m,\u001b[0m \u001b[0mkwargs\u001b[0m\u001b[0;34m)\u001b[0m  \u001b[0;31m# pylint: disable=protected-access\u001b[0m\u001b[0;34m\u001b[0m\u001b[0;34m\u001b[0m\u001b[0m\n\u001b[0m\u001b[1;32m   2830\u001b[0m \u001b[0;34m\u001b[0m\u001b[0m\n\u001b[1;32m   2831\u001b[0m   \u001b[0;34m@\u001b[0m\u001b[0mproperty\u001b[0m\u001b[0;34m\u001b[0m\u001b[0;34m\u001b[0m\u001b[0m\n",
            "\u001b[0;32m/usr/local/lib/python3.6/dist-packages/tensorflow/python/eager/function.py\u001b[0m in \u001b[0;36m_filtered_call\u001b[0;34m(self, args, kwargs, cancellation_manager)\u001b[0m\n\u001b[1;32m   1846\u001b[0m                            resource_variable_ops.BaseResourceVariable))],\n\u001b[1;32m   1847\u001b[0m         \u001b[0mcaptured_inputs\u001b[0m\u001b[0;34m=\u001b[0m\u001b[0mself\u001b[0m\u001b[0;34m.\u001b[0m\u001b[0mcaptured_inputs\u001b[0m\u001b[0;34m,\u001b[0m\u001b[0;34m\u001b[0m\u001b[0;34m\u001b[0m\u001b[0m\n\u001b[0;32m-> 1848\u001b[0;31m         cancellation_manager=cancellation_manager)\n\u001b[0m\u001b[1;32m   1849\u001b[0m \u001b[0;34m\u001b[0m\u001b[0m\n\u001b[1;32m   1850\u001b[0m   \u001b[0;32mdef\u001b[0m \u001b[0m_call_flat\u001b[0m\u001b[0;34m(\u001b[0m\u001b[0mself\u001b[0m\u001b[0;34m,\u001b[0m \u001b[0margs\u001b[0m\u001b[0;34m,\u001b[0m \u001b[0mcaptured_inputs\u001b[0m\u001b[0;34m,\u001b[0m \u001b[0mcancellation_manager\u001b[0m\u001b[0;34m=\u001b[0m\u001b[0;32mNone\u001b[0m\u001b[0;34m)\u001b[0m\u001b[0;34m:\u001b[0m\u001b[0;34m\u001b[0m\u001b[0;34m\u001b[0m\u001b[0m\n",
            "\u001b[0;32m/usr/local/lib/python3.6/dist-packages/tensorflow/python/eager/function.py\u001b[0m in \u001b[0;36m_call_flat\u001b[0;34m(self, args, captured_inputs, cancellation_manager)\u001b[0m\n\u001b[1;32m   1922\u001b[0m       \u001b[0;31m# No tape is watching; skip to running the function.\u001b[0m\u001b[0;34m\u001b[0m\u001b[0;34m\u001b[0m\u001b[0;34m\u001b[0m\u001b[0m\n\u001b[1;32m   1923\u001b[0m       return self._build_call_outputs(self._inference_function.call(\n\u001b[0;32m-> 1924\u001b[0;31m           ctx, args, cancellation_manager=cancellation_manager))\n\u001b[0m\u001b[1;32m   1925\u001b[0m     forward_backward = self._select_forward_and_backward_functions(\n\u001b[1;32m   1926\u001b[0m         \u001b[0margs\u001b[0m\u001b[0;34m,\u001b[0m\u001b[0;34m\u001b[0m\u001b[0;34m\u001b[0m\u001b[0m\n",
            "\u001b[0;32m/usr/local/lib/python3.6/dist-packages/tensorflow/python/eager/function.py\u001b[0m in \u001b[0;36mcall\u001b[0;34m(self, ctx, args, cancellation_manager)\u001b[0m\n\u001b[1;32m    548\u001b[0m               \u001b[0minputs\u001b[0m\u001b[0;34m=\u001b[0m\u001b[0margs\u001b[0m\u001b[0;34m,\u001b[0m\u001b[0;34m\u001b[0m\u001b[0;34m\u001b[0m\u001b[0m\n\u001b[1;32m    549\u001b[0m               \u001b[0mattrs\u001b[0m\u001b[0;34m=\u001b[0m\u001b[0mattrs\u001b[0m\u001b[0;34m,\u001b[0m\u001b[0;34m\u001b[0m\u001b[0;34m\u001b[0m\u001b[0m\n\u001b[0;32m--> 550\u001b[0;31m               ctx=ctx)\n\u001b[0m\u001b[1;32m    551\u001b[0m         \u001b[0;32melse\u001b[0m\u001b[0;34m:\u001b[0m\u001b[0;34m\u001b[0m\u001b[0;34m\u001b[0m\u001b[0m\n\u001b[1;32m    552\u001b[0m           outputs = execute.execute_with_cancellation(\n",
            "\u001b[0;32m/usr/local/lib/python3.6/dist-packages/tensorflow/python/eager/execute.py\u001b[0m in \u001b[0;36mquick_execute\u001b[0;34m(op_name, num_outputs, inputs, attrs, ctx, name)\u001b[0m\n\u001b[1;32m     58\u001b[0m     \u001b[0mctx\u001b[0m\u001b[0;34m.\u001b[0m\u001b[0mensure_initialized\u001b[0m\u001b[0;34m(\u001b[0m\u001b[0;34m)\u001b[0m\u001b[0;34m\u001b[0m\u001b[0;34m\u001b[0m\u001b[0m\n\u001b[1;32m     59\u001b[0m     tensors = pywrap_tfe.TFE_Py_Execute(ctx._handle, device_name, op_name,\n\u001b[0;32m---> 60\u001b[0;31m                                         inputs, attrs, num_outputs)\n\u001b[0m\u001b[1;32m     61\u001b[0m   \u001b[0;32mexcept\u001b[0m \u001b[0mcore\u001b[0m\u001b[0;34m.\u001b[0m\u001b[0m_NotOkStatusException\u001b[0m \u001b[0;32mas\u001b[0m \u001b[0me\u001b[0m\u001b[0;34m:\u001b[0m\u001b[0;34m\u001b[0m\u001b[0;34m\u001b[0m\u001b[0m\n\u001b[1;32m     62\u001b[0m     \u001b[0;32mif\u001b[0m \u001b[0mname\u001b[0m \u001b[0;32mis\u001b[0m \u001b[0;32mnot\u001b[0m \u001b[0;32mNone\u001b[0m\u001b[0;34m:\u001b[0m\u001b[0;34m\u001b[0m\u001b[0;34m\u001b[0m\u001b[0m\n",
            "\u001b[0;31mKeyboardInterrupt\u001b[0m: "
          ]
        }
      ]
    },
    {
      "cell_type": "code",
      "metadata": {
        "colab": {
          "base_uri": "https://localhost:8080/"
        },
        "id": "6E8WqXguFkjq",
        "outputId": "73ad567b-c345-47ef-8e48-3dfdb9dd2701"
      },
      "source": [
        "loss, accuracy, f1_score, precision, recall = model.evaluate(val_X_tokenized, val_Y, verbose=0)\n",
        "print(loss, accuracy, f1_score, precision, recall)"
      ],
      "execution_count": null,
      "outputs": [
        {
          "output_type": "stream",
          "text": [
            "2.3912270069122314 0.5778894424438477 0.5783210396766663 0.5815300941467285 0.575239360332489\n"
          ],
          "name": "stdout"
        }
      ]
    },
    {
      "cell_type": "code",
      "metadata": {
        "id": "hQKY40boL7X7"
      },
      "source": [
        "# plot history\n",
        "# Plot training & validation accuracy values\n",
        "import matplotlib.pyplot as plt \n",
        "plt.plot(history.history['accuracy'])\n",
        "plt.plot(history.history['val_accuracy'])\n",
        "plt.title('LSTM accuracy')\n",
        "plt.ylabel('Accuracy')\n",
        "plt.xlabel('Epoch')\n",
        "plt.legend(['Train', 'Val'], loc='upper left')\n",
        "plt.show()\n",
        "\n",
        "# Plot training & validation loss values\n",
        "plt.plot(history.history['loss'])\n",
        "plt.plot(history.history['val_loss'])\n",
        "plt.title('LSTM loss')\n",
        "plt.ylabel('Loss')\n",
        "plt.xlabel('Epoch')\n",
        "plt.legend(['Train', 'Val'], loc='upper left')\n",
        "plt.show()"
      ],
      "execution_count": null,
      "outputs": []
    },
    {
      "cell_type": "markdown",
      "metadata": {
        "id": "RcPOBMGGMJXs"
      },
      "source": [
        "# 3. LSTM+ GloVe Embeddings"
      ]
    },
    {
      "cell_type": "code",
      "metadata": {
        "id": "-6m6rpzhMceb"
      },
      "source": [
        "vocab_size = len(tokenizer.word_index) + 1"
      ],
      "execution_count": null,
      "outputs": []
    },
    {
      "cell_type": "code",
      "metadata": {
        "colab": {
          "base_uri": "https://localhost:8080/",
          "height": 35
        },
        "id": "8LYAwiQMg2Zt",
        "outputId": "3dbe02dc-253b-4089-f3b5-42bd28a0c438"
      },
      "source": [
        "pwd"
      ],
      "execution_count": null,
      "outputs": [
        {
          "output_type": "execute_result",
          "data": {
            "application/vnd.google.colaboratory.intrinsic+json": {
              "type": "string"
            },
            "text/plain": [
              "'/content/drive/My Drive/Study/04_Fall_2020/CSE 243/Project'"
            ]
          },
          "metadata": {
            "tags": []
          },
          "execution_count": 53
        }
      ]
    },
    {
      "cell_type": "code",
      "metadata": {
        "id": "NdoSvJIGMciE"
      },
      "source": [
        "from numpy import array\n",
        "from numpy import asarray\n",
        "from numpy import zeros\n",
        "\n",
        "embeddings_dictionary = dict()\n",
        "#glove_file = open('gdrive/My Drive/HW3_CSE243/sentiment analysis assignment/glove.6B.100d.txt', encoding=\"utf8\")\n",
        "# glove_file = open('gdrive/My Drive/CSE_243/glove.twitter.27B.100d.txt', encoding=\"utf8\")\n",
        "\n",
        "# glove_file = open('Twitter_GLoVe_Embeddings/glove.twitter.27B.100d.txt', encoding=\"utf8\")\n",
        "# glove_file = open('Twitter_GLoVe_Embeddings/glove.twitter.27B.50d.txt', encoding=\"utf8\")\n",
        "glove_file = open('Twitter_GLoVe_Embeddings/glove.twitter.27B.200d.txt', encoding=\"utf8\")\n",
        "\n",
        "for line in glove_file:\n",
        "    records = line.split()\n",
        "    word = records[0]\n",
        "    vector_dimensions = asarray(records[1:], dtype='float32')\n",
        "    embeddings_dictionary [word] = vector_dimensions\n",
        "glove_file.close()"
      ],
      "execution_count": null,
      "outputs": []
    },
    {
      "cell_type": "code",
      "metadata": {
        "id": "pQwoOexPxv1m"
      },
      "source": [
        "glove_dim = 200"
      ],
      "execution_count": null,
      "outputs": []
    },
    {
      "cell_type": "code",
      "metadata": {
        "colab": {
          "base_uri": "https://localhost:8080/"
        },
        "id": "bjAWiZoJ2JK-",
        "outputId": "2c3d9eb9-6601-4379-8e2e-1bfa17242a39"
      },
      "source": [
        "glove_dim"
      ],
      "execution_count": null,
      "outputs": [
        {
          "output_type": "execute_result",
          "data": {
            "text/plain": [
              "200"
            ]
          },
          "metadata": {
            "tags": []
          },
          "execution_count": 58
        }
      ]
    },
    {
      "cell_type": "code",
      "metadata": {
        "id": "B9m-bQEeMq8p"
      },
      "source": [
        "embedding_matrix = zeros((vocab_size, glove_dim))\n",
        "for word, index in tokenizer.word_index.items():\n",
        "    embedding_vector = embeddings_dictionary.get(word)\n",
        "    if embedding_vector is not None:\n",
        "        embedding_matrix[index] = embedding_vector"
      ],
      "execution_count": null,
      "outputs": []
    },
    {
      "cell_type": "markdown",
      "metadata": {
        "id": "o_DOMH1sMQ-q"
      },
      "source": [
        "3.1 Architecture 1: Feature: Only "
      ]
    },
    {
      "cell_type": "code",
      "metadata": {
        "colab": {
          "base_uri": "https://localhost:8080/"
        },
        "id": "e-zcKGCxM39Y",
        "outputId": "96ebdb53-6542-418a-8b73-eb7e90311174"
      },
      "source": [
        "glove_model = models.Sequential()\n",
        "glove_model.add(layers.Embedding(vocab_size,\n",
        "                            glove_dim,\n",
        "                            weights=[embedding_matrix],\n",
        "                            input_length=max_len,\n",
        "                            trainable=False))\n",
        "glove_model.add(layers.Dropout(0.4))\n",
        "#glove_model.add(layers.LSTM(64))\n",
        "glove_model.add(LSTM(64,return_sequences=True))\n",
        "glove_model.add(layers.Dropout(0.3))\n",
        "glove_model.add(LSTM(32,return_sequences=False))\n",
        "#glove_model.add(layers.Dense(10,activation=\"relu\"))\n",
        "glove_model.add(layers.Dropout(0.2))\n",
        "glove_model.add(Dense(3, activation='softmax'))\n",
        "glove_model.summary()"
      ],
      "execution_count": 87,
      "outputs": [
        {
          "output_type": "stream",
          "text": [
            "Model: \"sequential_7\"\n",
            "_________________________________________________________________\n",
            "Layer (type)                 Output Shape              Param #   \n",
            "=================================================================\n",
            "embedding_7 (Embedding)      (None, 150, 200)          10110600  \n",
            "_________________________________________________________________\n",
            "dropout_10 (Dropout)         (None, 150, 200)          0         \n",
            "_________________________________________________________________\n",
            "lstm_12 (LSTM)               (None, 150, 64)           67840     \n",
            "_________________________________________________________________\n",
            "dropout_11 (Dropout)         (None, 150, 64)           0         \n",
            "_________________________________________________________________\n",
            "lstm_13 (LSTM)               (None, 32)                12416     \n",
            "_________________________________________________________________\n",
            "dropout_12 (Dropout)         (None, 32)                0         \n",
            "_________________________________________________________________\n",
            "dense_9 (Dense)              (None, 3)                 99        \n",
            "=================================================================\n",
            "Total params: 10,190,955\n",
            "Trainable params: 80,355\n",
            "Non-trainable params: 10,110,600\n",
            "_________________________________________________________________\n"
          ],
          "name": "stdout"
        }
      ]
    },
    {
      "cell_type": "code",
      "metadata": {
        "colab": {
          "base_uri": "https://localhost:8080/"
        },
        "id": "SbhQdiC7M4A2",
        "outputId": "be434023-9158-47a0-f355-f129195beb44"
      },
      "source": [
        "glove_model.compile(loss='categorical_crossentropy', optimizer='adam', metrics=['accuracy',f1_m,precision_m, recall_m])\n",
        "\n",
        "from tensorflow.keras.callbacks import EarlyStopping\n",
        "#callbacks = EarlyStopping(monitor='val_loss', min_delta=0, patience = 2)\n",
        "history = glove_model.fit(train_X_tokenized, \n",
        "                    train_Y, \n",
        "                    batch_size=100, \n",
        "                    epochs=150, \n",
        "                    validation_data=(val_X_tokenized, val_Y)\n",
        "                    #callbacks=callbacks\n",
        "                    )"
      ],
      "execution_count": null,
      "outputs": [
        {
          "output_type": "stream",
          "text": [
            "Epoch 1/150\n",
            "375/375 [==============================] - 9s 24ms/step - loss: 1.0049 - accuracy: 0.4747 - f1_m: 0.3002 - precision_m: 0.5966 - recall_m: 0.2040 - val_loss: 0.9456 - val_accuracy: 0.5243 - val_f1_m: 0.3505 - val_precision_m: 0.7025 - val_recall_m: 0.2346\n",
            "Epoch 2/150\n",
            "375/375 [==============================] - 8s 22ms/step - loss: 0.9607 - accuracy: 0.5125 - f1_m: 0.3688 - precision_m: 0.6497 - recall_m: 0.2594 - val_loss: 0.9244 - val_accuracy: 0.5374 - val_f1_m: 0.4088 - val_precision_m: 0.6830 - val_recall_m: 0.2929\n",
            "Epoch 3/150\n",
            "375/375 [==============================] - 8s 22ms/step - loss: 0.9385 - accuracy: 0.5284 - f1_m: 0.3984 - precision_m: 0.6634 - recall_m: 0.2867 - val_loss: 0.9201 - val_accuracy: 0.5394 - val_f1_m: 0.4298 - val_precision_m: 0.6622 - val_recall_m: 0.3194\n",
            "Epoch 4/150\n",
            "375/375 [==============================] - 8s 22ms/step - loss: 0.9196 - accuracy: 0.5425 - f1_m: 0.4254 - precision_m: 0.6681 - recall_m: 0.3136 - val_loss: 0.8997 - val_accuracy: 0.5550 - val_f1_m: 0.4514 - val_precision_m: 0.6729 - val_recall_m: 0.3406\n",
            "Epoch 5/150\n",
            "375/375 [==============================] - 8s 22ms/step - loss: 0.9036 - accuracy: 0.5520 - f1_m: 0.4426 - precision_m: 0.6715 - recall_m: 0.3313 - val_loss: 0.9016 - val_accuracy: 0.5522 - val_f1_m: 0.4541 - val_precision_m: 0.6658 - val_recall_m: 0.3453\n",
            "Epoch 6/150\n",
            "375/375 [==============================] - 8s 22ms/step - loss: 0.8920 - accuracy: 0.5572 - f1_m: 0.4577 - precision_m: 0.6738 - recall_m: 0.3480 - val_loss: 0.8887 - val_accuracy: 0.5633 - val_f1_m: 0.4742 - val_precision_m: 0.6701 - val_recall_m: 0.3679\n",
            "Epoch 7/150\n",
            "375/375 [==============================] - 8s 22ms/step - loss: 0.8809 - accuracy: 0.5709 - f1_m: 0.4732 - precision_m: 0.6821 - recall_m: 0.3638 - val_loss: 0.8800 - val_accuracy: 0.5681 - val_f1_m: 0.4913 - val_precision_m: 0.6709 - val_recall_m: 0.3886\n",
            "Epoch 8/150\n",
            "375/375 [==============================] - 8s 22ms/step - loss: 0.8726 - accuracy: 0.5769 - f1_m: 0.4874 - precision_m: 0.6818 - recall_m: 0.3808 - val_loss: 0.8847 - val_accuracy: 0.5673 - val_f1_m: 0.4947 - val_precision_m: 0.6583 - val_recall_m: 0.3970\n",
            "Epoch 9/150\n",
            "375/375 [==============================] - 8s 22ms/step - loss: 0.8636 - accuracy: 0.5806 - f1_m: 0.4993 - precision_m: 0.6798 - recall_m: 0.3959 - val_loss: 0.8744 - val_accuracy: 0.5731 - val_f1_m: 0.4834 - val_precision_m: 0.6735 - val_recall_m: 0.3781\n",
            "Epoch 10/150\n",
            "375/375 [==============================] - 8s 22ms/step - loss: 0.8513 - accuracy: 0.5871 - f1_m: 0.5077 - precision_m: 0.6837 - recall_m: 0.4050 - val_loss: 0.8750 - val_accuracy: 0.5743 - val_f1_m: 0.5048 - val_precision_m: 0.6613 - val_recall_m: 0.4094\n",
            "Epoch 11/150\n",
            "375/375 [==============================] - 8s 22ms/step - loss: 0.8415 - accuracy: 0.5977 - f1_m: 0.5283 - precision_m: 0.6896 - recall_m: 0.4293 - val_loss: 0.8802 - val_accuracy: 0.5697 - val_f1_m: 0.5031 - val_precision_m: 0.6506 - val_recall_m: 0.4110\n",
            "Epoch 12/150\n",
            "375/375 [==============================] - 8s 22ms/step - loss: 0.8339 - accuracy: 0.6034 - f1_m: 0.5331 - precision_m: 0.6841 - recall_m: 0.4378 - val_loss: 0.8957 - val_accuracy: 0.5690 - val_f1_m: 0.5155 - val_precision_m: 0.6385 - val_recall_m: 0.4331\n",
            "Epoch 13/150\n",
            "375/375 [==============================] - 8s 22ms/step - loss: 0.8282 - accuracy: 0.6050 - f1_m: 0.5439 - precision_m: 0.6889 - recall_m: 0.4504 - val_loss: 0.8794 - val_accuracy: 0.5794 - val_f1_m: 0.5208 - val_precision_m: 0.6469 - val_recall_m: 0.4369\n",
            "Epoch 14/150\n",
            "375/375 [==============================] - 8s 22ms/step - loss: 0.8193 - accuracy: 0.6142 - f1_m: 0.5553 - precision_m: 0.6943 - recall_m: 0.4637 - val_loss: 0.8791 - val_accuracy: 0.5768 - val_f1_m: 0.5252 - val_precision_m: 0.6463 - val_recall_m: 0.4432\n",
            "Epoch 15/150\n",
            "375/375 [==============================] - 8s 22ms/step - loss: 0.8124 - accuracy: 0.6124 - f1_m: 0.5615 - precision_m: 0.6905 - recall_m: 0.4741 - val_loss: 0.8701 - val_accuracy: 0.5831 - val_f1_m: 0.5320 - val_precision_m: 0.6522 - val_recall_m: 0.4502\n",
            "Epoch 16/150\n",
            "375/375 [==============================] - 8s 22ms/step - loss: 0.8071 - accuracy: 0.6182 - f1_m: 0.5662 - precision_m: 0.6937 - recall_m: 0.4794 - val_loss: 0.8748 - val_accuracy: 0.5840 - val_f1_m: 0.5317 - val_precision_m: 0.6483 - val_recall_m: 0.4517\n",
            "Epoch 17/150\n",
            "375/375 [==============================] - 8s 22ms/step - loss: 0.7996 - accuracy: 0.6221 - f1_m: 0.5732 - precision_m: 0.6940 - recall_m: 0.4891 - val_loss: 0.8724 - val_accuracy: 0.5862 - val_f1_m: 0.5391 - val_precision_m: 0.6392 - val_recall_m: 0.4668\n",
            "Epoch 18/150\n",
            "375/375 [==============================] - 8s 22ms/step - loss: 0.7979 - accuracy: 0.6275 - f1_m: 0.5793 - precision_m: 0.6953 - recall_m: 0.4973 - val_loss: 0.8732 - val_accuracy: 0.5853 - val_f1_m: 0.5361 - val_precision_m: 0.6413 - val_recall_m: 0.4615\n",
            "Epoch 19/150\n",
            "375/375 [==============================] - 8s 22ms/step - loss: 0.7913 - accuracy: 0.6306 - f1_m: 0.5838 - precision_m: 0.6971 - recall_m: 0.5030 - val_loss: 0.8830 - val_accuracy: 0.5873 - val_f1_m: 0.5427 - val_precision_m: 0.6380 - val_recall_m: 0.4731\n",
            "Epoch 20/150\n",
            "375/375 [==============================] - 8s 22ms/step - loss: 0.7856 - accuracy: 0.6328 - f1_m: 0.5912 - precision_m: 0.7002 - recall_m: 0.5124 - val_loss: 0.8805 - val_accuracy: 0.5828 - val_f1_m: 0.5516 - val_precision_m: 0.6320 - val_recall_m: 0.4900\n",
            "Epoch 21/150\n",
            "375/375 [==============================] - 8s 22ms/step - loss: 0.7837 - accuracy: 0.6375 - f1_m: 0.5924 - precision_m: 0.7020 - recall_m: 0.5132 - val_loss: 0.8773 - val_accuracy: 0.5871 - val_f1_m: 0.5477 - val_precision_m: 0.6336 - val_recall_m: 0.4831\n",
            "Epoch 22/150\n",
            "375/375 [==============================] - 8s 22ms/step - loss: 0.7806 - accuracy: 0.6377 - f1_m: 0.5965 - precision_m: 0.7031 - recall_m: 0.5190 - val_loss: 0.8705 - val_accuracy: 0.5876 - val_f1_m: 0.5453 - val_precision_m: 0.6356 - val_recall_m: 0.4781\n",
            "Epoch 23/150\n",
            "375/375 [==============================] - 8s 22ms/step - loss: 0.7701 - accuracy: 0.6428 - f1_m: 0.6036 - precision_m: 0.7070 - recall_m: 0.5276 - val_loss: 0.8783 - val_accuracy: 0.5880 - val_f1_m: 0.5500 - val_precision_m: 0.6408 - val_recall_m: 0.4826\n",
            "Epoch 24/150\n",
            "375/375 [==============================] - 8s 22ms/step - loss: 0.7697 - accuracy: 0.6407 - f1_m: 0.6050 - precision_m: 0.7049 - recall_m: 0.5306 - val_loss: 0.8811 - val_accuracy: 0.5841 - val_f1_m: 0.5494 - val_precision_m: 0.6339 - val_recall_m: 0.4854\n",
            "Epoch 25/150\n",
            "375/375 [==============================] - 8s 22ms/step - loss: 0.7627 - accuracy: 0.6476 - f1_m: 0.6123 - precision_m: 0.7087 - recall_m: 0.5398 - val_loss: 0.8862 - val_accuracy: 0.5858 - val_f1_m: 0.5576 - val_precision_m: 0.6296 - val_recall_m: 0.5009\n",
            "Epoch 26/150\n",
            "375/375 [==============================] - 8s 22ms/step - loss: 0.7616 - accuracy: 0.6464 - f1_m: 0.6120 - precision_m: 0.7085 - recall_m: 0.5395 - val_loss: 0.8756 - val_accuracy: 0.5877 - val_f1_m: 0.5520 - val_precision_m: 0.6316 - val_recall_m: 0.4908\n",
            "Epoch 27/150\n",
            "375/375 [==============================] - 8s 22ms/step - loss: 0.7612 - accuracy: 0.6482 - f1_m: 0.6141 - precision_m: 0.7101 - recall_m: 0.5418 - val_loss: 0.8858 - val_accuracy: 0.5849 - val_f1_m: 0.5519 - val_precision_m: 0.6365 - val_recall_m: 0.4878\n",
            "Epoch 28/150\n",
            "375/375 [==============================] - 8s 22ms/step - loss: 0.7537 - accuracy: 0.6545 - f1_m: 0.6233 - precision_m: 0.7136 - recall_m: 0.5539 - val_loss: 0.8854 - val_accuracy: 0.5826 - val_f1_m: 0.5585 - val_precision_m: 0.6227 - val_recall_m: 0.5069\n",
            "Epoch 29/150\n",
            "375/375 [==============================] - 8s 22ms/step - loss: 0.7508 - accuracy: 0.6518 - f1_m: 0.6227 - precision_m: 0.7089 - recall_m: 0.5561 - val_loss: 0.8783 - val_accuracy: 0.5846 - val_f1_m: 0.5525 - val_precision_m: 0.6312 - val_recall_m: 0.4917\n",
            "Epoch 30/150\n",
            "375/375 [==============================] - 8s 22ms/step - loss: 0.7478 - accuracy: 0.6570 - f1_m: 0.6259 - precision_m: 0.7159 - recall_m: 0.5568 - val_loss: 0.8862 - val_accuracy: 0.5879 - val_f1_m: 0.5548 - val_precision_m: 0.6313 - val_recall_m: 0.4954\n",
            "Epoch 31/150\n",
            "375/375 [==============================] - 8s 22ms/step - loss: 0.7456 - accuracy: 0.6587 - f1_m: 0.6274 - precision_m: 0.7151 - recall_m: 0.5596 - val_loss: 0.8855 - val_accuracy: 0.5871 - val_f1_m: 0.5564 - val_precision_m: 0.6291 - val_recall_m: 0.4993\n",
            "Epoch 32/150\n",
            "375/375 [==============================] - 8s 22ms/step - loss: 0.7427 - accuracy: 0.6615 - f1_m: 0.6317 - precision_m: 0.7167 - recall_m: 0.5655 - val_loss: 0.8775 - val_accuracy: 0.5883 - val_f1_m: 0.5588 - val_precision_m: 0.6348 - val_recall_m: 0.4997\n",
            "Epoch 33/150\n",
            "375/375 [==============================] - 8s 22ms/step - loss: 0.7403 - accuracy: 0.6642 - f1_m: 0.6345 - precision_m: 0.7170 - recall_m: 0.5697 - val_loss: 0.8869 - val_accuracy: 0.5878 - val_f1_m: 0.5593 - val_precision_m: 0.6292 - val_recall_m: 0.5039\n",
            "Epoch 34/150\n",
            "375/375 [==============================] - 8s 22ms/step - loss: 0.7372 - accuracy: 0.6617 - f1_m: 0.6360 - precision_m: 0.7172 - recall_m: 0.5721 - val_loss: 0.8904 - val_accuracy: 0.5910 - val_f1_m: 0.5602 - val_precision_m: 0.6365 - val_recall_m: 0.5008\n",
            "Epoch 35/150\n",
            "375/375 [==============================] - 8s 22ms/step - loss: 0.7340 - accuracy: 0.6635 - f1_m: 0.6379 - precision_m: 0.7187 - recall_m: 0.5742 - val_loss: 0.8897 - val_accuracy: 0.5919 - val_f1_m: 0.5626 - val_precision_m: 0.6369 - val_recall_m: 0.5045\n",
            "Epoch 36/150\n",
            "375/375 [==============================] - 8s 22ms/step - loss: 0.7280 - accuracy: 0.6683 - f1_m: 0.6443 - precision_m: 0.7234 - recall_m: 0.5814 - val_loss: 0.8851 - val_accuracy: 0.5921 - val_f1_m: 0.5639 - val_precision_m: 0.6359 - val_recall_m: 0.5071\n",
            "Epoch 37/150\n",
            "375/375 [==============================] - 8s 22ms/step - loss: 0.7338 - accuracy: 0.6642 - f1_m: 0.6392 - precision_m: 0.7205 - recall_m: 0.5751 - val_loss: 0.8849 - val_accuracy: 0.5967 - val_f1_m: 0.5642 - val_precision_m: 0.6355 - val_recall_m: 0.5078\n",
            "Epoch 38/150\n",
            "375/375 [==============================] - 8s 22ms/step - loss: 0.7273 - accuracy: 0.6692 - f1_m: 0.6427 - precision_m: 0.7223 - recall_m: 0.5796 - val_loss: 0.8820 - val_accuracy: 0.5953 - val_f1_m: 0.5653 - val_precision_m: 0.6396 - val_recall_m: 0.5070\n",
            "Epoch 39/150\n",
            "375/375 [==============================] - 8s 22ms/step - loss: 0.7324 - accuracy: 0.6675 - f1_m: 0.6411 - precision_m: 0.7218 - recall_m: 0.5775 - val_loss: 0.8906 - val_accuracy: 0.5905 - val_f1_m: 0.5695 - val_precision_m: 0.6305 - val_recall_m: 0.5199\n",
            "Epoch 40/150\n",
            "375/375 [==============================] - 8s 22ms/step - loss: 0.7259 - accuracy: 0.6680 - f1_m: 0.6438 - precision_m: 0.7232 - recall_m: 0.5807 - val_loss: 0.8955 - val_accuracy: 0.5945 - val_f1_m: 0.5670 - val_precision_m: 0.6395 - val_recall_m: 0.5099\n",
            "Epoch 41/150\n",
            "375/375 [==============================] - 9s 23ms/step - loss: 0.7223 - accuracy: 0.6726 - f1_m: 0.6474 - precision_m: 0.7269 - recall_m: 0.5843 - val_loss: 0.9020 - val_accuracy: 0.5853 - val_f1_m: 0.5620 - val_precision_m: 0.6290 - val_recall_m: 0.5084\n",
            "Epoch 42/150\n",
            "375/375 [==============================] - 8s 22ms/step - loss: 0.7198 - accuracy: 0.6737 - f1_m: 0.6492 - precision_m: 0.7266 - recall_m: 0.5874 - val_loss: 0.9007 - val_accuracy: 0.5946 - val_f1_m: 0.5693 - val_precision_m: 0.6310 - val_recall_m: 0.5190\n",
            "Epoch 43/150\n",
            "375/375 [==============================] - 8s 22ms/step - loss: 0.7185 - accuracy: 0.6745 - f1_m: 0.6505 - precision_m: 0.7268 - recall_m: 0.5893 - val_loss: 0.8916 - val_accuracy: 0.5934 - val_f1_m: 0.5684 - val_precision_m: 0.6389 - val_recall_m: 0.5124\n",
            "Epoch 44/150\n",
            "375/375 [==============================] - 8s 22ms/step - loss: 0.7190 - accuracy: 0.6758 - f1_m: 0.6506 - precision_m: 0.7260 - recall_m: 0.5901 - val_loss: 0.9019 - val_accuracy: 0.5929 - val_f1_m: 0.5734 - val_precision_m: 0.6315 - val_recall_m: 0.5255\n",
            "Epoch 45/150\n",
            "375/375 [==============================] - 8s 22ms/step - loss: 0.7143 - accuracy: 0.6777 - f1_m: 0.6535 - precision_m: 0.7274 - recall_m: 0.5941 - val_loss: 0.8990 - val_accuracy: 0.5968 - val_f1_m: 0.5699 - val_precision_m: 0.6406 - val_recall_m: 0.5137\n",
            "Epoch 46/150\n",
            "375/375 [==============================] - 8s 22ms/step - loss: 0.7092 - accuracy: 0.6788 - f1_m: 0.6567 - precision_m: 0.7298 - recall_m: 0.5976 - val_loss: 0.9098 - val_accuracy: 0.5863 - val_f1_m: 0.5679 - val_precision_m: 0.6208 - val_recall_m: 0.5237\n",
            "Epoch 47/150\n",
            "375/375 [==============================] - 8s 22ms/step - loss: 0.7128 - accuracy: 0.6755 - f1_m: 0.6529 - precision_m: 0.7276 - recall_m: 0.5927 - val_loss: 0.8977 - val_accuracy: 0.5928 - val_f1_m: 0.5681 - val_precision_m: 0.6356 - val_recall_m: 0.5140\n",
            "Epoch 48/150\n",
            "375/375 [==============================] - 8s 22ms/step - loss: 0.7109 - accuracy: 0.6779 - f1_m: 0.6547 - precision_m: 0.7281 - recall_m: 0.5954 - val_loss: 0.8917 - val_accuracy: 0.5948 - val_f1_m: 0.5713 - val_precision_m: 0.6266 - val_recall_m: 0.5253\n",
            "Epoch 49/150\n",
            "375/375 [==============================] - 8s 22ms/step - loss: 0.7066 - accuracy: 0.6819 - f1_m: 0.6598 - precision_m: 0.7306 - recall_m: 0.6021 - val_loss: 0.8960 - val_accuracy: 0.5977 - val_f1_m: 0.5743 - val_precision_m: 0.6307 - val_recall_m: 0.5276\n",
            "Epoch 50/150\n",
            "375/375 [==============================] - 8s 22ms/step - loss: 0.7105 - accuracy: 0.6812 - f1_m: 0.6576 - precision_m: 0.7313 - recall_m: 0.5982 - val_loss: 0.8899 - val_accuracy: 0.5961 - val_f1_m: 0.5683 - val_precision_m: 0.6337 - val_recall_m: 0.5155\n",
            "Epoch 51/150\n",
            "375/375 [==============================] - 8s 22ms/step - loss: 0.7023 - accuracy: 0.6867 - f1_m: 0.6644 - precision_m: 0.7364 - recall_m: 0.6058 - val_loss: 0.9037 - val_accuracy: 0.5998 - val_f1_m: 0.5788 - val_precision_m: 0.6287 - val_recall_m: 0.5366\n",
            "Epoch 52/150\n",
            "375/375 [==============================] - 9s 25ms/step - loss: 0.6999 - accuracy: 0.6862 - f1_m: 0.6641 - precision_m: 0.7333 - recall_m: 0.6075 - val_loss: 0.9034 - val_accuracy: 0.5893 - val_f1_m: 0.5692 - val_precision_m: 0.6317 - val_recall_m: 0.5184\n",
            "Epoch 53/150\n",
            "375/375 [==============================] - 9s 23ms/step - loss: 0.6993 - accuracy: 0.6836 - f1_m: 0.6639 - precision_m: 0.7327 - recall_m: 0.6075 - val_loss: 0.9114 - val_accuracy: 0.5897 - val_f1_m: 0.5676 - val_precision_m: 0.6300 - val_recall_m: 0.5169\n",
            "Epoch 54/150\n",
            "375/375 [==============================] - 9s 23ms/step - loss: 0.6952 - accuracy: 0.6880 - f1_m: 0.6674 - precision_m: 0.7355 - recall_m: 0.6114 - val_loss: 0.9199 - val_accuracy: 0.5848 - val_f1_m: 0.5657 - val_precision_m: 0.6199 - val_recall_m: 0.5206\n",
            "Epoch 55/150\n",
            "375/375 [==============================] - 9s 23ms/step - loss: 0.6966 - accuracy: 0.6880 - f1_m: 0.6661 - precision_m: 0.7351 - recall_m: 0.6095 - val_loss: 0.9047 - val_accuracy: 0.5932 - val_f1_m: 0.5721 - val_precision_m: 0.6345 - val_recall_m: 0.5214\n",
            "Epoch 56/150\n",
            "375/375 [==============================] - 9s 23ms/step - loss: 0.6981 - accuracy: 0.6854 - f1_m: 0.6661 - precision_m: 0.7356 - recall_m: 0.6091 - val_loss: 0.9002 - val_accuracy: 0.5926 - val_f1_m: 0.5691 - val_precision_m: 0.6281 - val_recall_m: 0.5207\n",
            "Epoch 57/150\n",
            "375/375 [==============================] - 9s 23ms/step - loss: 0.6912 - accuracy: 0.6875 - f1_m: 0.6685 - precision_m: 0.7349 - recall_m: 0.6137 - val_loss: 0.9124 - val_accuracy: 0.5949 - val_f1_m: 0.5722 - val_precision_m: 0.6249 - val_recall_m: 0.5281\n",
            "Epoch 58/150\n",
            "375/375 [==============================] - 9s 23ms/step - loss: 0.6946 - accuracy: 0.6887 - f1_m: 0.6686 - precision_m: 0.7376 - recall_m: 0.6120 - val_loss: 0.9146 - val_accuracy: 0.5931 - val_f1_m: 0.5703 - val_precision_m: 0.6297 - val_recall_m: 0.5216\n",
            "Epoch 59/150\n",
            "375/375 [==============================] - 9s 23ms/step - loss: 0.6940 - accuracy: 0.6862 - f1_m: 0.6666 - precision_m: 0.7330 - recall_m: 0.6119 - val_loss: 0.9082 - val_accuracy: 0.5952 - val_f1_m: 0.5723 - val_precision_m: 0.6291 - val_recall_m: 0.5252\n",
            "Epoch 60/150\n",
            "375/375 [==============================] - 9s 23ms/step - loss: 0.6950 - accuracy: 0.6892 - f1_m: 0.6691 - precision_m: 0.7363 - recall_m: 0.6138 - val_loss: 0.8988 - val_accuracy: 0.5960 - val_f1_m: 0.5742 - val_precision_m: 0.6310 - val_recall_m: 0.5273\n",
            "Epoch 61/150\n",
            "375/375 [==============================] - 9s 23ms/step - loss: 0.6902 - accuracy: 0.6913 - f1_m: 0.6699 - precision_m: 0.7361 - recall_m: 0.6153 - val_loss: 0.9163 - val_accuracy: 0.5929 - val_f1_m: 0.5730 - val_precision_m: 0.6323 - val_recall_m: 0.5243\n",
            "Epoch 62/150\n",
            "375/375 [==============================] - 9s 23ms/step - loss: 0.6879 - accuracy: 0.6927 - f1_m: 0.6738 - precision_m: 0.7393 - recall_m: 0.6195 - val_loss: 0.9123 - val_accuracy: 0.5938 - val_f1_m: 0.5746 - val_precision_m: 0.6260 - val_recall_m: 0.5313\n",
            "Epoch 63/150\n",
            "375/375 [==============================] - 9s 23ms/step - loss: 0.6898 - accuracy: 0.6914 - f1_m: 0.6744 - precision_m: 0.7395 - recall_m: 0.6204 - val_loss: 0.9189 - val_accuracy: 0.5946 - val_f1_m: 0.5750 - val_precision_m: 0.6255 - val_recall_m: 0.5324\n",
            "Epoch 64/150\n",
            "375/375 [==============================] - 9s 23ms/step - loss: 0.6892 - accuracy: 0.6913 - f1_m: 0.6717 - precision_m: 0.7383 - recall_m: 0.6166 - val_loss: 0.9042 - val_accuracy: 0.5951 - val_f1_m: 0.5727 - val_precision_m: 0.6316 - val_recall_m: 0.5242\n",
            "Epoch 65/150\n",
            "375/375 [==============================] - 9s 23ms/step - loss: 0.6869 - accuracy: 0.6946 - f1_m: 0.6777 - precision_m: 0.7426 - recall_m: 0.6238 - val_loss: 0.9068 - val_accuracy: 0.5973 - val_f1_m: 0.5770 - val_precision_m: 0.6354 - val_recall_m: 0.5289\n",
            "Epoch 66/150\n",
            "375/375 [==============================] - 9s 23ms/step - loss: 0.6824 - accuracy: 0.6935 - f1_m: 0.6774 - precision_m: 0.7392 - recall_m: 0.6257 - val_loss: 0.9198 - val_accuracy: 0.5942 - val_f1_m: 0.5772 - val_precision_m: 0.6322 - val_recall_m: 0.5314\n",
            "Epoch 67/150\n",
            "375/375 [==============================] - 9s 24ms/step - loss: 0.6834 - accuracy: 0.6940 - f1_m: 0.6757 - precision_m: 0.7392 - recall_m: 0.6227 - val_loss: 0.9085 - val_accuracy: 0.5936 - val_f1_m: 0.5725 - val_precision_m: 0.6282 - val_recall_m: 0.5264\n",
            "Epoch 68/150\n",
            "375/375 [==============================] - 9s 23ms/step - loss: 0.6822 - accuracy: 0.6942 - f1_m: 0.6757 - precision_m: 0.7410 - recall_m: 0.6214 - val_loss: 0.9118 - val_accuracy: 0.5906 - val_f1_m: 0.5731 - val_precision_m: 0.6280 - val_recall_m: 0.5273\n",
            "Epoch 69/150\n",
            "375/375 [==============================] - 9s 23ms/step - loss: 0.6866 - accuracy: 0.6951 - f1_m: 0.6759 - precision_m: 0.7398 - recall_m: 0.6227 - val_loss: 0.9195 - val_accuracy: 0.5923 - val_f1_m: 0.5725 - val_precision_m: 0.6264 - val_recall_m: 0.5275\n",
            "Epoch 70/150\n",
            "375/375 [==============================] - 9s 23ms/step - loss: 0.6804 - accuracy: 0.6927 - f1_m: 0.6752 - precision_m: 0.7393 - recall_m: 0.6219 - val_loss: 0.9197 - val_accuracy: 0.5949 - val_f1_m: 0.5757 - val_precision_m: 0.6296 - val_recall_m: 0.5307\n",
            "Epoch 71/150\n",
            "375/375 [==============================] - 9s 23ms/step - loss: 0.6797 - accuracy: 0.6949 - f1_m: 0.6799 - precision_m: 0.7431 - recall_m: 0.6272 - val_loss: 0.9185 - val_accuracy: 0.5911 - val_f1_m: 0.5728 - val_precision_m: 0.6265 - val_recall_m: 0.5281\n",
            "Epoch 72/150\n",
            "375/375 [==============================] - 9s 23ms/step - loss: 0.6793 - accuracy: 0.6980 - f1_m: 0.6804 - precision_m: 0.7449 - recall_m: 0.6267 - val_loss: 0.9259 - val_accuracy: 0.5917 - val_f1_m: 0.5780 - val_precision_m: 0.6261 - val_recall_m: 0.5371\n",
            "Epoch 73/150\n",
            "375/375 [==============================] - 9s 23ms/step - loss: 0.6763 - accuracy: 0.6997 - f1_m: 0.6813 - precision_m: 0.7437 - recall_m: 0.6292 - val_loss: 0.9177 - val_accuracy: 0.5930 - val_f1_m: 0.5746 - val_precision_m: 0.6238 - val_recall_m: 0.5330\n",
            "Epoch 74/150\n",
            "375/375 [==============================] - 9s 23ms/step - loss: 0.6772 - accuracy: 0.6981 - f1_m: 0.6788 - precision_m: 0.7428 - recall_m: 0.6255 - val_loss: 0.9050 - val_accuracy: 0.5913 - val_f1_m: 0.5724 - val_precision_m: 0.6264 - val_recall_m: 0.5273\n",
            "Epoch 75/150\n",
            "375/375 [==============================] - 9s 23ms/step - loss: 0.6744 - accuracy: 0.6993 - f1_m: 0.6818 - precision_m: 0.7468 - recall_m: 0.6278 - val_loss: 0.9191 - val_accuracy: 0.5933 - val_f1_m: 0.5767 - val_precision_m: 0.6279 - val_recall_m: 0.5336\n",
            "Epoch 76/150\n",
            "375/375 [==============================] - 9s 23ms/step - loss: 0.6747 - accuracy: 0.6987 - f1_m: 0.6817 - precision_m: 0.7437 - recall_m: 0.6298 - val_loss: 0.9226 - val_accuracy: 0.5965 - val_f1_m: 0.5766 - val_precision_m: 0.6241 - val_recall_m: 0.5361\n",
            "Epoch 77/150\n",
            "375/375 [==============================] - 9s 23ms/step - loss: 0.6761 - accuracy: 0.6986 - f1_m: 0.6796 - precision_m: 0.7430 - recall_m: 0.6267 - val_loss: 0.9187 - val_accuracy: 0.5913 - val_f1_m: 0.5736 - val_precision_m: 0.6249 - val_recall_m: 0.5305\n",
            "Epoch 78/150\n",
            "375/375 [==============================] - 9s 23ms/step - loss: 0.6757 - accuracy: 0.6977 - f1_m: 0.6810 - precision_m: 0.7445 - recall_m: 0.6280 - val_loss: 0.9159 - val_accuracy: 0.5905 - val_f1_m: 0.5758 - val_precision_m: 0.6238 - val_recall_m: 0.5351\n",
            "Epoch 79/150\n",
            "375/375 [==============================] - 9s 23ms/step - loss: 0.6714 - accuracy: 0.6996 - f1_m: 0.6841 - precision_m: 0.7454 - recall_m: 0.6327 - val_loss: 0.9035 - val_accuracy: 0.5953 - val_f1_m: 0.5761 - val_precision_m: 0.6273 - val_recall_m: 0.5330\n",
            "Epoch 80/150\n",
            "375/375 [==============================] - 9s 23ms/step - loss: 0.6719 - accuracy: 0.7007 - f1_m: 0.6821 - precision_m: 0.7445 - recall_m: 0.6299 - val_loss: 0.9186 - val_accuracy: 0.5939 - val_f1_m: 0.5738 - val_precision_m: 0.6243 - val_recall_m: 0.5311\n",
            "Epoch 81/150\n",
            "375/375 [==============================] - 9s 23ms/step - loss: 0.6719 - accuracy: 0.6984 - f1_m: 0.6834 - precision_m: 0.7455 - recall_m: 0.6314 - val_loss: 0.9228 - val_accuracy: 0.5917 - val_f1_m: 0.5763 - val_precision_m: 0.6236 - val_recall_m: 0.5361\n",
            "Epoch 82/150\n",
            "375/375 [==============================] - 9s 23ms/step - loss: 0.6670 - accuracy: 0.7047 - f1_m: 0.6876 - precision_m: 0.7497 - recall_m: 0.6358 - val_loss: 0.9221 - val_accuracy: 0.5964 - val_f1_m: 0.5764 - val_precision_m: 0.6259 - val_recall_m: 0.5346\n",
            "Epoch 83/150\n",
            "375/375 [==============================] - 9s 23ms/step - loss: 0.6683 - accuracy: 0.7039 - f1_m: 0.6858 - precision_m: 0.7454 - recall_m: 0.6356 - val_loss: 0.9274 - val_accuracy: 0.5952 - val_f1_m: 0.5786 - val_precision_m: 0.6277 - val_recall_m: 0.5371\n",
            "Epoch 84/150\n",
            "375/375 [==============================] - 9s 23ms/step - loss: 0.6664 - accuracy: 0.7031 - f1_m: 0.6886 - precision_m: 0.7502 - recall_m: 0.6371 - val_loss: 0.9190 - val_accuracy: 0.5978 - val_f1_m: 0.5795 - val_precision_m: 0.6317 - val_recall_m: 0.5357\n",
            "Epoch 85/150\n",
            "375/375 [==============================] - 9s 23ms/step - loss: 0.6710 - accuracy: 0.7008 - f1_m: 0.6825 - precision_m: 0.7443 - recall_m: 0.6307 - val_loss: 0.9220 - val_accuracy: 0.5955 - val_f1_m: 0.5780 - val_precision_m: 0.6301 - val_recall_m: 0.5342\n",
            "Epoch 86/150\n",
            "375/375 [==============================] - 9s 23ms/step - loss: 0.6701 - accuracy: 0.7007 - f1_m: 0.6848 - precision_m: 0.7480 - recall_m: 0.6320 - val_loss: 0.9165 - val_accuracy: 0.5949 - val_f1_m: 0.5749 - val_precision_m: 0.6296 - val_recall_m: 0.5293\n",
            "Epoch 87/150\n",
            "375/375 [==============================] - 9s 23ms/step - loss: 0.6659 - accuracy: 0.7047 - f1_m: 0.6883 - precision_m: 0.7504 - recall_m: 0.6363 - val_loss: 0.9293 - val_accuracy: 0.5922 - val_f1_m: 0.5754 - val_precision_m: 0.6202 - val_recall_m: 0.5369\n",
            "Epoch 88/150\n",
            "375/375 [==============================] - 9s 23ms/step - loss: 0.6631 - accuracy: 0.7077 - f1_m: 0.6906 - precision_m: 0.7502 - recall_m: 0.6403 - val_loss: 0.9358 - val_accuracy: 0.5954 - val_f1_m: 0.5770 - val_precision_m: 0.6222 - val_recall_m: 0.5383\n",
            "Epoch 89/150\n",
            "375/375 [==============================] - 9s 23ms/step - loss: 0.6652 - accuracy: 0.7048 - f1_m: 0.6891 - precision_m: 0.7481 - recall_m: 0.6392 - val_loss: 0.9208 - val_accuracy: 0.5892 - val_f1_m: 0.5724 - val_precision_m: 0.6207 - val_recall_m: 0.5314\n",
            "Epoch 90/150\n",
            "375/375 [==============================] - 9s 23ms/step - loss: 0.6668 - accuracy: 0.7047 - f1_m: 0.6881 - precision_m: 0.7476 - recall_m: 0.6380 - val_loss: 0.9174 - val_accuracy: 0.5957 - val_f1_m: 0.5775 - val_precision_m: 0.6290 - val_recall_m: 0.5341\n",
            "Epoch 91/150\n",
            "375/375 [==============================] - 9s 23ms/step - loss: 0.6626 - accuracy: 0.7058 - f1_m: 0.6891 - precision_m: 0.7486 - recall_m: 0.6389 - val_loss: 0.9252 - val_accuracy: 0.5933 - val_f1_m: 0.5786 - val_precision_m: 0.6299 - val_recall_m: 0.5355\n",
            "Epoch 92/150\n",
            "375/375 [==============================] - 9s 23ms/step - loss: 0.6654 - accuracy: 0.7023 - f1_m: 0.6860 - precision_m: 0.7467 - recall_m: 0.6350 - val_loss: 0.9193 - val_accuracy: 0.5909 - val_f1_m: 0.5766 - val_precision_m: 0.6290 - val_recall_m: 0.5327\n",
            "Epoch 93/150\n",
            "375/375 [==============================] - 9s 23ms/step - loss: 0.6599 - accuracy: 0.7091 - f1_m: 0.6928 - precision_m: 0.7517 - recall_m: 0.6431 - val_loss: 0.9243 - val_accuracy: 0.5928 - val_f1_m: 0.5757 - val_precision_m: 0.6273 - val_recall_m: 0.5324\n",
            "Epoch 94/150\n",
            "375/375 [==============================] - 9s 23ms/step - loss: 0.6571 - accuracy: 0.7056 - f1_m: 0.6922 - precision_m: 0.7510 - recall_m: 0.6426 - val_loss: 0.9231 - val_accuracy: 0.5942 - val_f1_m: 0.5771 - val_precision_m: 0.6263 - val_recall_m: 0.5355\n",
            "Epoch 95/150\n",
            "375/375 [==============================] - 9s 23ms/step - loss: 0.6598 - accuracy: 0.7070 - f1_m: 0.6902 - precision_m: 0.7486 - recall_m: 0.6407 - val_loss: 0.9221 - val_accuracy: 0.5938 - val_f1_m: 0.5774 - val_precision_m: 0.6279 - val_recall_m: 0.5348\n",
            "Epoch 96/150\n",
            "375/375 [==============================] - 9s 23ms/step - loss: 0.6657 - accuracy: 0.7049 - f1_m: 0.6891 - precision_m: 0.7501 - recall_m: 0.6378 - val_loss: 0.9292 - val_accuracy: 0.5898 - val_f1_m: 0.5765 - val_precision_m: 0.6273 - val_recall_m: 0.5338\n",
            "Epoch 97/150\n",
            "375/375 [==============================] - 9s 23ms/step - loss: 0.6604 - accuracy: 0.7065 - f1_m: 0.6910 - precision_m: 0.7504 - recall_m: 0.6408 - val_loss: 0.9274 - val_accuracy: 0.5959 - val_f1_m: 0.5773 - val_precision_m: 0.6295 - val_recall_m: 0.5337\n",
            "Epoch 98/150\n",
            "375/375 [==============================] - 9s 23ms/step - loss: 0.6583 - accuracy: 0.7063 - f1_m: 0.6920 - precision_m: 0.7512 - recall_m: 0.6419 - val_loss: 0.9340 - val_accuracy: 0.5966 - val_f1_m: 0.5810 - val_precision_m: 0.6262 - val_recall_m: 0.5422\n",
            "Epoch 99/150\n",
            "375/375 [==============================] - 9s 23ms/step - loss: 0.6586 - accuracy: 0.7092 - f1_m: 0.6935 - precision_m: 0.7508 - recall_m: 0.6448 - val_loss: 0.9278 - val_accuracy: 0.5941 - val_f1_m: 0.5751 - val_precision_m: 0.6275 - val_recall_m: 0.5312\n",
            "Epoch 100/150\n",
            "375/375 [==============================] - 9s 23ms/step - loss: 0.6609 - accuracy: 0.7077 - f1_m: 0.6913 - precision_m: 0.7500 - recall_m: 0.6416 - val_loss: 0.9406 - val_accuracy: 0.5987 - val_f1_m: 0.5825 - val_precision_m: 0.6261 - val_recall_m: 0.5450\n",
            "Epoch 101/150\n",
            "375/375 [==============================] - 9s 23ms/step - loss: 0.6544 - accuracy: 0.7124 - f1_m: 0.6974 - precision_m: 0.7541 - recall_m: 0.6491 - val_loss: 0.9477 - val_accuracy: 0.5975 - val_f1_m: 0.5823 - val_precision_m: 0.6288 - val_recall_m: 0.5427\n",
            "Epoch 102/150\n",
            "375/375 [==============================] - 9s 23ms/step - loss: 0.6588 - accuracy: 0.7072 - f1_m: 0.6919 - precision_m: 0.7494 - recall_m: 0.6432 - val_loss: 0.9343 - val_accuracy: 0.5977 - val_f1_m: 0.5817 - val_precision_m: 0.6280 - val_recall_m: 0.5422\n",
            "Epoch 103/150\n",
            "375/375 [==============================] - 9s 23ms/step - loss: 0.6582 - accuracy: 0.7087 - f1_m: 0.6922 - precision_m: 0.7510 - recall_m: 0.6424 - val_loss: 0.9363 - val_accuracy: 0.5963 - val_f1_m: 0.5796 - val_precision_m: 0.6264 - val_recall_m: 0.5396\n",
            "Epoch 104/150\n",
            "375/375 [==============================] - 9s 23ms/step - loss: 0.6585 - accuracy: 0.7087 - f1_m: 0.6926 - precision_m: 0.7506 - recall_m: 0.6434 - val_loss: 0.9270 - val_accuracy: 0.5897 - val_f1_m: 0.5765 - val_precision_m: 0.6208 - val_recall_m: 0.5385\n",
            "Epoch 105/150\n",
            "375/375 [==============================] - 9s 23ms/step - loss: 0.6534 - accuracy: 0.7086 - f1_m: 0.6926 - precision_m: 0.7496 - recall_m: 0.6441 - val_loss: 0.9339 - val_accuracy: 0.5946 - val_f1_m: 0.5794 - val_precision_m: 0.6250 - val_recall_m: 0.5404\n",
            "Epoch 106/150\n",
            "375/375 [==============================] - 9s 23ms/step - loss: 0.6525 - accuracy: 0.7127 - f1_m: 0.6969 - precision_m: 0.7552 - recall_m: 0.6475 - val_loss: 0.9377 - val_accuracy: 0.5945 - val_f1_m: 0.5796 - val_precision_m: 0.6271 - val_recall_m: 0.5392\n",
            "Epoch 107/150\n",
            "375/375 [==============================] - 9s 23ms/step - loss: 0.6577 - accuracy: 0.7070 - f1_m: 0.6906 - precision_m: 0.7489 - recall_m: 0.6413 - val_loss: 0.9216 - val_accuracy: 0.5946 - val_f1_m: 0.5763 - val_precision_m: 0.6270 - val_recall_m: 0.5335\n",
            "Epoch 108/150\n",
            "375/375 [==============================] - 9s 23ms/step - loss: 0.6507 - accuracy: 0.7123 - f1_m: 0.6990 - precision_m: 0.7552 - recall_m: 0.6510 - val_loss: 0.9377 - val_accuracy: 0.5975 - val_f1_m: 0.5822 - val_precision_m: 0.6285 - val_recall_m: 0.5427\n",
            "Epoch 109/150\n",
            "375/375 [==============================] - 9s 23ms/step - loss: 0.6535 - accuracy: 0.7131 - f1_m: 0.6983 - precision_m: 0.7573 - recall_m: 0.6484 - val_loss: 0.9239 - val_accuracy: 0.5925 - val_f1_m: 0.5756 - val_precision_m: 0.6282 - val_recall_m: 0.5316\n",
            "Epoch 110/150\n",
            "375/375 [==============================] - 9s 23ms/step - loss: 0.6572 - accuracy: 0.7089 - f1_m: 0.6940 - precision_m: 0.7516 - recall_m: 0.6451 - val_loss: 0.9297 - val_accuracy: 0.5967 - val_f1_m: 0.5776 - val_precision_m: 0.6291 - val_recall_m: 0.5342\n",
            "Epoch 111/150\n",
            "375/375 [==============================] - 9s 23ms/step - loss: 0.6532 - accuracy: 0.7104 - f1_m: 0.6960 - precision_m: 0.7531 - recall_m: 0.6475 - val_loss: 0.9254 - val_accuracy: 0.5948 - val_f1_m: 0.5805 - val_precision_m: 0.6281 - val_recall_m: 0.5401\n",
            "Epoch 112/150\n",
            "375/375 [==============================] - 9s 23ms/step - loss: 0.6501 - accuracy: 0.7130 - f1_m: 0.6999 - precision_m: 0.7563 - recall_m: 0.6519 - val_loss: 0.9494 - val_accuracy: 0.5969 - val_f1_m: 0.5816 - val_precision_m: 0.6257 - val_recall_m: 0.5437\n",
            "Epoch 113/150\n",
            "375/375 [==============================] - 9s 24ms/step - loss: 0.6526 - accuracy: 0.7106 - f1_m: 0.6953 - precision_m: 0.7505 - recall_m: 0.6480 - val_loss: 0.9210 - val_accuracy: 0.5938 - val_f1_m: 0.5798 - val_precision_m: 0.6297 - val_recall_m: 0.5376\n",
            "Epoch 114/150\n",
            "375/375 [==============================] - 9s 23ms/step - loss: 0.6513 - accuracy: 0.7122 - f1_m: 0.6988 - precision_m: 0.7543 - recall_m: 0.6514 - val_loss: 0.9322 - val_accuracy: 0.5938 - val_f1_m: 0.5771 - val_precision_m: 0.6242 - val_recall_m: 0.5370\n",
            "Epoch 115/150\n",
            "375/375 [==============================] - 9s 23ms/step - loss: 0.6500 - accuracy: 0.7147 - f1_m: 0.6990 - precision_m: 0.7547 - recall_m: 0.6514 - val_loss: 0.9236 - val_accuracy: 0.5944 - val_f1_m: 0.5789 - val_precision_m: 0.6270 - val_recall_m: 0.5379\n",
            "Epoch 116/150\n",
            "375/375 [==============================] - 9s 23ms/step - loss: 0.6482 - accuracy: 0.7125 - f1_m: 0.6987 - precision_m: 0.7548 - recall_m: 0.6509 - val_loss: 0.9293 - val_accuracy: 0.5949 - val_f1_m: 0.5805 - val_precision_m: 0.6306 - val_recall_m: 0.5382\n",
            "Epoch 117/150\n",
            "375/375 [==============================] - 9s 23ms/step - loss: 0.6505 - accuracy: 0.7143 - f1_m: 0.6994 - precision_m: 0.7565 - recall_m: 0.6508 - val_loss: 0.9302 - val_accuracy: 0.5935 - val_f1_m: 0.5814 - val_precision_m: 0.6306 - val_recall_m: 0.5397\n",
            "Epoch 118/150\n",
            "375/375 [==============================] - 9s 23ms/step - loss: 0.6450 - accuracy: 0.7159 - f1_m: 0.7019 - precision_m: 0.7583 - recall_m: 0.6538 - val_loss: 0.9506 - val_accuracy: 0.5945 - val_f1_m: 0.5815 - val_precision_m: 0.6223 - val_recall_m: 0.5460\n",
            "Epoch 119/150\n",
            "375/375 [==============================] - 9s 23ms/step - loss: 0.6441 - accuracy: 0.7166 - f1_m: 0.7028 - precision_m: 0.7558 - recall_m: 0.6572 - val_loss: 0.9289 - val_accuracy: 0.5980 - val_f1_m: 0.5819 - val_precision_m: 0.6281 - val_recall_m: 0.5424\n",
            "Epoch 120/150\n",
            "375/375 [==============================] - 9s 23ms/step - loss: 0.6484 - accuracy: 0.7162 - f1_m: 0.7037 - precision_m: 0.7587 - recall_m: 0.6567 - val_loss: 0.9243 - val_accuracy: 0.5972 - val_f1_m: 0.5783 - val_precision_m: 0.6282 - val_recall_m: 0.5362\n",
            "Epoch 121/150\n",
            "375/375 [==============================] - 9s 23ms/step - loss: 0.6462 - accuracy: 0.7174 - f1_m: 0.7028 - precision_m: 0.7580 - recall_m: 0.6556 - val_loss: 0.9580 - val_accuracy: 0.5975 - val_f1_m: 0.5839 - val_precision_m: 0.6257 - val_recall_m: 0.5477\n",
            "Epoch 122/150\n",
            "375/375 [==============================] - 9s 23ms/step - loss: 0.6507 - accuracy: 0.7149 - f1_m: 0.6989 - precision_m: 0.7529 - recall_m: 0.6527 - val_loss: 0.9344 - val_accuracy: 0.5939 - val_f1_m: 0.5775 - val_precision_m: 0.6241 - val_recall_m: 0.5377\n",
            "Epoch 123/150\n",
            "375/375 [==============================] - 9s 23ms/step - loss: 0.6474 - accuracy: 0.7166 - f1_m: 0.7015 - precision_m: 0.7567 - recall_m: 0.6542 - val_loss: 0.9379 - val_accuracy: 0.5955 - val_f1_m: 0.5778 - val_precision_m: 0.6190 - val_recall_m: 0.5420\n",
            "Epoch 124/150\n",
            "375/375 [==============================] - 9s 23ms/step - loss: 0.6411 - accuracy: 0.7208 - f1_m: 0.7058 - precision_m: 0.7579 - recall_m: 0.6608 - val_loss: 0.9289 - val_accuracy: 0.5941 - val_f1_m: 0.5781 - val_precision_m: 0.6263 - val_recall_m: 0.5373\n",
            "Epoch 125/150\n",
            "375/375 [==============================] - 9s 23ms/step - loss: 0.6446 - accuracy: 0.7151 - f1_m: 0.7027 - precision_m: 0.7572 - recall_m: 0.6561 - val_loss: 0.9409 - val_accuracy: 0.5952 - val_f1_m: 0.5812 - val_precision_m: 0.6268 - val_recall_m: 0.5422\n",
            "Epoch 126/150\n",
            "375/375 [==============================] - 9s 23ms/step - loss: 0.6476 - accuracy: 0.7167 - f1_m: 0.7013 - precision_m: 0.7583 - recall_m: 0.6528 - val_loss: 0.9402 - val_accuracy: 0.5932 - val_f1_m: 0.5778 - val_precision_m: 0.6227 - val_recall_m: 0.5392\n",
            "Epoch 127/150\n",
            "375/375 [==============================] - 9s 23ms/step - loss: 0.6502 - accuracy: 0.7137 - f1_m: 0.7000 - precision_m: 0.7569 - recall_m: 0.6515 - val_loss: 0.9261 - val_accuracy: 0.5975 - val_f1_m: 0.5800 - val_precision_m: 0.6278 - val_recall_m: 0.5394\n",
            "Epoch 128/150\n",
            "375/375 [==============================] - 9s 23ms/step - loss: 0.6455 - accuracy: 0.7168 - f1_m: 0.7035 - precision_m: 0.7585 - recall_m: 0.6565 - val_loss: 0.9375 - val_accuracy: 0.5969 - val_f1_m: 0.5812 - val_precision_m: 0.6241 - val_recall_m: 0.5443\n",
            "Epoch 129/150\n",
            "375/375 [==============================] - 9s 23ms/step - loss: 0.6457 - accuracy: 0.7144 - f1_m: 0.7020 - precision_m: 0.7569 - recall_m: 0.6550 - val_loss: 0.9398 - val_accuracy: 0.5945 - val_f1_m: 0.5772 - val_precision_m: 0.6256 - val_recall_m: 0.5361\n",
            "Epoch 130/150\n",
            "375/375 [==============================] - 9s 23ms/step - loss: 0.6459 - accuracy: 0.7146 - f1_m: 0.7027 - precision_m: 0.7578 - recall_m: 0.6556 - val_loss: 0.9311 - val_accuracy: 0.5940 - val_f1_m: 0.5788 - val_precision_m: 0.6229 - val_recall_m: 0.5409\n",
            "Epoch 131/150\n",
            "375/375 [==============================] - 9s 23ms/step - loss: 0.6412 - accuracy: 0.7161 - f1_m: 0.7039 - precision_m: 0.7576 - recall_m: 0.6578 - val_loss: 0.9310 - val_accuracy: 0.5945 - val_f1_m: 0.5765 - val_precision_m: 0.6266 - val_recall_m: 0.5343\n",
            "Epoch 132/150\n",
            "375/375 [==============================] - 9s 23ms/step - loss: 0.6418 - accuracy: 0.7160 - f1_m: 0.7023 - precision_m: 0.7569 - recall_m: 0.6556 - val_loss: 0.9445 - val_accuracy: 0.5962 - val_f1_m: 0.5776 - val_precision_m: 0.6240 - val_recall_m: 0.5380\n",
            "Epoch 133/150\n",
            "375/375 [==============================] - 9s 23ms/step - loss: 0.6362 - accuracy: 0.7213 - f1_m: 0.7078 - precision_m: 0.7603 - recall_m: 0.6625 - val_loss: 0.9378 - val_accuracy: 0.5978 - val_f1_m: 0.5807 - val_precision_m: 0.6231 - val_recall_m: 0.5441\n",
            "Epoch 134/150\n",
            "375/375 [==============================] - 9s 23ms/step - loss: 0.6419 - accuracy: 0.7204 - f1_m: 0.7057 - precision_m: 0.7601 - recall_m: 0.6590 - val_loss: 0.9442 - val_accuracy: 0.5938 - val_f1_m: 0.5792 - val_precision_m: 0.6270 - val_recall_m: 0.5387\n",
            "Epoch 135/150\n",
            "375/375 [==============================] - 9s 23ms/step - loss: 0.6406 - accuracy: 0.7202 - f1_m: 0.7063 - precision_m: 0.7597 - recall_m: 0.6604 - val_loss: 0.9490 - val_accuracy: 0.5925 - val_f1_m: 0.5795 - val_precision_m: 0.6204 - val_recall_m: 0.5440\n",
            "Epoch 136/150\n",
            "375/375 [==============================] - 9s 23ms/step - loss: 0.6421 - accuracy: 0.7175 - f1_m: 0.7057 - precision_m: 0.7595 - recall_m: 0.6595 - val_loss: 0.9391 - val_accuracy: 0.5971 - val_f1_m: 0.5787 - val_precision_m: 0.6266 - val_recall_m: 0.5379\n",
            "Epoch 137/150\n",
            "375/375 [==============================] - 9s 23ms/step - loss: 0.6426 - accuracy: 0.7181 - f1_m: 0.7060 - precision_m: 0.7592 - recall_m: 0.6602 - val_loss: 0.9415 - val_accuracy: 0.6007 - val_f1_m: 0.5862 - val_precision_m: 0.6273 - val_recall_m: 0.5505\n",
            "Epoch 138/150\n",
            "375/375 [==============================] - 9s 23ms/step - loss: 0.6405 - accuracy: 0.7197 - f1_m: 0.7071 - precision_m: 0.7597 - recall_m: 0.6618 - val_loss: 0.9408 - val_accuracy: 0.5954 - val_f1_m: 0.5863 - val_precision_m: 0.6273 - val_recall_m: 0.5509\n",
            "Epoch 139/150\n",
            "375/375 [==============================] - 9s 24ms/step - loss: 0.6370 - accuracy: 0.7226 - f1_m: 0.7096 - precision_m: 0.7602 - recall_m: 0.6657 - val_loss: 0.9429 - val_accuracy: 0.5956 - val_f1_m: 0.5829 - val_precision_m: 0.6263 - val_recall_m: 0.5453\n",
            "Epoch 140/150\n",
            "375/375 [==============================] - 9s 24ms/step - loss: 0.6439 - accuracy: 0.7158 - f1_m: 0.7028 - precision_m: 0.7571 - recall_m: 0.6561 - val_loss: 0.9352 - val_accuracy: 0.5962 - val_f1_m: 0.5833 - val_precision_m: 0.6254 - val_recall_m: 0.5469\n",
            "Epoch 141/150\n",
            "375/375 [==============================] - 9s 24ms/step - loss: 0.6343 - accuracy: 0.7224 - f1_m: 0.7118 - precision_m: 0.7638 - recall_m: 0.6669 - val_loss: 0.9481 - val_accuracy: 0.6000 - val_f1_m: 0.5843 - val_precision_m: 0.6304 - val_recall_m: 0.5449\n",
            "Epoch 142/150\n",
            "375/375 [==============================] - 9s 23ms/step - loss: 0.6392 - accuracy: 0.7192 - f1_m: 0.7043 - precision_m: 0.7590 - recall_m: 0.6574 - val_loss: 0.9361 - val_accuracy: 0.6007 - val_f1_m: 0.5839 - val_precision_m: 0.6293 - val_recall_m: 0.5449\n",
            "Epoch 143/150\n",
            "375/375 [==============================] - 9s 24ms/step - loss: 0.6379 - accuracy: 0.7186 - f1_m: 0.7068 - precision_m: 0.7610 - recall_m: 0.6603 - val_loss: 0.9411 - val_accuracy: 0.5970 - val_f1_m: 0.5819 - val_precision_m: 0.6243 - val_recall_m: 0.5453\n",
            "Epoch 144/150\n",
            "375/375 [==============================] - 9s 24ms/step - loss: 0.6445 - accuracy: 0.7185 - f1_m: 0.7045 - precision_m: 0.7600 - recall_m: 0.6570 - val_loss: 0.9275 - val_accuracy: 0.5984 - val_f1_m: 0.5813 - val_precision_m: 0.6280 - val_recall_m: 0.5415\n",
            "Epoch 145/150\n",
            "375/375 [==============================] - 9s 23ms/step - loss: 0.6329 - accuracy: 0.7236 - f1_m: 0.7100 - precision_m: 0.7630 - recall_m: 0.6643 - val_loss: 0.9344 - val_accuracy: 0.5997 - val_f1_m: 0.5846 - val_precision_m: 0.6348 - val_recall_m: 0.5422\n",
            "Epoch 146/150\n",
            "375/375 [==============================] - 9s 24ms/step - loss: 0.6358 - accuracy: 0.7221 - f1_m: 0.7087 - precision_m: 0.7619 - recall_m: 0.6629 - val_loss: 0.9282 - val_accuracy: 0.6004 - val_f1_m: 0.5849 - val_precision_m: 0.6292 - val_recall_m: 0.5468\n",
            "Epoch 147/150\n",
            "375/375 [==============================] - 9s 24ms/step - loss: 0.6348 - accuracy: 0.7220 - f1_m: 0.7081 - precision_m: 0.7596 - recall_m: 0.6637 - val_loss: 0.9412 - val_accuracy: 0.6008 - val_f1_m: 0.5888 - val_precision_m: 0.6324 - val_recall_m: 0.5512\n",
            "Epoch 148/150\n",
            "375/375 [==============================] - 9s 24ms/step - loss: 0.6352 - accuracy: 0.7222 - f1_m: 0.7078 - precision_m: 0.7589 - recall_m: 0.6636 - val_loss: 0.9346 - val_accuracy: 0.5937 - val_f1_m: 0.5817 - val_precision_m: 0.6265 - val_recall_m: 0.5432\n",
            "Epoch 149/150\n",
            "375/375 [==============================] - 9s 24ms/step - loss: 0.6341 - accuracy: 0.7215 - f1_m: 0.7102 - precision_m: 0.7621 - recall_m: 0.6654 - val_loss: 0.9474 - val_accuracy: 0.6031 - val_f1_m: 0.5900 - val_precision_m: 0.6331 - val_recall_m: 0.5529\n",
            "Epoch 150/150\n",
            "375/375 [==============================] - 9s 23ms/step - loss: 0.6360 - accuracy: 0.7220 - f1_m: 0.7078 - precision_m: 0.7594 - recall_m: 0.6633 - val_loss: 0.9445 - val_accuracy: 0.5990 - val_f1_m: 0.5867 - val_precision_m: 0.6283 - val_recall_m: 0.5507\n"
          ],
          "name": "stdout"
        }
      ]
    },
    {
      "cell_type": "code",
      "metadata": {
        "colab": {
          "base_uri": "https://localhost:8080/"
        },
        "id": "ovJXoW2yF9qQ",
        "outputId": "02bb5fdb-f55c-4125-8cf1-55a59e55c83e"
      },
      "source": [
        "loss, accuracy, f1_score, precision, recall = glove_model.evaluate(val_X_tokenized, val_Y, verbose=0)\n",
        "print(loss, accuracy, f1_score, precision, recall)"
      ],
      "execution_count": null,
      "outputs": [
        {
          "output_type": "stream",
          "text": [
            "0.9444566369056702 0.5989522337913513 0.5859778523445129 0.6281465888023376 0.5504835247993469\n"
          ],
          "name": "stdout"
        }
      ]
    },
    {
      "cell_type": "code",
      "metadata": {
        "colab": {
          "base_uri": "https://localhost:8080/",
          "height": 573
        },
        "id": "tIbLleWTOr8_",
        "outputId": "911101d8-2838-4479-a143-2186ab70601f"
      },
      "source": [
        "# plot history\n",
        "# Plot training & validation accuracy values\n",
        "import matplotlib.pyplot as plt \n",
        "plt.plot(history.history['accuracy'])\n",
        "plt.plot(history.history['val_accuracy'])\n",
        "plt.title('Model accuracy')\n",
        "plt.ylabel('Accuracy')\n",
        "plt.xlabel('Epoch')\n",
        "plt.legend(['Train', 'Val'], loc='upper left')\n",
        "plt.show()\n",
        "\n",
        "# Plot training & validation loss values\n",
        "plt.plot(history.history['loss'])\n",
        "plt.plot(history.history['val_loss'])\n",
        "plt.title('Model loss')\n",
        "plt.ylabel('Loss')\n",
        "plt.xlabel('Epoch')\n",
        "plt.legend(['Train', 'Val'], loc='upper left')\n",
        "plt.show()"
      ],
      "execution_count": null,
      "outputs": [
        {
          "output_type": "display_data",
          "data": {
            "image/png": "[encoded data removed]",
            "text/plain": [
              "<Figure size 432x288 with 1 Axes>"
            ]
          },
          "metadata": {
            "tags": []
          }
        },
        {
          "output_type": "display_data",
          "data": {
            "image/png": "[encoded data removed]",
            "text/plain": [
              "<Figure size 432x288 with 1 Axes>"
            ]
          },
          "metadata": {
            "tags": []
          }
        }
      ]
    },
    {
      "cell_type": "markdown",
      "metadata": {
        "id": "FCeTdLxOhpq4"
      },
      "source": [
        "Feature: Tweets+Image,hasLink"
      ]
    },
    {
      "cell_type": "code",
      "metadata": {
        "colab": {
          "base_uri": "https://localhost:8080/"
        },
        "id": "6KAMvrfwh4zj",
        "outputId": "fc13145e-1b5f-416f-e06a-199e306a2e33"
      },
      "source": [
        "glove_model_feature2 = models.Sequential()\n",
        "glove_model_feature2.add(layers.Embedding(vocab_size,\n",
        "                            glove_dim,\n",
        "                            weights=[embedding_matrix],\n",
        "                            input_length=max_len+2,\n",
        "                            trainable=False))\n",
        "#glove_model.add(layers.LSTM(64))\n",
        "glove_model_feature2.add(LSTM(64,return_sequences=True))\n",
        "# glove_model.add(layers.Dropout(0.3))\n",
        "glove_model_feature2.add(LSTM(32,return_sequences=False))\n",
        "glove_model.add(layers.Dropout(0.3))\n",
        "#glove_model.add(layers.Dense(10,activation=\"relu\"))\n",
        "#glove_model.add(layers.Dropout(0.2))\n",
        "glove_model_feature2.add(Dense(3, activation='softmax'))\n",
        "glove_model_feature2.summary()"
      ],
      "execution_count": 111,
      "outputs": [
        {
          "output_type": "stream",
          "text": [
            "Model: \"sequential_12\"\n",
            "_________________________________________________________________\n",
            "Layer (type)                 Output Shape              Param #   \n",
            "=================================================================\n",
            "embedding_12 (Embedding)     (None, 152, 200)          10110600  \n",
            "_________________________________________________________________\n",
            "lstm_25 (LSTM)               (None, 152, 64)           67840     \n",
            "_________________________________________________________________\n",
            "lstm_26 (LSTM)               (None, 32)                12416     \n",
            "_________________________________________________________________\n",
            "dense_17 (Dense)             (None, 3)                 99        \n",
            "=================================================================\n",
            "Total params: 10,190,955\n",
            "Trainable params: 80,355\n",
            "Non-trainable params: 10,110,600\n",
            "_________________________________________________________________\n"
          ],
          "name": "stdout"
        }
      ]
    },
    {
      "cell_type": "code",
      "metadata": {
        "colab": {
          "base_uri": "https://localhost:8080/",
          "height": 1000
        },
        "id": "n-PdkwsnjF_u",
        "outputId": "91ad03f4-69a0-4c11-fe57-5ba1e02b4474"
      },
      "source": [
        "glove_model_feature2.compile(loss='categorical_crossentropy', optimizer='adam', metrics=['accuracy',f1_m,precision_m, recall_m])\n",
        "\n",
        "from tensorflow.keras.callbacks import EarlyStopping\n",
        "#callbacks = EarlyStopping(monitor='val_loss', min_delta=0, patience = 2)\n",
        "history = glove_model_feature2.fit(X_train_df, \n",
        "                    train_Y, \n",
        "                    batch_size=100, \n",
        "                    epochs=30, \n",
        "                    validation_data=(X_val_df, val_Y)\n",
        "                    #callbacks=callbacks\n",
        "                    )"
      ],
      "execution_count": 112,
      "outputs": [
        {
          "output_type": "stream",
          "text": [
            "Epoch 1/100\n",
            "375/375 [==============================] - 9s 24ms/step - loss: 0.9379 - accuracy: 0.5312 - f1_m: 0.4123 - precision_m: 0.6491 - recall_m: 0.3108 - val_loss: 0.8790 - val_accuracy: 0.5735 - val_f1_m: 0.4874 - val_precision_m: 0.6774 - val_recall_m: 0.3817\n",
            "Epoch 2/100\n",
            "375/375 [==============================] - 8s 23ms/step - loss: 0.8647 - accuracy: 0.5828 - f1_m: 0.4990 - precision_m: 0.6845 - recall_m: 0.3944 - val_loss: 0.8591 - val_accuracy: 0.5889 - val_f1_m: 0.5182 - val_precision_m: 0.6677 - val_recall_m: 0.4244\n",
            "Epoch 3/100\n",
            "375/375 [==============================] - 8s 22ms/step - loss: 0.8295 - accuracy: 0.6082 - f1_m: 0.5367 - precision_m: 0.6938 - recall_m: 0.4389 - val_loss: 0.8653 - val_accuracy: 0.5834 - val_f1_m: 0.5175 - val_precision_m: 0.6579 - val_recall_m: 0.4273\n",
            "Epoch 4/100\n",
            "375/375 [==============================] - 8s 22ms/step - loss: 0.7957 - accuracy: 0.6283 - f1_m: 0.5746 - precision_m: 0.6995 - recall_m: 0.4887 - val_loss: 0.8384 - val_accuracy: 0.6017 - val_f1_m: 0.5508 - val_precision_m: 0.6652 - val_recall_m: 0.4710\n",
            "Epoch 5/100\n",
            "375/375 [==============================] - 8s 22ms/step - loss: 0.7605 - accuracy: 0.6484 - f1_m: 0.6099 - precision_m: 0.7071 - recall_m: 0.5372 - val_loss: 0.8396 - val_accuracy: 0.6058 - val_f1_m: 0.5635 - val_precision_m: 0.6560 - val_recall_m: 0.4946\n",
            "Epoch 6/100\n",
            "375/375 [==============================] - 8s 22ms/step - loss: 0.7227 - accuracy: 0.6701 - f1_m: 0.6429 - precision_m: 0.7183 - recall_m: 0.5827 - val_loss: 0.8403 - val_accuracy: 0.6039 - val_f1_m: 0.5705 - val_precision_m: 0.6511 - val_recall_m: 0.5081\n",
            "Epoch 7/100\n",
            "375/375 [==============================] - 8s 22ms/step - loss: 0.6838 - accuracy: 0.6914 - f1_m: 0.6722 - precision_m: 0.7300 - recall_m: 0.6235 - val_loss: 0.8492 - val_accuracy: 0.6081 - val_f1_m: 0.5857 - val_precision_m: 0.6436 - val_recall_m: 0.5378\n",
            "Epoch 8/100\n",
            "375/375 [==============================] - 8s 22ms/step - loss: 0.6405 - accuracy: 0.7161 - f1_m: 0.7024 - precision_m: 0.7494 - recall_m: 0.6616 - val_loss: 0.8738 - val_accuracy: 0.6147 - val_f1_m: 0.5947 - val_precision_m: 0.6365 - val_recall_m: 0.5584\n",
            "Epoch 9/100\n",
            "375/375 [==============================] - 8s 22ms/step - loss: 0.5983 - accuracy: 0.7381 - f1_m: 0.7282 - precision_m: 0.7648 - recall_m: 0.6954 - val_loss: 0.9092 - val_accuracy: 0.6096 - val_f1_m: 0.5902 - val_precision_m: 0.6326 - val_recall_m: 0.5536\n",
            "Epoch 10/100\n",
            "375/375 [==============================] - 8s 22ms/step - loss: 0.5569 - accuracy: 0.7631 - f1_m: 0.7555 - precision_m: 0.7849 - recall_m: 0.7285 - val_loss: 0.9268 - val_accuracy: 0.6132 - val_f1_m: 0.5976 - val_precision_m: 0.6283 - val_recall_m: 0.5700\n",
            "Epoch 11/100\n",
            "375/375 [==============================] - 8s 22ms/step - loss: 0.5101 - accuracy: 0.7842 - f1_m: 0.7803 - precision_m: 0.8039 - recall_m: 0.7583 - val_loss: 0.9866 - val_accuracy: 0.6084 - val_f1_m: 0.6010 - val_precision_m: 0.6219 - val_recall_m: 0.5816\n",
            "Epoch 12/100\n",
            "375/375 [==============================] - 8s 22ms/step - loss: 0.4704 - accuracy: 0.8034 - f1_m: 0.7996 - precision_m: 0.8179 - recall_m: 0.7822 - val_loss: 1.0035 - val_accuracy: 0.6028 - val_f1_m: 0.5958 - val_precision_m: 0.6179 - val_recall_m: 0.5754\n",
            "Epoch 13/100\n",
            "375/375 [==============================] - 8s 22ms/step - loss: 0.4308 - accuracy: 0.8225 - f1_m: 0.8202 - precision_m: 0.8363 - recall_m: 0.8048 - val_loss: 1.0762 - val_accuracy: 0.6048 - val_f1_m: 0.5978 - val_precision_m: 0.6148 - val_recall_m: 0.5819\n",
            "Epoch 14/100\n",
            "375/375 [==============================] - 8s 22ms/step - loss: 0.3911 - accuracy: 0.8427 - f1_m: 0.8409 - precision_m: 0.8537 - recall_m: 0.8286 - val_loss: 1.1476 - val_accuracy: 0.6065 - val_f1_m: 0.6023 - val_precision_m: 0.6131 - val_recall_m: 0.5920\n",
            "Epoch 15/100\n",
            "375/375 [==============================] - 8s 22ms/step - loss: 0.3573 - accuracy: 0.8575 - f1_m: 0.8570 - precision_m: 0.8667 - recall_m: 0.8476 - val_loss: 1.2293 - val_accuracy: 0.6084 - val_f1_m: 0.6041 - val_precision_m: 0.6123 - val_recall_m: 0.5961\n",
            "Epoch 16/100\n",
            "375/375 [==============================] - 8s 22ms/step - loss: 0.3332 - accuracy: 0.8679 - f1_m: 0.8664 - precision_m: 0.8758 - recall_m: 0.8572 - val_loss: 1.3121 - val_accuracy: 0.6057 - val_f1_m: 0.6025 - val_precision_m: 0.6132 - val_recall_m: 0.5923\n",
            "Epoch 17/100\n",
            "375/375 [==============================] - 8s 22ms/step - loss: 0.3023 - accuracy: 0.8817 - f1_m: 0.8807 - precision_m: 0.8883 - recall_m: 0.8734 - val_loss: 1.3613 - val_accuracy: 0.6052 - val_f1_m: 0.6023 - val_precision_m: 0.6101 - val_recall_m: 0.5947\n",
            "Epoch 18/100\n",
            "375/375 [==============================] - 8s 22ms/step - loss: 0.2681 - accuracy: 0.8998 - f1_m: 0.8992 - precision_m: 0.9052 - recall_m: 0.8933 - val_loss: 1.4405 - val_accuracy: 0.6138 - val_f1_m: 0.6104 - val_precision_m: 0.6178 - val_recall_m: 0.6034\n",
            "Epoch 19/100\n",
            "375/375 [==============================] - 8s 22ms/step - loss: 0.2460 - accuracy: 0.9074 - f1_m: 0.9072 - precision_m: 0.9125 - recall_m: 0.9020 - val_loss: 1.5409 - val_accuracy: 0.6103 - val_f1_m: 0.6084 - val_precision_m: 0.6135 - val_recall_m: 0.6036\n",
            "Epoch 20/100\n",
            "375/375 [==============================] - 8s 22ms/step - loss: 0.2258 - accuracy: 0.9155 - f1_m: 0.9154 - precision_m: 0.9198 - recall_m: 0.9111 - val_loss: 1.6538 - val_accuracy: 0.6086 - val_f1_m: 0.6068 - val_precision_m: 0.6124 - val_recall_m: 0.6014\n",
            "Epoch 21/100\n",
            "375/375 [==============================] - 8s 22ms/step - loss: 0.1989 - accuracy: 0.9275 - f1_m: 0.9271 - precision_m: 0.9314 - recall_m: 0.9229 - val_loss: 1.7012 - val_accuracy: 0.6103 - val_f1_m: 0.6087 - val_precision_m: 0.6132 - val_recall_m: 0.6044\n",
            "Epoch 22/100\n",
            "375/375 [==============================] - 8s 22ms/step - loss: 0.1827 - accuracy: 0.9333 - f1_m: 0.9334 - precision_m: 0.9369 - recall_m: 0.9299 - val_loss: 1.8080 - val_accuracy: 0.6077 - val_f1_m: 0.6068 - val_precision_m: 0.6110 - val_recall_m: 0.6028\n",
            "Epoch 23/100\n",
            "375/375 [==============================] - 8s 22ms/step - loss: 0.1723 - accuracy: 0.9377 - f1_m: 0.9375 - precision_m: 0.9406 - recall_m: 0.9345 - val_loss: 1.8461 - val_accuracy: 0.6056 - val_f1_m: 0.6040 - val_precision_m: 0.6091 - val_recall_m: 0.5991\n",
            "Epoch 24/100\n",
            "375/375 [==============================] - 8s 22ms/step - loss: 0.1588 - accuracy: 0.9439 - f1_m: 0.9438 - precision_m: 0.9464 - recall_m: 0.9412 - val_loss: 1.9381 - val_accuracy: 0.6149 - val_f1_m: 0.6134 - val_precision_m: 0.6170 - val_recall_m: 0.6100\n",
            "Epoch 25/100\n",
            "351/375 [===========================>..] - ETA: 0s - loss: 0.1561 - accuracy: 0.9444 - f1_m: 0.9445 - precision_m: 0.9473 - recall_m: 0.9417"
          ],
          "name": "stdout"
        },
        {
          "output_type": "error",
          "ename": "KeyboardInterrupt",
          "evalue": "ignored",
          "traceback": [
            "\u001b[0;31m---------------------------------------------------------------------------\u001b[0m",
            "\u001b[0;31mKeyboardInterrupt\u001b[0m                         Traceback (most recent call last)",
            "\u001b[0;32m<ipython-input-112-7b6cebe0c5d8>\u001b[0m in \u001b[0;36m<module>\u001b[0;34m()\u001b[0m\n\u001b[1;32m      7\u001b[0m                     \u001b[0mbatch_size\u001b[0m\u001b[0;34m=\u001b[0m\u001b[0;36m100\u001b[0m\u001b[0;34m,\u001b[0m\u001b[0;34m\u001b[0m\u001b[0;34m\u001b[0m\u001b[0m\n\u001b[1;32m      8\u001b[0m                     \u001b[0mepochs\u001b[0m\u001b[0;34m=\u001b[0m\u001b[0;36m100\u001b[0m\u001b[0;34m,\u001b[0m\u001b[0;34m\u001b[0m\u001b[0;34m\u001b[0m\u001b[0m\n\u001b[0;32m----> 9\u001b[0;31m                     \u001b[0mvalidation_data\u001b[0m\u001b[0;34m=\u001b[0m\u001b[0;34m(\u001b[0m\u001b[0mX_val_df\u001b[0m\u001b[0;34m,\u001b[0m \u001b[0mval_Y\u001b[0m\u001b[0;34m)\u001b[0m\u001b[0;34m\u001b[0m\u001b[0;34m\u001b[0m\u001b[0m\n\u001b[0m\u001b[1;32m     10\u001b[0m                     \u001b[0;31m#callbacks=callbacks\u001b[0m\u001b[0;34m\u001b[0m\u001b[0;34m\u001b[0m\u001b[0;34m\u001b[0m\u001b[0m\n\u001b[1;32m     11\u001b[0m                     )\n",
            "\u001b[0;32m/usr/local/lib/python3.6/dist-packages/tensorflow/python/keras/engine/training.py\u001b[0m in \u001b[0;36m_method_wrapper\u001b[0;34m(self, *args, **kwargs)\u001b[0m\n\u001b[1;32m    106\u001b[0m   \u001b[0;32mdef\u001b[0m \u001b[0m_method_wrapper\u001b[0m\u001b[0;34m(\u001b[0m\u001b[0mself\u001b[0m\u001b[0;34m,\u001b[0m \u001b[0;34m*\u001b[0m\u001b[0margs\u001b[0m\u001b[0;34m,\u001b[0m \u001b[0;34m**\u001b[0m\u001b[0mkwargs\u001b[0m\u001b[0;34m)\u001b[0m\u001b[0;34m:\u001b[0m\u001b[0;34m\u001b[0m\u001b[0;34m\u001b[0m\u001b[0m\n\u001b[1;32m    107\u001b[0m     \u001b[0;32mif\u001b[0m \u001b[0;32mnot\u001b[0m \u001b[0mself\u001b[0m\u001b[0;34m.\u001b[0m\u001b[0m_in_multi_worker_mode\u001b[0m\u001b[0;34m(\u001b[0m\u001b[0;34m)\u001b[0m\u001b[0;34m:\u001b[0m  \u001b[0;31m# pylint: disable=protected-access\u001b[0m\u001b[0;34m\u001b[0m\u001b[0;34m\u001b[0m\u001b[0m\n\u001b[0;32m--> 108\u001b[0;31m       \u001b[0;32mreturn\u001b[0m \u001b[0mmethod\u001b[0m\u001b[0;34m(\u001b[0m\u001b[0mself\u001b[0m\u001b[0;34m,\u001b[0m \u001b[0;34m*\u001b[0m\u001b[0margs\u001b[0m\u001b[0;34m,\u001b[0m \u001b[0;34m**\u001b[0m\u001b[0mkwargs\u001b[0m\u001b[0;34m)\u001b[0m\u001b[0;34m\u001b[0m\u001b[0;34m\u001b[0m\u001b[0m\n\u001b[0m\u001b[1;32m    109\u001b[0m \u001b[0;34m\u001b[0m\u001b[0m\n\u001b[1;32m    110\u001b[0m     \u001b[0;31m# Running inside `run_distribute_coordinator` already.\u001b[0m\u001b[0;34m\u001b[0m\u001b[0;34m\u001b[0m\u001b[0;34m\u001b[0m\u001b[0m\n",
            "\u001b[0;32m/usr/local/lib/python3.6/dist-packages/tensorflow/python/keras/engine/training.py\u001b[0m in \u001b[0;36mfit\u001b[0;34m(self, x, y, batch_size, epochs, verbose, callbacks, validation_split, validation_data, shuffle, class_weight, sample_weight, initial_epoch, steps_per_epoch, validation_steps, validation_batch_size, validation_freq, max_queue_size, workers, use_multiprocessing)\u001b[0m\n\u001b[1;32m   1101\u001b[0m               \u001b[0mlogs\u001b[0m \u001b[0;34m=\u001b[0m \u001b[0mtmp_logs\u001b[0m  \u001b[0;31m# No error, now safe to assign to logs.\u001b[0m\u001b[0;34m\u001b[0m\u001b[0;34m\u001b[0m\u001b[0m\n\u001b[1;32m   1102\u001b[0m               \u001b[0mend_step\u001b[0m \u001b[0;34m=\u001b[0m \u001b[0mstep\u001b[0m \u001b[0;34m+\u001b[0m \u001b[0mdata_handler\u001b[0m\u001b[0;34m.\u001b[0m\u001b[0mstep_increment\u001b[0m\u001b[0;34m\u001b[0m\u001b[0;34m\u001b[0m\u001b[0m\n\u001b[0;32m-> 1103\u001b[0;31m               \u001b[0mcallbacks\u001b[0m\u001b[0;34m.\u001b[0m\u001b[0mon_train_batch_end\u001b[0m\u001b[0;34m(\u001b[0m\u001b[0mend_step\u001b[0m\u001b[0;34m,\u001b[0m \u001b[0mlogs\u001b[0m\u001b[0;34m)\u001b[0m\u001b[0;34m\u001b[0m\u001b[0;34m\u001b[0m\u001b[0m\n\u001b[0m\u001b[1;32m   1104\u001b[0m         \u001b[0mepoch_logs\u001b[0m \u001b[0;34m=\u001b[0m \u001b[0mcopy\u001b[0m\u001b[0;34m.\u001b[0m\u001b[0mcopy\u001b[0m\u001b[0;34m(\u001b[0m\u001b[0mlogs\u001b[0m\u001b[0;34m)\u001b[0m\u001b[0;34m\u001b[0m\u001b[0;34m\u001b[0m\u001b[0m\n\u001b[1;32m   1105\u001b[0m \u001b[0;34m\u001b[0m\u001b[0m\n",
            "\u001b[0;32m/usr/local/lib/python3.6/dist-packages/tensorflow/python/keras/callbacks.py\u001b[0m in \u001b[0;36mon_train_batch_end\u001b[0;34m(self, batch, logs)\u001b[0m\n\u001b[1;32m    438\u001b[0m     \"\"\"\n\u001b[1;32m    439\u001b[0m     \u001b[0;32mif\u001b[0m \u001b[0mself\u001b[0m\u001b[0;34m.\u001b[0m\u001b[0m_should_call_train_batch_hooks\u001b[0m\u001b[0;34m:\u001b[0m\u001b[0;34m\u001b[0m\u001b[0;34m\u001b[0m\u001b[0m\n\u001b[0;32m--> 440\u001b[0;31m       \u001b[0mself\u001b[0m\u001b[0;34m.\u001b[0m\u001b[0m_call_batch_hook\u001b[0m\u001b[0;34m(\u001b[0m\u001b[0mModeKeys\u001b[0m\u001b[0;34m.\u001b[0m\u001b[0mTRAIN\u001b[0m\u001b[0;34m,\u001b[0m \u001b[0;34m'end'\u001b[0m\u001b[0;34m,\u001b[0m \u001b[0mbatch\u001b[0m\u001b[0;34m,\u001b[0m \u001b[0mlogs\u001b[0m\u001b[0;34m=\u001b[0m\u001b[0mlogs\u001b[0m\u001b[0;34m)\u001b[0m\u001b[0;34m\u001b[0m\u001b[0;34m\u001b[0m\u001b[0m\n\u001b[0m\u001b[1;32m    441\u001b[0m \u001b[0;34m\u001b[0m\u001b[0m\n\u001b[1;32m    442\u001b[0m   \u001b[0;32mdef\u001b[0m \u001b[0mon_test_batch_begin\u001b[0m\u001b[0;34m(\u001b[0m\u001b[0mself\u001b[0m\u001b[0;34m,\u001b[0m \u001b[0mbatch\u001b[0m\u001b[0;34m,\u001b[0m \u001b[0mlogs\u001b[0m\u001b[0;34m=\u001b[0m\u001b[0;32mNone\u001b[0m\u001b[0;34m)\u001b[0m\u001b[0;34m:\u001b[0m\u001b[0;34m\u001b[0m\u001b[0;34m\u001b[0m\u001b[0m\n",
            "\u001b[0;32m/usr/local/lib/python3.6/dist-packages/tensorflow/python/keras/callbacks.py\u001b[0m in \u001b[0;36m_call_batch_hook\u001b[0;34m(self, mode, hook, batch, logs)\u001b[0m\n\u001b[1;32m    287\u001b[0m       \u001b[0mself\u001b[0m\u001b[0;34m.\u001b[0m\u001b[0m_call_batch_begin_hook\u001b[0m\u001b[0;34m(\u001b[0m\u001b[0mmode\u001b[0m\u001b[0;34m,\u001b[0m \u001b[0mbatch\u001b[0m\u001b[0;34m,\u001b[0m \u001b[0mlogs\u001b[0m\u001b[0;34m)\u001b[0m\u001b[0;34m\u001b[0m\u001b[0;34m\u001b[0m\u001b[0m\n\u001b[1;32m    288\u001b[0m     \u001b[0;32melif\u001b[0m \u001b[0mhook\u001b[0m \u001b[0;34m==\u001b[0m \u001b[0;34m'end'\u001b[0m\u001b[0;34m:\u001b[0m\u001b[0;34m\u001b[0m\u001b[0;34m\u001b[0m\u001b[0m\n\u001b[0;32m--> 289\u001b[0;31m       \u001b[0mself\u001b[0m\u001b[0;34m.\u001b[0m\u001b[0m_call_batch_end_hook\u001b[0m\u001b[0;34m(\u001b[0m\u001b[0mmode\u001b[0m\u001b[0;34m,\u001b[0m \u001b[0mbatch\u001b[0m\u001b[0;34m,\u001b[0m \u001b[0mlogs\u001b[0m\u001b[0;34m)\u001b[0m\u001b[0;34m\u001b[0m\u001b[0;34m\u001b[0m\u001b[0m\n\u001b[0m\u001b[1;32m    290\u001b[0m     \u001b[0;32melse\u001b[0m\u001b[0;34m:\u001b[0m\u001b[0;34m\u001b[0m\u001b[0;34m\u001b[0m\u001b[0m\n\u001b[1;32m    291\u001b[0m       \u001b[0;32mraise\u001b[0m \u001b[0mValueError\u001b[0m\u001b[0;34m(\u001b[0m\u001b[0;34m'Unrecognized hook: {}'\u001b[0m\u001b[0;34m.\u001b[0m\u001b[0mformat\u001b[0m\u001b[0;34m(\u001b[0m\u001b[0mhook\u001b[0m\u001b[0;34m)\u001b[0m\u001b[0;34m)\u001b[0m\u001b[0;34m\u001b[0m\u001b[0;34m\u001b[0m\u001b[0m\n",
            "\u001b[0;32m/usr/local/lib/python3.6/dist-packages/tensorflow/python/keras/callbacks.py\u001b[0m in \u001b[0;36m_call_batch_end_hook\u001b[0;34m(self, mode, batch, logs)\u001b[0m\n\u001b[1;32m    307\u001b[0m       \u001b[0mbatch_time\u001b[0m \u001b[0;34m=\u001b[0m \u001b[0mtime\u001b[0m\u001b[0;34m.\u001b[0m\u001b[0mtime\u001b[0m\u001b[0;34m(\u001b[0m\u001b[0;34m)\u001b[0m \u001b[0;34m-\u001b[0m \u001b[0mself\u001b[0m\u001b[0;34m.\u001b[0m\u001b[0m_batch_start_time\u001b[0m\u001b[0;34m\u001b[0m\u001b[0;34m\u001b[0m\u001b[0m\n\u001b[1;32m    308\u001b[0m \u001b[0;34m\u001b[0m\u001b[0m\n\u001b[0;32m--> 309\u001b[0;31m     \u001b[0mself\u001b[0m\u001b[0;34m.\u001b[0m\u001b[0m_call_batch_hook_helper\u001b[0m\u001b[0;34m(\u001b[0m\u001b[0mhook_name\u001b[0m\u001b[0;34m,\u001b[0m \u001b[0mbatch\u001b[0m\u001b[0;34m,\u001b[0m \u001b[0mlogs\u001b[0m\u001b[0;34m)\u001b[0m\u001b[0;34m\u001b[0m\u001b[0;34m\u001b[0m\u001b[0m\n\u001b[0m\u001b[1;32m    310\u001b[0m \u001b[0;34m\u001b[0m\u001b[0m\n\u001b[1;32m    311\u001b[0m     \u001b[0;32mif\u001b[0m \u001b[0mself\u001b[0m\u001b[0;34m.\u001b[0m\u001b[0m_check_timing\u001b[0m\u001b[0;34m:\u001b[0m\u001b[0;34m\u001b[0m\u001b[0;34m\u001b[0m\u001b[0m\n",
            "\u001b[0;32m/usr/local/lib/python3.6/dist-packages/tensorflow/python/keras/callbacks.py\u001b[0m in \u001b[0;36m_call_batch_hook_helper\u001b[0;34m(self, hook_name, batch, logs)\u001b[0m\n\u001b[1;32m    340\u001b[0m       \u001b[0mhook\u001b[0m \u001b[0;34m=\u001b[0m \u001b[0mgetattr\u001b[0m\u001b[0;34m(\u001b[0m\u001b[0mcallback\u001b[0m\u001b[0;34m,\u001b[0m \u001b[0mhook_name\u001b[0m\u001b[0;34m)\u001b[0m\u001b[0;34m\u001b[0m\u001b[0;34m\u001b[0m\u001b[0m\n\u001b[1;32m    341\u001b[0m       \u001b[0;32mif\u001b[0m \u001b[0mgetattr\u001b[0m\u001b[0;34m(\u001b[0m\u001b[0mcallback\u001b[0m\u001b[0;34m,\u001b[0m \u001b[0;34m'_supports_tf_logs'\u001b[0m\u001b[0;34m,\u001b[0m \u001b[0;32mFalse\u001b[0m\u001b[0;34m)\u001b[0m\u001b[0;34m:\u001b[0m\u001b[0;34m\u001b[0m\u001b[0;34m\u001b[0m\u001b[0m\n\u001b[0;32m--> 342\u001b[0;31m         \u001b[0mhook\u001b[0m\u001b[0;34m(\u001b[0m\u001b[0mbatch\u001b[0m\u001b[0;34m,\u001b[0m \u001b[0mlogs\u001b[0m\u001b[0;34m)\u001b[0m\u001b[0;34m\u001b[0m\u001b[0;34m\u001b[0m\u001b[0m\n\u001b[0m\u001b[1;32m    343\u001b[0m       \u001b[0;32melse\u001b[0m\u001b[0;34m:\u001b[0m\u001b[0;34m\u001b[0m\u001b[0;34m\u001b[0m\u001b[0m\n\u001b[1;32m    344\u001b[0m         \u001b[0;32mif\u001b[0m \u001b[0mnumpy_logs\u001b[0m \u001b[0;32mis\u001b[0m \u001b[0;32mNone\u001b[0m\u001b[0;34m:\u001b[0m  \u001b[0;31m# Only convert once.\u001b[0m\u001b[0;34m\u001b[0m\u001b[0;34m\u001b[0m\u001b[0m\n",
            "\u001b[0;32m/usr/local/lib/python3.6/dist-packages/tensorflow/python/keras/callbacks.py\u001b[0m in \u001b[0;36mon_train_batch_end\u001b[0;34m(self, batch, logs)\u001b[0m\n\u001b[1;32m    959\u001b[0m \u001b[0;34m\u001b[0m\u001b[0m\n\u001b[1;32m    960\u001b[0m   \u001b[0;32mdef\u001b[0m \u001b[0mon_train_batch_end\u001b[0m\u001b[0;34m(\u001b[0m\u001b[0mself\u001b[0m\u001b[0;34m,\u001b[0m \u001b[0mbatch\u001b[0m\u001b[0;34m,\u001b[0m \u001b[0mlogs\u001b[0m\u001b[0;34m=\u001b[0m\u001b[0;32mNone\u001b[0m\u001b[0;34m)\u001b[0m\u001b[0;34m:\u001b[0m\u001b[0;34m\u001b[0m\u001b[0;34m\u001b[0m\u001b[0m\n\u001b[0;32m--> 961\u001b[0;31m     \u001b[0mself\u001b[0m\u001b[0;34m.\u001b[0m\u001b[0m_batch_update_progbar\u001b[0m\u001b[0;34m(\u001b[0m\u001b[0mbatch\u001b[0m\u001b[0;34m,\u001b[0m \u001b[0mlogs\u001b[0m\u001b[0;34m)\u001b[0m\u001b[0;34m\u001b[0m\u001b[0;34m\u001b[0m\u001b[0m\n\u001b[0m\u001b[1;32m    962\u001b[0m \u001b[0;34m\u001b[0m\u001b[0m\n\u001b[1;32m    963\u001b[0m   \u001b[0;32mdef\u001b[0m \u001b[0mon_test_batch_end\u001b[0m\u001b[0;34m(\u001b[0m\u001b[0mself\u001b[0m\u001b[0;34m,\u001b[0m \u001b[0mbatch\u001b[0m\u001b[0;34m,\u001b[0m \u001b[0mlogs\u001b[0m\u001b[0;34m=\u001b[0m\u001b[0;32mNone\u001b[0m\u001b[0;34m)\u001b[0m\u001b[0;34m:\u001b[0m\u001b[0;34m\u001b[0m\u001b[0;34m\u001b[0m\u001b[0m\n",
            "\u001b[0;32m/usr/local/lib/python3.6/dist-packages/tensorflow/python/keras/callbacks.py\u001b[0m in \u001b[0;36m_batch_update_progbar\u001b[0;34m(self, batch, logs)\u001b[0m\n\u001b[1;32m   1014\u001b[0m     \u001b[0;32mif\u001b[0m \u001b[0mself\u001b[0m\u001b[0;34m.\u001b[0m\u001b[0mverbose\u001b[0m \u001b[0;34m==\u001b[0m \u001b[0;36m1\u001b[0m\u001b[0;34m:\u001b[0m\u001b[0;34m\u001b[0m\u001b[0;34m\u001b[0m\u001b[0m\n\u001b[1;32m   1015\u001b[0m       \u001b[0;31m# Only block async when verbose = 1.\u001b[0m\u001b[0;34m\u001b[0m\u001b[0;34m\u001b[0m\u001b[0;34m\u001b[0m\u001b[0m\n\u001b[0;32m-> 1016\u001b[0;31m       \u001b[0mlogs\u001b[0m \u001b[0;34m=\u001b[0m \u001b[0mtf_utils\u001b[0m\u001b[0;34m.\u001b[0m\u001b[0mto_numpy_or_python_type\u001b[0m\u001b[0;34m(\u001b[0m\u001b[0mlogs\u001b[0m\u001b[0;34m)\u001b[0m\u001b[0;34m\u001b[0m\u001b[0;34m\u001b[0m\u001b[0m\n\u001b[0m\u001b[1;32m   1017\u001b[0m       \u001b[0mself\u001b[0m\u001b[0;34m.\u001b[0m\u001b[0mprogbar\u001b[0m\u001b[0;34m.\u001b[0m\u001b[0mupdate\u001b[0m\u001b[0;34m(\u001b[0m\u001b[0mself\u001b[0m\u001b[0;34m.\u001b[0m\u001b[0mseen\u001b[0m\u001b[0;34m,\u001b[0m \u001b[0mlist\u001b[0m\u001b[0;34m(\u001b[0m\u001b[0mlogs\u001b[0m\u001b[0;34m.\u001b[0m\u001b[0mitems\u001b[0m\u001b[0;34m(\u001b[0m\u001b[0;34m)\u001b[0m\u001b[0;34m)\u001b[0m\u001b[0;34m,\u001b[0m \u001b[0mfinalize\u001b[0m\u001b[0;34m=\u001b[0m\u001b[0;32mFalse\u001b[0m\u001b[0;34m)\u001b[0m\u001b[0;34m\u001b[0m\u001b[0;34m\u001b[0m\u001b[0m\n\u001b[1;32m   1018\u001b[0m \u001b[0;34m\u001b[0m\u001b[0m\n",
            "\u001b[0;32m/usr/local/lib/python3.6/dist-packages/tensorflow/python/keras/utils/tf_utils.py\u001b[0m in \u001b[0;36mto_numpy_or_python_type\u001b[0;34m(tensors)\u001b[0m\n\u001b[1;32m    535\u001b[0m     \u001b[0;32mreturn\u001b[0m \u001b[0mt\u001b[0m  \u001b[0;31m# Don't turn ragged or sparse tensors to NumPy.\u001b[0m\u001b[0;34m\u001b[0m\u001b[0;34m\u001b[0m\u001b[0m\n\u001b[1;32m    536\u001b[0m \u001b[0;34m\u001b[0m\u001b[0m\n\u001b[0;32m--> 537\u001b[0;31m   \u001b[0;32mreturn\u001b[0m \u001b[0mnest\u001b[0m\u001b[0;34m.\u001b[0m\u001b[0mmap_structure\u001b[0m\u001b[0;34m(\u001b[0m\u001b[0m_to_single_numpy_or_python_type\u001b[0m\u001b[0;34m,\u001b[0m \u001b[0mtensors\u001b[0m\u001b[0;34m)\u001b[0m\u001b[0;34m\u001b[0m\u001b[0;34m\u001b[0m\u001b[0m\n\u001b[0m\u001b[1;32m    538\u001b[0m \u001b[0;34m\u001b[0m\u001b[0m\n\u001b[1;32m    539\u001b[0m \u001b[0;34m\u001b[0m\u001b[0m\n",
            "\u001b[0;32m/usr/local/lib/python3.6/dist-packages/tensorflow/python/util/nest.py\u001b[0m in \u001b[0;36mmap_structure\u001b[0;34m(func, *structure, **kwargs)\u001b[0m\n\u001b[1;32m    633\u001b[0m \u001b[0;34m\u001b[0m\u001b[0m\n\u001b[1;32m    634\u001b[0m   return pack_sequence_as(\n\u001b[0;32m--> 635\u001b[0;31m       \u001b[0mstructure\u001b[0m\u001b[0;34m[\u001b[0m\u001b[0;36m0\u001b[0m\u001b[0;34m]\u001b[0m\u001b[0;34m,\u001b[0m \u001b[0;34m[\u001b[0m\u001b[0mfunc\u001b[0m\u001b[0;34m(\u001b[0m\u001b[0;34m*\u001b[0m\u001b[0mx\u001b[0m\u001b[0;34m)\u001b[0m \u001b[0;32mfor\u001b[0m \u001b[0mx\u001b[0m \u001b[0;32min\u001b[0m \u001b[0mentries\u001b[0m\u001b[0;34m]\u001b[0m\u001b[0;34m,\u001b[0m\u001b[0;34m\u001b[0m\u001b[0;34m\u001b[0m\u001b[0m\n\u001b[0m\u001b[1;32m    636\u001b[0m       expand_composites=expand_composites)\n\u001b[1;32m    637\u001b[0m \u001b[0;34m\u001b[0m\u001b[0m\n",
            "\u001b[0;32m/usr/local/lib/python3.6/dist-packages/tensorflow/python/util/nest.py\u001b[0m in \u001b[0;36m<listcomp>\u001b[0;34m(.0)\u001b[0m\n\u001b[1;32m    633\u001b[0m \u001b[0;34m\u001b[0m\u001b[0m\n\u001b[1;32m    634\u001b[0m   return pack_sequence_as(\n\u001b[0;32m--> 635\u001b[0;31m       \u001b[0mstructure\u001b[0m\u001b[0;34m[\u001b[0m\u001b[0;36m0\u001b[0m\u001b[0;34m]\u001b[0m\u001b[0;34m,\u001b[0m \u001b[0;34m[\u001b[0m\u001b[0mfunc\u001b[0m\u001b[0;34m(\u001b[0m\u001b[0;34m*\u001b[0m\u001b[0mx\u001b[0m\u001b[0;34m)\u001b[0m \u001b[0;32mfor\u001b[0m \u001b[0mx\u001b[0m \u001b[0;32min\u001b[0m \u001b[0mentries\u001b[0m\u001b[0;34m]\u001b[0m\u001b[0;34m,\u001b[0m\u001b[0;34m\u001b[0m\u001b[0;34m\u001b[0m\u001b[0m\n\u001b[0m\u001b[1;32m    636\u001b[0m       expand_composites=expand_composites)\n\u001b[1;32m    637\u001b[0m \u001b[0;34m\u001b[0m\u001b[0m\n",
            "\u001b[0;32m/usr/local/lib/python3.6/dist-packages/tensorflow/python/keras/utils/tf_utils.py\u001b[0m in \u001b[0;36m_to_single_numpy_or_python_type\u001b[0;34m(t)\u001b[0m\n\u001b[1;32m    531\u001b[0m   \u001b[0;32mdef\u001b[0m \u001b[0m_to_single_numpy_or_python_type\u001b[0m\u001b[0;34m(\u001b[0m\u001b[0mt\u001b[0m\u001b[0;34m)\u001b[0m\u001b[0;34m:\u001b[0m\u001b[0;34m\u001b[0m\u001b[0;34m\u001b[0m\u001b[0m\n\u001b[1;32m    532\u001b[0m     \u001b[0;32mif\u001b[0m \u001b[0misinstance\u001b[0m\u001b[0;34m(\u001b[0m\u001b[0mt\u001b[0m\u001b[0;34m,\u001b[0m \u001b[0mops\u001b[0m\u001b[0;34m.\u001b[0m\u001b[0mTensor\u001b[0m\u001b[0;34m)\u001b[0m\u001b[0;34m:\u001b[0m\u001b[0;34m\u001b[0m\u001b[0;34m\u001b[0m\u001b[0m\n\u001b[0;32m--> 533\u001b[0;31m       \u001b[0mx\u001b[0m \u001b[0;34m=\u001b[0m \u001b[0mt\u001b[0m\u001b[0;34m.\u001b[0m\u001b[0mnumpy\u001b[0m\u001b[0;34m(\u001b[0m\u001b[0;34m)\u001b[0m\u001b[0;34m\u001b[0m\u001b[0;34m\u001b[0m\u001b[0m\n\u001b[0m\u001b[1;32m    534\u001b[0m       \u001b[0;32mreturn\u001b[0m \u001b[0mx\u001b[0m\u001b[0;34m.\u001b[0m\u001b[0mitem\u001b[0m\u001b[0;34m(\u001b[0m\u001b[0;34m)\u001b[0m \u001b[0;32mif\u001b[0m \u001b[0mnp\u001b[0m\u001b[0;34m.\u001b[0m\u001b[0mndim\u001b[0m\u001b[0;34m(\u001b[0m\u001b[0mx\u001b[0m\u001b[0;34m)\u001b[0m \u001b[0;34m==\u001b[0m \u001b[0;36m0\u001b[0m \u001b[0;32melse\u001b[0m \u001b[0mx\u001b[0m\u001b[0;34m\u001b[0m\u001b[0;34m\u001b[0m\u001b[0m\n\u001b[1;32m    535\u001b[0m     \u001b[0;32mreturn\u001b[0m \u001b[0mt\u001b[0m  \u001b[0;31m# Don't turn ragged or sparse tensors to NumPy.\u001b[0m\u001b[0;34m\u001b[0m\u001b[0;34m\u001b[0m\u001b[0m\n",
            "\u001b[0;32m/usr/local/lib/python3.6/dist-packages/tensorflow/python/framework/ops.py\u001b[0m in \u001b[0;36mnumpy\u001b[0;34m(self)\u001b[0m\n\u001b[1;32m   1061\u001b[0m     \"\"\"\n\u001b[1;32m   1062\u001b[0m     \u001b[0;31m# TODO(slebedev): Consider avoiding a copy for non-CPU or remote tensors.\u001b[0m\u001b[0;34m\u001b[0m\u001b[0;34m\u001b[0m\u001b[0;34m\u001b[0m\u001b[0m\n\u001b[0;32m-> 1063\u001b[0;31m     \u001b[0mmaybe_arr\u001b[0m \u001b[0;34m=\u001b[0m \u001b[0mself\u001b[0m\u001b[0;34m.\u001b[0m\u001b[0m_numpy\u001b[0m\u001b[0;34m(\u001b[0m\u001b[0;34m)\u001b[0m  \u001b[0;31m# pylint: disable=protected-access\u001b[0m\u001b[0;34m\u001b[0m\u001b[0;34m\u001b[0m\u001b[0m\n\u001b[0m\u001b[1;32m   1064\u001b[0m     \u001b[0;32mreturn\u001b[0m \u001b[0mmaybe_arr\u001b[0m\u001b[0;34m.\u001b[0m\u001b[0mcopy\u001b[0m\u001b[0;34m(\u001b[0m\u001b[0;34m)\u001b[0m \u001b[0;32mif\u001b[0m \u001b[0misinstance\u001b[0m\u001b[0;34m(\u001b[0m\u001b[0mmaybe_arr\u001b[0m\u001b[0;34m,\u001b[0m \u001b[0mnp\u001b[0m\u001b[0;34m.\u001b[0m\u001b[0mndarray\u001b[0m\u001b[0;34m)\u001b[0m \u001b[0;32melse\u001b[0m \u001b[0mmaybe_arr\u001b[0m\u001b[0;34m\u001b[0m\u001b[0;34m\u001b[0m\u001b[0m\n\u001b[1;32m   1065\u001b[0m \u001b[0;34m\u001b[0m\u001b[0m\n",
            "\u001b[0;32m/usr/local/lib/python3.6/dist-packages/tensorflow/python/framework/ops.py\u001b[0m in \u001b[0;36m_numpy\u001b[0;34m(self)\u001b[0m\n\u001b[1;32m   1027\u001b[0m   \u001b[0;32mdef\u001b[0m \u001b[0m_numpy\u001b[0m\u001b[0;34m(\u001b[0m\u001b[0mself\u001b[0m\u001b[0;34m)\u001b[0m\u001b[0;34m:\u001b[0m\u001b[0;34m\u001b[0m\u001b[0;34m\u001b[0m\u001b[0m\n\u001b[1;32m   1028\u001b[0m     \u001b[0;32mtry\u001b[0m\u001b[0;34m:\u001b[0m\u001b[0;34m\u001b[0m\u001b[0;34m\u001b[0m\u001b[0m\n\u001b[0;32m-> 1029\u001b[0;31m       \u001b[0;32mreturn\u001b[0m \u001b[0mself\u001b[0m\u001b[0;34m.\u001b[0m\u001b[0m_numpy_internal\u001b[0m\u001b[0;34m(\u001b[0m\u001b[0;34m)\u001b[0m\u001b[0;34m\u001b[0m\u001b[0;34m\u001b[0m\u001b[0m\n\u001b[0m\u001b[1;32m   1030\u001b[0m     \u001b[0;32mexcept\u001b[0m \u001b[0mcore\u001b[0m\u001b[0;34m.\u001b[0m\u001b[0m_NotOkStatusException\u001b[0m \u001b[0;32mas\u001b[0m \u001b[0me\u001b[0m\u001b[0;34m:\u001b[0m  \u001b[0;31m# pylint: disable=protected-access\u001b[0m\u001b[0;34m\u001b[0m\u001b[0;34m\u001b[0m\u001b[0m\n\u001b[1;32m   1031\u001b[0m       \u001b[0msix\u001b[0m\u001b[0;34m.\u001b[0m\u001b[0mraise_from\u001b[0m\u001b[0;34m(\u001b[0m\u001b[0mcore\u001b[0m\u001b[0;34m.\u001b[0m\u001b[0m_status_to_exception\u001b[0m\u001b[0;34m(\u001b[0m\u001b[0me\u001b[0m\u001b[0;34m.\u001b[0m\u001b[0mcode\u001b[0m\u001b[0;34m,\u001b[0m \u001b[0me\u001b[0m\u001b[0;34m.\u001b[0m\u001b[0mmessage\u001b[0m\u001b[0;34m)\u001b[0m\u001b[0;34m,\u001b[0m \u001b[0;32mNone\u001b[0m\u001b[0;34m)\u001b[0m  \u001b[0;31m# pylint: disable=protected-access\u001b[0m\u001b[0;34m\u001b[0m\u001b[0;34m\u001b[0m\u001b[0m\n",
            "\u001b[0;31mKeyboardInterrupt\u001b[0m: "
          ]
        }
      ]
    },
    {
      "cell_type": "code",
      "metadata": {
        "id": "R_roLsUPGRGz",
        "colab": {
          "base_uri": "https://localhost:8080/"
        },
        "outputId": "e6f63876-1e35-4fb5-f68c-17634edd2bf3"
      },
      "source": [
        "loss, accuracy, f1_score, precision, recall = glove_model_feature2.evaluate(X_val_df, val_Y, verbose=0)\n",
        "print(loss, accuracy, f1_score, precision, recall)"
      ],
      "execution_count": 88,
      "outputs": [
        {
          "output_type": "stream",
          "text": [
            "3.5617892742156982 0.5342670679092407 0.534708559513092 0.5361977815628052 0.5332764387130737\n"
          ],
          "name": "stdout"
        }
      ]
    },
    {
      "cell_type": "code",
      "metadata": {
        "id": "D8hLL2sJj-t9",
        "colab": {
          "base_uri": "https://localhost:8080/",
          "height": 573
        },
        "outputId": "996dc775-3044-4852-d843-74081dbc7d1e"
      },
      "source": [
        "# plot history\n",
        "# Plot training & validation accuracy values\n",
        "import matplotlib.pyplot as plt \n",
        "plt.plot(history.history['accuracy'])\n",
        "plt.plot(history.history['val_accuracy'])\n",
        "plt.title('Model accuracy')\n",
        "plt.ylabel('Accuracy')\n",
        "plt.xlabel('Epoch')\n",
        "plt.legend(['Train', 'Val'], loc='upper left')\n",
        "plt.show()\n",
        "\n",
        "# Plot training & validation loss values\n",
        "plt.plot(history.history['loss'])\n",
        "plt.plot(history.history['val_loss'])\n",
        "plt.title('Model loss')\n",
        "plt.ylabel('Loss')\n",
        "plt.xlabel('Epoch')\n",
        "plt.legend(['Train', 'Val'], loc='upper left')\n",
        "plt.show()"
      ],
      "execution_count": 76,
      "outputs": [
        {
          "output_type": "display_data",
          "data": {
            "image/png": "[encoded data removed]",
            "text/plain": [
              "<Figure size 432x288 with 1 Axes>"
            ]
          },
          "metadata": {
            "tags": [],
            "needs_background": "light"
          }
        },
        {
          "output_type": "display_data",
          "data": {
            "image/png": "[encoded data removed]",
            "text/plain": [
              "<Figure size 432x288 with 1 Axes>"
            ]
          },
          "metadata": {
            "tags": [],
            "needs_background": "light"
          }
        }
      ]
    },
    {
      "cell_type": "markdown",
      "metadata": {
        "id": "c9SQF26KPMJ7"
      },
      "source": [
        "**Architecture 2**"
      ]
    },
    {
      "cell_type": "code",
      "metadata": {
        "id": "VDANXKVKPTFu"
      },
      "source": [
        "glove_model2 = models.Sequential()\n",
        "glove_model2.add(layers.Embedding(vocab_size,\n",
        "                            glove_dim,\n",
        "                            weights=[embedding_matrix],\n",
        "                            input_length=max_len,\n",
        "                            trainable=False))\n",
        "#glove_model.add(layers.LSTM(64))\n",
        "glove_model2.add(LSTM(128,return_sequences=True))\n",
        "glove_model2.add(layers.Dropout(0.3))\n",
        "glove_model2.add(LSTM(64,return_sequences=True))\n",
        "glove_model2.add(layers.Dropout(0.3))\n",
        "glove_model2.add(LSTM(32,return_sequences=False))\n",
        "glove_model2.add(layers.Dropout(0.3))\n",
        "glove_model2.add(layers.Dense(10,activation=\"relu\"))\n",
        "#glove_model2.add(layers.Dense(10,activation=\"relu\"))\n",
        "#glove_model.add(layers.Dropout(0.2))\n",
        "glove_model2.add(Dense(3, activation='softmax'))\n",
        "glove_model2.summary()"
      ],
      "execution_count": null,
      "outputs": []
    },
    {
      "cell_type": "code",
      "metadata": {
        "colab": {
          "background_save": true
        },
        "id": "cwy_qD-yPZWm",
        "outputId": "b690f3ae-a3e0-4d09-adc5-c848220e92a5"
      },
      "source": [
        "glove_model2.compile(loss='categorical_crossentropy', optimizer='adam', metrics=['accuracy',f1_m,precision_m, recall_m])\n",
        "\n",
        "from tensorflow.keras.callbacks import EarlyStopping\n",
        "\n",
        "history = glove_model2.fit(train_X_tokenized, \n",
        "                    train_Y, \n",
        "                    batch_size=100, \n",
        "                    epochs=100, \n",
        "                    validation_data=(val_X_tokenized, val_Y)\n",
        "                   \n",
        "                    )"
      ],
      "execution_count": null,
      "outputs": [
        {
          "output_type": "stream",
          "text": [
            "Epoch 1/100\n",
            "375/375 [==============================] - 14s 36ms/step - loss: 0.9988 - accuracy: 0.4820 - f1_m: 0.2846 - precision_m: 0.5836 - recall_m: 0.1940 - val_loss: 0.9452 - val_accuracy: 0.5168 - val_f1_m: 0.4199 - val_precision_m: 0.6388 - val_recall_m: 0.3138\n",
            "Epoch 2/100\n",
            "375/375 [==============================] - 13s 34ms/step - loss: 0.9369 - accuracy: 0.5309 - f1_m: 0.3959 - precision_m: 0.6771 - recall_m: 0.2837 - val_loss: 0.9140 - val_accuracy: 0.5396 - val_f1_m: 0.4280 - val_precision_m: 0.6814 - val_recall_m: 0.3131\n",
            "Epoch 3/100\n",
            "375/375 [==============================] - 13s 34ms/step - loss: 0.8959 - accuracy: 0.5610 - f1_m: 0.4460 - precision_m: 0.6845 - recall_m: 0.3328 - val_loss: 0.8945 - val_accuracy: 0.5575 - val_f1_m: 0.4346 - val_precision_m: 0.7063 - val_recall_m: 0.3151\n",
            "Epoch 4/100\n",
            "375/375 [==============================] - 13s 34ms/step - loss: 0.8586 - accuracy: 0.5852 - f1_m: 0.4927 - precision_m: 0.6988 - recall_m: 0.3827 - val_loss: 0.8998 - val_accuracy: 0.5565 - val_f1_m: 0.4993 - val_precision_m: 0.6401 - val_recall_m: 0.4101\n",
            "Epoch 5/100\n",
            "375/375 [==============================] - 12s 33ms/step - loss: 0.8171 - accuracy: 0.6108 - f1_m: 0.5431 - precision_m: 0.7030 - recall_m: 0.4445 - val_loss: 0.8806 - val_accuracy: 0.5740 - val_f1_m: 0.5106 - val_precision_m: 0.6463 - val_recall_m: 0.4229\n",
            "Epoch 6/100\n",
            "375/375 [==============================] - 13s 33ms/step - loss: 0.7731 - accuracy: 0.6367 - f1_m: 0.5876 - precision_m: 0.7098 - recall_m: 0.5027 - val_loss: 0.8846 - val_accuracy: 0.5738 - val_f1_m: 0.5129 - val_precision_m: 0.6473 - val_recall_m: 0.4260\n",
            "Epoch 7/100\n",
            "375/375 [==============================] - 13s 33ms/step - loss: 0.7256 - accuracy: 0.6656 - f1_m: 0.6338 - precision_m: 0.7231 - recall_m: 0.5651 - val_loss: 0.9076 - val_accuracy: 0.5800 - val_f1_m: 0.5463 - val_precision_m: 0.6291 - val_recall_m: 0.4835\n",
            "Epoch 8/100\n",
            "375/375 [==============================] - 13s 34ms/step - loss: 0.6727 - accuracy: 0.6967 - f1_m: 0.6746 - precision_m: 0.7388 - recall_m: 0.6215 - val_loss: 0.9294 - val_accuracy: 0.5721 - val_f1_m: 0.5467 - val_precision_m: 0.6089 - val_recall_m: 0.4966\n",
            "Epoch 9/100\n",
            "375/375 [==============================] - 13s 33ms/step - loss: 0.6248 - accuracy: 0.7219 - f1_m: 0.7098 - precision_m: 0.7612 - recall_m: 0.6655 - val_loss: 0.9787 - val_accuracy: 0.5768 - val_f1_m: 0.5624 - val_precision_m: 0.6000 - val_recall_m: 0.5297\n",
            "Epoch 10/100\n",
            "375/375 [==============================] - 13s 33ms/step - loss: 0.5650 - accuracy: 0.7556 - f1_m: 0.7481 - precision_m: 0.7820 - recall_m: 0.7174 - val_loss: 1.0559 - val_accuracy: 0.5799 - val_f1_m: 0.5694 - val_precision_m: 0.6024 - val_recall_m: 0.5402\n",
            "Epoch 11/100\n",
            "375/375 [==============================] - 13s 34ms/step - loss: 0.5148 - accuracy: 0.7799 - f1_m: 0.7757 - precision_m: 0.8027 - recall_m: 0.7507 - val_loss: 1.0510 - val_accuracy: 0.5756 - val_f1_m: 0.5675 - val_precision_m: 0.5969 - val_recall_m: 0.5412\n",
            "Epoch 12/100\n",
            "375/375 [==============================] - 13s 33ms/step - loss: 0.4594 - accuracy: 0.8084 - f1_m: 0.8059 - precision_m: 0.8258 - recall_m: 0.7872 - val_loss: 1.1274 - val_accuracy: 0.5893 - val_f1_m: 0.5809 - val_precision_m: 0.6046 - val_recall_m: 0.5591\n",
            "Epoch 13/100\n",
            "375/375 [==============================] - 13s 34ms/step - loss: 0.4170 - accuracy: 0.8304 - f1_m: 0.8282 - precision_m: 0.8438 - recall_m: 0.8133 - val_loss: 1.1771 - val_accuracy: 0.5936 - val_f1_m: 0.5845 - val_precision_m: 0.6080 - val_recall_m: 0.5630\n",
            "Epoch 14/100\n",
            "375/375 [==============================] - 13s 34ms/step - loss: 0.3755 - accuracy: 0.8481 - f1_m: 0.8477 - precision_m: 0.8608 - recall_m: 0.8351 - val_loss: 1.2845 - val_accuracy: 0.5907 - val_f1_m: 0.5882 - val_precision_m: 0.6002 - val_recall_m: 0.5768\n",
            "Epoch 15/100\n",
            "375/375 [==============================] - 13s 34ms/step - loss: 0.3366 - accuracy: 0.8668 - f1_m: 0.8653 - precision_m: 0.8758 - recall_m: 0.8551 - val_loss: 1.2768 - val_accuracy: 0.5942 - val_f1_m: 0.5891 - val_precision_m: 0.6057 - val_recall_m: 0.5736\n",
            "Epoch 16/100\n",
            "375/375 [==============================] - 13s 34ms/step - loss: 0.3105 - accuracy: 0.8786 - f1_m: 0.8782 - precision_m: 0.8868 - recall_m: 0.8697 - val_loss: 1.4009 - val_accuracy: 0.5872 - val_f1_m: 0.5863 - val_precision_m: 0.5948 - val_recall_m: 0.5780\n",
            "Epoch 17/100\n",
            "375/375 [==============================] - 13s 34ms/step - loss: 0.2897 - accuracy: 0.8885 - f1_m: 0.8879 - precision_m: 0.8950 - recall_m: 0.8810 - val_loss: 1.4540 - val_accuracy: 0.5965 - val_f1_m: 0.5952 - val_precision_m: 0.6033 - val_recall_m: 0.5874\n",
            "Epoch 18/100\n",
            "375/375 [==============================] - 13s 34ms/step - loss: 0.2535 - accuracy: 0.9042 - f1_m: 0.9042 - precision_m: 0.9101 - recall_m: 0.8984 - val_loss: 1.5786 - val_accuracy: 0.5960 - val_f1_m: 0.5946 - val_precision_m: 0.5998 - val_recall_m: 0.5896\n",
            "Epoch 19/100\n",
            "375/375 [==============================] - 13s 34ms/step - loss: 0.2278 - accuracy: 0.9149 - f1_m: 0.9149 - precision_m: 0.9192 - recall_m: 0.9107 - val_loss: 1.6525 - val_accuracy: 0.5942 - val_f1_m: 0.5937 - val_precision_m: 0.5988 - val_recall_m: 0.5887\n",
            "Epoch 20/100\n",
            "375/375 [==============================] - 13s 34ms/step - loss: 0.2128 - accuracy: 0.9217 - f1_m: 0.9218 - precision_m: 0.9259 - recall_m: 0.9178 - val_loss: 1.7364 - val_accuracy: 0.5928 - val_f1_m: 0.5919 - val_precision_m: 0.5950 - val_recall_m: 0.5889\n",
            "Epoch 21/100\n",
            "375/375 [==============================] - 13s 34ms/step - loss: 0.5475 - accuracy: 0.7854 - f1_m: 0.7509 - precision_m: 0.8284 - recall_m: 0.7167 - val_loss: 1.1286 - val_accuracy: 0.5947 - val_f1_m: 0.5903 - val_precision_m: 0.6032 - val_recall_m: 0.5782\n",
            "Epoch 22/100\n",
            "375/375 [==============================] - 13s 34ms/step - loss: 0.2980 - accuracy: 0.8915 - f1_m: 0.8904 - precision_m: 0.8967 - recall_m: 0.8842 - val_loss: 1.3430 - val_accuracy: 0.5945 - val_f1_m: 0.5924 - val_precision_m: 0.5981 - val_recall_m: 0.5870\n",
            "Epoch 23/100\n",
            "375/375 [==============================] - 13s 35ms/step - loss: 0.3114 - accuracy: 0.8829 - f1_m: 0.8810 - precision_m: 0.8911 - recall_m: 0.8716 - val_loss: 1.2862 - val_accuracy: 0.5914 - val_f1_m: 0.5903 - val_precision_m: 0.5984 - val_recall_m: 0.5825\n",
            "Epoch 24/100\n",
            "375/375 [==============================] - 13s 34ms/step - loss: 0.2339 - accuracy: 0.9113 - f1_m: 0.9118 - precision_m: 0.9169 - recall_m: 0.9068 - val_loss: 1.5396 - val_accuracy: 0.5935 - val_f1_m: 0.5933 - val_precision_m: 0.5973 - val_recall_m: 0.5894\n",
            "Epoch 25/100\n",
            "375/375 [==============================] - 13s 34ms/step - loss: 0.1732 - accuracy: 0.9363 - f1_m: 0.9361 - precision_m: 0.9392 - recall_m: 0.9331 - val_loss: 1.7288 - val_accuracy: 0.5962 - val_f1_m: 0.5963 - val_precision_m: 0.6006 - val_recall_m: 0.5920\n",
            "Epoch 26/100\n",
            "375/375 [==============================] - 13s 34ms/step - loss: 0.1630 - accuracy: 0.9408 - f1_m: 0.9407 - precision_m: 0.9432 - recall_m: 0.9384 - val_loss: 1.7469 - val_accuracy: 0.5952 - val_f1_m: 0.5936 - val_precision_m: 0.5970 - val_recall_m: 0.5904\n",
            "Epoch 27/100\n",
            "375/375 [==============================] - 13s 34ms/step - loss: 0.1468 - accuracy: 0.9479 - f1_m: 0.9477 - precision_m: 0.9502 - recall_m: 0.9453 - val_loss: 1.8423 - val_accuracy: 0.6047 - val_f1_m: 0.6039 - val_precision_m: 0.6067 - val_recall_m: 0.6012\n",
            "Epoch 28/100\n",
            "375/375 [==============================] - 13s 35ms/step - loss: 0.1386 - accuracy: 0.9510 - f1_m: 0.9512 - precision_m: 0.9530 - recall_m: 0.9495 - val_loss: 1.8329 - val_accuracy: 0.6024 - val_f1_m: 0.6019 - val_precision_m: 0.6039 - val_recall_m: 0.5999\n",
            "Epoch 29/100\n",
            "375/375 [==============================] - 13s 34ms/step - loss: 0.1287 - accuracy: 0.9543 - f1_m: 0.9546 - precision_m: 0.9561 - recall_m: 0.9530 - val_loss: 1.9381 - val_accuracy: 0.6067 - val_f1_m: 0.6068 - val_precision_m: 0.6085 - val_recall_m: 0.6051\n",
            "Epoch 30/100\n",
            "375/375 [==============================] - 13s 34ms/step - loss: 0.1215 - accuracy: 0.9575 - f1_m: 0.9575 - precision_m: 0.9589 - recall_m: 0.9561 - val_loss: 1.9794 - val_accuracy: 0.6030 - val_f1_m: 0.6034 - val_precision_m: 0.6048 - val_recall_m: 0.6020\n",
            "Epoch 31/100\n",
            "375/375 [==============================] - 13s 34ms/step - loss: 0.1163 - accuracy: 0.9593 - f1_m: 0.9593 - precision_m: 0.9605 - recall_m: 0.9581 - val_loss: 2.1311 - val_accuracy: 0.5966 - val_f1_m: 0.5962 - val_precision_m: 0.5977 - val_recall_m: 0.5948\n",
            "Epoch 32/100\n",
            "375/375 [==============================] - 13s 34ms/step - loss: 0.1096 - accuracy: 0.9622 - f1_m: 0.9624 - precision_m: 0.9637 - recall_m: 0.9612 - val_loss: 2.1263 - val_accuracy: 0.5988 - val_f1_m: 0.5992 - val_precision_m: 0.6007 - val_recall_m: 0.5978\n",
            "Epoch 33/100\n",
            "375/375 [==============================] - 13s 34ms/step - loss: 0.1087 - accuracy: 0.9628 - f1_m: 0.9627 - precision_m: 0.9639 - recall_m: 0.9615 - val_loss: 2.1244 - val_accuracy: 0.6074 - val_f1_m: 0.6075 - val_precision_m: 0.6087 - val_recall_m: 0.6063\n",
            "Epoch 34/100\n",
            "375/375 [==============================] - 13s 34ms/step - loss: 0.1067 - accuracy: 0.9625 - f1_m: 0.9625 - precision_m: 0.9632 - recall_m: 0.9618 - val_loss: 2.1871 - val_accuracy: 0.6021 - val_f1_m: 0.6017 - val_precision_m: 0.6027 - val_recall_m: 0.6008\n",
            "Epoch 35/100\n",
            "375/375 [==============================] - 13s 34ms/step - loss: 0.1041 - accuracy: 0.9640 - f1_m: 0.9641 - precision_m: 0.9651 - recall_m: 0.9632 - val_loss: 2.1268 - val_accuracy: 0.5992 - val_f1_m: 0.5993 - val_precision_m: 0.5998 - val_recall_m: 0.5987\n",
            "Epoch 36/100\n",
            "375/375 [==============================] - 13s 34ms/step - loss: 0.0992 - accuracy: 0.9666 - f1_m: 0.9659 - precision_m: 0.9666 - recall_m: 0.9652 - val_loss: 2.2011 - val_accuracy: 0.6021 - val_f1_m: 0.6023 - val_precision_m: 0.6027 - val_recall_m: 0.6019\n",
            "Epoch 37/100\n",
            "375/375 [==============================] - 13s 34ms/step - loss: 0.0934 - accuracy: 0.9695 - f1_m: 0.9695 - precision_m: 0.9702 - recall_m: 0.9688 - val_loss: 2.2237 - val_accuracy: 0.6044 - val_f1_m: 0.6041 - val_precision_m: 0.6051 - val_recall_m: 0.6031\n",
            "Epoch 38/100\n",
            "375/375 [==============================] - 13s 34ms/step - loss: 0.0964 - accuracy: 0.9666 - f1_m: 0.9663 - precision_m: 0.9670 - recall_m: 0.9656 - val_loss: 2.2226 - val_accuracy: 0.6092 - val_f1_m: 0.6090 - val_precision_m: 0.6101 - val_recall_m: 0.6080\n",
            "Epoch 39/100\n",
            "375/375 [==============================] - 13s 34ms/step - loss: 0.0955 - accuracy: 0.9673 - f1_m: 0.9671 - precision_m: 0.9678 - recall_m: 0.9665 - val_loss: 2.2292 - val_accuracy: 0.6099 - val_f1_m: 0.6101 - val_precision_m: 0.6111 - val_recall_m: 0.6090\n",
            "Epoch 40/100\n",
            "375/375 [==============================] - 13s 34ms/step - loss: 0.0878 - accuracy: 0.9704 - f1_m: 0.9702 - precision_m: 0.9707 - recall_m: 0.9697 - val_loss: 2.1673 - val_accuracy: 0.6031 - val_f1_m: 0.6035 - val_precision_m: 0.6045 - val_recall_m: 0.6026\n",
            "Epoch 41/100\n",
            "375/375 [==============================] - 13s 34ms/step - loss: 0.0895 - accuracy: 0.9698 - f1_m: 0.9698 - precision_m: 0.9704 - recall_m: 0.9693 - val_loss: 2.3543 - val_accuracy: 0.6042 - val_f1_m: 0.6045 - val_precision_m: 0.6055 - val_recall_m: 0.6036\n",
            "Epoch 42/100\n",
            "375/375 [==============================] - 13s 34ms/step - loss: 0.0839 - accuracy: 0.9717 - f1_m: 0.9718 - precision_m: 0.9723 - recall_m: 0.9713 - val_loss: 2.3364 - val_accuracy: 0.6025 - val_f1_m: 0.6023 - val_precision_m: 0.6030 - val_recall_m: 0.6016\n",
            "Epoch 43/100\n",
            "375/375 [==============================] - 13s 34ms/step - loss: 0.0744 - accuracy: 0.9758 - f1_m: 0.9759 - precision_m: 0.9762 - recall_m: 0.9755 - val_loss: 2.4077 - val_accuracy: 0.5994 - val_f1_m: 0.5994 - val_precision_m: 0.5999 - val_recall_m: 0.5990\n",
            "Epoch 44/100\n",
            "375/375 [==============================] - 13s 34ms/step - loss: 0.0810 - accuracy: 0.9731 - f1_m: 0.9732 - precision_m: 0.9737 - recall_m: 0.9727 - val_loss: 2.2892 - val_accuracy: 0.6062 - val_f1_m: 0.6066 - val_precision_m: 0.6074 - val_recall_m: 0.6058\n",
            "Epoch 45/100\n",
            "375/375 [==============================] - 13s 34ms/step - loss: 0.1005 - accuracy: 0.9665 - f1_m: 0.9665 - precision_m: 0.9670 - recall_m: 0.9660 - val_loss: 1.7893 - val_accuracy: 0.6011 - val_f1_m: 0.6014 - val_precision_m: 0.6026 - val_recall_m: 0.6001\n",
            "Epoch 46/100\n",
            "375/375 [==============================] - 13s 34ms/step - loss: 0.0990 - accuracy: 0.9661 - f1_m: 0.9664 - precision_m: 0.9671 - recall_m: 0.9656 - val_loss: 2.1181 - val_accuracy: 0.6103 - val_f1_m: 0.6098 - val_precision_m: 0.6104 - val_recall_m: 0.6091\n",
            "Epoch 47/100\n",
            "375/375 [==============================] - 13s 34ms/step - loss: 0.0727 - accuracy: 0.9759 - f1_m: 0.9762 - precision_m: 0.9767 - recall_m: 0.9756 - val_loss: 2.3573 - val_accuracy: 0.6040 - val_f1_m: 0.6039 - val_precision_m: 0.6044 - val_recall_m: 0.6033\n",
            "Epoch 48/100\n",
            "375/375 [==============================] - 13s 34ms/step - loss: 0.0730 - accuracy: 0.9757 - f1_m: 0.9757 - precision_m: 0.9762 - recall_m: 0.9752 - val_loss: 2.3168 - val_accuracy: 0.6062 - val_f1_m: 0.6059 - val_precision_m: 0.6066 - val_recall_m: 0.6051\n",
            "Epoch 49/100\n",
            "375/375 [==============================] - 13s 34ms/step - loss: 0.0679 - accuracy: 0.9774 - f1_m: 0.9774 - precision_m: 0.9778 - recall_m: 0.9771 - val_loss: 2.3482 - val_accuracy: 0.6078 - val_f1_m: 0.6079 - val_precision_m: 0.6082 - val_recall_m: 0.6075\n",
            "Epoch 50/100\n",
            "375/375 [==============================] - 13s 34ms/step - loss: 0.0641 - accuracy: 0.9788 - f1_m: 0.9788 - precision_m: 0.9791 - recall_m: 0.9785 - val_loss: 2.4472 - val_accuracy: 0.6078 - val_f1_m: 0.6078 - val_precision_m: 0.6085 - val_recall_m: 0.6070\n",
            "Epoch 51/100\n",
            "375/375 [==============================] - 13s 34ms/step - loss: 0.0650 - accuracy: 0.9788 - f1_m: 0.9786 - precision_m: 0.9790 - recall_m: 0.9783 - val_loss: 2.4220 - val_accuracy: 0.6134 - val_f1_m: 0.6133 - val_precision_m: 0.6136 - val_recall_m: 0.6129\n",
            "Epoch 52/100\n",
            "375/375 [==============================] - 13s 35ms/step - loss: 0.0637 - accuracy: 0.9777 - f1_m: 0.9777 - precision_m: 0.9782 - recall_m: 0.9773 - val_loss: 2.4654 - val_accuracy: 0.5995 - val_f1_m: 0.5995 - val_precision_m: 0.6001 - val_recall_m: 0.5989\n",
            "Epoch 53/100\n",
            "375/375 [==============================] - 13s 34ms/step - loss: 0.0636 - accuracy: 0.9789 - f1_m: 0.9790 - precision_m: 0.9793 - recall_m: 0.9787 - val_loss: 2.4405 - val_accuracy: 0.6032 - val_f1_m: 0.6033 - val_precision_m: 0.6036 - val_recall_m: 0.6029\n",
            "Epoch 54/100\n",
            "375/375 [==============================] - 13s 34ms/step - loss: 0.0616 - accuracy: 0.9804 - f1_m: 0.9802 - precision_m: 0.9805 - recall_m: 0.9800 - val_loss: 2.4860 - val_accuracy: 0.6088 - val_f1_m: 0.6088 - val_precision_m: 0.6092 - val_recall_m: 0.6083\n",
            "Epoch 55/100\n",
            "375/375 [==============================] - 13s 34ms/step - loss: 0.0612 - accuracy: 0.9799 - f1_m: 0.9797 - precision_m: 0.9800 - recall_m: 0.9795 - val_loss: 2.4168 - val_accuracy: 0.6001 - val_f1_m: 0.5999 - val_precision_m: 0.6005 - val_recall_m: 0.5992\n",
            "Epoch 56/100\n",
            "375/375 [==============================] - 13s 34ms/step - loss: 0.0596 - accuracy: 0.9804 - f1_m: 0.9804 - precision_m: 0.9806 - recall_m: 0.9802 - val_loss: 2.4862 - val_accuracy: 0.6018 - val_f1_m: 0.6017 - val_precision_m: 0.6019 - val_recall_m: 0.6014\n",
            "Epoch 57/100\n",
            "375/375 [==============================] - 13s 34ms/step - loss: 0.0588 - accuracy: 0.9808 - f1_m: 0.9808 - precision_m: 0.9810 - recall_m: 0.9806 - val_loss: 2.3803 - val_accuracy: 0.6089 - val_f1_m: 0.6092 - val_precision_m: 0.6096 - val_recall_m: 0.6087\n",
            "Epoch 58/100\n",
            "375/375 [==============================] - 13s 34ms/step - loss: 0.0567 - accuracy: 0.9814 - f1_m: 0.9815 - precision_m: 0.9817 - recall_m: 0.9813 - val_loss: 2.5229 - val_accuracy: 0.6085 - val_f1_m: 0.6082 - val_precision_m: 0.6089 - val_recall_m: 0.6075\n",
            "Epoch 59/100\n",
            "375/375 [==============================] - 13s 34ms/step - loss: 0.0597 - accuracy: 0.9816 - f1_m: 0.9812 - precision_m: 0.9815 - recall_m: 0.9810 - val_loss: 2.5415 - val_accuracy: 0.6060 - val_f1_m: 0.6058 - val_precision_m: 0.6061 - val_recall_m: 0.6056\n",
            "Epoch 60/100\n",
            "375/375 [==============================] - 13s 34ms/step - loss: 0.0600 - accuracy: 0.9811 - f1_m: 0.9808 - precision_m: 0.9810 - recall_m: 0.9806 - val_loss: 2.4785 - val_accuracy: 0.5985 - val_f1_m: 0.5987 - val_precision_m: 0.5989 - val_recall_m: 0.5984\n",
            "Epoch 61/100\n",
            "375/375 [==============================] - 13s 34ms/step - loss: 0.0582 - accuracy: 0.9814 - f1_m: 0.9815 - precision_m: 0.9816 - recall_m: 0.9813 - val_loss: 2.4474 - val_accuracy: 0.5984 - val_f1_m: 0.5982 - val_precision_m: 0.5986 - val_recall_m: 0.5978\n",
            "Epoch 62/100\n",
            "375/375 [==============================] - 13s 34ms/step - loss: 0.0516 - accuracy: 0.9835 - f1_m: 0.9835 - precision_m: 0.9838 - recall_m: 0.9833 - val_loss: 2.6221 - val_accuracy: 0.6031 - val_f1_m: 0.6033 - val_precision_m: 0.6038 - val_recall_m: 0.6028\n",
            "Epoch 63/100\n",
            "375/375 [==============================] - 13s 34ms/step - loss: 0.0498 - accuracy: 0.9838 - f1_m: 0.9839 - precision_m: 0.9840 - recall_m: 0.9837 - val_loss: 2.5804 - val_accuracy: 0.6072 - val_f1_m: 0.6067 - val_precision_m: 0.6072 - val_recall_m: 0.6063\n",
            "Epoch 64/100\n",
            "375/375 [==============================] - 13s 34ms/step - loss: 0.0532 - accuracy: 0.9828 - f1_m: 0.9829 - precision_m: 0.9830 - recall_m: 0.9828 - val_loss: 2.5519 - val_accuracy: 0.6052 - val_f1_m: 0.6051 - val_precision_m: 0.6057 - val_recall_m: 0.6046\n",
            "Epoch 65/100\n",
            "375/375 [==============================] - 13s 34ms/step - loss: 0.0520 - accuracy: 0.9835 - f1_m: 0.9835 - precision_m: 0.9837 - recall_m: 0.9834 - val_loss: 2.5769 - val_accuracy: 0.6033 - val_f1_m: 0.6036 - val_precision_m: 0.6041 - val_recall_m: 0.6031\n",
            "Epoch 66/100\n",
            "375/375 [==============================] - 13s 34ms/step - loss: 0.0707 - accuracy: 0.9768 - f1_m: 0.9768 - precision_m: 0.9771 - recall_m: 0.9765 - val_loss: 2.2912 - val_accuracy: 0.6053 - val_f1_m: 0.6052 - val_precision_m: 0.6057 - val_recall_m: 0.6048\n",
            "Epoch 67/100\n",
            "375/375 [==============================] - 13s 34ms/step - loss: 0.0568 - accuracy: 0.9810 - f1_m: 0.9811 - precision_m: 0.9813 - recall_m: 0.9808 - val_loss: 2.4734 - val_accuracy: 0.6071 - val_f1_m: 0.6071 - val_precision_m: 0.6075 - val_recall_m: 0.6067\n",
            "Epoch 68/100\n",
            "375/375 [==============================] - 13s 34ms/step - loss: 0.0446 - accuracy: 0.9856 - f1_m: 0.9856 - precision_m: 0.9858 - recall_m: 0.9855 - val_loss: 2.5295 - val_accuracy: 0.6026 - val_f1_m: 0.6028 - val_precision_m: 0.6032 - val_recall_m: 0.6025\n",
            "Epoch 69/100\n",
            "375/375 [==============================] - 13s 34ms/step - loss: 0.0405 - accuracy: 0.9866 - f1_m: 0.9866 - precision_m: 0.9868 - recall_m: 0.9864 - val_loss: 2.8564 - val_accuracy: 0.5976 - val_f1_m: 0.5977 - val_precision_m: 0.5980 - val_recall_m: 0.5975\n",
            "Epoch 70/100\n",
            "375/375 [==============================] - 13s 35ms/step - loss: 0.0457 - accuracy: 0.9853 - f1_m: 0.9853 - precision_m: 0.9855 - recall_m: 0.9851 - val_loss: 2.5703 - val_accuracy: 0.6061 - val_f1_m: 0.6062 - val_precision_m: 0.6066 - val_recall_m: 0.6059\n",
            "Epoch 71/100\n",
            "375/375 [==============================] - 13s 34ms/step - loss: 0.0424 - accuracy: 0.9862 - f1_m: 0.9862 - precision_m: 0.9864 - recall_m: 0.9861 - val_loss: 2.7818 - val_accuracy: 0.6061 - val_f1_m: 0.6063 - val_precision_m: 0.6064 - val_recall_m: 0.6061\n",
            "Epoch 72/100\n",
            "375/375 [==============================] - 13s 34ms/step - loss: 0.0465 - accuracy: 0.9851 - f1_m: 0.9848 - precision_m: 0.9850 - recall_m: 0.9846 - val_loss: 2.7097 - val_accuracy: 0.5972 - val_f1_m: 0.5974 - val_precision_m: 0.5976 - val_recall_m: 0.5972\n",
            "Epoch 73/100\n",
            "375/375 [==============================] - 13s 34ms/step - loss: 0.0472 - accuracy: 0.9842 - f1_m: 0.9842 - precision_m: 0.9844 - recall_m: 0.9841 - val_loss: 2.6747 - val_accuracy: 0.6074 - val_f1_m: 0.6079 - val_precision_m: 0.6081 - val_recall_m: 0.6077\n",
            "Epoch 74/100\n",
            "375/375 [==============================] - 13s 34ms/step - loss: 0.0415 - accuracy: 0.9849 - f1_m: 0.9849 - precision_m: 0.9850 - recall_m: 0.9848 - val_loss: 2.8243 - val_accuracy: 0.6056 - val_f1_m: 0.6058 - val_precision_m: 0.6062 - val_recall_m: 0.6053\n",
            "Epoch 75/100\n",
            "375/375 [==============================] - 13s 34ms/step - loss: 0.0438 - accuracy: 0.9850 - f1_m: 0.9851 - precision_m: 0.9852 - recall_m: 0.9849 - val_loss: 2.7472 - val_accuracy: 0.6071 - val_f1_m: 0.6075 - val_precision_m: 0.6080 - val_recall_m: 0.6070\n",
            "Epoch 76/100\n",
            "375/375 [==============================] - 13s 35ms/step - loss: 0.0428 - accuracy: 0.9859 - f1_m: 0.9860 - precision_m: 0.9861 - recall_m: 0.9859 - val_loss: 2.6625 - val_accuracy: 0.6070 - val_f1_m: 0.6073 - val_precision_m: 0.6077 - val_recall_m: 0.6069\n",
            "Epoch 77/100\n",
            "375/375 [==============================] - 13s 35ms/step - loss: 0.0426 - accuracy: 0.9865 - f1_m: 0.9865 - precision_m: 0.9867 - recall_m: 0.9864 - val_loss: 2.7743 - val_accuracy: 0.6064 - val_f1_m: 0.6066 - val_precision_m: 0.6068 - val_recall_m: 0.6064\n",
            "Epoch 78/100\n",
            "375/375 [==============================] - 13s 35ms/step - loss: 0.0423 - accuracy: 0.9868 - f1_m: 0.9868 - precision_m: 0.9870 - recall_m: 0.9866 - val_loss: 2.5961 - val_accuracy: 0.6042 - val_f1_m: 0.6042 - val_precision_m: 0.6046 - val_recall_m: 0.6038\n",
            "Epoch 79/100\n",
            "375/375 [==============================] - 13s 34ms/step - loss: 0.0439 - accuracy: 0.9854 - f1_m: 0.9853 - precision_m: 0.9855 - recall_m: 0.9851 - val_loss: 2.6097 - val_accuracy: 0.6054 - val_f1_m: 0.6053 - val_precision_m: 0.6056 - val_recall_m: 0.6050\n",
            "Epoch 80/100\n",
            "375/375 [==============================] - 13s 34ms/step - loss: 0.0373 - accuracy: 0.9877 - f1_m: 0.9874 - precision_m: 0.9876 - recall_m: 0.9873 - val_loss: 2.7339 - val_accuracy: 0.6027 - val_f1_m: 0.6032 - val_precision_m: 0.6036 - val_recall_m: 0.6029\n",
            "Epoch 81/100\n",
            "375/375 [==============================] - 13s 35ms/step - loss: 0.0508 - accuracy: 0.9837 - f1_m: 0.9838 - precision_m: 0.9840 - recall_m: 0.9837 - val_loss: 2.6214 - val_accuracy: 0.6117 - val_f1_m: 0.6116 - val_precision_m: 0.6119 - val_recall_m: 0.6114\n",
            "Epoch 82/100\n",
            "375/375 [==============================] - 13s 35ms/step - loss: 0.0388 - accuracy: 0.9877 - f1_m: 0.9874 - precision_m: 0.9877 - recall_m: 0.9872 - val_loss: 2.7834 - val_accuracy: 0.6054 - val_f1_m: 0.6052 - val_precision_m: 0.6055 - val_recall_m: 0.6048\n",
            "Epoch 83/100\n",
            "375/375 [==============================] - 13s 35ms/step - loss: 0.0389 - accuracy: 0.9870 - f1_m: 0.9869 - precision_m: 0.9872 - recall_m: 0.9867 - val_loss: 2.7325 - val_accuracy: 0.6023 - val_f1_m: 0.6025 - val_precision_m: 0.6030 - val_recall_m: 0.6020\n",
            "Epoch 84/100\n",
            "375/375 [==============================] - 13s 35ms/step - loss: 0.0376 - accuracy: 0.9871 - f1_m: 0.9870 - precision_m: 0.9873 - recall_m: 0.9868 - val_loss: 2.8071 - val_accuracy: 0.6078 - val_f1_m: 0.6082 - val_precision_m: 0.6083 - val_recall_m: 0.6081\n",
            "Epoch 85/100\n",
            "375/375 [==============================] - 13s 35ms/step - loss: 0.0367 - accuracy: 0.9876 - f1_m: 0.9873 - precision_m: 0.9874 - recall_m: 0.9871 - val_loss: 2.7604 - val_accuracy: 0.6148 - val_f1_m: 0.6148 - val_precision_m: 0.6151 - val_recall_m: 0.6145\n",
            "Epoch 86/100\n",
            "375/375 [==============================] - 13s 34ms/step - loss: 0.0422 - accuracy: 0.9860 - f1_m: 0.9861 - precision_m: 0.9863 - recall_m: 0.9859 - val_loss: 2.6695 - val_accuracy: 0.6056 - val_f1_m: 0.6057 - val_precision_m: 0.6062 - val_recall_m: 0.6052\n",
            "Epoch 87/100\n",
            "375/375 [==============================] - 13s 35ms/step - loss: 0.0404 - accuracy: 0.9863 - f1_m: 0.9863 - precision_m: 0.9865 - recall_m: 0.9862 - val_loss: 2.6778 - val_accuracy: 0.6122 - val_f1_m: 0.6124 - val_precision_m: 0.6127 - val_recall_m: 0.6120\n",
            "Epoch 88/100\n",
            "375/375 [==============================] - 13s 35ms/step - loss: 0.0355 - accuracy: 0.9880 - f1_m: 0.9880 - precision_m: 0.9881 - recall_m: 0.9878 - val_loss: 2.7124 - val_accuracy: 0.6145 - val_f1_m: 0.6143 - val_precision_m: 0.6146 - val_recall_m: 0.6140\n",
            "Epoch 89/100\n",
            "375/375 [==============================] - 13s 35ms/step - loss: 0.0336 - accuracy: 0.9890 - f1_m: 0.9890 - precision_m: 0.9891 - recall_m: 0.9890 - val_loss: 2.7617 - val_accuracy: 0.6050 - val_f1_m: 0.6053 - val_precision_m: 0.6058 - val_recall_m: 0.6048\n",
            "Epoch 90/100\n",
            "375/375 [==============================] - 13s 35ms/step - loss: 0.0411 - accuracy: 0.9861 - f1_m: 0.9862 - precision_m: 0.9863 - recall_m: 0.9860 - val_loss: 2.7352 - val_accuracy: 0.6096 - val_f1_m: 0.6096 - val_precision_m: 0.6099 - val_recall_m: 0.6094\n",
            "Epoch 91/100\n",
            "375/375 [==============================] - 13s 35ms/step - loss: 0.0355 - accuracy: 0.9885 - f1_m: 0.9886 - precision_m: 0.9887 - recall_m: 0.9884 - val_loss: 2.6244 - val_accuracy: 0.6115 - val_f1_m: 0.6116 - val_precision_m: 0.6120 - val_recall_m: 0.6112\n",
            "Epoch 92/100\n",
            "375/375 [==============================] - 13s 35ms/step - loss: 0.0344 - accuracy: 0.9884 - f1_m: 0.9884 - precision_m: 0.9885 - recall_m: 0.9883 - val_loss: 2.7976 - val_accuracy: 0.6118 - val_f1_m: 0.6118 - val_precision_m: 0.6121 - val_recall_m: 0.6115\n",
            "Epoch 93/100\n",
            "375/375 [==============================] - 13s 35ms/step - loss: 0.0395 - accuracy: 0.9862 - f1_m: 0.9863 - precision_m: 0.9863 - recall_m: 0.9862 - val_loss: 2.7868 - val_accuracy: 0.6117 - val_f1_m: 0.6122 - val_precision_m: 0.6126 - val_recall_m: 0.6118\n",
            "Epoch 94/100\n",
            "375/375 [==============================] - 13s 35ms/step - loss: 0.0379 - accuracy: 0.9879 - f1_m: 0.9880 - precision_m: 0.9882 - recall_m: 0.9878 - val_loss: 2.6496 - val_accuracy: 0.6107 - val_f1_m: 0.6112 - val_precision_m: 0.6115 - val_recall_m: 0.6109\n",
            "Epoch 95/100\n",
            "375/375 [==============================] - 13s 35ms/step - loss: 0.0317 - accuracy: 0.9894 - f1_m: 0.9893 - precision_m: 0.9895 - recall_m: 0.9892 - val_loss: 2.8353 - val_accuracy: 0.6069 - val_f1_m: 0.6067 - val_precision_m: 0.6071 - val_recall_m: 0.6063\n",
            "Epoch 96/100\n",
            "375/375 [==============================] - 13s 35ms/step - loss: 0.0361 - accuracy: 0.9879 - f1_m: 0.9880 - precision_m: 0.9881 - recall_m: 0.9879 - val_loss: 2.7822 - val_accuracy: 0.6085 - val_f1_m: 0.6087 - val_precision_m: 0.6091 - val_recall_m: 0.6084\n",
            "Epoch 97/100\n",
            "375/375 [==============================] - 13s 35ms/step - loss: 0.0398 - accuracy: 0.9867 - f1_m: 0.9867 - precision_m: 0.9868 - recall_m: 0.9866 - val_loss: 2.6240 - val_accuracy: 0.6057 - val_f1_m: 0.6059 - val_precision_m: 0.6064 - val_recall_m: 0.6054\n",
            "Epoch 98/100\n",
            "375/375 [==============================] - 13s 35ms/step - loss: 0.0315 - accuracy: 0.9895 - f1_m: 0.9895 - precision_m: 0.9896 - recall_m: 0.9895 - val_loss: 2.8558 - val_accuracy: 0.6069 - val_f1_m: 0.6073 - val_precision_m: 0.6074 - val_recall_m: 0.6071\n",
            "Epoch 99/100\n",
            "375/375 [==============================] - 13s 35ms/step - loss: 0.0334 - accuracy: 0.9887 - f1_m: 0.9887 - precision_m: 0.9887 - recall_m: 0.9886 - val_loss: 2.9290 - val_accuracy: 0.6084 - val_f1_m: 0.6085 - val_precision_m: 0.6089 - val_recall_m: 0.6082\n",
            "Epoch 100/100\n",
            "375/375 [==============================] - 13s 35ms/step - loss: 0.0334 - accuracy: 0.9885 - f1_m: 0.9885 - precision_m: 0.9886 - recall_m: 0.9885 - val_loss: 2.7360 - val_accuracy: 0.6164 - val_f1_m: 0.6169 - val_precision_m: 0.6175 - val_recall_m: 0.6163\n"
          ],
          "name": "stdout"
        }
      ]
    },
    {
      "cell_type": "code",
      "metadata": {
        "colab": {
          "background_save": true,
          "base_uri": "https://localhost:8080/"
        },
        "id": "yvaDBQtlGjlM",
        "outputId": "05db16e8-35ee-426e-81a0-936eade550fc"
      },
      "source": [
        "loss, accuracy, f1_score, precision, recall = glove_model2.evaluate(val_X_tokenized, val_Y, verbose=0)\n",
        "print(loss, accuracy, f1_score, precision, recall)"
      ],
      "execution_count": null,
      "outputs": [
        {
          "output_type": "stream",
          "text": [
            "2.7360236644744873 0.6163797974586487 0.6169232130050659 0.6175201535224915 0.6163490414619446\n"
          ],
          "name": "stdout"
        }
      ]
    },
    {
      "cell_type": "code",
      "metadata": {
        "colab": {
          "background_save": true
        },
        "id": "-oMw7Hk-Ppe5",
        "outputId": "c5b3f0f8-e610-48c2-eb44-f7373195b344"
      },
      "source": [
        "# plot history\n",
        "# Plot training & validation accuracy values\n",
        "import matplotlib.pyplot as plt \n",
        "plt.plot(history.history['accuracy'])\n",
        "plt.plot(history.history['val_accuracy'])\n",
        "plt.title('Model accuracy')\n",
        "plt.ylabel('Accuracy')\n",
        "plt.xlabel('Epoch')\n",
        "plt.legend(['Train', 'Val'], loc='upper left')\n",
        "plt.show()\n",
        "\n",
        "# Plot training & validation loss values\n",
        "plt.plot(history.history['loss'])\n",
        "plt.plot(history.history['val_loss'])\n",
        "plt.title('Model loss')\n",
        "plt.ylabel('Loss')\n",
        "plt.xlabel('Epoch')\n",
        "plt.legend(['Train', 'Val'], loc='upper left')\n",
        "plt.show()"
      ],
      "execution_count": null,
      "outputs": [
        {
          "output_type": "display_data",
          "data": {
            "image/png": "[encoded data removed]",
            "text/plain": [
              "<Figure size 432x288 with 1 Axes>"
            ]
          },
          "metadata": {
            "tags": []
          }
        },
        {
          "output_type": "display_data",
          "data": {
            "image/png": "[encoded data removed]",
            "text/plain": [
              "<Figure size 432x288 with 1 Axes>"
            ]
          },
          "metadata": {
            "tags": []
          }
        }
      ]
    },
    {
      "cell_type": "markdown",
      "metadata": {
        "id": "mPTxL8M_5Wjh"
      },
      "source": [
        "Bi-Directional LSTM"
      ]
    },
    {
      "cell_type": "code",
      "metadata": {
        "colab": {
          "base_uri": "https://localhost:8080/"
        },
        "id": "MRI2FpZl5fT_",
        "outputId": "18b878c4-3185-443d-8b27-cb27c1606e5d"
      },
      "source": [
        "\n",
        "glove_model3 = models.Sequential()\n",
        "glove_model3.add(layers.Embedding(vocab_size,\n",
        "                            glove_dim,\n",
        "                            weights=[embedding_matrix],\n",
        "                            input_length=max_len,\n",
        "                            trainable=False))\n",
        "\n",
        "glove_model3.add(Bidirectional(layers.LSTM(128, return_sequences=True)))\n",
        "glove_model3.add(Bidirectional(layers.LSTM(128)))\n",
        "\n",
        "# glove_model2_fs3_bi_d.add(Bidirectional(layers.LSTM(64, return_sequences=True)))\n",
        "# glove_model2_fs3_bi_d.add(Bidirectional(layers.LSTM(64)))\n",
        "\n",
        "glove_model3.add(layers.Dense(10,activation=\"relu\"))\n",
        "glove_model3.add(Dense(3, activation='softmax'))\n",
        "glove_model3.summary()\n",
        "\n",
        "\n",
        "\n"
      ],
      "execution_count": 189,
      "outputs": [
        {
          "output_type": "stream",
          "text": [
            "Model: \"sequential_23\"\n",
            "_________________________________________________________________\n",
            "Layer (type)                 Output Shape              Param #   \n",
            "=================================================================\n",
            "embedding_23 (Embedding)     (None, 150, 200)          10110600  \n",
            "_________________________________________________________________\n",
            "bidirectional_15 (Bidirectio (None, 150, 256)          336896    \n",
            "_________________________________________________________________\n",
            "bidirectional_16 (Bidirectio (None, 256)               394240    \n",
            "_________________________________________________________________\n",
            "dense_33 (Dense)             (None, 10)                2570      \n",
            "_________________________________________________________________\n",
            "dense_34 (Dense)             (None, 3)                 33        \n",
            "=================================================================\n",
            "Total params: 10,844,339\n",
            "Trainable params: 733,739\n",
            "Non-trainable params: 10,110,600\n",
            "_________________________________________________________________\n"
          ],
          "name": "stdout"
        }
      ]
    },
    {
      "cell_type": "code",
      "metadata": {
        "colab": {
          "base_uri": "https://localhost:8080/"
        },
        "id": "PK9mgUIe5fkp",
        "outputId": "1066c585-0f75-4888-c23c-9ad03c251252"
      },
      "source": [
        "glove_model3.compile(loss='categorical_crossentropy', optimizer='adam', metrics=['accuracy',f1_m,precision_m, recall_m])\n",
        "\n",
        "from tensorflow.keras.callbacks import EarlyStopping\n",
        "\n",
        "history = glove_model3.fit(train_X_tokenized, \n",
        "                    train_Y, \n",
        "                    batch_size=100, \n",
        "                    epochs=50, \n",
        "                    validation_data=(val_X_tokenized, val_Y)\n",
        "                    )"
      ],
      "execution_count": 191,
      "outputs": [
        {
          "output_type": "stream",
          "text": [
            "Epoch 1/50\n",
            "375/375 [==============================] - 24s 63ms/step - loss: 0.9721 - accuracy: 0.5057 - f1_m: 0.3459 - precision_m: 0.6272 - recall_m: 0.2452 - val_loss: 0.9294 - val_accuracy: 0.5363 - val_f1_m: 0.3684 - val_precision_m: 0.7054 - val_recall_m: 0.2506\n",
            "Epoch 2/50\n",
            "375/375 [==============================] - 22s 60ms/step - loss: 0.9118 - accuracy: 0.5468 - f1_m: 0.4334 - precision_m: 0.6763 - recall_m: 0.3215 - val_loss: 0.9212 - val_accuracy: 0.5365 - val_f1_m: 0.3995 - val_precision_m: 0.6909 - val_recall_m: 0.2824\n",
            "Epoch 3/50\n",
            "375/375 [==============================] - 22s 60ms/step - loss: 0.8674 - accuracy: 0.5793 - f1_m: 0.4906 - precision_m: 0.6834 - recall_m: 0.3847 - val_loss: 0.8848 - val_accuracy: 0.5607 - val_f1_m: 0.4810 - val_precision_m: 0.6612 - val_recall_m: 0.3792\n",
            "Epoch 4/50\n",
            "375/375 [==============================] - 23s 60ms/step - loss: 0.8252 - accuracy: 0.6048 - f1_m: 0.5397 - precision_m: 0.6937 - recall_m: 0.4438 - val_loss: 0.8910 - val_accuracy: 0.5631 - val_f1_m: 0.5100 - val_precision_m: 0.6352 - val_recall_m: 0.4268\n",
            "Epoch 5/50\n",
            "375/375 [==============================] - 23s 60ms/step - loss: 0.7649 - accuracy: 0.6447 - f1_m: 0.6061 - precision_m: 0.7066 - recall_m: 0.5319 - val_loss: 0.8806 - val_accuracy: 0.5746 - val_f1_m: 0.5378 - val_precision_m: 0.6312 - val_recall_m: 0.4692\n",
            "Epoch 6/50\n",
            "375/375 [==============================] - 23s 61ms/step - loss: 0.6950 - accuracy: 0.6890 - f1_m: 0.6671 - precision_m: 0.7297 - recall_m: 0.6152 - val_loss: 0.9048 - val_accuracy: 0.5787 - val_f1_m: 0.5514 - val_precision_m: 0.6284 - val_recall_m: 0.4918\n",
            "Epoch 7/50\n",
            "375/375 [==============================] - 23s 61ms/step - loss: 0.6124 - accuracy: 0.7314 - f1_m: 0.7225 - precision_m: 0.7630 - recall_m: 0.6866 - val_loss: 0.9225 - val_accuracy: 0.5830 - val_f1_m: 0.5605 - val_precision_m: 0.6175 - val_recall_m: 0.5135\n",
            "Epoch 8/50\n",
            "375/375 [==============================] - 23s 61ms/step - loss: 0.5123 - accuracy: 0.7814 - f1_m: 0.7771 - precision_m: 0.8024 - recall_m: 0.7538 - val_loss: 1.0649 - val_accuracy: 0.5907 - val_f1_m: 0.5847 - val_precision_m: 0.6047 - val_recall_m: 0.5662\n",
            "Epoch 9/50\n",
            "375/375 [==============================] - 23s 61ms/step - loss: 0.4132 - accuracy: 0.8293 - f1_m: 0.8278 - precision_m: 0.8427 - recall_m: 0.8135 - val_loss: 1.2054 - val_accuracy: 0.5953 - val_f1_m: 0.5895 - val_precision_m: 0.6058 - val_recall_m: 0.5743\n",
            "Epoch 10/50\n",
            "375/375 [==============================] - 23s 61ms/step - loss: 0.3243 - accuracy: 0.8725 - f1_m: 0.8713 - precision_m: 0.8801 - recall_m: 0.8628 - val_loss: 1.2610 - val_accuracy: 0.5995 - val_f1_m: 0.5962 - val_precision_m: 0.6067 - val_recall_m: 0.5862\n",
            "Epoch 11/50\n",
            "375/375 [==============================] - 23s 61ms/step - loss: 0.2503 - accuracy: 0.9046 - f1_m: 0.9044 - precision_m: 0.9106 - recall_m: 0.8984 - val_loss: 1.3980 - val_accuracy: 0.5932 - val_f1_m: 0.5930 - val_precision_m: 0.6006 - val_recall_m: 0.5856\n",
            "Epoch 12/50\n",
            "375/375 [==============================] - 23s 61ms/step - loss: 0.1856 - accuracy: 0.9309 - f1_m: 0.9308 - precision_m: 0.9344 - recall_m: 0.9273 - val_loss: 1.6469 - val_accuracy: 0.5978 - val_f1_m: 0.5952 - val_precision_m: 0.6025 - val_recall_m: 0.5881\n",
            "Epoch 13/50\n",
            "375/375 [==============================] - 23s 61ms/step - loss: 0.1463 - accuracy: 0.9461 - f1_m: 0.9462 - precision_m: 0.9486 - recall_m: 0.9439 - val_loss: 1.8429 - val_accuracy: 0.6061 - val_f1_m: 0.6057 - val_precision_m: 0.6099 - val_recall_m: 0.6016\n",
            "Epoch 14/50\n",
            "375/375 [==============================] - 23s 61ms/step - loss: 0.1163 - accuracy: 0.9600 - f1_m: 0.9596 - precision_m: 0.9612 - recall_m: 0.9579 - val_loss: 1.9538 - val_accuracy: 0.5891 - val_f1_m: 0.5885 - val_precision_m: 0.5920 - val_recall_m: 0.5850\n",
            "Epoch 15/50\n",
            "375/375 [==============================] - 23s 61ms/step - loss: 0.1010 - accuracy: 0.9651 - f1_m: 0.9650 - precision_m: 0.9662 - recall_m: 0.9639 - val_loss: 2.0991 - val_accuracy: 0.6022 - val_f1_m: 0.6017 - val_precision_m: 0.6046 - val_recall_m: 0.5988\n",
            "Epoch 16/50\n",
            "375/375 [==============================] - 23s 61ms/step - loss: 0.0809 - accuracy: 0.9721 - f1_m: 0.9722 - precision_m: 0.9730 - recall_m: 0.9714 - val_loss: 2.1662 - val_accuracy: 0.6024 - val_f1_m: 0.6028 - val_precision_m: 0.6052 - val_recall_m: 0.6005\n",
            "Epoch 17/50\n",
            "375/375 [==============================] - 23s 61ms/step - loss: 0.0736 - accuracy: 0.9747 - f1_m: 0.9747 - precision_m: 0.9753 - recall_m: 0.9742 - val_loss: 2.2799 - val_accuracy: 0.6071 - val_f1_m: 0.6069 - val_precision_m: 0.6088 - val_recall_m: 0.6050\n",
            "Epoch 18/50\n",
            "375/375 [==============================] - 23s 62ms/step - loss: 0.0657 - accuracy: 0.9778 - f1_m: 0.9777 - precision_m: 0.9783 - recall_m: 0.9772 - val_loss: 2.3777 - val_accuracy: 0.5929 - val_f1_m: 0.5921 - val_precision_m: 0.5953 - val_recall_m: 0.5890\n",
            "Epoch 19/50\n",
            "375/375 [==============================] - 23s 61ms/step - loss: 0.0659 - accuracy: 0.9774 - f1_m: 0.9775 - precision_m: 0.9780 - recall_m: 0.9769 - val_loss: 2.4727 - val_accuracy: 0.6065 - val_f1_m: 0.6066 - val_precision_m: 0.6083 - val_recall_m: 0.6049\n",
            "Epoch 20/50\n",
            "375/375 [==============================] - 23s 61ms/step - loss: 0.0476 - accuracy: 0.9840 - f1_m: 0.9839 - precision_m: 0.9843 - recall_m: 0.9835 - val_loss: 2.5258 - val_accuracy: 0.5954 - val_f1_m: 0.5948 - val_precision_m: 0.5965 - val_recall_m: 0.5931\n",
            "Epoch 21/50\n",
            "375/375 [==============================] - 23s 61ms/step - loss: 0.0556 - accuracy: 0.9812 - f1_m: 0.9812 - precision_m: 0.9816 - recall_m: 0.9809 - val_loss: 2.3992 - val_accuracy: 0.6049 - val_f1_m: 0.6058 - val_precision_m: 0.6084 - val_recall_m: 0.6032\n",
            "Epoch 22/50\n",
            "375/375 [==============================] - 23s 62ms/step - loss: 0.0439 - accuracy: 0.9852 - f1_m: 0.9850 - precision_m: 0.9855 - recall_m: 0.9845 - val_loss: 2.6353 - val_accuracy: 0.6046 - val_f1_m: 0.6040 - val_precision_m: 0.6062 - val_recall_m: 0.6018\n",
            "Epoch 23/50\n",
            "375/375 [==============================] - 23s 61ms/step - loss: 0.0556 - accuracy: 0.9817 - f1_m: 0.9816 - precision_m: 0.9820 - recall_m: 0.9813 - val_loss: 2.5242 - val_accuracy: 0.6044 - val_f1_m: 0.6044 - val_precision_m: 0.6059 - val_recall_m: 0.6029\n",
            "Epoch 24/50\n",
            "375/375 [==============================] - 23s 61ms/step - loss: 0.0425 - accuracy: 0.9863 - f1_m: 0.9864 - precision_m: 0.9866 - recall_m: 0.9862 - val_loss: 2.5658 - val_accuracy: 0.6074 - val_f1_m: 0.6078 - val_precision_m: 0.6093 - val_recall_m: 0.6063\n",
            "Epoch 25/50\n",
            "375/375 [==============================] - 23s 62ms/step - loss: 0.0471 - accuracy: 0.9840 - f1_m: 0.9839 - precision_m: 0.9842 - recall_m: 0.9836 - val_loss: 2.6261 - val_accuracy: 0.6037 - val_f1_m: 0.6038 - val_precision_m: 0.6053 - val_recall_m: 0.6023\n",
            "Epoch 26/50\n",
            "375/375 [==============================] - 23s 62ms/step - loss: 0.0323 - accuracy: 0.9891 - f1_m: 0.9891 - precision_m: 0.9894 - recall_m: 0.9889 - val_loss: 2.6803 - val_accuracy: 0.6037 - val_f1_m: 0.6036 - val_precision_m: 0.6052 - val_recall_m: 0.6021\n",
            "Epoch 27/50\n",
            "375/375 [==============================] - 23s 62ms/step - loss: 0.0416 - accuracy: 0.9864 - f1_m: 0.9865 - precision_m: 0.9866 - recall_m: 0.9864 - val_loss: 2.7299 - val_accuracy: 0.6008 - val_f1_m: 0.6013 - val_precision_m: 0.6027 - val_recall_m: 0.6000\n",
            "Epoch 28/50\n",
            "375/375 [==============================] - 23s 62ms/step - loss: 0.0341 - accuracy: 0.9886 - f1_m: 0.9887 - precision_m: 0.9888 - recall_m: 0.9885 - val_loss: 2.7329 - val_accuracy: 0.6022 - val_f1_m: 0.6024 - val_precision_m: 0.6035 - val_recall_m: 0.6014\n",
            "Epoch 29/50\n",
            "375/375 [==============================] - 23s 61ms/step - loss: 0.0381 - accuracy: 0.9873 - f1_m: 0.9873 - precision_m: 0.9874 - recall_m: 0.9871 - val_loss: 2.6944 - val_accuracy: 0.6085 - val_f1_m: 0.6083 - val_precision_m: 0.6098 - val_recall_m: 0.6068\n",
            "Epoch 30/50\n",
            "375/375 [==============================] - 23s 62ms/step - loss: 0.0353 - accuracy: 0.9887 - f1_m: 0.9887 - precision_m: 0.9889 - recall_m: 0.9886 - val_loss: 2.6663 - val_accuracy: 0.6085 - val_f1_m: 0.6083 - val_precision_m: 0.6096 - val_recall_m: 0.6069\n",
            "Epoch 31/50\n",
            "375/375 [==============================] - 23s 61ms/step - loss: 0.0309 - accuracy: 0.9898 - f1_m: 0.9898 - precision_m: 0.9900 - recall_m: 0.9896 - val_loss: 2.7325 - val_accuracy: 0.5953 - val_f1_m: 0.5942 - val_precision_m: 0.5956 - val_recall_m: 0.5928\n",
            "Epoch 32/50\n",
            "375/375 [==============================] - 23s 62ms/step - loss: 0.0386 - accuracy: 0.9870 - f1_m: 0.9870 - precision_m: 0.9873 - recall_m: 0.9867 - val_loss: 2.6209 - val_accuracy: 0.6055 - val_f1_m: 0.6054 - val_precision_m: 0.6066 - val_recall_m: 0.6041\n",
            "Epoch 33/50\n",
            "375/375 [==============================] - 23s 61ms/step - loss: 0.0360 - accuracy: 0.9883 - f1_m: 0.9883 - precision_m: 0.9886 - recall_m: 0.9881 - val_loss: 2.7372 - val_accuracy: 0.6134 - val_f1_m: 0.6136 - val_precision_m: 0.6149 - val_recall_m: 0.6124\n",
            "Epoch 34/50\n",
            "375/375 [==============================] - 23s 62ms/step - loss: 0.0298 - accuracy: 0.9901 - f1_m: 0.9902 - precision_m: 0.9903 - recall_m: 0.9900 - val_loss: 2.6793 - val_accuracy: 0.6058 - val_f1_m: 0.6060 - val_precision_m: 0.6078 - val_recall_m: 0.6042\n",
            "Epoch 35/50\n",
            "375/375 [==============================] - 23s 62ms/step - loss: 0.0277 - accuracy: 0.9907 - f1_m: 0.9908 - precision_m: 0.9908 - recall_m: 0.9907 - val_loss: 2.8642 - val_accuracy: 0.6092 - val_f1_m: 0.6089 - val_precision_m: 0.6101 - val_recall_m: 0.6078\n",
            "Epoch 36/50\n",
            "375/375 [==============================] - 23s 62ms/step - loss: 0.0369 - accuracy: 0.9868 - f1_m: 0.9865 - precision_m: 0.9867 - recall_m: 0.9864 - val_loss: 2.7266 - val_accuracy: 0.5959 - val_f1_m: 0.5958 - val_precision_m: 0.5975 - val_recall_m: 0.5941\n",
            "Epoch 37/50\n",
            "375/375 [==============================] - 23s 62ms/step - loss: 0.0353 - accuracy: 0.9881 - f1_m: 0.9882 - precision_m: 0.9885 - recall_m: 0.9878 - val_loss: 2.7431 - val_accuracy: 0.6068 - val_f1_m: 0.6068 - val_precision_m: 0.6083 - val_recall_m: 0.6053\n",
            "Epoch 38/50\n",
            "375/375 [==============================] - 23s 62ms/step - loss: 0.0193 - accuracy: 0.9938 - f1_m: 0.9939 - precision_m: 0.9940 - recall_m: 0.9938 - val_loss: 3.0243 - val_accuracy: 0.5999 - val_f1_m: 0.5998 - val_precision_m: 0.6008 - val_recall_m: 0.5989\n",
            "Epoch 39/50\n",
            "375/375 [==============================] - 23s 62ms/step - loss: 0.0315 - accuracy: 0.9894 - f1_m: 0.9895 - precision_m: 0.9896 - recall_m: 0.9895 - val_loss: 2.8329 - val_accuracy: 0.6052 - val_f1_m: 0.6056 - val_precision_m: 0.6073 - val_recall_m: 0.6040\n",
            "Epoch 40/50\n",
            "375/375 [==============================] - 23s 62ms/step - loss: 0.0253 - accuracy: 0.9918 - f1_m: 0.9917 - precision_m: 0.9918 - recall_m: 0.9916 - val_loss: 2.8765 - val_accuracy: 0.6038 - val_f1_m: 0.6034 - val_precision_m: 0.6046 - val_recall_m: 0.6021\n",
            "Epoch 41/50\n",
            "375/375 [==============================] - 23s 62ms/step - loss: 0.0313 - accuracy: 0.9895 - f1_m: 0.9896 - precision_m: 0.9898 - recall_m: 0.9895 - val_loss: 2.7389 - val_accuracy: 0.5953 - val_f1_m: 0.5954 - val_precision_m: 0.5968 - val_recall_m: 0.5940\n",
            "Epoch 42/50\n",
            "375/375 [==============================] - 23s 62ms/step - loss: 0.0378 - accuracy: 0.9877 - f1_m: 0.9877 - precision_m: 0.9878 - recall_m: 0.9876 - val_loss: 2.7033 - val_accuracy: 0.6023 - val_f1_m: 0.6018 - val_precision_m: 0.6032 - val_recall_m: 0.6006\n",
            "Epoch 43/50\n",
            "375/375 [==============================] - 23s 62ms/step - loss: 0.0214 - accuracy: 0.9923 - f1_m: 0.9924 - precision_m: 0.9925 - recall_m: 0.9923 - val_loss: 2.9114 - val_accuracy: 0.5976 - val_f1_m: 0.5976 - val_precision_m: 0.5991 - val_recall_m: 0.5961\n",
            "Epoch 44/50\n",
            "375/375 [==============================] - 23s 62ms/step - loss: 0.0196 - accuracy: 0.9936 - f1_m: 0.9935 - precision_m: 0.9936 - recall_m: 0.9934 - val_loss: 2.9869 - val_accuracy: 0.5976 - val_f1_m: 0.5979 - val_precision_m: 0.5991 - val_recall_m: 0.5968\n",
            "Epoch 45/50\n",
            "375/375 [==============================] - 23s 62ms/step - loss: 0.0318 - accuracy: 0.9902 - f1_m: 0.9902 - precision_m: 0.9902 - recall_m: 0.9901 - val_loss: 2.6990 - val_accuracy: 0.6010 - val_f1_m: 0.6004 - val_precision_m: 0.6018 - val_recall_m: 0.5991\n",
            "Epoch 46/50\n",
            "375/375 [==============================] - 23s 62ms/step - loss: 0.0325 - accuracy: 0.9886 - f1_m: 0.9886 - precision_m: 0.9887 - recall_m: 0.9885 - val_loss: 2.7612 - val_accuracy: 0.6075 - val_f1_m: 0.6072 - val_precision_m: 0.6083 - val_recall_m: 0.6060\n",
            "Epoch 47/50\n",
            "375/375 [==============================] - 23s 62ms/step - loss: 0.0204 - accuracy: 0.9933 - f1_m: 0.9934 - precision_m: 0.9934 - recall_m: 0.9933 - val_loss: 2.8844 - val_accuracy: 0.6016 - val_f1_m: 0.6020 - val_precision_m: 0.6032 - val_recall_m: 0.6009\n",
            "Epoch 48/50\n",
            "375/375 [==============================] - 23s 62ms/step - loss: 0.0202 - accuracy: 0.9931 - f1_m: 0.9931 - precision_m: 0.9931 - recall_m: 0.9931 - val_loss: 2.9483 - val_accuracy: 0.6014 - val_f1_m: 0.6013 - val_precision_m: 0.6027 - val_recall_m: 0.5998\n",
            "Epoch 49/50\n",
            "375/375 [==============================] - 23s 62ms/step - loss: 0.0292 - accuracy: 0.9902 - f1_m: 0.9903 - precision_m: 0.9904 - recall_m: 0.9902 - val_loss: 2.7571 - val_accuracy: 0.6045 - val_f1_m: 0.6045 - val_precision_m: 0.6053 - val_recall_m: 0.6036\n",
            "Epoch 50/50\n",
            "375/375 [==============================] - 23s 62ms/step - loss: 0.0206 - accuracy: 0.9927 - f1_m: 0.9927 - precision_m: 0.9927 - recall_m: 0.9926 - val_loss: 3.0021 - val_accuracy: 0.6015 - val_f1_m: 0.6018 - val_precision_m: 0.6032 - val_recall_m: 0.6005\n"
          ],
          "name": "stdout"
        }
      ]
    },
    {
      "cell_type": "code",
      "metadata": {
        "colab": {
          "base_uri": "https://localhost:8080/"
        },
        "id": "py2hNtue5z9q",
        "outputId": "bb8dd695-b49f-4757-8c9c-5407050e3954"
      },
      "source": [
        "loss, accuracy, f1_score, precision, recall = glove_model2.evaluate(val_X_tokenized, val_Y, verbose=0)\n",
        "print(loss, accuracy, f1_score, precision, recall)"
      ],
      "execution_count": 193,
      "outputs": [
        {
          "output_type": "stream",
          "text": [
            "2.7360236644744873 0.6163797974586487 0.6169232130050659 0.6175201535224915 0.6163490414619446\n"
          ],
          "name": "stdout"
        }
      ]
    },
    {
      "cell_type": "code",
      "metadata": {
        "colab": {
          "base_uri": "https://localhost:8080/",
          "height": 573
        },
        "id": "K64lItTf5z4j",
        "outputId": "3b5de19e-4a26-425d-9afc-577be9d4dc7d"
      },
      "source": [
        "# plot history\n",
        "# Plot training & validation accuracy values\n",
        "import matplotlib.pyplot as plt \n",
        "plt.plot(history.history['accuracy'])\n",
        "plt.plot(history.history['val_accuracy'])\n",
        "plt.title('Model accuracy')\n",
        "plt.ylabel('Accuracy')\n",
        "plt.xlabel('Epoch')\n",
        "plt.legend(['Train', 'Val'], loc='upper left')\n",
        "plt.show()\n",
        "\n",
        "# Plot training & validation loss values\n",
        "plt.plot(history.history['loss'])\n",
        "plt.plot(history.history['val_loss'])\n",
        "plt.title('Model loss')\n",
        "plt.ylabel('Loss')\n",
        "plt.xlabel('Epoch')\n",
        "plt.legend(['Train', 'Val'], loc='upper left')\n",
        "plt.show()  "
      ],
      "execution_count": 194,
      "outputs": [
        {
          "output_type": "display_data",
          "data": {
            "image/png": "[encoded data removed]",
            "text/plain": [
              "<Figure size 432x288 with 1 Axes>"
            ]
          },
          "metadata": {
            "tags": [],
            "needs_background": "light"
          }
        },
        {
          "output_type": "display_data",
          "data": {
            "image/png": "[encoded data removed]",
            "text/plain": [
              "<Figure size 432x288 with 1 Axes>"
            ]
          },
          "metadata": {
            "tags": [],
            "needs_background": "light"
          }
        }
      ]
    },
    {
      "cell_type": "markdown",
      "metadata": {
        "id": "22FcjnO0QhzD"
      },
      "source": [
        "**Feature: Tweets+Image,hasLink**"
      ]
    },
    {
      "cell_type": "code",
      "metadata": {
        "colab": {
          "background_save": true
        },
        "id": "kepl7ofbauFs",
        "outputId": "78ae1665-66c5-40e0-e241-87c31fc899ca"
      },
      "source": [
        "glove_model2_feature2 = models.Sequential()\n",
        "glove_model2_feature2.add(layers.Embedding(vocab_size,\n",
        "                            glove_dim,\n",
        "                            weights=[embedding_matrix],\n",
        "                            input_length=max_len+2,\n",
        "                            trainable=False))\n",
        "#glove_model.add(layers.LSTM(64))\n",
        "glove_model2_feature2.add(LSTM(128,return_sequences=True))\n",
        "glove_model2.add(layers.Dropout(0.8))\n",
        "glove_model2_feature2.add(LSTM(64,return_sequences=True))\n",
        "glove_model2.add(layers.Dropout(0.3))\n",
        "glove_model2_feature2.add(LSTM(32,return_sequences=False))\n",
        "glove_model2.add(layers.Dropout(0.3))\n",
        "glove_model2_feature2.add(layers.Dense(10,activation=\"relu\"))\n",
        "#glove_model2.add(layers.Dense(10,activation=\"relu\"))\n",
        "#glove_model.add(layers.Dropout(0.2))\n",
        "glove_model2_feature2.add(Dense(3, activation='softmax'))\n",
        "glove_model2_feature2.summary()"
      ],
      "execution_count": null,
      "outputs": [
        {
          "output_type": "stream",
          "text": [
            "Model: \"sequential_6\"\n",
            "_________________________________________________________________\n",
            "Layer (type)                 Output Shape              Param #   \n",
            "=================================================================\n",
            "embedding_6 (Embedding)      (None, 152, 200)          10110600  \n",
            "_________________________________________________________________\n",
            "lstm_9 (LSTM)                (None, 152, 128)          168448    \n",
            "_________________________________________________________________\n",
            "lstm_10 (LSTM)               (None, 152, 64)           49408     \n",
            "_________________________________________________________________\n",
            "lstm_11 (LSTM)               (None, 32)                12416     \n",
            "_________________________________________________________________\n",
            "dense_7 (Dense)              (None, 10)                330       \n",
            "_________________________________________________________________\n",
            "dense_8 (Dense)              (None, 3)                 33        \n",
            "=================================================================\n",
            "Total params: 10,341,235\n",
            "Trainable params: 230,635\n",
            "Non-trainable params: 10,110,600\n",
            "_________________________________________________________________\n"
          ],
          "name": "stdout"
        }
      ]
    },
    {
      "cell_type": "code",
      "metadata": {
        "colab": {
          "background_save": true
        },
        "id": "_IFOySX6b4LH",
        "outputId": "c561f47a-cbc6-4367-a2c0-0beb3c71fc38"
      },
      "source": [
        "X_train_df.shape"
      ],
      "execution_count": null,
      "outputs": [
        {
          "output_type": "execute_result",
          "data": {
            "text/plain": [
              "(37408, 152)"
            ]
          },
          "metadata": {
            "tags": []
          },
          "execution_count": 0
        }
      ]
    },
    {
      "cell_type": "code",
      "metadata": {
        "id": "wjjHkFgUbXVk",
        "colab": {
          "base_uri": "https://localhost:8080/"
        },
        "outputId": "df817966-bca8-4bf6-a0ff-73cb16899362"
      },
      "source": [
        "glove_model2_feature2.compile(loss='categorical_crossentropy', optimizer='adam', metrics=['accuracy',f1_m,precision_m, recall_m])\n",
        "\n",
        "from tensorflow.keras.callbacks import EarlyStopping\n",
        "\n",
        "history = glove_model2_feature2.fit(X_train_df, \n",
        "                    train_Y, \n",
        "                    batch_size=100, \n",
        "                    epochs=50, \n",
        "                    validation_data=(X_val_df, val_Y)\n",
        "                   \n",
        "                    )"
      ],
      "execution_count": 77,
      "outputs": [
        {
          "output_type": "stream",
          "text": [
            "Epoch 1/50\n",
            "375/375 [==============================] - 14s 37ms/step - loss: 0.0308 - accuracy: 0.9893 - f1_m: 0.9894 - precision_m: 0.9894 - recall_m: 0.9893 - val_loss: 3.0730 - val_accuracy: 0.5343 - val_f1_m: 0.5339 - val_precision_m: 0.5349 - val_recall_m: 0.5330\n",
            "Epoch 2/50\n",
            "375/375 [==============================] - 13s 34ms/step - loss: 0.0297 - accuracy: 0.9898 - f1_m: 0.9898 - precision_m: 0.9899 - recall_m: 0.9897 - val_loss: 3.1650 - val_accuracy: 0.5242 - val_f1_m: 0.5238 - val_precision_m: 0.5250 - val_recall_m: 0.5227\n",
            "Epoch 3/50\n",
            "375/375 [==============================] - 13s 34ms/step - loss: 0.0316 - accuracy: 0.9887 - f1_m: 0.9887 - precision_m: 0.9888 - recall_m: 0.9886 - val_loss: 2.9063 - val_accuracy: 0.5339 - val_f1_m: 0.5341 - val_precision_m: 0.5358 - val_recall_m: 0.5325\n",
            "Epoch 4/50\n",
            "375/375 [==============================] - 13s 35ms/step - loss: 0.0315 - accuracy: 0.9892 - f1_m: 0.9893 - precision_m: 0.9894 - recall_m: 0.9892 - val_loss: 2.9663 - val_accuracy: 0.5427 - val_f1_m: 0.5428 - val_precision_m: 0.5437 - val_recall_m: 0.5418\n",
            "Epoch 5/50\n",
            "375/375 [==============================] - 13s 34ms/step - loss: 0.0273 - accuracy: 0.9903 - f1_m: 0.9904 - precision_m: 0.9905 - recall_m: 0.9903 - val_loss: 3.0018 - val_accuracy: 0.5279 - val_f1_m: 0.5281 - val_precision_m: 0.5291 - val_recall_m: 0.5272\n",
            "Epoch 6/50\n",
            "375/375 [==============================] - 13s 34ms/step - loss: 0.0313 - accuracy: 0.9893 - f1_m: 0.9893 - precision_m: 0.9894 - recall_m: 0.9893 - val_loss: 3.0137 - val_accuracy: 0.5301 - val_f1_m: 0.5298 - val_precision_m: 0.5309 - val_recall_m: 0.5287\n",
            "Epoch 7/50\n",
            "375/375 [==============================] - 13s 34ms/step - loss: 0.0262 - accuracy: 0.9912 - f1_m: 0.9912 - precision_m: 0.9912 - recall_m: 0.9912 - val_loss: 2.9988 - val_accuracy: 0.5372 - val_f1_m: 0.5367 - val_precision_m: 0.5373 - val_recall_m: 0.5361\n",
            "Epoch 8/50\n",
            "375/375 [==============================] - 13s 34ms/step - loss: 0.0281 - accuracy: 0.9907 - f1_m: 0.9907 - precision_m: 0.9907 - recall_m: 0.9907 - val_loss: 2.9472 - val_accuracy: 0.5231 - val_f1_m: 0.5234 - val_precision_m: 0.5247 - val_recall_m: 0.5221\n",
            "Epoch 9/50\n",
            "375/375 [==============================] - 13s 34ms/step - loss: 0.0269 - accuracy: 0.9911 - f1_m: 0.9911 - precision_m: 0.9911 - recall_m: 0.9910 - val_loss: 3.0500 - val_accuracy: 0.5381 - val_f1_m: 0.5378 - val_precision_m: 0.5387 - val_recall_m: 0.5369\n",
            "Epoch 10/50\n",
            "375/375 [==============================] - 13s 34ms/step - loss: 0.0264 - accuracy: 0.9906 - f1_m: 0.9907 - precision_m: 0.9907 - recall_m: 0.9906 - val_loss: 2.9772 - val_accuracy: 0.5378 - val_f1_m: 0.5376 - val_precision_m: 0.5387 - val_recall_m: 0.5366\n",
            "Epoch 11/50\n",
            "375/375 [==============================] - 13s 34ms/step - loss: 0.0259 - accuracy: 0.9915 - f1_m: 0.9916 - precision_m: 0.9916 - recall_m: 0.9915 - val_loss: 3.0326 - val_accuracy: 0.5367 - val_f1_m: 0.5361 - val_precision_m: 0.5372 - val_recall_m: 0.5349\n",
            "Epoch 12/50\n",
            "375/375 [==============================] - 13s 34ms/step - loss: 0.0238 - accuracy: 0.9922 - f1_m: 0.9922 - precision_m: 0.9922 - recall_m: 0.9922 - val_loss: 2.9555 - val_accuracy: 0.5423 - val_f1_m: 0.5426 - val_precision_m: 0.5437 - val_recall_m: 0.5415\n",
            "Epoch 13/50\n",
            "375/375 [==============================] - 13s 34ms/step - loss: 0.0282 - accuracy: 0.9907 - f1_m: 0.9907 - precision_m: 0.9907 - recall_m: 0.9907 - val_loss: 2.9504 - val_accuracy: 0.5380 - val_f1_m: 0.5372 - val_precision_m: 0.5382 - val_recall_m: 0.5361\n",
            "Epoch 14/50\n",
            "375/375 [==============================] - 13s 34ms/step - loss: 0.0258 - accuracy: 0.9909 - f1_m: 0.9909 - precision_m: 0.9909 - recall_m: 0.9909 - val_loss: 2.9380 - val_accuracy: 0.5444 - val_f1_m: 0.5443 - val_precision_m: 0.5456 - val_recall_m: 0.5432\n",
            "Epoch 15/50\n",
            "375/375 [==============================] - 13s 34ms/step - loss: 0.0249 - accuracy: 0.9916 - f1_m: 0.9916 - precision_m: 0.9916 - recall_m: 0.9915 - val_loss: 2.9175 - val_accuracy: 0.5412 - val_f1_m: 0.5414 - val_precision_m: 0.5425 - val_recall_m: 0.5403\n",
            "Epoch 16/50\n",
            "375/375 [==============================] - 13s 34ms/step - loss: 0.0248 - accuracy: 0.9917 - f1_m: 0.9917 - precision_m: 0.9917 - recall_m: 0.9917 - val_loss: 3.0330 - val_accuracy: 0.5385 - val_f1_m: 0.5384 - val_precision_m: 0.5393 - val_recall_m: 0.5376\n",
            "Epoch 17/50\n",
            "375/375 [==============================] - 13s 34ms/step - loss: 0.0236 - accuracy: 0.9915 - f1_m: 0.9916 - precision_m: 0.9916 - recall_m: 0.9915 - val_loss: 3.0621 - val_accuracy: 0.5384 - val_f1_m: 0.5379 - val_precision_m: 0.5388 - val_recall_m: 0.5370\n",
            "Epoch 18/50\n",
            "375/375 [==============================] - 13s 34ms/step - loss: 0.0279 - accuracy: 0.9909 - f1_m: 0.9910 - precision_m: 0.9910 - recall_m: 0.9910 - val_loss: 2.9516 - val_accuracy: 0.5439 - val_f1_m: 0.5435 - val_precision_m: 0.5445 - val_recall_m: 0.5425\n",
            "Epoch 19/50\n",
            "375/375 [==============================] - 13s 34ms/step - loss: 0.0252 - accuracy: 0.9914 - f1_m: 0.9914 - precision_m: 0.9914 - recall_m: 0.9914 - val_loss: 2.9619 - val_accuracy: 0.5416 - val_f1_m: 0.5415 - val_precision_m: 0.5424 - val_recall_m: 0.5406\n",
            "Epoch 20/50\n",
            "375/375 [==============================] - 13s 34ms/step - loss: 0.0215 - accuracy: 0.9928 - f1_m: 0.9929 - precision_m: 0.9929 - recall_m: 0.9928 - val_loss: 3.0727 - val_accuracy: 0.5344 - val_f1_m: 0.5344 - val_precision_m: 0.5354 - val_recall_m: 0.5334\n",
            "Epoch 21/50\n",
            "375/375 [==============================] - 13s 34ms/step - loss: 0.0196 - accuracy: 0.9930 - f1_m: 0.9930 - precision_m: 0.9931 - recall_m: 0.9930 - val_loss: 3.0492 - val_accuracy: 0.5422 - val_f1_m: 0.5422 - val_precision_m: 0.5433 - val_recall_m: 0.5412\n",
            "Epoch 22/50\n",
            "375/375 [==============================] - 13s 34ms/step - loss: 0.0257 - accuracy: 0.9912 - f1_m: 0.9913 - precision_m: 0.9913 - recall_m: 0.9912 - val_loss: 2.9453 - val_accuracy: 0.5463 - val_f1_m: 0.5461 - val_precision_m: 0.5474 - val_recall_m: 0.5448\n",
            "Epoch 23/50\n",
            "375/375 [==============================] - 13s 34ms/step - loss: 0.0254 - accuracy: 0.9913 - f1_m: 0.9913 - precision_m: 0.9914 - recall_m: 0.9913 - val_loss: 2.9892 - val_accuracy: 0.5354 - val_f1_m: 0.5356 - val_precision_m: 0.5369 - val_recall_m: 0.5343\n",
            "Epoch 24/50\n",
            "375/375 [==============================] - 13s 34ms/step - loss: 0.0221 - accuracy: 0.9924 - f1_m: 0.9924 - precision_m: 0.9924 - recall_m: 0.9923 - val_loss: 3.0011 - val_accuracy: 0.5337 - val_f1_m: 0.5339 - val_precision_m: 0.5349 - val_recall_m: 0.5329\n",
            "Epoch 25/50\n",
            "375/375 [==============================] - 13s 34ms/step - loss: 0.0217 - accuracy: 0.9920 - f1_m: 0.9920 - precision_m: 0.9921 - recall_m: 0.9919 - val_loss: 3.0902 - val_accuracy: 0.5337 - val_f1_m: 0.5333 - val_precision_m: 0.5343 - val_recall_m: 0.5323\n",
            "Epoch 26/50\n",
            "375/375 [==============================] - 13s 34ms/step - loss: 0.0232 - accuracy: 0.9918 - f1_m: 0.9919 - precision_m: 0.9919 - recall_m: 0.9918 - val_loss: 2.9642 - val_accuracy: 0.5422 - val_f1_m: 0.5423 - val_precision_m: 0.5433 - val_recall_m: 0.5413\n",
            "Epoch 27/50\n",
            "375/375 [==============================] - 13s 34ms/step - loss: 0.0205 - accuracy: 0.9929 - f1_m: 0.9929 - precision_m: 0.9929 - recall_m: 0.9929 - val_loss: 3.0521 - val_accuracy: 0.5437 - val_f1_m: 0.5442 - val_precision_m: 0.5450 - val_recall_m: 0.5434\n",
            "Epoch 28/50\n",
            "375/375 [==============================] - 13s 34ms/step - loss: 0.0234 - accuracy: 0.9922 - f1_m: 0.9922 - precision_m: 0.9923 - recall_m: 0.9922 - val_loss: 3.0544 - val_accuracy: 0.5410 - val_f1_m: 0.5410 - val_precision_m: 0.5421 - val_recall_m: 0.5399\n",
            "Epoch 29/50\n",
            "375/375 [==============================] - 13s 34ms/step - loss: 0.0227 - accuracy: 0.9924 - f1_m: 0.9923 - precision_m: 0.9924 - recall_m: 0.9923 - val_loss: 3.0903 - val_accuracy: 0.5322 - val_f1_m: 0.5319 - val_precision_m: 0.5331 - val_recall_m: 0.5308\n",
            "Epoch 30/50\n",
            "375/375 [==============================] - 13s 34ms/step - loss: 0.0242 - accuracy: 0.9914 - f1_m: 0.9914 - precision_m: 0.9914 - recall_m: 0.9914 - val_loss: 2.9812 - val_accuracy: 0.5272 - val_f1_m: 0.5268 - val_precision_m: 0.5284 - val_recall_m: 0.5252\n",
            "Epoch 31/50\n",
            "375/375 [==============================] - 13s 34ms/step - loss: 0.0240 - accuracy: 0.9922 - f1_m: 0.9922 - precision_m: 0.9923 - recall_m: 0.9922 - val_loss: 2.9450 - val_accuracy: 0.5373 - val_f1_m: 0.5362 - val_precision_m: 0.5377 - val_recall_m: 0.5347\n",
            "Epoch 32/50\n",
            "375/375 [==============================] - 13s 34ms/step - loss: 0.0222 - accuracy: 0.9925 - f1_m: 0.9925 - precision_m: 0.9925 - recall_m: 0.9925 - val_loss: 3.1202 - val_accuracy: 0.5322 - val_f1_m: 0.5326 - val_precision_m: 0.5335 - val_recall_m: 0.5317\n",
            "Epoch 33/50\n",
            "375/375 [==============================] - 13s 34ms/step - loss: 0.0201 - accuracy: 0.9930 - f1_m: 0.9930 - precision_m: 0.9930 - recall_m: 0.9930 - val_loss: 2.9705 - val_accuracy: 0.5434 - val_f1_m: 0.5425 - val_precision_m: 0.5437 - val_recall_m: 0.5414\n",
            "Epoch 34/50\n",
            "375/375 [==============================] - 13s 34ms/step - loss: 0.0219 - accuracy: 0.9924 - f1_m: 0.9924 - precision_m: 0.9924 - recall_m: 0.9923 - val_loss: 3.0348 - val_accuracy: 0.5314 - val_f1_m: 0.5320 - val_precision_m: 0.5330 - val_recall_m: 0.5309\n",
            "Epoch 35/50\n",
            "375/375 [==============================] - 13s 34ms/step - loss: 0.0210 - accuracy: 0.9929 - f1_m: 0.9930 - precision_m: 0.9930 - recall_m: 0.9929 - val_loss: 2.9460 - val_accuracy: 0.5410 - val_f1_m: 0.5410 - val_precision_m: 0.5423 - val_recall_m: 0.5397\n",
            "Epoch 36/50\n",
            "375/375 [==============================] - 13s 34ms/step - loss: 0.0191 - accuracy: 0.9933 - f1_m: 0.9934 - precision_m: 0.9934 - recall_m: 0.9934 - val_loss: 3.0444 - val_accuracy: 0.5391 - val_f1_m: 0.5390 - val_precision_m: 0.5401 - val_recall_m: 0.5379\n",
            "Epoch 37/50\n",
            "375/375 [==============================] - 13s 34ms/step - loss: 0.0208 - accuracy: 0.9928 - f1_m: 0.9928 - precision_m: 0.9929 - recall_m: 0.9928 - val_loss: 3.1258 - val_accuracy: 0.5270 - val_f1_m: 0.5269 - val_precision_m: 0.5278 - val_recall_m: 0.5260\n",
            "Epoch 38/50\n",
            "375/375 [==============================] - 13s 34ms/step - loss: 0.0180 - accuracy: 0.9934 - f1_m: 0.9934 - precision_m: 0.9934 - recall_m: 0.9934 - val_loss: 3.0705 - val_accuracy: 0.5405 - val_f1_m: 0.5399 - val_precision_m: 0.5408 - val_recall_m: 0.5390\n",
            "Epoch 39/50\n",
            "375/375 [==============================] - 13s 34ms/step - loss: 0.0208 - accuracy: 0.9926 - f1_m: 0.9926 - precision_m: 0.9926 - recall_m: 0.9925 - val_loss: 2.9796 - val_accuracy: 0.5376 - val_f1_m: 0.5378 - val_precision_m: 0.5388 - val_recall_m: 0.5369\n",
            "Epoch 40/50\n",
            "375/375 [==============================] - 13s 34ms/step - loss: 0.0232 - accuracy: 0.9922 - f1_m: 0.9923 - precision_m: 0.9923 - recall_m: 0.9922 - val_loss: 2.9593 - val_accuracy: 0.5398 - val_f1_m: 0.5390 - val_precision_m: 0.5402 - val_recall_m: 0.5379\n",
            "Epoch 41/50\n",
            "375/375 [==============================] - 13s 34ms/step - loss: 0.0177 - accuracy: 0.9935 - f1_m: 0.9935 - precision_m: 0.9935 - recall_m: 0.9935 - val_loss: 3.0317 - val_accuracy: 0.5447 - val_f1_m: 0.5440 - val_precision_m: 0.5450 - val_recall_m: 0.5429\n",
            "Epoch 42/50\n",
            "375/375 [==============================] - 13s 34ms/step - loss: 0.0193 - accuracy: 0.9929 - f1_m: 0.9927 - precision_m: 0.9927 - recall_m: 0.9926 - val_loss: 3.0984 - val_accuracy: 0.5405 - val_f1_m: 0.5396 - val_precision_m: 0.5403 - val_recall_m: 0.5388\n",
            "Epoch 43/50\n",
            "375/375 [==============================] - 13s 34ms/step - loss: 0.0231 - accuracy: 0.9924 - f1_m: 0.9924 - precision_m: 0.9924 - recall_m: 0.9923 - val_loss: 3.0883 - val_accuracy: 0.5348 - val_f1_m: 0.5342 - val_precision_m: 0.5351 - val_recall_m: 0.5334\n",
            "Epoch 44/50\n",
            "375/375 [==============================] - 13s 34ms/step - loss: 0.0163 - accuracy: 0.9941 - f1_m: 0.9942 - precision_m: 0.9942 - recall_m: 0.9941 - val_loss: 3.1322 - val_accuracy: 0.5398 - val_f1_m: 0.5389 - val_precision_m: 0.5398 - val_recall_m: 0.5379\n",
            "Epoch 45/50\n",
            "375/375 [==============================] - 13s 34ms/step - loss: 0.0177 - accuracy: 0.9939 - f1_m: 0.9939 - precision_m: 0.9939 - recall_m: 0.9939 - val_loss: 3.1545 - val_accuracy: 0.5424 - val_f1_m: 0.5426 - val_precision_m: 0.5435 - val_recall_m: 0.5416\n",
            "Epoch 46/50\n",
            "375/375 [==============================] - 13s 34ms/step - loss: 0.0160 - accuracy: 0.9943 - f1_m: 0.9943 - precision_m: 0.9944 - recall_m: 0.9943 - val_loss: 3.1969 - val_accuracy: 0.5317 - val_f1_m: 0.5314 - val_precision_m: 0.5324 - val_recall_m: 0.5305\n",
            "Epoch 47/50\n",
            "375/375 [==============================] - 13s 34ms/step - loss: 0.0229 - accuracy: 0.9917 - f1_m: 0.9914 - precision_m: 0.9915 - recall_m: 0.9914 - val_loss: 3.1221 - val_accuracy: 0.5413 - val_f1_m: 0.5416 - val_precision_m: 0.5424 - val_recall_m: 0.5409\n",
            "Epoch 48/50\n",
            "375/375 [==============================] - 13s 34ms/step - loss: 0.0262 - accuracy: 0.9913 - f1_m: 0.9913 - precision_m: 0.9914 - recall_m: 0.9912 - val_loss: 2.9222 - val_accuracy: 0.5388 - val_f1_m: 0.5385 - val_precision_m: 0.5392 - val_recall_m: 0.5378\n",
            "Epoch 49/50\n",
            "375/375 [==============================] - 13s 35ms/step - loss: 0.0203 - accuracy: 0.9933 - f1_m: 0.9933 - precision_m: 0.9933 - recall_m: 0.9933 - val_loss: 2.9577 - val_accuracy: 0.5427 - val_f1_m: 0.5424 - val_precision_m: 0.5433 - val_recall_m: 0.5415\n",
            "Epoch 50/50\n",
            "375/375 [==============================] - 13s 35ms/step - loss: 0.0169 - accuracy: 0.9940 - f1_m: 0.9940 - precision_m: 0.9941 - recall_m: 0.9940 - val_loss: 3.0859 - val_accuracy: 0.5368 - val_f1_m: 0.5366 - val_precision_m: 0.5376 - val_recall_m: 0.5357\n"
          ],
          "name": "stdout"
        }
      ]
    },
    {
      "cell_type": "code",
      "metadata": {
        "id": "EBpDQnP7GvpH",
        "colab": {
          "base_uri": "https://localhost:8080/"
        },
        "outputId": "dd5436db-3f71-43b6-947b-af0a3c163dcf"
      },
      "source": [
        "loss, accuracy, f1_score, precision, recall = glove_model2_feature2.evaluate(X_val_df, val_Y, verbose=0)\n",
        "print(loss, accuracy, f1_score, precision, recall)"
      ],
      "execution_count": 89,
      "outputs": [
        {
          "output_type": "stream",
          "text": [
            "3.085869073867798 0.5368331074714661 0.5371353626251221 0.5380499362945557 0.5362509489059448\n"
          ],
          "name": "stdout"
        }
      ]
    },
    {
      "cell_type": "code",
      "metadata": {
        "id": "waO7y2hPbXeE"
      },
      "source": [
        "# plot history\n",
        "# Plot training & validation accuracy values\n",
        "import matplotlib.pyplot as plt \n",
        "plt.plot(history.history['accuracy'])\n",
        "plt.plot(history.history['val_accuracy'])\n",
        "plt.title('Model accuracy')\n",
        "plt.ylabel('Accuracy')\n",
        "plt.xlabel('Epoch')\n",
        "plt.legend(['Train', 'Val'], loc='upper left')\n",
        "plt.show()\n",
        "\n",
        "# Plot training & validation loss values\n",
        "plt.plot(history.history['loss'])\n",
        "plt.plot(history.history['val_loss'])\n",
        "plt.title('Model loss')\n",
        "plt.ylabel('Loss')\n",
        "plt.xlabel('Epoch')\n",
        "plt.legend(['Train', 'Val'], loc='upper left')\n",
        "plt.show()"
      ],
      "execution_count": null,
      "outputs": []
    },
    {
      "cell_type": "markdown",
      "metadata": {
        "id": "ab2fxZb2SXdy"
      },
      "source": [
        "Features: TweetText + Likes + Retweets"
      ]
    },
    {
      "cell_type": "code",
      "metadata": {
        "id": "miwo789XSW62"
      },
      "source": [
        "data_long = pd.read_csv('CSE243-TweetResponsePrediction/Data-new/Data-clean/2011-2020_all_cols.csv')"
      ],
      "execution_count": 78,
      "outputs": []
    },
    {
      "cell_type": "code",
      "metadata": {
        "id": "n_Wkajvm6D34",
        "colab": {
          "base_uri": "https://localhost:8080/",
          "height": 204
        },
        "outputId": "de810dec-5dfb-4014-cbde-7acac0f86e5a"
      },
      "source": [
        "data_long.head()"
      ],
      "execution_count": 137,
      "outputs": [
        {
          "output_type": "execute_result",
          "data": {
            "text/html": [
              "<div>\n",
              "<style scoped>\n",
              "    .dataframe tbody tr th:only-of-type {\n",
              "        vertical-align: middle;\n",
              "    }\n",
              "\n",
              "    .dataframe tbody tr th {\n",
              "        vertical-align: top;\n",
              "    }\n",
              "\n",
              "    .dataframe thead th {\n",
              "        text-align: right;\n",
              "    }\n",
              "</style>\n",
              "<table border=\"1\" class=\"dataframe\">\n",
              "  <thead>\n",
              "    <tr style=\"text-align: right;\">\n",
              "      <th></th>\n",
              "      <th>tweets_Date</th>\n",
              "      <th>tweets_Likes</th>\n",
              "      <th>tweets_Replies</th>\n",
              "      <th>tweets_Retweets</th>\n",
              "      <th>tweets_Text</th>\n",
              "      <th>has_image</th>\n",
              "      <th>has_Link</th>\n",
              "    </tr>\n",
              "  </thead>\n",
              "  <tbody>\n",
              "    <tr>\n",
              "      <th>0</th>\n",
              "      <td>Dec 31, 2019</td>\n",
              "      <td>292.0</td>\n",
              "      <td>30.0</td>\n",
              "      <td>97.0</td>\n",
              "      <td>syd mead visionary artist helped shape look bl...</td>\n",
              "      <td>1</td>\n",
              "      <td>0</td>\n",
              "    </tr>\n",
              "    <tr>\n",
              "      <th>1</th>\n",
              "      <td>Dec 31, 2019</td>\n",
              "      <td>494.0</td>\n",
              "      <td>178.0</td>\n",
              "      <td>193.0</td>\n",
              "      <td>us sending additional forces protect embassy b...</td>\n",
              "      <td>1</td>\n",
              "      <td>0</td>\n",
              "    </tr>\n",
              "    <tr>\n",
              "      <th>2</th>\n",
              "      <td>Dec 31, 2019</td>\n",
              "      <td>205.0</td>\n",
              "      <td>28.0</td>\n",
              "      <td>74.0</td>\n",
              "      <td>book publishing legend sonny mehta editorinchi...</td>\n",
              "      <td>1</td>\n",
              "      <td>0</td>\n",
              "    </tr>\n",
              "    <tr>\n",
              "      <th>3</th>\n",
              "      <td>Dec 31, 2019</td>\n",
              "      <td>319.0</td>\n",
              "      <td>165.0</td>\n",
              "      <td>128.0</td>\n",
              "      <td>president trump weighs protesters attempts sto...</td>\n",
              "      <td>1</td>\n",
              "      <td>0</td>\n",
              "    </tr>\n",
              "    <tr>\n",
              "      <th>4</th>\n",
              "      <td>Dec 31, 2019</td>\n",
              "      <td>198.0</td>\n",
              "      <td>77.0</td>\n",
              "      <td>101.0</td>\n",
              "      <td>proiranian protesters tried storm us embassy b...</td>\n",
              "      <td>1</td>\n",
              "      <td>0</td>\n",
              "    </tr>\n",
              "  </tbody>\n",
              "</table>\n",
              "</div>"
            ],
            "text/plain": [
              "    tweets_Date  tweets_Likes  ...  has_image  has_Link\n",
              "0  Dec 31, 2019         292.0  ...          1         0\n",
              "1  Dec 31, 2019         494.0  ...          1         0\n",
              "2  Dec 31, 2019         205.0  ...          1         0\n",
              "3  Dec 31, 2019         319.0  ...          1         0\n",
              "4  Dec 31, 2019         198.0  ...          1         0\n",
              "\n",
              "[5 rows x 7 columns]"
            ]
          },
          "metadata": {
            "tags": []
          },
          "execution_count": 137
        }
      ]
    },
    {
      "cell_type": "code",
      "metadata": {
        "id": "i5bsy5oUSyZ0"
      },
      "source": [
        "data_long.dropna(subset=['tweets_Text'], inplace=True) "
      ],
      "execution_count": 138,
      "outputs": []
    },
    {
      "cell_type": "code",
      "metadata": {
        "id": "g_2KoBkJdlEu"
      },
      "source": [
        "labels_long = data_long[\"tweets_ResponseCategory\"]\n",
        "data_long.drop(\"tweets_ResponseCategory\", axis=1, inplace=True)"
      ],
      "execution_count": 83,
      "outputs": []
    },
    {
      "cell_type": "code",
      "metadata": {
        "id": "36_A2TPNdp0C"
      },
      "source": [
        "X_train_l, X_val_l, y_train_l, y_val_l = train_test_split(data_long, labels, test_size=0.20, random_state=42)"
      ],
      "execution_count": 160,
      "outputs": []
    },
    {
      "cell_type": "code",
      "metadata": {
        "id": "TDhAW2B9d9Ax"
      },
      "source": [
        "train_text_l = get_tweetText(X_train_l)\n",
        "val_text_l = get_tweetText(X_val_l)\n",
        "\n",
        "\n",
        "train_X_tokenized_l, val_X_tokenized_l, tokenizer_l = tokenizer_(X_train_l, X_val_l, max_features, max_len)\n"
      ],
      "execution_count": 161,
      "outputs": []
    },
    {
      "cell_type": "code",
      "metadata": {
        "id": "_vA2HyB0evjo"
      },
      "source": [
        "from keras.utils import to_categorical\n",
        "from sklearn.preprocessing import LabelEncoder\n",
        "\n",
        "le = LabelEncoder()\n",
        "y_train_le_l = le.fit_transform(y_train_l)\n",
        "y_val_le_l = le.transform(y_val_l)\n",
        "##THESE are the final labels\n",
        "train_Y_l = to_categorical(y_train_le_l)\n",
        "val_Y_l = to_categorical(y_val_le_l)"
      ],
      "execution_count": 162,
      "outputs": []
    },
    {
      "cell_type": "code",
      "metadata": {
        "colab": {
          "base_uri": "https://localhost:8080/",
          "height": 204
        },
        "id": "ShSTJ28ihhBi",
        "outputId": "0e87f180-1461-4085-9e48-ce993f695d57"
      },
      "source": [
        "X_train_l.head()"
      ],
      "execution_count": 163,
      "outputs": [
        {
          "output_type": "execute_result",
          "data": {
            "text/html": [
              "<div>\n",
              "<style scoped>\n",
              "    .dataframe tbody tr th:only-of-type {\n",
              "        vertical-align: middle;\n",
              "    }\n",
              "\n",
              "    .dataframe tbody tr th {\n",
              "        vertical-align: top;\n",
              "    }\n",
              "\n",
              "    .dataframe thead th {\n",
              "        text-align: right;\n",
              "    }\n",
              "</style>\n",
              "<table border=\"1\" class=\"dataframe\">\n",
              "  <thead>\n",
              "    <tr style=\"text-align: right;\">\n",
              "      <th></th>\n",
              "      <th>tweets_Date</th>\n",
              "      <th>tweets_Likes</th>\n",
              "      <th>tweets_Replies</th>\n",
              "      <th>tweets_Retweets</th>\n",
              "      <th>tweets_Text</th>\n",
              "      <th>has_image</th>\n",
              "      <th>has_Link</th>\n",
              "    </tr>\n",
              "  </thead>\n",
              "  <tbody>\n",
              "    <tr>\n",
              "      <th>43803</th>\n",
              "      <td>Aug 4, 2015</td>\n",
              "      <td>442.0</td>\n",
              "      <td>46.0</td>\n",
              "      <td>398.0</td>\n",
              "      <td>les munro last surviving pilot rafs legendary ...</td>\n",
              "      <td>1</td>\n",
              "      <td>1</td>\n",
              "    </tr>\n",
              "    <tr>\n",
              "      <th>15239</th>\n",
              "      <td>May 17, 2016</td>\n",
              "      <td>296.0</td>\n",
              "      <td>43.0</td>\n",
              "      <td>237.0</td>\n",
              "      <td>senate approves 11 billion compromise bill com...</td>\n",
              "      <td>0</td>\n",
              "      <td>0</td>\n",
              "    </tr>\n",
              "    <tr>\n",
              "      <th>5183</th>\n",
              "      <td>Oct 22</td>\n",
              "      <td>1000.0</td>\n",
              "      <td>141.0</td>\n",
              "      <td>265.0</td>\n",
              "      <td>moderna first company start us clinical trials...</td>\n",
              "      <td>1</td>\n",
              "      <td>1</td>\n",
              "    </tr>\n",
              "    <tr>\n",
              "      <th>12024</th>\n",
              "      <td>Jun 29, 2012</td>\n",
              "      <td>29.0</td>\n",
              "      <td>77.0</td>\n",
              "      <td>298.0</td>\n",
              "      <td>dallas naacp seeks end texas lottery saying dr...</td>\n",
              "      <td>0</td>\n",
              "      <td>0</td>\n",
              "    </tr>\n",
              "    <tr>\n",
              "      <th>45182</th>\n",
              "      <td>Apr 8, 2017</td>\n",
              "      <td>609.0</td>\n",
              "      <td>68.0</td>\n",
              "      <td>308.0</td>\n",
              "      <td>great white shark trapped reef along californi...</td>\n",
              "      <td>1</td>\n",
              "      <td>0</td>\n",
              "    </tr>\n",
              "  </tbody>\n",
              "</table>\n",
              "</div>"
            ],
            "text/plain": [
              "        tweets_Date  tweets_Likes  ...  has_image  has_Link\n",
              "43803   Aug 4, 2015         442.0  ...          1         1\n",
              "15239  May 17, 2016         296.0  ...          0         0\n",
              "5183         Oct 22        1000.0  ...          1         1\n",
              "12024  Jun 29, 2012          29.0  ...          0         0\n",
              "45182   Apr 8, 2017         609.0  ...          1         0\n",
              "\n",
              "[5 rows x 7 columns]"
            ]
          },
          "metadata": {
            "tags": []
          },
          "execution_count": 163
        }
      ]
    },
    {
      "cell_type": "code",
      "metadata": {
        "id": "BFok2BCee6CQ"
      },
      "source": [
        "X_train_new_l = X_train_l[:]\n",
        "X_val_new_l = X_val_l[:]\n"
      ],
      "execution_count": 164,
      "outputs": []
    },
    {
      "cell_type": "code",
      "metadata": {
        "colab": {
          "base_uri": "https://localhost:8080/"
        },
        "id": "ndJQRUSWheIX",
        "outputId": "b4e1084b-5be0-4eb6-a508-53d6f6e8e883"
      },
      "source": [
        "X_train_new_l.drop([\"tweets_Text\", \"tweets_Date\", \"tweets_Replies\", \"has_image\", \"has_Link\"], axis=1, inplace=True)\n",
        "X_val_new_l.drop([\"tweets_Text\", \"tweets_Date\", \"tweets_Replies\", \"has_image\", \"has_Link\"], axis=1, inplace=True)\n"
      ],
      "execution_count": 165,
      "outputs": [
        {
          "output_type": "stream",
          "text": [
            "/usr/local/lib/python3.6/dist-packages/pandas/core/frame.py:4174: SettingWithCopyWarning: \n",
            "A value is trying to be set on a copy of a slice from a DataFrame\n",
            "\n",
            "See the caveats in the documentation: https://pandas.pydata.org/pandas-docs/stable/user_guide/indexing.html#returning-a-view-versus-a-copy\n",
            "  errors=errors,\n"
          ],
          "name": "stderr"
        }
      ]
    },
    {
      "cell_type": "code",
      "metadata": {
        "colab": {
          "base_uri": "https://localhost:8080/",
          "height": 204
        },
        "id": "zwjmKzsniRg0",
        "outputId": "44c86685-586f-4959-fdc0-a5e4837cf711"
      },
      "source": [
        "X_val_new_l.head()\n"
      ],
      "execution_count": 166,
      "outputs": [
        {
          "output_type": "execute_result",
          "data": {
            "text/html": [
              "<div>\n",
              "<style scoped>\n",
              "    .dataframe tbody tr th:only-of-type {\n",
              "        vertical-align: middle;\n",
              "    }\n",
              "\n",
              "    .dataframe tbody tr th {\n",
              "        vertical-align: top;\n",
              "    }\n",
              "\n",
              "    .dataframe thead th {\n",
              "        text-align: right;\n",
              "    }\n",
              "</style>\n",
              "<table border=\"1\" class=\"dataframe\">\n",
              "  <thead>\n",
              "    <tr style=\"text-align: right;\">\n",
              "      <th></th>\n",
              "      <th>tweets_Likes</th>\n",
              "      <th>tweets_Retweets</th>\n",
              "    </tr>\n",
              "  </thead>\n",
              "  <tbody>\n",
              "    <tr>\n",
              "      <th>5598</th>\n",
              "      <td>4400.0</td>\n",
              "      <td>690.0</td>\n",
              "    </tr>\n",
              "    <tr>\n",
              "      <th>3714</th>\n",
              "      <td>979.0</td>\n",
              "      <td>183.0</td>\n",
              "    </tr>\n",
              "    <tr>\n",
              "      <th>29029</th>\n",
              "      <td>13.0</td>\n",
              "      <td>140.0</td>\n",
              "    </tr>\n",
              "    <tr>\n",
              "      <th>20840</th>\n",
              "      <td>336.0</td>\n",
              "      <td>440.0</td>\n",
              "    </tr>\n",
              "    <tr>\n",
              "      <th>20999</th>\n",
              "      <td>133.0</td>\n",
              "      <td>249.0</td>\n",
              "    </tr>\n",
              "  </tbody>\n",
              "</table>\n",
              "</div>"
            ],
            "text/plain": [
              "       tweets_Likes  tweets_Retweets\n",
              "5598         4400.0            690.0\n",
              "3714          979.0            183.0\n",
              "29029          13.0            140.0\n",
              "20840         336.0            440.0\n",
              "20999         133.0            249.0"
            ]
          },
          "metadata": {
            "tags": []
          },
          "execution_count": 166
        }
      ]
    },
    {
      "cell_type": "code",
      "metadata": {
        "colab": {
          "base_uri": "https://localhost:8080/"
        },
        "id": "YBffPrLAqefg",
        "outputId": "31d2a7fe-7103-4ea7-93c3-3106b7db1b5c"
      },
      "source": [
        "X_val_new_l['tweets_Likes'] = X_val_new_l['tweets_Likes'].fillna(0) \n",
        "X_val_new_l['tweets_Retweets'] = X_val_new_l['tweets_Retweets'].fillna(0) \n",
        "\n",
        "X_train_new_l['tweets_Likes'] = X_train_new_l['tweets_Likes'].fillna(0) \n",
        "X_train_new_l['tweets_Retweets'] = X_train_new_l['tweets_Retweets'].fillna(0) "
      ],
      "execution_count": 167,
      "outputs": [
        {
          "output_type": "stream",
          "text": [
            "/usr/local/lib/python3.6/dist-packages/ipykernel_launcher.py:1: SettingWithCopyWarning: \n",
            "A value is trying to be set on a copy of a slice from a DataFrame.\n",
            "Try using .loc[row_indexer,col_indexer] = value instead\n",
            "\n",
            "See the caveats in the documentation: https://pandas.pydata.org/pandas-docs/stable/user_guide/indexing.html#returning-a-view-versus-a-copy\n",
            "  \"\"\"Entry point for launching an IPython kernel.\n",
            "/usr/local/lib/python3.6/dist-packages/ipykernel_launcher.py:2: SettingWithCopyWarning: \n",
            "A value is trying to be set on a copy of a slice from a DataFrame.\n",
            "Try using .loc[row_indexer,col_indexer] = value instead\n",
            "\n",
            "See the caveats in the documentation: https://pandas.pydata.org/pandas-docs/stable/user_guide/indexing.html#returning-a-view-versus-a-copy\n",
            "  \n",
            "/usr/local/lib/python3.6/dist-packages/ipykernel_launcher.py:4: SettingWithCopyWarning: \n",
            "A value is trying to be set on a copy of a slice from a DataFrame.\n",
            "Try using .loc[row_indexer,col_indexer] = value instead\n",
            "\n",
            "See the caveats in the documentation: https://pandas.pydata.org/pandas-docs/stable/user_guide/indexing.html#returning-a-view-versus-a-copy\n",
            "  after removing the cwd from sys.path.\n",
            "/usr/local/lib/python3.6/dist-packages/ipykernel_launcher.py:5: SettingWithCopyWarning: \n",
            "A value is trying to be set on a copy of a slice from a DataFrame.\n",
            "Try using .loc[row_indexer,col_indexer] = value instead\n",
            "\n",
            "See the caveats in the documentation: https://pandas.pydata.org/pandas-docs/stable/user_guide/indexing.html#returning-a-view-versus-a-copy\n",
            "  \"\"\"\n"
          ],
          "name": "stderr"
        }
      ]
    },
    {
      "cell_type": "code",
      "metadata": {
        "colab": {
          "base_uri": "https://localhost:8080/"
        },
        "id": "7x3aiU0cpZbl",
        "outputId": "18f72591-dbef-4bc6-94ca-707e2ea64c91"
      },
      "source": [
        "X_val_new_l['tweets_Likes'] = X_val_new_l['tweets_Likes'].astype(np.int64)\n",
        "X_val_new_l['tweets_Retweets'] = X_val_new_l['tweets_Retweets'].astype(np.int64)\n",
        "\n",
        "X_train_new_l['tweets_Likes'] = X_train_new_l['tweets_Likes'].astype(np.int64)\n",
        "X_train_new_l['tweets_Retweets'] = X_train_new_l['tweets_Retweets'].astype(np.int64)\n"
      ],
      "execution_count": 168,
      "outputs": [
        {
          "output_type": "stream",
          "text": [
            "/usr/local/lib/python3.6/dist-packages/ipykernel_launcher.py:1: SettingWithCopyWarning: \n",
            "A value is trying to be set on a copy of a slice from a DataFrame.\n",
            "Try using .loc[row_indexer,col_indexer] = value instead\n",
            "\n",
            "See the caveats in the documentation: https://pandas.pydata.org/pandas-docs/stable/user_guide/indexing.html#returning-a-view-versus-a-copy\n",
            "  \"\"\"Entry point for launching an IPython kernel.\n",
            "/usr/local/lib/python3.6/dist-packages/ipykernel_launcher.py:2: SettingWithCopyWarning: \n",
            "A value is trying to be set on a copy of a slice from a DataFrame.\n",
            "Try using .loc[row_indexer,col_indexer] = value instead\n",
            "\n",
            "See the caveats in the documentation: https://pandas.pydata.org/pandas-docs/stable/user_guide/indexing.html#returning-a-view-versus-a-copy\n",
            "  \n",
            "/usr/local/lib/python3.6/dist-packages/ipykernel_launcher.py:4: SettingWithCopyWarning: \n",
            "A value is trying to be set on a copy of a slice from a DataFrame.\n",
            "Try using .loc[row_indexer,col_indexer] = value instead\n",
            "\n",
            "See the caveats in the documentation: https://pandas.pydata.org/pandas-docs/stable/user_guide/indexing.html#returning-a-view-versus-a-copy\n",
            "  after removing the cwd from sys.path.\n",
            "/usr/local/lib/python3.6/dist-packages/ipykernel_launcher.py:5: SettingWithCopyWarning: \n",
            "A value is trying to be set on a copy of a slice from a DataFrame.\n",
            "Try using .loc[row_indexer,col_indexer] = value instead\n",
            "\n",
            "See the caveats in the documentation: https://pandas.pydata.org/pandas-docs/stable/user_guide/indexing.html#returning-a-view-versus-a-copy\n",
            "  \"\"\"\n"
          ],
          "name": "stderr"
        }
      ]
    },
    {
      "cell_type": "code",
      "metadata": {
        "colab": {
          "base_uri": "https://localhost:8080/"
        },
        "id": "dE-jt4nWxA_o",
        "outputId": "0b7811f7-c878-4322-e7ef-79c336a51fb4"
      },
      "source": [
        "X_train_new_l['tweets_Likes'] = (X_train_new_l['tweets_Likes'] - X_train_new_l['tweets_Likes'].min()) / (X_train_new_l['tweets_Likes'].max() - X_train_new_l['tweets_Likes'].min())\n",
        "X_train_new_l['tweets_Retweets'] = (X_train_new_l['tweets_Retweets'] - X_train_new_l['tweets_Retweets'].min()) / (X_train_new_l['tweets_Retweets'].max() - X_train_new_l['tweets_Retweets'].min())\n",
        "\n",
        "X_val_new_l['tweets_Likes'] = (X_val_new_l['tweets_Likes'] - X_val_new_l['tweets_Likes'].min()) / (X_val_new_l['tweets_Likes'].max() - X_val_new_l['tweets_Likes'].min())\n",
        "X_val_new_l['tweets_Retweets'] = (X_val_new_l['tweets_Retweets'] - X_val_new_l['tweets_Retweets'].min()) / (X_val_new_l['tweets_Retweets'].max() - X_val_new_l['tweets_Retweets'].min())\n",
        "\n"
      ],
      "execution_count": 169,
      "outputs": [
        {
          "output_type": "stream",
          "text": [
            "/usr/local/lib/python3.6/dist-packages/ipykernel_launcher.py:1: SettingWithCopyWarning: \n",
            "A value is trying to be set on a copy of a slice from a DataFrame.\n",
            "Try using .loc[row_indexer,col_indexer] = value instead\n",
            "\n",
            "See the caveats in the documentation: https://pandas.pydata.org/pandas-docs/stable/user_guide/indexing.html#returning-a-view-versus-a-copy\n",
            "  \"\"\"Entry point for launching an IPython kernel.\n",
            "/usr/local/lib/python3.6/dist-packages/ipykernel_launcher.py:2: SettingWithCopyWarning: \n",
            "A value is trying to be set on a copy of a slice from a DataFrame.\n",
            "Try using .loc[row_indexer,col_indexer] = value instead\n",
            "\n",
            "See the caveats in the documentation: https://pandas.pydata.org/pandas-docs/stable/user_guide/indexing.html#returning-a-view-versus-a-copy\n",
            "  \n",
            "/usr/local/lib/python3.6/dist-packages/ipykernel_launcher.py:4: SettingWithCopyWarning: \n",
            "A value is trying to be set on a copy of a slice from a DataFrame.\n",
            "Try using .loc[row_indexer,col_indexer] = value instead\n",
            "\n",
            "See the caveats in the documentation: https://pandas.pydata.org/pandas-docs/stable/user_guide/indexing.html#returning-a-view-versus-a-copy\n",
            "  after removing the cwd from sys.path.\n",
            "/usr/local/lib/python3.6/dist-packages/ipykernel_launcher.py:5: SettingWithCopyWarning: \n",
            "A value is trying to be set on a copy of a slice from a DataFrame.\n",
            "Try using .loc[row_indexer,col_indexer] = value instead\n",
            "\n",
            "See the caveats in the documentation: https://pandas.pydata.org/pandas-docs/stable/user_guide/indexing.html#returning-a-view-versus-a-copy\n",
            "  \"\"\"\n"
          ],
          "name": "stderr"
        }
      ]
    },
    {
      "cell_type": "code",
      "metadata": {
        "colab": {
          "base_uri": "https://localhost:8080/",
          "height": 204
        },
        "id": "IzdaKCo_pwxl",
        "outputId": "da69c8d2-08f2-4f50-aead-e40602d7b90b"
      },
      "source": [
        "X_train_new_l.head()"
      ],
      "execution_count": 170,
      "outputs": [
        {
          "output_type": "execute_result",
          "data": {
            "text/html": [
              "<div>\n",
              "<style scoped>\n",
              "    .dataframe tbody tr th:only-of-type {\n",
              "        vertical-align: middle;\n",
              "    }\n",
              "\n",
              "    .dataframe tbody tr th {\n",
              "        vertical-align: top;\n",
              "    }\n",
              "\n",
              "    .dataframe thead th {\n",
              "        text-align: right;\n",
              "    }\n",
              "</style>\n",
              "<table border=\"1\" class=\"dataframe\">\n",
              "  <thead>\n",
              "    <tr style=\"text-align: right;\">\n",
              "      <th></th>\n",
              "      <th>tweets_Likes</th>\n",
              "      <th>tweets_Retweets</th>\n",
              "    </tr>\n",
              "  </thead>\n",
              "  <tbody>\n",
              "    <tr>\n",
              "      <th>43803</th>\n",
              "      <td>0.001781</td>\n",
              "      <td>0.003477</td>\n",
              "    </tr>\n",
              "    <tr>\n",
              "      <th>15239</th>\n",
              "      <td>0.001193</td>\n",
              "      <td>0.002063</td>\n",
              "    </tr>\n",
              "    <tr>\n",
              "      <th>5183</th>\n",
              "      <td>0.004029</td>\n",
              "      <td>0.002309</td>\n",
              "    </tr>\n",
              "    <tr>\n",
              "      <th>12024</th>\n",
              "      <td>0.000117</td>\n",
              "      <td>0.002599</td>\n",
              "    </tr>\n",
              "    <tr>\n",
              "      <th>45182</th>\n",
              "      <td>0.002454</td>\n",
              "      <td>0.002687</td>\n",
              "    </tr>\n",
              "  </tbody>\n",
              "</table>\n",
              "</div>"
            ],
            "text/plain": [
              "       tweets_Likes  tweets_Retweets\n",
              "43803      0.001781         0.003477\n",
              "15239      0.001193         0.002063\n",
              "5183       0.004029         0.002309\n",
              "12024      0.000117         0.002599\n",
              "45182      0.002454         0.002687"
            ]
          },
          "metadata": {
            "tags": []
          },
          "execution_count": 170
        }
      ]
    },
    {
      "cell_type": "code",
      "metadata": {
        "colab": {
          "base_uri": "https://localhost:8080/",
          "height": 204
        },
        "id": "IOLRkIUtxutO",
        "outputId": "1c1e43be-8a7f-4610-a75b-fdc6bd0cb064"
      },
      "source": [
        "X_val_new_l.head()"
      ],
      "execution_count": 171,
      "outputs": [
        {
          "output_type": "execute_result",
          "data": {
            "text/html": [
              "<div>\n",
              "<style scoped>\n",
              "    .dataframe tbody tr th:only-of-type {\n",
              "        vertical-align: middle;\n",
              "    }\n",
              "\n",
              "    .dataframe tbody tr th {\n",
              "        vertical-align: top;\n",
              "    }\n",
              "\n",
              "    .dataframe thead th {\n",
              "        text-align: right;\n",
              "    }\n",
              "</style>\n",
              "<table border=\"1\" class=\"dataframe\">\n",
              "  <thead>\n",
              "    <tr style=\"text-align: right;\">\n",
              "      <th></th>\n",
              "      <th>tweets_Likes</th>\n",
              "      <th>tweets_Retweets</th>\n",
              "    </tr>\n",
              "  </thead>\n",
              "  <tbody>\n",
              "    <tr>\n",
              "      <th>5598</th>\n",
              "      <td>0.107821</td>\n",
              "      <td>0.024469</td>\n",
              "    </tr>\n",
              "    <tr>\n",
              "      <th>3714</th>\n",
              "      <td>0.023971</td>\n",
              "      <td>0.006358</td>\n",
              "    </tr>\n",
              "    <tr>\n",
              "      <th>29029</th>\n",
              "      <td>0.000294</td>\n",
              "      <td>0.004822</td>\n",
              "    </tr>\n",
              "    <tr>\n",
              "      <th>20840</th>\n",
              "      <td>0.008211</td>\n",
              "      <td>0.015538</td>\n",
              "    </tr>\n",
              "    <tr>\n",
              "      <th>20999</th>\n",
              "      <td>0.003235</td>\n",
              "      <td>0.008716</td>\n",
              "    </tr>\n",
              "  </tbody>\n",
              "</table>\n",
              "</div>"
            ],
            "text/plain": [
              "       tweets_Likes  tweets_Retweets\n",
              "5598       0.107821         0.024469\n",
              "3714       0.023971         0.006358\n",
              "29029      0.000294         0.004822\n",
              "20840      0.008211         0.015538\n",
              "20999      0.003235         0.008716"
            ]
          },
          "metadata": {
            "tags": []
          },
          "execution_count": 171
        }
      ]
    },
    {
      "cell_type": "code",
      "metadata": {
        "id": "HtAues7ahccz"
      },
      "source": [
        "\n",
        "X_train_new_l.to_numpy()\n",
        "X_val_new_l.to_numpy()\n",
        "\n",
        "X_train_df_l = np.concatenate(( train_X_tokenized_l, X_train_new_l), axis=1)\n",
        "X_val_df_l = np.concatenate(( val_X_tokenized_l, X_val_new_l), axis=1)\n",
        "\n",
        "# X_val_df_l = np.concatenate(( X_val_new_l, val_X_tokenized_l), axis=1)\n",
        "\n"
      ],
      "execution_count": 172,
      "outputs": []
    },
    {
      "cell_type": "code",
      "metadata": {
        "colab": {
          "base_uri": "https://localhost:8080/"
        },
        "id": "oWTuULpiimqX",
        "outputId": "b91a6d3a-70d7-460a-8c5b-baa4e974ee3c"
      },
      "source": [
        "X_train_df_l.shape"
      ],
      "execution_count": 173,
      "outputs": [
        {
          "output_type": "execute_result",
          "data": {
            "text/plain": [
              "(37408, 152)"
            ]
          },
          "metadata": {
            "tags": []
          },
          "execution_count": 173
        }
      ]
    },
    {
      "cell_type": "markdown",
      "metadata": {
        "id": "QFOJyHkTjKW3"
      },
      "source": [
        "Model (Best Working Architecture) from previous experiments"
      ]
    },
    {
      "cell_type": "code",
      "metadata": {
        "colab": {
          "base_uri": "https://localhost:8080/"
        },
        "id": "QanXAq_XioeQ",
        "outputId": "24af7c8d-14e2-48de-da33-f02c27846dbb"
      },
      "source": [
        "glove_model2_fs3 = models.Sequential()\n",
        "glove_model2_fs3.add(layers.Embedding(vocab_size,\n",
        "                            glove_dim,\n",
        "                            weights=[embedding_matrix],\n",
        "                            input_length=max_len+2,\n",
        "                            trainable=False))\n",
        "#glove_model2_fs3.add(layers.LSTM(64))\n",
        "glove_model2_fs3.add(LSTM(128,return_sequences=True))\n",
        "glove_model2_fs3.add(layers.Dropout(0.3))\n",
        "glove_model2_fs3.add(LSTM(64,return_sequences=True))\n",
        "glove_model2_fs3.add(layers.Dropout(0.3))\n",
        "glove_model2_fs3.add(LSTM(32,return_sequences=False))\n",
        "glove_model2_fs3.add(layers.Dropout(0.3))\n",
        "glove_model2_fs3.add(layers.Dense(10,activation=\"relu\"))\n",
        "#glove_model2_fs3.add(layers.Dense(10,activation=\"relu\"))\n",
        "#glove_model2_fs3.add(layers.Dropout(0.2))\n",
        "glove_model2_fs3.add(Dense(3, activation='softmax'))\n",
        "glove_model2_fs3.summary()\n",
        "\n"
      ],
      "execution_count": 174,
      "outputs": [
        {
          "output_type": "stream",
          "text": [
            "Model: \"sequential_15\"\n",
            "_________________________________________________________________\n",
            "Layer (type)                 Output Shape              Param #   \n",
            "=================================================================\n",
            "embedding_15 (Embedding)     (None, 152, 200)          10110600  \n",
            "_________________________________________________________________\n",
            "lstm_32 (LSTM)               (None, 152, 128)          168448    \n",
            "_________________________________________________________________\n",
            "dropout_27 (Dropout)         (None, 152, 128)          0         \n",
            "_________________________________________________________________\n",
            "lstm_33 (LSTM)               (None, 152, 64)           49408     \n",
            "_________________________________________________________________\n",
            "dropout_28 (Dropout)         (None, 152, 64)           0         \n",
            "_________________________________________________________________\n",
            "lstm_34 (LSTM)               (None, 32)                12416     \n",
            "_________________________________________________________________\n",
            "dropout_29 (Dropout)         (None, 32)                0         \n",
            "_________________________________________________________________\n",
            "dense_21 (Dense)             (None, 10)                330       \n",
            "_________________________________________________________________\n",
            "dense_22 (Dense)             (None, 3)                 33        \n",
            "=================================================================\n",
            "Total params: 10,341,235\n",
            "Trainable params: 230,635\n",
            "Non-trainable params: 10,110,600\n",
            "_________________________________________________________________\n"
          ],
          "name": "stdout"
        }
      ]
    },
    {
      "cell_type": "code",
      "metadata": {
        "colab": {
          "base_uri": "https://localhost:8080/"
        },
        "id": "eCE-oGf4ioZB",
        "outputId": "72286bb0-e19c-4ebb-95a7-444ab2805c02"
      },
      "source": [
        "glove_model2_fs3.compile(loss='categorical_crossentropy', optimizer='adam', metrics=['accuracy',f1_m,precision_m, recall_m])\n",
        "\n",
        "from tensorflow.keras.callbacks import EarlyStopping\n",
        "\n",
        "history = glove_model2_fs3.fit(X_train_df_l, \n",
        "                    train_Y_l, \n",
        "                    batch_size=100, \n",
        "                    epochs=100, \n",
        "                    validation_data=(X_val_df_l, val_Y_l)\n",
        "                    )\n",
        "\n"
      ],
      "execution_count": 175,
      "outputs": [
        {
          "output_type": "stream",
          "text": [
            "Epoch 1/100\n",
            "375/375 [==============================] - 14s 36ms/step - loss: 0.9856 - accuracy: 0.4951 - f1_m: 0.3325 - precision_m: 0.6263 - recall_m: 0.2318 - val_loss: 0.9434 - val_accuracy: 0.5230 - val_f1_m: 0.4067 - val_precision_m: 0.6466 - val_recall_m: 0.2976\n",
            "Epoch 2/100\n",
            "375/375 [==============================] - 13s 33ms/step - loss: 0.9308 - accuracy: 0.5384 - f1_m: 0.4122 - precision_m: 0.6685 - recall_m: 0.3006 - val_loss: 0.9190 - val_accuracy: 0.5451 - val_f1_m: 0.3816 - val_precision_m: 0.7251 - val_recall_m: 0.2602\n",
            "Epoch 3/100\n",
            "375/375 [==============================] - 13s 34ms/step - loss: 0.8930 - accuracy: 0.5638 - f1_m: 0.4566 - precision_m: 0.6768 - recall_m: 0.3472 - val_loss: 0.9213 - val_accuracy: 0.5363 - val_f1_m: 0.4599 - val_precision_m: 0.6428 - val_recall_m: 0.3589\n",
            "Epoch 4/100\n",
            "375/375 [==============================] - 13s 34ms/step - loss: 0.8605 - accuracy: 0.5833 - f1_m: 0.5014 - precision_m: 0.6866 - recall_m: 0.3963 - val_loss: 0.8958 - val_accuracy: 0.5626 - val_f1_m: 0.4691 - val_precision_m: 0.6655 - val_recall_m: 0.3631\n",
            "Epoch 5/100\n",
            "375/375 [==============================] - 13s 34ms/step - loss: 0.8174 - accuracy: 0.6133 - f1_m: 0.5542 - precision_m: 0.6959 - recall_m: 0.4621 - val_loss: 0.8806 - val_accuracy: 0.5737 - val_f1_m: 0.5166 - val_precision_m: 0.6403 - val_recall_m: 0.4339\n",
            "Epoch 6/100\n",
            "375/375 [==============================] - 13s 34ms/step - loss: 0.7761 - accuracy: 0.6376 - f1_m: 0.5955 - precision_m: 0.7050 - recall_m: 0.5166 - val_loss: 0.8854 - val_accuracy: 0.5767 - val_f1_m: 0.5342 - val_precision_m: 0.6190 - val_recall_m: 0.4706\n",
            "Epoch 7/100\n",
            "375/375 [==============================] - 13s 34ms/step - loss: 0.7203 - accuracy: 0.6723 - f1_m: 0.6444 - precision_m: 0.7271 - recall_m: 0.5797 - val_loss: 0.9029 - val_accuracy: 0.5772 - val_f1_m: 0.5447 - val_precision_m: 0.6206 - val_recall_m: 0.4860\n",
            "Epoch 8/100\n",
            "375/375 [==============================] - 13s 34ms/step - loss: 0.6682 - accuracy: 0.7015 - f1_m: 0.6831 - precision_m: 0.7439 - recall_m: 0.6322 - val_loss: 0.9102 - val_accuracy: 0.5815 - val_f1_m: 0.5523 - val_precision_m: 0.6204 - val_recall_m: 0.4982\n",
            "Epoch 9/100\n",
            "375/375 [==============================] - 13s 34ms/step - loss: 0.6036 - accuracy: 0.7370 - f1_m: 0.7258 - precision_m: 0.7702 - recall_m: 0.6869 - val_loss: 0.9625 - val_accuracy: 0.5899 - val_f1_m: 0.5747 - val_precision_m: 0.6151 - val_recall_m: 0.5396\n",
            "Epoch 10/100\n",
            "375/375 [==============================] - 13s 34ms/step - loss: 0.5626 - accuracy: 0.7624 - f1_m: 0.7543 - precision_m: 0.7879 - recall_m: 0.7240 - val_loss: 0.9815 - val_accuracy: 0.5858 - val_f1_m: 0.5747 - val_precision_m: 0.6031 - val_recall_m: 0.5491\n",
            "Epoch 11/100\n",
            "375/375 [==============================] - 13s 34ms/step - loss: 0.4917 - accuracy: 0.7964 - f1_m: 0.7925 - precision_m: 0.8149 - recall_m: 0.7716 - val_loss: 1.0941 - val_accuracy: 0.5922 - val_f1_m: 0.5881 - val_precision_m: 0.6087 - val_recall_m: 0.5690\n",
            "Epoch 12/100\n",
            "375/375 [==============================] - 13s 34ms/step - loss: 0.4362 - accuracy: 0.8222 - f1_m: 0.8201 - precision_m: 0.8370 - recall_m: 0.8041 - val_loss: 1.1158 - val_accuracy: 0.5864 - val_f1_m: 0.5823 - val_precision_m: 0.6016 - val_recall_m: 0.5643\n",
            "Epoch 13/100\n",
            "375/375 [==============================] - 13s 34ms/step - loss: 0.3918 - accuracy: 0.8412 - f1_m: 0.8396 - precision_m: 0.8527 - recall_m: 0.8271 - val_loss: 1.1674 - val_accuracy: 0.5948 - val_f1_m: 0.5898 - val_precision_m: 0.6053 - val_recall_m: 0.5752\n",
            "Epoch 14/100\n",
            "375/375 [==============================] - 13s 34ms/step - loss: 0.3400 - accuracy: 0.8648 - f1_m: 0.8645 - precision_m: 0.8742 - recall_m: 0.8552 - val_loss: 1.3387 - val_accuracy: 0.5982 - val_f1_m: 0.5944 - val_precision_m: 0.6049 - val_recall_m: 0.5843\n",
            "Epoch 15/100\n",
            "375/375 [==============================] - 13s 34ms/step - loss: 0.3056 - accuracy: 0.8839 - f1_m: 0.8831 - precision_m: 0.8902 - recall_m: 0.8761 - val_loss: 1.3572 - val_accuracy: 0.5897 - val_f1_m: 0.5868 - val_precision_m: 0.5968 - val_recall_m: 0.5771\n",
            "Epoch 16/100\n",
            "375/375 [==============================] - 13s 34ms/step - loss: 0.2715 - accuracy: 0.8962 - f1_m: 0.8963 - precision_m: 0.9023 - recall_m: 0.8904 - val_loss: 1.4615 - val_accuracy: 0.5872 - val_f1_m: 0.5855 - val_precision_m: 0.5930 - val_recall_m: 0.5782\n",
            "Epoch 17/100\n",
            "375/375 [==============================] - 13s 35ms/step - loss: 0.2405 - accuracy: 0.9112 - f1_m: 0.9109 - precision_m: 0.9150 - recall_m: 0.9068 - val_loss: 1.5857 - val_accuracy: 0.5923 - val_f1_m: 0.5918 - val_precision_m: 0.5970 - val_recall_m: 0.5868\n",
            "Epoch 18/100\n",
            "375/375 [==============================] - 13s 34ms/step - loss: 0.2673 - accuracy: 0.8988 - f1_m: 0.8979 - precision_m: 0.9049 - recall_m: 0.8913 - val_loss: 1.5274 - val_accuracy: 0.6007 - val_f1_m: 0.5990 - val_precision_m: 0.6034 - val_recall_m: 0.5947\n",
            "Epoch 19/100\n",
            "375/375 [==============================] - 13s 34ms/step - loss: 0.2099 - accuracy: 0.9232 - f1_m: 0.9218 - precision_m: 0.9252 - recall_m: 0.9185 - val_loss: 1.5670 - val_accuracy: 0.5981 - val_f1_m: 0.5966 - val_precision_m: 0.6005 - val_recall_m: 0.5927\n",
            "Epoch 20/100\n",
            "375/375 [==============================] - 13s 34ms/step - loss: 0.1790 - accuracy: 0.9353 - f1_m: 0.9353 - precision_m: 0.9378 - recall_m: 0.9330 - val_loss: 1.7587 - val_accuracy: 0.6024 - val_f1_m: 0.6008 - val_precision_m: 0.6034 - val_recall_m: 0.5982\n",
            "Epoch 21/100\n",
            "375/375 [==============================] - 13s 34ms/step - loss: 0.1583 - accuracy: 0.9437 - f1_m: 0.9440 - precision_m: 0.9456 - recall_m: 0.9424 - val_loss: 1.7795 - val_accuracy: 0.6038 - val_f1_m: 0.6029 - val_precision_m: 0.6052 - val_recall_m: 0.6006\n",
            "Epoch 22/100\n",
            "375/375 [==============================] - 13s 34ms/step - loss: 0.1480 - accuracy: 0.9473 - f1_m: 0.9476 - precision_m: 0.9492 - recall_m: 0.9460 - val_loss: 1.9058 - val_accuracy: 0.6000 - val_f1_m: 0.5993 - val_precision_m: 0.6007 - val_recall_m: 0.5979\n",
            "Epoch 23/100\n",
            "375/375 [==============================] - 13s 34ms/step - loss: 0.1404 - accuracy: 0.9507 - f1_m: 0.9507 - precision_m: 0.9522 - recall_m: 0.9492 - val_loss: 1.8272 - val_accuracy: 0.5970 - val_f1_m: 0.5965 - val_precision_m: 0.5983 - val_recall_m: 0.5947\n",
            "Epoch 24/100\n",
            "375/375 [==============================] - 13s 34ms/step - loss: 0.1272 - accuracy: 0.9551 - f1_m: 0.9554 - precision_m: 0.9563 - recall_m: 0.9544 - val_loss: 2.0469 - val_accuracy: 0.5952 - val_f1_m: 0.5955 - val_precision_m: 0.5968 - val_recall_m: 0.5942\n",
            "Epoch 25/100\n",
            "375/375 [==============================] - 13s 34ms/step - loss: 0.1141 - accuracy: 0.9604 - f1_m: 0.9606 - precision_m: 0.9617 - recall_m: 0.9594 - val_loss: 2.0463 - val_accuracy: 0.6027 - val_f1_m: 0.6029 - val_precision_m: 0.6040 - val_recall_m: 0.6018\n",
            "Epoch 26/100\n",
            "375/375 [==============================] - 13s 34ms/step - loss: 0.1151 - accuracy: 0.9609 - f1_m: 0.9606 - precision_m: 0.9613 - recall_m: 0.9598 - val_loss: 2.1291 - val_accuracy: 0.6009 - val_f1_m: 0.6008 - val_precision_m: 0.6018 - val_recall_m: 0.5997\n",
            "Epoch 27/100\n",
            "375/375 [==============================] - 13s 34ms/step - loss: 0.1063 - accuracy: 0.9642 - f1_m: 0.9643 - precision_m: 0.9651 - recall_m: 0.9635 - val_loss: 2.0127 - val_accuracy: 0.6003 - val_f1_m: 0.5998 - val_precision_m: 0.6008 - val_recall_m: 0.5988\n",
            "Epoch 28/100\n",
            "375/375 [==============================] - 13s 34ms/step - loss: 0.0970 - accuracy: 0.9672 - f1_m: 0.9673 - precision_m: 0.9678 - recall_m: 0.9667 - val_loss: 2.2349 - val_accuracy: 0.6028 - val_f1_m: 0.6029 - val_precision_m: 0.6039 - val_recall_m: 0.6018\n",
            "Epoch 29/100\n",
            "375/375 [==============================] - 13s 34ms/step - loss: 0.1034 - accuracy: 0.9660 - f1_m: 0.9662 - precision_m: 0.9668 - recall_m: 0.9655 - val_loss: 2.1899 - val_accuracy: 0.5991 - val_f1_m: 0.5986 - val_precision_m: 0.5997 - val_recall_m: 0.5976\n",
            "Epoch 30/100\n",
            "375/375 [==============================] - 13s 34ms/step - loss: 0.0933 - accuracy: 0.9688 - f1_m: 0.9687 - precision_m: 0.9694 - recall_m: 0.9681 - val_loss: 2.1697 - val_accuracy: 0.5977 - val_f1_m: 0.5978 - val_precision_m: 0.5991 - val_recall_m: 0.5965\n",
            "Epoch 31/100\n",
            "375/375 [==============================] - 13s 34ms/step - loss: 0.0781 - accuracy: 0.9744 - f1_m: 0.9744 - precision_m: 0.9750 - recall_m: 0.9738 - val_loss: 2.2812 - val_accuracy: 0.6088 - val_f1_m: 0.6086 - val_precision_m: 0.6095 - val_recall_m: 0.6076\n",
            "Epoch 32/100\n",
            "375/375 [==============================] - 13s 34ms/step - loss: 0.0792 - accuracy: 0.9741 - f1_m: 0.9740 - precision_m: 0.9745 - recall_m: 0.9735 - val_loss: 2.3096 - val_accuracy: 0.6029 - val_f1_m: 0.6022 - val_precision_m: 0.6031 - val_recall_m: 0.6013\n",
            "Epoch 33/100\n",
            "375/375 [==============================] - 13s 34ms/step - loss: 0.0721 - accuracy: 0.9759 - f1_m: 0.9759 - precision_m: 0.9764 - recall_m: 0.9754 - val_loss: 2.4111 - val_accuracy: 0.6015 - val_f1_m: 0.6017 - val_precision_m: 0.6022 - val_recall_m: 0.6013\n",
            "Epoch 34/100\n",
            "375/375 [==============================] - 13s 34ms/step - loss: 0.0797 - accuracy: 0.9736 - f1_m: 0.9737 - precision_m: 0.9741 - recall_m: 0.9734 - val_loss: 2.2947 - val_accuracy: 0.6018 - val_f1_m: 0.6017 - val_precision_m: 0.6023 - val_recall_m: 0.6011\n",
            "Epoch 35/100\n",
            "375/375 [==============================] - 13s 35ms/step - loss: 0.0727 - accuracy: 0.9760 - f1_m: 0.9762 - precision_m: 0.9766 - recall_m: 0.9758 - val_loss: 2.4549 - val_accuracy: 0.6102 - val_f1_m: 0.6098 - val_precision_m: 0.6105 - val_recall_m: 0.6092\n",
            "Epoch 36/100\n",
            "375/375 [==============================] - 13s 35ms/step - loss: 0.0680 - accuracy: 0.9779 - f1_m: 0.9779 - precision_m: 0.9782 - recall_m: 0.9775 - val_loss: 2.4813 - val_accuracy: 0.5988 - val_f1_m: 0.5984 - val_precision_m: 0.5990 - val_recall_m: 0.5978\n",
            "Epoch 37/100\n",
            "375/375 [==============================] - 13s 35ms/step - loss: 0.0611 - accuracy: 0.9803 - f1_m: 0.9801 - precision_m: 0.9803 - recall_m: 0.9799 - val_loss: 2.5068 - val_accuracy: 0.6002 - val_f1_m: 0.6003 - val_precision_m: 0.6006 - val_recall_m: 0.5999\n",
            "Epoch 38/100\n",
            "375/375 [==============================] - 13s 35ms/step - loss: 0.0962 - accuracy: 0.9681 - f1_m: 0.9683 - precision_m: 0.9689 - recall_m: 0.9677 - val_loss: 2.3317 - val_accuracy: 0.5972 - val_f1_m: 0.5971 - val_precision_m: 0.5978 - val_recall_m: 0.5963\n",
            "Epoch 39/100\n",
            "375/375 [==============================] - 13s 34ms/step - loss: 0.0596 - accuracy: 0.9807 - f1_m: 0.9808 - precision_m: 0.9812 - recall_m: 0.9804 - val_loss: 2.4767 - val_accuracy: 0.6057 - val_f1_m: 0.6058 - val_precision_m: 0.6066 - val_recall_m: 0.6049\n",
            "Epoch 40/100\n",
            "375/375 [==============================] - 13s 35ms/step - loss: 0.0567 - accuracy: 0.9818 - f1_m: 0.9818 - precision_m: 0.9822 - recall_m: 0.9815 - val_loss: 2.3919 - val_accuracy: 0.6025 - val_f1_m: 0.6024 - val_precision_m: 0.6031 - val_recall_m: 0.6016\n",
            "Epoch 41/100\n",
            "375/375 [==============================] - 13s 35ms/step - loss: 0.0548 - accuracy: 0.9826 - f1_m: 0.9827 - precision_m: 0.9830 - recall_m: 0.9824 - val_loss: 2.6303 - val_accuracy: 0.5963 - val_f1_m: 0.5961 - val_precision_m: 0.5966 - val_recall_m: 0.5957\n",
            "Epoch 42/100\n",
            "375/375 [==============================] - 13s 35ms/step - loss: 0.0610 - accuracy: 0.9806 - f1_m: 0.9806 - precision_m: 0.9808 - recall_m: 0.9803 - val_loss: 2.4158 - val_accuracy: 0.5991 - val_f1_m: 0.5985 - val_precision_m: 0.5992 - val_recall_m: 0.5977\n",
            "Epoch 43/100\n",
            "375/375 [==============================] - 13s 35ms/step - loss: 0.0579 - accuracy: 0.9808 - f1_m: 0.9808 - precision_m: 0.9811 - recall_m: 0.9805 - val_loss: 2.4967 - val_accuracy: 0.5965 - val_f1_m: 0.5964 - val_precision_m: 0.5972 - val_recall_m: 0.5956\n",
            "Epoch 44/100\n",
            "375/375 [==============================] - 13s 35ms/step - loss: 0.0597 - accuracy: 0.9809 - f1_m: 0.9809 - precision_m: 0.9812 - recall_m: 0.9805 - val_loss: 2.4384 - val_accuracy: 0.6039 - val_f1_m: 0.6039 - val_precision_m: 0.6048 - val_recall_m: 0.6030\n",
            "Epoch 45/100\n",
            "375/375 [==============================] - 13s 35ms/step - loss: 0.0526 - accuracy: 0.9818 - f1_m: 0.9819 - precision_m: 0.9820 - recall_m: 0.9817 - val_loss: 2.5452 - val_accuracy: 0.6004 - val_f1_m: 0.6002 - val_precision_m: 0.6007 - val_recall_m: 0.5996\n",
            "Epoch 46/100\n",
            "375/375 [==============================] - 13s 34ms/step - loss: 0.0535 - accuracy: 0.9821 - f1_m: 0.9819 - precision_m: 0.9821 - recall_m: 0.9817 - val_loss: 2.5089 - val_accuracy: 0.6071 - val_f1_m: 0.6074 - val_precision_m: 0.6079 - val_recall_m: 0.6068\n",
            "Epoch 47/100\n",
            "375/375 [==============================] - 13s 34ms/step - loss: 0.0537 - accuracy: 0.9823 - f1_m: 0.9823 - precision_m: 0.9826 - recall_m: 0.9819 - val_loss: 2.5235 - val_accuracy: 0.6017 - val_f1_m: 0.6019 - val_precision_m: 0.6025 - val_recall_m: 0.6013\n",
            "Epoch 48/100\n",
            "375/375 [==============================] - 13s 35ms/step - loss: 0.0490 - accuracy: 0.9846 - f1_m: 0.9847 - precision_m: 0.9849 - recall_m: 0.9845 - val_loss: 2.4598 - val_accuracy: 0.6038 - val_f1_m: 0.6041 - val_precision_m: 0.6047 - val_recall_m: 0.6035\n",
            "Epoch 49/100\n",
            "375/375 [==============================] - 13s 35ms/step - loss: 0.0504 - accuracy: 0.9833 - f1_m: 0.9833 - precision_m: 0.9835 - recall_m: 0.9831 - val_loss: 2.6540 - val_accuracy: 0.6050 - val_f1_m: 0.6050 - val_precision_m: 0.6056 - val_recall_m: 0.6044\n",
            "Epoch 50/100\n",
            "375/375 [==============================] - 13s 35ms/step - loss: 0.0485 - accuracy: 0.9847 - f1_m: 0.9848 - precision_m: 0.9851 - recall_m: 0.9846 - val_loss: 2.5632 - val_accuracy: 0.6063 - val_f1_m: 0.6059 - val_precision_m: 0.6067 - val_recall_m: 0.6052\n",
            "Epoch 51/100\n",
            "375/375 [==============================] - 13s 35ms/step - loss: 0.0466 - accuracy: 0.9845 - f1_m: 0.9846 - precision_m: 0.9847 - recall_m: 0.9844 - val_loss: 2.6130 - val_accuracy: 0.6001 - val_f1_m: 0.6001 - val_precision_m: 0.6012 - val_recall_m: 0.5991\n",
            "Epoch 52/100\n",
            "375/375 [==============================] - 13s 35ms/step - loss: 0.0496 - accuracy: 0.9840 - f1_m: 0.9840 - precision_m: 0.9842 - recall_m: 0.9839 - val_loss: 2.5982 - val_accuracy: 0.5999 - val_f1_m: 0.6003 - val_precision_m: 0.6012 - val_recall_m: 0.5995\n",
            "Epoch 53/100\n",
            "375/375 [==============================] - 13s 35ms/step - loss: 0.0434 - accuracy: 0.9858 - f1_m: 0.9858 - precision_m: 0.9860 - recall_m: 0.9856 - val_loss: 2.6022 - val_accuracy: 0.6037 - val_f1_m: 0.6035 - val_precision_m: 0.6043 - val_recall_m: 0.6027\n",
            "Epoch 54/100\n",
            "375/375 [==============================] - 13s 35ms/step - loss: 0.0434 - accuracy: 0.9855 - f1_m: 0.9855 - precision_m: 0.9857 - recall_m: 0.9854 - val_loss: 2.6006 - val_accuracy: 0.6077 - val_f1_m: 0.6074 - val_precision_m: 0.6078 - val_recall_m: 0.6070\n",
            "Epoch 55/100\n",
            "375/375 [==============================] - 13s 35ms/step - loss: 0.0456 - accuracy: 0.9843 - f1_m: 0.9844 - precision_m: 0.9846 - recall_m: 0.9842 - val_loss: 2.7309 - val_accuracy: 0.6027 - val_f1_m: 0.6022 - val_precision_m: 0.6029 - val_recall_m: 0.6014\n",
            "Epoch 56/100\n",
            "375/375 [==============================] - 13s 35ms/step - loss: 0.0455 - accuracy: 0.9847 - f1_m: 0.9847 - precision_m: 0.9849 - recall_m: 0.9845 - val_loss: 2.5476 - val_accuracy: 0.6040 - val_f1_m: 0.6038 - val_precision_m: 0.6046 - val_recall_m: 0.6030\n",
            "Epoch 57/100\n",
            "375/375 [==============================] - 13s 35ms/step - loss: 0.0374 - accuracy: 0.9884 - f1_m: 0.9881 - precision_m: 0.9883 - recall_m: 0.9879 - val_loss: 2.7077 - val_accuracy: 0.6063 - val_f1_m: 0.6060 - val_precision_m: 0.6062 - val_recall_m: 0.6059\n",
            "Epoch 58/100\n",
            "375/375 [==============================] - 13s 35ms/step - loss: 0.0535 - accuracy: 0.9827 - f1_m: 0.9828 - precision_m: 0.9830 - recall_m: 0.9826 - val_loss: 2.5528 - val_accuracy: 0.6100 - val_f1_m: 0.6103 - val_precision_m: 0.6111 - val_recall_m: 0.6096\n",
            "Epoch 59/100\n",
            "375/375 [==============================] - 13s 35ms/step - loss: 0.0344 - accuracy: 0.9891 - f1_m: 0.9892 - precision_m: 0.9893 - recall_m: 0.9891 - val_loss: 2.6766 - val_accuracy: 0.6049 - val_f1_m: 0.6047 - val_precision_m: 0.6054 - val_recall_m: 0.6040\n",
            "Epoch 60/100\n",
            "375/375 [==============================] - 13s 35ms/step - loss: 0.0392 - accuracy: 0.9869 - f1_m: 0.9870 - precision_m: 0.9872 - recall_m: 0.9868 - val_loss: 2.6787 - val_accuracy: 0.6027 - val_f1_m: 0.6023 - val_precision_m: 0.6028 - val_recall_m: 0.6019\n",
            "Epoch 61/100\n",
            "375/375 [==============================] - 13s 35ms/step - loss: 0.0420 - accuracy: 0.9868 - f1_m: 0.9868 - precision_m: 0.9870 - recall_m: 0.9866 - val_loss: 2.6224 - val_accuracy: 0.6041 - val_f1_m: 0.6043 - val_precision_m: 0.6047 - val_recall_m: 0.6040\n",
            "Epoch 62/100\n",
            "375/375 [==============================] - 13s 35ms/step - loss: 0.0374 - accuracy: 0.9879 - f1_m: 0.9878 - precision_m: 0.9880 - recall_m: 0.9877 - val_loss: 2.6615 - val_accuracy: 0.6081 - val_f1_m: 0.6077 - val_precision_m: 0.6080 - val_recall_m: 0.6074\n",
            "Epoch 63/100\n",
            "375/375 [==============================] - 13s 35ms/step - loss: 0.0344 - accuracy: 0.9884 - f1_m: 0.9884 - precision_m: 0.9885 - recall_m: 0.9883 - val_loss: 2.8186 - val_accuracy: 0.5999 - val_f1_m: 0.6001 - val_precision_m: 0.6004 - val_recall_m: 0.5997\n",
            "Epoch 64/100\n",
            "375/375 [==============================] - 13s 35ms/step - loss: 0.0421 - accuracy: 0.9860 - f1_m: 0.9860 - precision_m: 0.9862 - recall_m: 0.9858 - val_loss: 2.5770 - val_accuracy: 0.6018 - val_f1_m: 0.6012 - val_precision_m: 0.6019 - val_recall_m: 0.6005\n",
            "Epoch 65/100\n",
            "375/375 [==============================] - 13s 35ms/step - loss: 0.0363 - accuracy: 0.9885 - f1_m: 0.9885 - precision_m: 0.9886 - recall_m: 0.9883 - val_loss: 2.6610 - val_accuracy: 0.6002 - val_f1_m: 0.6004 - val_precision_m: 0.6007 - val_recall_m: 0.6000\n",
            "Epoch 66/100\n",
            "375/375 [==============================] - 13s 35ms/step - loss: 0.0395 - accuracy: 0.9872 - f1_m: 0.9872 - precision_m: 0.9873 - recall_m: 0.9870 - val_loss: 2.6094 - val_accuracy: 0.6088 - val_f1_m: 0.6089 - val_precision_m: 0.6091 - val_recall_m: 0.6088\n",
            "Epoch 67/100\n",
            "375/375 [==============================] - 13s 35ms/step - loss: 0.0397 - accuracy: 0.9872 - f1_m: 0.9872 - precision_m: 0.9874 - recall_m: 0.9870 - val_loss: 2.5447 - val_accuracy: 0.6060 - val_f1_m: 0.6059 - val_precision_m: 0.6065 - val_recall_m: 0.6054\n",
            "Epoch 68/100\n",
            "375/375 [==============================] - 13s 35ms/step - loss: 0.0373 - accuracy: 0.9879 - f1_m: 0.9879 - precision_m: 0.9882 - recall_m: 0.9877 - val_loss: 2.6479 - val_accuracy: 0.6045 - val_f1_m: 0.6046 - val_precision_m: 0.6052 - val_recall_m: 0.6039\n",
            "Epoch 69/100\n",
            "375/375 [==============================] - 13s 35ms/step - loss: 0.0332 - accuracy: 0.9892 - f1_m: 0.9892 - precision_m: 0.9893 - recall_m: 0.9890 - val_loss: 2.6984 - val_accuracy: 0.6023 - val_f1_m: 0.6022 - val_precision_m: 0.6025 - val_recall_m: 0.6019\n",
            "Epoch 70/100\n",
            "375/375 [==============================] - 13s 35ms/step - loss: 0.0332 - accuracy: 0.9890 - f1_m: 0.9887 - precision_m: 0.9889 - recall_m: 0.9885 - val_loss: 2.7109 - val_accuracy: 0.6059 - val_f1_m: 0.6059 - val_precision_m: 0.6065 - val_recall_m: 0.6053\n",
            "Epoch 71/100\n",
            "375/375 [==============================] - 13s 35ms/step - loss: 0.0388 - accuracy: 0.9872 - f1_m: 0.9874 - precision_m: 0.9876 - recall_m: 0.9871 - val_loss: 2.6496 - val_accuracy: 0.6058 - val_f1_m: 0.6055 - val_precision_m: 0.6061 - val_recall_m: 0.6050\n",
            "Epoch 72/100\n",
            "375/375 [==============================] - 13s 35ms/step - loss: 0.0383 - accuracy: 0.9872 - f1_m: 0.9873 - precision_m: 0.9875 - recall_m: 0.9871 - val_loss: 2.6674 - val_accuracy: 0.6112 - val_f1_m: 0.6109 - val_precision_m: 0.6114 - val_recall_m: 0.6104\n",
            "Epoch 73/100\n",
            "375/375 [==============================] - 13s 35ms/step - loss: 0.0312 - accuracy: 0.9895 - f1_m: 0.9895 - precision_m: 0.9897 - recall_m: 0.9893 - val_loss: 2.6503 - val_accuracy: 0.6093 - val_f1_m: 0.6088 - val_precision_m: 0.6097 - val_recall_m: 0.6079\n",
            "Epoch 74/100\n",
            "375/375 [==============================] - 13s 35ms/step - loss: 0.0330 - accuracy: 0.9892 - f1_m: 0.9893 - precision_m: 0.9894 - recall_m: 0.9891 - val_loss: 2.7105 - val_accuracy: 0.6000 - val_f1_m: 0.5996 - val_precision_m: 0.6002 - val_recall_m: 0.5991\n",
            "Epoch 75/100\n",
            "375/375 [==============================] - 13s 35ms/step - loss: 0.0334 - accuracy: 0.9887 - f1_m: 0.9885 - precision_m: 0.9886 - recall_m: 0.9883 - val_loss: 2.5147 - val_accuracy: 0.6035 - val_f1_m: 0.6026 - val_precision_m: 0.6033 - val_recall_m: 0.6019\n",
            "Epoch 76/100\n",
            "375/375 [==============================] - 13s 35ms/step - loss: 0.0444 - accuracy: 0.9859 - f1_m: 0.9858 - precision_m: 0.9861 - recall_m: 0.9855 - val_loss: 2.7350 - val_accuracy: 0.6000 - val_f1_m: 0.6002 - val_precision_m: 0.6008 - val_recall_m: 0.5995\n",
            "Epoch 77/100\n",
            "375/375 [==============================] - 13s 35ms/step - loss: 0.0268 - accuracy: 0.9909 - f1_m: 0.9909 - precision_m: 0.9910 - recall_m: 0.9909 - val_loss: 2.9282 - val_accuracy: 0.6018 - val_f1_m: 0.6019 - val_precision_m: 0.6024 - val_recall_m: 0.6015\n",
            "Epoch 78/100\n",
            "375/375 [==============================] - 13s 35ms/step - loss: 0.0299 - accuracy: 0.9903 - f1_m: 0.9903 - precision_m: 0.9904 - recall_m: 0.9902 - val_loss: 2.6779 - val_accuracy: 0.6098 - val_f1_m: 0.6095 - val_precision_m: 0.6099 - val_recall_m: 0.6090\n",
            "Epoch 79/100\n",
            "375/375 [==============================] - 13s 35ms/step - loss: 0.0294 - accuracy: 0.9900 - f1_m: 0.9897 - precision_m: 0.9899 - recall_m: 0.9895 - val_loss: 2.8385 - val_accuracy: 0.6044 - val_f1_m: 0.6039 - val_precision_m: 0.6045 - val_recall_m: 0.6034\n",
            "Epoch 80/100\n",
            "375/375 [==============================] - 13s 35ms/step - loss: 0.0315 - accuracy: 0.9894 - f1_m: 0.9894 - precision_m: 0.9895 - recall_m: 0.9893 - val_loss: 2.8358 - val_accuracy: 0.6014 - val_f1_m: 0.6011 - val_precision_m: 0.6014 - val_recall_m: 0.6007\n",
            "Epoch 81/100\n",
            "375/375 [==============================] - 13s 35ms/step - loss: 0.0324 - accuracy: 0.9894 - f1_m: 0.9894 - precision_m: 0.9896 - recall_m: 0.9893 - val_loss: 2.7792 - val_accuracy: 0.6104 - val_f1_m: 0.6101 - val_precision_m: 0.6107 - val_recall_m: 0.6096\n",
            "Epoch 82/100\n",
            "375/375 [==============================] - 13s 35ms/step - loss: 0.0305 - accuracy: 0.9902 - f1_m: 0.9902 - precision_m: 0.9903 - recall_m: 0.9900 - val_loss: 2.7735 - val_accuracy: 0.6049 - val_f1_m: 0.6047 - val_precision_m: 0.6052 - val_recall_m: 0.6041\n",
            "Epoch 83/100\n",
            "375/375 [==============================] - 13s 35ms/step - loss: 0.0279 - accuracy: 0.9907 - f1_m: 0.9908 - precision_m: 0.9909 - recall_m: 0.9906 - val_loss: 2.7773 - val_accuracy: 0.6093 - val_f1_m: 0.6094 - val_precision_m: 0.6100 - val_recall_m: 0.6089\n",
            "Epoch 84/100\n",
            "375/375 [==============================] - 13s 35ms/step - loss: 0.0289 - accuracy: 0.9906 - f1_m: 0.9905 - precision_m: 0.9907 - recall_m: 0.9904 - val_loss: 2.9254 - val_accuracy: 0.6063 - val_f1_m: 0.6054 - val_precision_m: 0.6059 - val_recall_m: 0.6050\n",
            "Epoch 85/100\n",
            "375/375 [==============================] - 13s 35ms/step - loss: 0.0269 - accuracy: 0.9914 - f1_m: 0.9913 - precision_m: 0.9915 - recall_m: 0.9912 - val_loss: 2.8698 - val_accuracy: 0.6026 - val_f1_m: 0.6026 - val_precision_m: 0.6032 - val_recall_m: 0.6020\n",
            "Epoch 86/100\n",
            "375/375 [==============================] - 13s 35ms/step - loss: 0.0348 - accuracy: 0.9888 - f1_m: 0.9888 - precision_m: 0.9889 - recall_m: 0.9887 - val_loss: 2.6636 - val_accuracy: 0.6086 - val_f1_m: 0.6085 - val_precision_m: 0.6088 - val_recall_m: 0.6082\n",
            "Epoch 87/100\n",
            "375/375 [==============================] - 13s 35ms/step - loss: 0.0328 - accuracy: 0.9894 - f1_m: 0.9895 - precision_m: 0.9895 - recall_m: 0.9894 - val_loss: 2.6345 - val_accuracy: 0.6072 - val_f1_m: 0.6066 - val_precision_m: 0.6072 - val_recall_m: 0.6060\n",
            "Epoch 88/100\n",
            "375/375 [==============================] - 13s 35ms/step - loss: 0.0285 - accuracy: 0.9908 - f1_m: 0.9908 - precision_m: 0.9909 - recall_m: 0.9907 - val_loss: 2.7598 - val_accuracy: 0.6107 - val_f1_m: 0.6111 - val_precision_m: 0.6118 - val_recall_m: 0.6105\n",
            "Epoch 89/100\n",
            "375/375 [==============================] - 13s 36ms/step - loss: 0.0237 - accuracy: 0.9921 - f1_m: 0.9921 - precision_m: 0.9923 - recall_m: 0.9919 - val_loss: 2.8802 - val_accuracy: 0.6086 - val_f1_m: 0.6083 - val_precision_m: 0.6087 - val_recall_m: 0.6078\n",
            "Epoch 90/100\n",
            "375/375 [==============================] - 13s 35ms/step - loss: 0.0238 - accuracy: 0.9921 - f1_m: 0.9921 - precision_m: 0.9923 - recall_m: 0.9920 - val_loss: 2.9813 - val_accuracy: 0.6062 - val_f1_m: 0.6061 - val_precision_m: 0.6064 - val_recall_m: 0.6058\n",
            "Epoch 91/100\n",
            "375/375 [==============================] - 13s 35ms/step - loss: 0.0313 - accuracy: 0.9897 - f1_m: 0.9897 - precision_m: 0.9898 - recall_m: 0.9896 - val_loss: 2.8146 - val_accuracy: 0.6055 - val_f1_m: 0.6054 - val_precision_m: 0.6061 - val_recall_m: 0.6047\n",
            "Epoch 92/100\n",
            "375/375 [==============================] - 13s 35ms/step - loss: 0.0275 - accuracy: 0.9908 - f1_m: 0.9907 - precision_m: 0.9908 - recall_m: 0.9906 - val_loss: 2.9130 - val_accuracy: 0.6092 - val_f1_m: 0.6086 - val_precision_m: 0.6091 - val_recall_m: 0.6081\n",
            "Epoch 93/100\n",
            "375/375 [==============================] - 13s 35ms/step - loss: 0.0288 - accuracy: 0.9906 - f1_m: 0.9907 - precision_m: 0.9908 - recall_m: 0.9906 - val_loss: 2.6470 - val_accuracy: 0.6070 - val_f1_m: 0.6063 - val_precision_m: 0.6070 - val_recall_m: 0.6057\n",
            "Epoch 94/100\n",
            "375/375 [==============================] - 13s 35ms/step - loss: 0.0291 - accuracy: 0.9910 - f1_m: 0.9910 - precision_m: 0.9911 - recall_m: 0.9909 - val_loss: 2.8733 - val_accuracy: 0.6048 - val_f1_m: 0.6042 - val_precision_m: 0.6048 - val_recall_m: 0.6036\n",
            "Epoch 95/100\n",
            "375/375 [==============================] - 13s 35ms/step - loss: 0.6615 - accuracy: 0.6727 - f1_m: 0.5489 - precision_m: 0.7160 - recall_m: 0.5145 - val_loss: 1.0239 - val_accuracy: 0.4742 - val_f1_m: 0.3479 - val_precision_m: 0.5640 - val_recall_m: 0.2525\n",
            "Epoch 96/100\n",
            "375/375 [==============================] - 13s 35ms/step - loss: 0.8155 - accuracy: 0.6307 - f1_m: 0.5757 - precision_m: 0.6985 - recall_m: 0.5000 - val_loss: 1.0403 - val_accuracy: 0.5398 - val_f1_m: 0.5229 - val_precision_m: 0.5598 - val_recall_m: 0.4909\n",
            "Epoch 97/100\n",
            "375/375 [==============================] - 13s 35ms/step - loss: 0.4357 - accuracy: 0.8296 - f1_m: 0.8274 - precision_m: 0.8447 - recall_m: 0.8114 - val_loss: 1.4100 - val_accuracy: 0.5923 - val_f1_m: 0.5919 - val_precision_m: 0.5983 - val_recall_m: 0.5858\n",
            "Epoch 98/100\n",
            "375/375 [==============================] - 13s 35ms/step - loss: 0.1948 - accuracy: 0.9325 - f1_m: 0.9321 - precision_m: 0.9352 - recall_m: 0.9291 - val_loss: 1.6292 - val_accuracy: 0.6023 - val_f1_m: 0.6019 - val_precision_m: 0.6053 - val_recall_m: 0.5986\n",
            "Epoch 99/100\n",
            "375/375 [==============================] - 13s 35ms/step - loss: 0.0996 - accuracy: 0.9674 - f1_m: 0.9677 - precision_m: 0.9690 - recall_m: 0.9664 - val_loss: 2.0375 - val_accuracy: 0.6054 - val_f1_m: 0.6047 - val_precision_m: 0.6062 - val_recall_m: 0.6031\n",
            "Epoch 100/100\n",
            "375/375 [==============================] - 13s 36ms/step - loss: 0.0495 - accuracy: 0.9842 - f1_m: 0.9842 - precision_m: 0.9847 - recall_m: 0.9838 - val_loss: 2.4935 - val_accuracy: 0.6090 - val_f1_m: 0.6085 - val_precision_m: 0.6094 - val_recall_m: 0.6076\n"
          ],
          "name": "stdout"
        }
      ]
    },
    {
      "cell_type": "code",
      "metadata": {
        "colab": {
          "base_uri": "https://localhost:8080/"
        },
        "id": "FmEpqzB-j4W-",
        "outputId": "fef98988-5ad4-402e-cd8c-c903ed786de4"
      },
      "source": [
        "# # Input for variable-length sequences of integers\n",
        "# inputs = keras.Input(shape=(None,), dtype=\"int32\")\n",
        "# # Embed each integer in a 128-dimensional vector\n",
        "# x = layers.Embedding(max_features, 128)(inputs)\n",
        "# # Add 2 bidirectional LSTMs\n",
        "# x = layers.Bidirectional(layers.LSTM(64, return_sequences=True))(x)\n",
        "# x = layers.Bidirectional(layers.LSTM(64))(x)\n",
        "# # Add a classifier\n",
        "# outputs = layers.Dense(1, activation=\"sigmoid\")(x)\n",
        "# model = keras.Model(inputs, outputs)\n",
        "# model.summary()\n",
        "\n",
        "\n",
        "glove_model2_fs3_bi_d = models.Sequential()\n",
        "glove_model2_fs3_bi_d.add(layers.Embedding(vocab_size,\n",
        "                            glove_dim,\n",
        "                            weights=[embedding_matrix],\n",
        "                            input_length=max_len+2,\n",
        "                            trainable=False))\n",
        "\n",
        "glove_model2_fs3_bi_d.add(Bidirectional(layers.LSTM(128, return_sequences=True)))\n",
        "glove_model2_fs3_bi_d.add(Bidirectional(layers.LSTM(128)))\n",
        "\n",
        "\n",
        "# glove_model2_fs3_bi_d.add(Bidirectional(layers.LSTM(64, return_sequences=True)))\n",
        "# glove_model2_fs3_bi_d.add(Bidirectional(layers.LSTM(64)))\n",
        "\n",
        "\n",
        "glove_model2_fs3_bi_d.add(layers.Dense(10,activation=\"relu\"))\n",
        "glove_model2_fs3_bi_d.add(Dense(3, activation='softmax'))\n",
        "glove_model2_fs3_bi_d.summary()\n",
        "\n",
        "\n",
        "\n"
      ],
      "execution_count": 185,
      "outputs": [
        {
          "output_type": "stream",
          "text": [
            "Model: \"sequential_21\"\n",
            "_________________________________________________________________\n",
            "Layer (type)                 Output Shape              Param #   \n",
            "=================================================================\n",
            "embedding_21 (Embedding)     (None, 152, 200)          10110600  \n",
            "_________________________________________________________________\n",
            "bidirectional_11 (Bidirectio (None, 152, 256)          336896    \n",
            "_________________________________________________________________\n",
            "bidirectional_12 (Bidirectio (None, 256)               394240    \n",
            "_________________________________________________________________\n",
            "dense_29 (Dense)             (None, 10)                2570      \n",
            "_________________________________________________________________\n",
            "dense_30 (Dense)             (None, 3)                 33        \n",
            "=================================================================\n",
            "Total params: 10,844,339\n",
            "Trainable params: 733,739\n",
            "Non-trainable params: 10,110,600\n",
            "_________________________________________________________________\n"
          ],
          "name": "stdout"
        }
      ]
    },
    {
      "cell_type": "code",
      "metadata": {
        "colab": {
          "base_uri": "https://localhost:8080/"
        },
        "id": "ReFoH6EDlfG2",
        "outputId": "37bed91e-e068-4939-c5d9-1ddf2e0ed355"
      },
      "source": [
        "glove_model2_fs3_bi_d.compile(loss='categorical_crossentropy', optimizer='adam', metrics=['accuracy',f1_m,precision_m, recall_m])\n",
        "\n",
        "from tensorflow.keras.callbacks import EarlyStopping\n",
        "\n",
        "history = glove_model2_fs3_bi_d.fit(X_train_df_l, \n",
        "                    train_Y_l, \n",
        "                    batch_size=100, \n",
        "                    epochs=10, \n",
        "                    validation_data=(X_val_df_l, val_Y_l)\n",
        "                    )\n",
        "\n"
      ],
      "execution_count": 186,
      "outputs": [
        {
          "output_type": "stream",
          "text": [
            "Epoch 1/10\n",
            "375/375 [==============================] - 24s 64ms/step - loss: 0.9730 - accuracy: 0.4998 - f1_m: 0.3495 - precision_m: 0.6251 - recall_m: 0.2481 - val_loss: 0.9232 - val_accuracy: 0.5432 - val_f1_m: 0.3935 - val_precision_m: 0.6971 - val_recall_m: 0.2751\n",
            "Epoch 2/10\n",
            "375/375 [==============================] - 23s 60ms/step - loss: 0.9106 - accuracy: 0.5480 - f1_m: 0.4337 - precision_m: 0.6741 - recall_m: 0.3223 - val_loss: 0.8992 - val_accuracy: 0.5636 - val_f1_m: 0.4543 - val_precision_m: 0.6765 - val_recall_m: 0.3431\n",
            "Epoch 3/10\n",
            "375/375 [==============================] - 23s 61ms/step - loss: 0.8699 - accuracy: 0.5738 - f1_m: 0.4827 - precision_m: 0.6855 - recall_m: 0.3751 - val_loss: 0.8938 - val_accuracy: 0.5652 - val_f1_m: 0.4904 - val_precision_m: 0.6536 - val_recall_m: 0.3933\n",
            "Epoch 4/10\n",
            "375/375 [==============================] - 23s 61ms/step - loss: 0.8278 - accuracy: 0.6008 - f1_m: 0.5344 - precision_m: 0.6911 - recall_m: 0.4373 - val_loss: 0.8775 - val_accuracy: 0.5668 - val_f1_m: 0.4898 - val_precision_m: 0.6707 - val_recall_m: 0.3868\n",
            "Epoch 5/10\n",
            "375/375 [==============================] - 23s 62ms/step - loss: 0.7700 - accuracy: 0.6371 - f1_m: 0.5956 - precision_m: 0.7043 - recall_m: 0.5175 - val_loss: 0.9265 - val_accuracy: 0.5445 - val_f1_m: 0.4756 - val_precision_m: 0.6195 - val_recall_m: 0.3868\n",
            "Epoch 6/10\n",
            "375/375 [==============================] - 23s 62ms/step - loss: 0.7012 - accuracy: 0.6784 - f1_m: 0.6547 - precision_m: 0.7272 - recall_m: 0.5962 - val_loss: 0.9210 - val_accuracy: 0.5859 - val_f1_m: 0.5556 - val_precision_m: 0.6219 - val_recall_m: 0.5026\n",
            "Epoch 7/10\n",
            "375/375 [==============================] - 23s 62ms/step - loss: 0.6251 - accuracy: 0.7210 - f1_m: 0.7086 - precision_m: 0.7559 - recall_m: 0.6674 - val_loss: 0.9598 - val_accuracy: 0.5871 - val_f1_m: 0.5719 - val_precision_m: 0.6120 - val_recall_m: 0.5370\n",
            "Epoch 8/10\n",
            "375/375 [==============================] - 23s 62ms/step - loss: 0.5426 - accuracy: 0.7640 - f1_m: 0.7570 - precision_m: 0.7870 - recall_m: 0.7296 - val_loss: 0.9990 - val_accuracy: 0.5938 - val_f1_m: 0.5822 - val_precision_m: 0.6133 - val_recall_m: 0.5544\n",
            "Epoch 9/10\n",
            "375/375 [==============================] - 23s 62ms/step - loss: 0.4549 - accuracy: 0.8095 - f1_m: 0.8066 - precision_m: 0.8266 - recall_m: 0.7879 - val_loss: 1.1297 - val_accuracy: 0.5983 - val_f1_m: 0.5919 - val_precision_m: 0.6057 - val_recall_m: 0.5789\n",
            "Epoch 10/10\n",
            "375/375 [==============================] - 23s 62ms/step - loss: 0.3716 - accuracy: 0.8469 - f1_m: 0.8461 - precision_m: 0.8578 - recall_m: 0.8349 - val_loss: 1.1850 - val_accuracy: 0.5865 - val_f1_m: 0.5814 - val_precision_m: 0.5948 - val_recall_m: 0.5688\n"
          ],
          "name": "stdout"
        }
      ]
    },
    {
      "cell_type": "code",
      "metadata": {
        "id": "AEGS9VIjnzTm"
      },
      "source": [
        ""
      ],
      "execution_count": 175,
      "outputs": []
    },
    {
      "cell_type": "code",
      "metadata": {
        "id": "1yAGMQZYoJbe"
      },
      "source": [
        ""
      ],
      "execution_count": 175,
      "outputs": []
    },
    {
      "cell_type": "code",
      "metadata": {
        "id": "o9S25tukoVuo"
      },
      "source": [
        ""
      ],
      "execution_count": 175,
      "outputs": []
    },
    {
      "cell_type": "code",
      "metadata": {
        "id": "vJamaOMCoXNx"
      },
      "source": [
        ""
      ],
      "execution_count": 175,
      "outputs": []
    },
    {
      "cell_type": "code",
      "metadata": {
        "id": "ZevL8l6lobUi"
      },
      "source": [
        ""
      ],
      "execution_count": 175,
      "outputs": []
    },
    {
      "cell_type": "code",
      "metadata": {
        "id": "wwEJfQrfodC4"
      },
      "source": [
        ""
      ],
      "execution_count": 123,
      "outputs": []
    },
    {
      "cell_type": "code",
      "metadata": {
        "id": "s7cz8nw3o2-M"
      },
      "source": [
        ""
      ],
      "execution_count": 123,
      "outputs": []
    },
    {
      "cell_type": "code",
      "metadata": {
        "id": "39GIA0Jro4Vm"
      },
      "source": [
        ""
      ],
      "execution_count": null,
      "outputs": []
    }
  ]
}