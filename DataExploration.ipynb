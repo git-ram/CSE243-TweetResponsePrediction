{
 "cells": [
  {
   "cell_type": "markdown",
   "metadata": {},
   "source": [
    "## This notebook should read a clean dataset into a dataframe, do some exploration of the columns."
   ]
  },
  {
   "cell_type": "code",
   "execution_count": 2,
   "metadata": {},
   "outputs": [],
   "source": [
    "import numpy as np \n",
    "import pandas as pd\n",
    "import matplotlib.pyplot as plt\n",
    "from sklearn import preprocessing\n",
    "from sklearn.cluster import KMeans\n",
    "from sklearn.metrics import silhouette_score, roc_curve, roc_auc_score\n",
    "from sklearn.model_selection import train_test_split\n",
    "from sklearn.linear_model import LogisticRegression\n",
    "from sklearn.tree import DecisionTreeClassifier\n",
    "from sklearn.model_selection import cross_val_score\n",
    "from sklearn.feature_extraction.text import CountVectorizer"
   ]
  },
  {
   "cell_type": "code",
   "execution_count": 3,
   "metadata": {},
   "outputs": [],
   "source": [
    "clean_data_path = './Data-clean/Preprocessed_2015-2020_all_cols.csv'"
   ]
  },
  {
   "cell_type": "markdown",
   "metadata": {},
   "source": [
    "## 1. Read a clean dataset into dataframe. Clean dataset by default should have these columns only:  \n",
    "### tweets_Date  \n",
    "### tweets_Text  \n",
    "### tweets_Replies  \n",
    "### tweets_Retweets  \n",
    "### tweets_Likes  \n",
    "### has_image  \n",
    "### has_Link"
   ]
  },
  {
   "cell_type": "code",
   "execution_count": 4,
   "metadata": {},
   "outputs": [],
   "source": [
    "data = pd.read_csv(clean_data_path)"
   ]
  },
  {
   "cell_type": "code",
   "execution_count": 5,
   "metadata": {},
   "outputs": [
    {
     "name": "stdout",
     "output_type": "stream",
     "text": [
      "<class 'pandas.core.frame.DataFrame'>\n",
      "RangeIndex: 20529 entries, 0 to 20528\n",
      "Data columns (total 9 columns):\n",
      "Unnamed: 0                 20529 non-null int64\n",
      "tweets_Date                20529 non-null object\n",
      "tweets_Likes               20529 non-null float64\n",
      "tweets_Replies             20529 non-null float64\n",
      "tweets_Retweets            20529 non-null float64\n",
      "tweets_Text                19876 non-null object\n",
      "has_image                  20529 non-null int64\n",
      "has_Link                   20529 non-null int64\n",
      "tweets_ResponseCategory    20529 non-null int64\n",
      "dtypes: float64(3), int64(4), object(2)\n",
      "memory usage: 1.4+ MB\n"
     ]
    }
   ],
   "source": [
    "data.info()"
   ]
  },
  {
   "cell_type": "code",
   "execution_count": 6,
   "metadata": {},
   "outputs": [
    {
     "data": {
      "text/html": [
       "<div>\n",
       "<style scoped>\n",
       "    .dataframe tbody tr th:only-of-type {\n",
       "        vertical-align: middle;\n",
       "    }\n",
       "\n",
       "    .dataframe tbody tr th {\n",
       "        vertical-align: top;\n",
       "    }\n",
       "\n",
       "    .dataframe thead th {\n",
       "        text-align: right;\n",
       "    }\n",
       "</style>\n",
       "<table border=\"1\" class=\"dataframe\">\n",
       "  <thead>\n",
       "    <tr style=\"text-align: right;\">\n",
       "      <th></th>\n",
       "      <th>Unnamed: 0</th>\n",
       "      <th>tweets_Date</th>\n",
       "      <th>tweets_Likes</th>\n",
       "      <th>tweets_Replies</th>\n",
       "      <th>tweets_Retweets</th>\n",
       "      <th>tweets_Text</th>\n",
       "      <th>has_image</th>\n",
       "      <th>has_Link</th>\n",
       "      <th>tweets_ResponseCategory</th>\n",
       "    </tr>\n",
       "  </thead>\n",
       "  <tbody>\n",
       "    <tr>\n",
       "      <td>0</td>\n",
       "      <td>0</td>\n",
       "      <td>Jan 28, 2016</td>\n",
       "      <td>276.0</td>\n",
       "      <td>49.0</td>\n",
       "      <td>147.0</td>\n",
       "      <td>NaN</td>\n",
       "      <td>1</td>\n",
       "      <td>0</td>\n",
       "      <td>0</td>\n",
       "    </tr>\n",
       "    <tr>\n",
       "      <td>1</td>\n",
       "      <td>1</td>\n",
       "      <td>Jan 28, 2016</td>\n",
       "      <td>243.0</td>\n",
       "      <td>33.0</td>\n",
       "      <td>288.0</td>\n",
       "      <td>NaN</td>\n",
       "      <td>1</td>\n",
       "      <td>0</td>\n",
       "      <td>0</td>\n",
       "    </tr>\n",
       "    <tr>\n",
       "      <td>2</td>\n",
       "      <td>2</td>\n",
       "      <td>Jan 28, 2016</td>\n",
       "      <td>180.0</td>\n",
       "      <td>17.0</td>\n",
       "      <td>202.0</td>\n",
       "      <td>police hunt still woman armed man near disneyl...</td>\n",
       "      <td>1</td>\n",
       "      <td>1</td>\n",
       "      <td>0</td>\n",
       "    </tr>\n",
       "    <tr>\n",
       "      <td>3</td>\n",
       "      <td>3</td>\n",
       "      <td>Jan 28, 2016</td>\n",
       "      <td>291.0</td>\n",
       "      <td>37.0</td>\n",
       "      <td>360.0</td>\n",
       "      <td>french police arrest woman man carrying weapon...</td>\n",
       "      <td>1</td>\n",
       "      <td>1</td>\n",
       "      <td>0</td>\n",
       "    </tr>\n",
       "    <tr>\n",
       "      <td>4</td>\n",
       "      <td>4</td>\n",
       "      <td>Jan 28, 2016</td>\n",
       "      <td>202.0</td>\n",
       "      <td>22.0</td>\n",
       "      <td>240.0</td>\n",
       "      <td>french police hunting woman armed man arrested...</td>\n",
       "      <td>1</td>\n",
       "      <td>1</td>\n",
       "      <td>0</td>\n",
       "    </tr>\n",
       "  </tbody>\n",
       "</table>\n",
       "</div>"
      ],
      "text/plain": [
       "   Unnamed: 0   tweets_Date  tweets_Likes  tweets_Replies  tweets_Retweets  \\\n",
       "0           0  Jan 28, 2016         276.0            49.0            147.0   \n",
       "1           1  Jan 28, 2016         243.0            33.0            288.0   \n",
       "2           2  Jan 28, 2016         180.0            17.0            202.0   \n",
       "3           3  Jan 28, 2016         291.0            37.0            360.0   \n",
       "4           4  Jan 28, 2016         202.0            22.0            240.0   \n",
       "\n",
       "                                         tweets_Text  has_image  has_Link  \\\n",
       "0                                                NaN          1         0   \n",
       "1                                                NaN          1         0   \n",
       "2  police hunt still woman armed man near disneyl...          1         1   \n",
       "3  french police arrest woman man carrying weapon...          1         1   \n",
       "4  french police hunting woman armed man arrested...          1         1   \n",
       "\n",
       "   tweets_ResponseCategory  \n",
       "0                        0  \n",
       "1                        0  \n",
       "2                        0  \n",
       "3                        0  \n",
       "4                        0  "
      ]
     },
     "execution_count": 6,
     "metadata": {},
     "output_type": "execute_result"
    }
   ],
   "source": [
    "data.head(5)"
   ]
  },
  {
   "cell_type": "markdown",
   "metadata": {},
   "source": [
    "## 2. Explore the columns a bit:"
   ]
  },
  {
   "cell_type": "code",
   "execution_count": 7,
   "metadata": {},
   "outputs": [
    {
     "data": {
      "text/plain": [
       "<matplotlib.axes._subplots.AxesSubplot at 0x7f9e7326aed0>"
      ]
     },
     "execution_count": 7,
     "metadata": {},
     "output_type": "execute_result"
    },
    {
     "data": {
      "image/png": "[encoded data removed]",
      "text/plain": [
       "<Figure size 360x720 with 1 Axes>"
      ]
     },
     "metadata": {
      "needs_background": "light"
     },
     "output_type": "display_data"
    }
   ],
   "source": [
    "fig, ax = plt.subplots(figsize=(5,10))\n",
    "data.boxplot('tweets_Replies')"
   ]
  },
  {
   "cell_type": "code",
   "execution_count": 8,
   "metadata": {},
   "outputs": [
    {
     "data": {
      "text/plain": [
       "count    20529.000000\n",
       "mean       143.091285\n",
       "std        234.509784\n",
       "min          1.000000\n",
       "25%         41.000000\n",
       "50%         76.000000\n",
       "75%        155.000000\n",
       "max       8500.000000\n",
       "Name: tweets_Replies, dtype: float64"
      ]
     },
     "execution_count": 8,
     "metadata": {},
     "output_type": "execute_result"
    }
   ],
   "source": [
    "data['tweets_Replies'].describe()"
   ]
  },
  {
   "cell_type": "code",
   "execution_count": 9,
   "metadata": {},
   "outputs": [
    {
     "data": {
      "text/plain": [
       "count    20529.000000\n",
       "mean       799.802182\n",
       "std       1514.851257\n",
       "min         22.000000\n",
       "25%        253.000000\n",
       "50%        411.000000\n",
       "75%        770.000000\n",
       "max      51000.000000\n",
       "Name: tweets_Likes, dtype: float64"
      ]
     },
     "execution_count": 9,
     "metadata": {},
     "output_type": "execute_result"
    }
   ],
   "source": [
    "data['tweets_Likes'].describe()"
   ]
  },
  {
   "cell_type": "code",
   "execution_count": 10,
   "metadata": {},
   "outputs": [
    {
     "data": {
      "text/plain": [
       "count    20529.000000\n",
       "mean       465.594476\n",
       "std        764.144918\n",
       "min         14.000000\n",
       "25%        167.000000\n",
       "50%        281.000000\n",
       "75%        503.000000\n",
       "max      28100.000000\n",
       "Name: tweets_Retweets, dtype: float64"
      ]
     },
     "execution_count": 10,
     "metadata": {},
     "output_type": "execute_result"
    }
   ],
   "source": [
    "data['tweets_Retweets'].describe()"
   ]
  },
  {
   "cell_type": "code",
   "execution_count": 24,
   "metadata": {},
   "outputs": [
    {
     "data": {
      "text/plain": [
       "1    713\n",
       "2    706\n",
       "3    705\n",
       "0    688\n",
       "Name: tweets_ResponseCategory, dtype: int64"
      ]
     },
     "execution_count": 24,
     "metadata": {},
     "output_type": "execute_result"
    }
   ],
   "source": [
    "data['tweets_ResponseCategory'].value_counts()"
   ]
  }
 ],
 "metadata": {
  "kernelspec": {
   "display_name": "Python 3",
   "language": "python",
   "name": "python3"
  },
  "language_info": {
   "codemirror_mode": {
    "name": "ipython",
    "version": 3
   },
   "file_extension": ".py",
   "mimetype": "text/x-python",
   "name": "python",
   "nbconvert_exporter": "python",
   "pygments_lexer": "ipython3",
   "version": "3.7.3"
  }
 },
 "nbformat": 4,
 "nbformat_minor": 2
}
