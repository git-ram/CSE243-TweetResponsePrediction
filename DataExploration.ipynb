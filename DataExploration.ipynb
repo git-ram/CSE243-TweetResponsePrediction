{
 "cells": [
  {
   "cell_type": "code",
   "execution_count": 1,
   "metadata": {},
   "outputs": [],
   "source": [
    "import numpy as np \n",
    "import pandas as pd\n",
    "import matplotlib.pyplot as plt\n",
    "from sklearn import preprocessing\n",
    "from sklearn.cluster import KMeans\n",
    "from sklearn.metrics import silhouette_score, roc_curve, roc_auc_score\n",
    "from sklearn.model_selection import train_test_split\n",
    "from sklearn.linear_model import LogisticRegression\n",
    "from sklearn.tree import DecisionTreeClassifier\n",
    "from sklearn.model_selection import cross_val_score\n",
    "from sklearn.feature_extraction.text import CountVectorizer"
   ]
  },
  {
   "cell_type": "code",
   "execution_count": 2,
   "metadata": {},
   "outputs": [],
   "source": [
    "data = pd.read_csv('./Data-clean/Jan-Oct-2020_std_txtCleaned.csv')"
   ]
  },
  {
   "cell_type": "code",
   "execution_count": 3,
   "metadata": {},
   "outputs": [
    {
     "name": "stdout",
     "output_type": "stream",
     "text": [
      "<class 'pandas.core.frame.DataFrame'>\n",
      "RangeIndex: 2812 entries, 0 to 2811\n",
      "Data columns (total 11 columns):\n",
      " #   Column           Non-Null Count  Dtype  \n",
      "---  ------           --------------  -----  \n",
      " 0   Unnamed: 0       2812 non-null   int64  \n",
      " 1   tweets_Date      2812 non-null   object \n",
      " 2   tweets_Text      2811 non-null   object \n",
      " 3   tweets_Replies   2812 non-null   float64\n",
      " 4   tweets_Retweets  2812 non-null   float64\n",
      " 5   tweets_Likes     2812 non-null   float64\n",
      " 6   tweets_Images    2638 non-null   object \n",
      " 7   tweets_imageURL  1107 non-null   object \n",
      " 8   tweets_hrefURL   1100 non-null   object \n",
      " 9   has_image        2812 non-null   int64  \n",
      " 10  has_Link         2812 non-null   int64  \n",
      "dtypes: float64(3), int64(3), object(5)\n",
      "memory usage: 241.8+ KB\n"
     ]
    }
   ],
   "source": [
    "data.info()"
   ]
  },
  {
   "cell_type": "code",
   "execution_count": 4,
   "metadata": {},
   "outputs": [
    {
     "data": {
      "text/html": [
       "<div>\n",
       "<style scoped>\n",
       "    .dataframe tbody tr th:only-of-type {\n",
       "        vertical-align: middle;\n",
       "    }\n",
       "\n",
       "    .dataframe tbody tr th {\n",
       "        vertical-align: top;\n",
       "    }\n",
       "\n",
       "    .dataframe thead th {\n",
       "        text-align: right;\n",
       "    }\n",
       "</style>\n",
       "<table border=\"1\" class=\"dataframe\">\n",
       "  <thead>\n",
       "    <tr style=\"text-align: right;\">\n",
       "      <th></th>\n",
       "      <th>Unnamed: 0</th>\n",
       "      <th>tweets_Date</th>\n",
       "      <th>tweets_Text</th>\n",
       "      <th>tweets_Replies</th>\n",
       "      <th>tweets_Retweets</th>\n",
       "      <th>tweets_Likes</th>\n",
       "      <th>tweets_Images</th>\n",
       "      <th>tweets_imageURL</th>\n",
       "      <th>tweets_hrefURL</th>\n",
       "      <th>has_image</th>\n",
       "      <th>has_Link</th>\n",
       "    </tr>\n",
       "  </thead>\n",
       "  <tbody>\n",
       "    <tr>\n",
       "      <th>0</th>\n",
       "      <td>0</td>\n",
       "      <td>Sep 30</td>\n",
       "      <td>initial reports suggest three rockets struck b...</td>\n",
       "      <td>96.0</td>\n",
       "      <td>306.0</td>\n",
       "      <td>424.0</td>\n",
       "      <td>NaN</td>\n",
       "      <td>NaN</td>\n",
       "      <td>NaN</td>\n",
       "      <td>0</td>\n",
       "      <td>0</td>\n",
       "    </tr>\n",
       "    <tr>\n",
       "      <th>1</th>\n",
       "      <td>1</td>\n",
       "      <td>Sep 30</td>\n",
       "      <td>senate approved stopgap spending bill order av...</td>\n",
       "      <td>164.0</td>\n",
       "      <td>138.0</td>\n",
       "      <td>341.0</td>\n",
       "      <td>https://pbs.twimg.com/card_img/131903963670285...</td>\n",
       "      <td>https://pbs.twimg.com/card_img/131903963670285...</td>\n",
       "      <td>https://t.co/7cdxO2SXTI?amp=1</td>\n",
       "      <td>1</td>\n",
       "      <td>1</td>\n",
       "    </tr>\n",
       "    <tr>\n",
       "      <th>2</th>\n",
       "      <td>2</td>\n",
       "      <td>Sep 30</td>\n",
       "      <td>seven people shot funeral home milwaukee treat...</td>\n",
       "      <td>88.0</td>\n",
       "      <td>191.0</td>\n",
       "      <td>296.0</td>\n",
       "      <td>https://pbs.twimg.com/card_img/131684825020127...</td>\n",
       "      <td>https://pbs.twimg.com/card_img/131684825020127...</td>\n",
       "      <td>https://t.co/bu2k9SpEsB?amp=1</td>\n",
       "      <td>1</td>\n",
       "      <td>1</td>\n",
       "    </tr>\n",
       "    <tr>\n",
       "      <th>3</th>\n",
       "      <td>3</td>\n",
       "      <td>Sep 30</td>\n",
       "      <td>clare bronfman heiress seagram liquor fortune ...</td>\n",
       "      <td>64.0</td>\n",
       "      <td>237.0</td>\n",
       "      <td>651.0</td>\n",
       "      <td>https://pbs.twimg.com/card_img/131901737674292...</td>\n",
       "      <td>https://pbs.twimg.com/card_img/131901737674292...</td>\n",
       "      <td>https://t.co/gKszpRqGoB?amp=1</td>\n",
       "      <td>1</td>\n",
       "      <td>1</td>\n",
       "    </tr>\n",
       "    <tr>\n",
       "      <th>4</th>\n",
       "      <td>4</td>\n",
       "      <td>Sep 30</td>\n",
       "      <td>trump plans participate next two presidential ...</td>\n",
       "      <td>491.0</td>\n",
       "      <td>155.0</td>\n",
       "      <td>510.0</td>\n",
       "      <td>https://pbs.twimg.com/media/EjL5B9oWoAILvGy?fo...</td>\n",
       "      <td>NaN</td>\n",
       "      <td>NaN</td>\n",
       "      <td>1</td>\n",
       "      <td>0</td>\n",
       "    </tr>\n",
       "  </tbody>\n",
       "</table>\n",
       "</div>"
      ],
      "text/plain": [
       "   Unnamed: 0 tweets_Date                                        tweets_Text  \\\n",
       "0           0      Sep 30  initial reports suggest three rockets struck b...   \n",
       "1           1      Sep 30  senate approved stopgap spending bill order av...   \n",
       "2           2      Sep 30  seven people shot funeral home milwaukee treat...   \n",
       "3           3      Sep 30  clare bronfman heiress seagram liquor fortune ...   \n",
       "4           4      Sep 30  trump plans participate next two presidential ...   \n",
       "\n",
       "   tweets_Replies  tweets_Retweets  tweets_Likes  \\\n",
       "0            96.0            306.0         424.0   \n",
       "1           164.0            138.0         341.0   \n",
       "2            88.0            191.0         296.0   \n",
       "3            64.0            237.0         651.0   \n",
       "4           491.0            155.0         510.0   \n",
       "\n",
       "                                       tweets_Images  \\\n",
       "0                                                NaN   \n",
       "1  https://pbs.twimg.com/card_img/131903963670285...   \n",
       "2  https://pbs.twimg.com/card_img/131684825020127...   \n",
       "3  https://pbs.twimg.com/card_img/131901737674292...   \n",
       "4  https://pbs.twimg.com/media/EjL5B9oWoAILvGy?fo...   \n",
       "\n",
       "                                     tweets_imageURL  \\\n",
       "0                                                NaN   \n",
       "1  https://pbs.twimg.com/card_img/131903963670285...   \n",
       "2  https://pbs.twimg.com/card_img/131684825020127...   \n",
       "3  https://pbs.twimg.com/card_img/131901737674292...   \n",
       "4                                                NaN   \n",
       "\n",
       "                  tweets_hrefURL  has_image  has_Link  \n",
       "0                            NaN          0         0  \n",
       "1  https://t.co/7cdxO2SXTI?amp=1          1         1  \n",
       "2  https://t.co/bu2k9SpEsB?amp=1          1         1  \n",
       "3  https://t.co/gKszpRqGoB?amp=1          1         1  \n",
       "4                            NaN          1         0  "
      ]
     },
     "execution_count": 4,
     "metadata": {},
     "output_type": "execute_result"
    }
   ],
   "source": [
    "data.head(5)"
   ]
  },
  {
   "cell_type": "code",
   "execution_count": 5,
   "metadata": {},
   "outputs": [
    {
     "data": {
      "text/plain": [
       "<matplotlib.axes._subplots.AxesSubplot at 0x2a34a1cf358>"
      ]
     },
     "execution_count": 5,
     "metadata": {},
     "output_type": "execute_result"
    },
    {
     "data": {
      "image/png": "[encoded data removed]",
      "text/plain": [
       "<Figure size 360x720 with 1 Axes>"
      ]
     },
     "metadata": {
      "needs_background": "light"
     },
     "output_type": "display_data"
    }
   ],
   "source": [
    "fig, ax = plt.subplots(figsize=(5,10))\n",
    "data.boxplot('tweets_Replies')"
   ]
  },
  {
   "cell_type": "code",
   "execution_count": 6,
   "metadata": {},
   "outputs": [
    {
     "data": {
      "text/plain": [
       "count    2812.000000\n",
       "mean      256.099573\n",
       "std       391.111999\n",
       "min         1.000000\n",
       "25%        70.750000\n",
       "50%       134.000000\n",
       "75%       278.250000\n",
       "max      5300.000000\n",
       "Name: tweets_Replies, dtype: float64"
      ]
     },
     "execution_count": 6,
     "metadata": {},
     "output_type": "execute_result"
    }
   ],
   "source": [
    "data['tweets_Replies'].describe()"
   ]
  },
  {
   "cell_type": "code",
   "execution_count": 7,
   "metadata": {},
   "outputs": [
    {
     "data": {
      "text/plain": [
       "count     2812.000000\n",
       "mean      1668.625889\n",
       "std       2563.358644\n",
       "min         22.000000\n",
       "25%        496.000000\n",
       "50%        866.000000\n",
       "75%       1800.000000\n",
       "max      37200.000000\n",
       "Name: tweets_Likes, dtype: float64"
      ]
     },
     "execution_count": 7,
     "metadata": {},
     "output_type": "execute_result"
    }
   ],
   "source": [
    "data['tweets_Likes'].describe()"
   ]
  },
  {
   "cell_type": "code",
   "execution_count": 8,
   "metadata": {},
   "outputs": [
    {
     "data": {
      "text/plain": [
       "count     2812.000000\n",
       "mean       639.649004\n",
       "std       1059.929878\n",
       "min         14.000000\n",
       "25%        190.000000\n",
       "50%        338.000000\n",
       "75%        684.000000\n",
       "max      23100.000000\n",
       "Name: tweets_Retweets, dtype: float64"
      ]
     },
     "execution_count": 8,
     "metadata": {},
     "output_type": "execute_result"
    }
   ],
   "source": [
    "data['tweets_Retweets'].describe()"
   ]
  },
  {
   "cell_type": "code",
   "execution_count": 9,
   "metadata": {},
   "outputs": [],
   "source": [
    "#  Categorize tweet replies into 4 groups\n",
    "\n",
    "\n",
    "cat_map = { \n",
    "    range(0,70): 0,         #'very_low'\n",
    "    range(70, 134): 1,      #'low'\n",
    "    range(134, 278): 2,     #'moderate',\n",
    "    range(278, 5301): 3     #'high'\n",
    "}\n",
    "\n",
    "data['tweets_ResponseCategory'] = data['tweets_Replies'].apply(lambda x: next((v for k, v in cat_map.items() if x in k), 0))\n",
    "\n",
    "\n",
    "\n",
    "\n",
    "\n"
   ]
  },
  {
   "cell_type": "code",
   "execution_count": 10,
   "metadata": {},
   "outputs": [
    {
     "data": {
      "text/plain": [
       "1    713\n",
       "2    706\n",
       "3    705\n",
       "0    688\n",
       "Name: tweets_ResponseCategory, dtype: int64"
      ]
     },
     "execution_count": 10,
     "metadata": {},
     "output_type": "execute_result"
    }
   ],
   "source": [
    "data['tweets_ResponseCategory'].value_counts()"
   ]
  },
  {
   "cell_type": "code",
   "execution_count": 11,
   "metadata": {},
   "outputs": [],
   "source": [
    "\n",
    "data.drop(['tweets_imageURL', 'tweets_hrefURL', 'tweets_Images'], axis=1, inplace=True)\n"
   ]
  },
  {
   "cell_type": "code",
   "execution_count": 12,
   "metadata": {},
   "outputs": [],
   "source": [
    "data.dropna(inplace=True)"
   ]
  },
  {
   "cell_type": "code",
   "execution_count": 13,
   "metadata": {},
   "outputs": [
    {
     "name": "stdout",
     "output_type": "stream",
     "text": [
      "<class 'pandas.core.frame.DataFrame'>\n",
      "Int64Index: 2811 entries, 0 to 2811\n",
      "Data columns (total 9 columns):\n",
      " #   Column                   Non-Null Count  Dtype  \n",
      "---  ------                   --------------  -----  \n",
      " 0   Unnamed: 0               2811 non-null   int64  \n",
      " 1   tweets_Date              2811 non-null   object \n",
      " 2   tweets_Text              2811 non-null   object \n",
      " 3   tweets_Replies           2811 non-null   float64\n",
      " 4   tweets_Retweets          2811 non-null   float64\n",
      " 5   tweets_Likes             2811 non-null   float64\n",
      " 6   has_image                2811 non-null   int64  \n",
      " 7   has_Link                 2811 non-null   int64  \n",
      " 8   tweets_ResponseCategory  2811 non-null   int64  \n",
      "dtypes: float64(3), int64(4), object(2)\n",
      "memory usage: 219.6+ KB\n"
     ]
    }
   ],
   "source": [
    "data.info()"
   ]
  },
  {
   "cell_type": "code",
   "execution_count": null,
   "metadata": {},
   "outputs": [],
   "source": [
    "data.to_csv('./Data-clean/j')"
   ]
  }
 ],
 "metadata": {
  "kernelspec": {
   "display_name": "Python 3",
   "language": "python",
   "name": "python3"
  },
  "language_info": {
   "codemirror_mode": {
    "name": "ipython",
    "version": 3
   },
   "file_extension": ".py",
   "mimetype": "text/x-python",
   "name": "python",
   "nbconvert_exporter": "python",
   "pygments_lexer": "ipython3",
   "version": "3.6.8"
  }
 },
 "nbformat": 4,
 "nbformat_minor": 2
}
